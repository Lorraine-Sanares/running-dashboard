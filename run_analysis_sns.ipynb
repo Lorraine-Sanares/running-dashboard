{
 "cells": [
  {
   "cell_type": "markdown",
   "metadata": {},
   "source": [
    "#### DATA PROCESSING AND MANIPULATION\n"
   ]
  },
  {
   "cell_type": "code",
   "execution_count": 77,
   "metadata": {},
   "outputs": [],
   "source": [
    "import pandas as pd\n",
    "import matplotlib.pyplot as plt\n",
    "import numpy as np\n",
    "import seaborn as sns\n",
    "from datetime import datetime as dt\n",
    "\n",
    "import random \n",
    "from random import sample\n",
    "from sklearn.metrics import mean_squared_error\n",
    "from sklearn.linear_model import LinearRegression\n",
    "import plotly.express as px"
   ]
  },
  {
   "cell_type": "code",
   "execution_count": 78,
   "metadata": {},
   "outputs": [],
   "source": [
    "# CONVERTING APPLE HEALTH XML DATA TO CSV   \n",
    "# %run -i \"apple-health-data-parser\" \"export.xml\""
   ]
  },
  {
   "cell_type": "code",
   "execution_count": null,
   "metadata": {},
   "outputs": [],
   "source": []
  },
  {
   "cell_type": "code",
   "execution_count": 79,
   "metadata": {},
   "outputs": [
    {
     "data": {
      "text/html": [
       "<div>\n",
       "<style scoped>\n",
       "    .dataframe tbody tr th:only-of-type {\n",
       "        vertical-align: middle;\n",
       "    }\n",
       "\n",
       "    .dataframe tbody tr th {\n",
       "        vertical-align: top;\n",
       "    }\n",
       "\n",
       "    .dataframe thead th {\n",
       "        text-align: right;\n",
       "    }\n",
       "</style>\n",
       "<table border=\"1\" class=\"dataframe\">\n",
       "  <thead>\n",
       "    <tr style=\"text-align: right;\">\n",
       "      <th></th>\n",
       "      <th>activity id</th>\n",
       "      <th>activity date</th>\n",
       "      <th>activity name</th>\n",
       "      <th>activity type</th>\n",
       "      <th>elapsed time</th>\n",
       "      <th>moving time</th>\n",
       "      <th>distance</th>\n",
       "      <th>max heart rate</th>\n",
       "      <th>elevation gain</th>\n",
       "      <th>max speed</th>\n",
       "      <th>calories</th>\n",
       "    </tr>\n",
       "  </thead>\n",
       "  <tbody>\n",
       "    <tr>\n",
       "      <th>0</th>\n",
       "      <td>11470038800</td>\n",
       "      <td>22 May 2024, 08:19:26</td>\n",
       "      <td>Evening Walk</td>\n",
       "      <td>Walk</td>\n",
       "      <td>1266</td>\n",
       "      <td>1164.0</td>\n",
       "      <td>3.01</td>\n",
       "      <td>143.0</td>\n",
       "      <td>28.600000</td>\n",
       "      <td>3.080005</td>\n",
       "      <td>123.0</td>\n",
       "    </tr>\n",
       "    <tr>\n",
       "      <th>1</th>\n",
       "      <td>11470039023</td>\n",
       "      <td>21 May 2024, 00:48:20</td>\n",
       "      <td>Morning Run</td>\n",
       "      <td>Run</td>\n",
       "      <td>1386</td>\n",
       "      <td>1374.0</td>\n",
       "      <td>3.05</td>\n",
       "      <td>201.0</td>\n",
       "      <td>40.599998</td>\n",
       "      <td>3.105999</td>\n",
       "      <td>157.0</td>\n",
       "    </tr>\n",
       "    <tr>\n",
       "      <th>2</th>\n",
       "      <td>11470243052</td>\n",
       "      <td>21 May 2024, 21:53:08</td>\n",
       "      <td>Running</td>\n",
       "      <td>Run</td>\n",
       "      <td>658</td>\n",
       "      <td>647.0</td>\n",
       "      <td>1.59</td>\n",
       "      <td>198.0</td>\n",
       "      <td>0.000000</td>\n",
       "      <td>3.890000</td>\n",
       "      <td>76.0</td>\n",
       "    </tr>\n",
       "    <tr>\n",
       "      <th>3</th>\n",
       "      <td>11470243289</td>\n",
       "      <td>19 May 2024, 07:07:07</td>\n",
       "      <td>Running</td>\n",
       "      <td>Run</td>\n",
       "      <td>1471</td>\n",
       "      <td>810.0</td>\n",
       "      <td>2.01</td>\n",
       "      <td>NaN</td>\n",
       "      <td>0.000000</td>\n",
       "      <td>4.702002</td>\n",
       "      <td>102.0</td>\n",
       "    </tr>\n",
       "    <tr>\n",
       "      <th>4</th>\n",
       "      <td>11470243423</td>\n",
       "      <td>19 May 2024, 07:01:17</td>\n",
       "      <td>Running</td>\n",
       "      <td>Run</td>\n",
       "      <td>301</td>\n",
       "      <td>301.0</td>\n",
       "      <td>0.77</td>\n",
       "      <td>NaN</td>\n",
       "      <td>0.000000</td>\n",
       "      <td>3.345999</td>\n",
       "      <td>37.0</td>\n",
       "    </tr>\n",
       "    <tr>\n",
       "      <th>5</th>\n",
       "      <td>11470243536</td>\n",
       "      <td>18 May 2024, 07:19:05</td>\n",
       "      <td>Running</td>\n",
       "      <td>Run</td>\n",
       "      <td>1719</td>\n",
       "      <td>1200.0</td>\n",
       "      <td>2.62</td>\n",
       "      <td>NaN</td>\n",
       "      <td>0.000000</td>\n",
       "      <td>3.376001</td>\n",
       "      <td>124.0</td>\n",
       "    </tr>\n",
       "    <tr>\n",
       "      <th>6</th>\n",
       "      <td>11470243862</td>\n",
       "      <td>14 Apr 2024, 06:36:30</td>\n",
       "      <td>Como Park</td>\n",
       "      <td>Run</td>\n",
       "      <td>2633</td>\n",
       "      <td>1185.0</td>\n",
       "      <td>3.09</td>\n",
       "      <td>199.0</td>\n",
       "      <td>15.926480</td>\n",
       "      <td>3.438000</td>\n",
       "      <td>131.0</td>\n",
       "    </tr>\n",
       "    <tr>\n",
       "      <th>7</th>\n",
       "      <td>11470243993</td>\n",
       "      <td>9 Jan 2024, 06:54:46</td>\n",
       "      <td>Como Park</td>\n",
       "      <td>Run</td>\n",
       "      <td>1765</td>\n",
       "      <td>1255.0</td>\n",
       "      <td>3.19</td>\n",
       "      <td>192.0</td>\n",
       "      <td>18.130556</td>\n",
       "      <td>5.061963</td>\n",
       "      <td>134.0</td>\n",
       "    </tr>\n",
       "    <tr>\n",
       "      <th>8</th>\n",
       "      <td>11470290443</td>\n",
       "      <td>29 Dec 2023, 05:23:55</td>\n",
       "      <td>Como Park</td>\n",
       "      <td>Run</td>\n",
       "      <td>1110</td>\n",
       "      <td>919.0</td>\n",
       "      <td>2.31</td>\n",
       "      <td>187.0</td>\n",
       "      <td>3.189474</td>\n",
       "      <td>8.793333</td>\n",
       "      <td>90.0</td>\n",
       "    </tr>\n",
       "    <tr>\n",
       "      <th>9</th>\n",
       "      <td>11476534443</td>\n",
       "      <td>23 May 2024, 06:10:14</td>\n",
       "      <td>Nike Run Club: First \\nSpeed Run</td>\n",
       "      <td>Run</td>\n",
       "      <td>1617</td>\n",
       "      <td>810.0</td>\n",
       "      <td>2.27</td>\n",
       "      <td>155.0</td>\n",
       "      <td>28.000000</td>\n",
       "      <td>4.752002</td>\n",
       "      <td>118.0</td>\n",
       "    </tr>\n",
       "    <tr>\n",
       "      <th>10</th>\n",
       "      <td>11476585894</td>\n",
       "      <td>23 May 2024, 06:42:24</td>\n",
       "      <td>Afternoon Run</td>\n",
       "      <td>Run</td>\n",
       "      <td>374</td>\n",
       "      <td>374.0</td>\n",
       "      <td>1.05</td>\n",
       "      <td>203.0</td>\n",
       "      <td>10.600000</td>\n",
       "      <td>4.338000</td>\n",
       "      <td>42.0</td>\n",
       "    </tr>\n",
       "    <tr>\n",
       "      <th>11</th>\n",
       "      <td>11490128286</td>\n",
       "      <td>25 May 2024, 02:09:16</td>\n",
       "      <td>Lunch Run</td>\n",
       "      <td>Run</td>\n",
       "      <td>586</td>\n",
       "      <td>455.0</td>\n",
       "      <td>1.19</td>\n",
       "      <td>200.0</td>\n",
       "      <td>13.400000</td>\n",
       "      <td>3.638000</td>\n",
       "      <td>51.0</td>\n",
       "    </tr>\n",
       "    <tr>\n",
       "      <th>12</th>\n",
       "      <td>11490222687</td>\n",
       "      <td>25 May 2024, 02:29:44</td>\n",
       "      <td>Nike Run Club: 4K Starting Lines</td>\n",
       "      <td>Run</td>\n",
       "      <td>1978</td>\n",
       "      <td>1655.0</td>\n",
       "      <td>4.00</td>\n",
       "      <td>195.0</td>\n",
       "      <td>21.000000</td>\n",
       "      <td>3.450000</td>\n",
       "      <td>193.0</td>\n",
       "    </tr>\n",
       "    <tr>\n",
       "      <th>13</th>\n",
       "      <td>11490360645</td>\n",
       "      <td>25 May 2024, 03:45:59</td>\n",
       "      <td>Afternoon Run</td>\n",
       "      <td>Run</td>\n",
       "      <td>1030</td>\n",
       "      <td>1001.0</td>\n",
       "      <td>2.20</td>\n",
       "      <td>191.0</td>\n",
       "      <td>17.599998</td>\n",
       "      <td>3.943994</td>\n",
       "      <td>106.0</td>\n",
       "    </tr>\n",
       "    <tr>\n",
       "      <th>14</th>\n",
       "      <td>11498777386</td>\n",
       "      <td>26 May 2024, 06:30:01</td>\n",
       "      <td>Afternoon Run</td>\n",
       "      <td>Run</td>\n",
       "      <td>1452</td>\n",
       "      <td>1392.0</td>\n",
       "      <td>3.20</td>\n",
       "      <td>194.0</td>\n",
       "      <td>25.200001</td>\n",
       "      <td>7.267999</td>\n",
       "      <td>154.0</td>\n",
       "    </tr>\n",
       "    <tr>\n",
       "      <th>15</th>\n",
       "      <td>11498781598</td>\n",
       "      <td>26 May 2024, 06:30:51</td>\n",
       "      <td>Nike Run Club: 8 Weeks to Go - Recovery Run</td>\n",
       "      <td>Run</td>\n",
       "      <td>1430</td>\n",
       "      <td>1321.0</td>\n",
       "      <td>3.06</td>\n",
       "      <td>194.0</td>\n",
       "      <td>33.000000</td>\n",
       "      <td>4.883333</td>\n",
       "      <td>144.0</td>\n",
       "    </tr>\n",
       "    <tr>\n",
       "      <th>16</th>\n",
       "      <td>11498799175</td>\n",
       "      <td>26 May 2024, 06:56:03</td>\n",
       "      <td>Afternoon Run</td>\n",
       "      <td>Run</td>\n",
       "      <td>201</td>\n",
       "      <td>190.0</td>\n",
       "      <td>0.53</td>\n",
       "      <td>193.0</td>\n",
       "      <td>9.000000</td>\n",
       "      <td>3.348000</td>\n",
       "      <td>21.0</td>\n",
       "    </tr>\n",
       "    <tr>\n",
       "      <th>17</th>\n",
       "      <td>11513656106</td>\n",
       "      <td>28 May 2024, 00:58:41</td>\n",
       "      <td>Nike Run Club: 7 Weeks to Go - Recovery Run</td>\n",
       "      <td>Run</td>\n",
       "      <td>988</td>\n",
       "      <td>875.0</td>\n",
       "      <td>1.84</td>\n",
       "      <td>179.0</td>\n",
       "      <td>18.000000</td>\n",
       "      <td>4.016667</td>\n",
       "      <td>84.0</td>\n",
       "    </tr>\n",
       "    <tr>\n",
       "      <th>18</th>\n",
       "      <td>11520905115</td>\n",
       "      <td>28 May 2024, 22:54:47</td>\n",
       "      <td>Nike Run Club: 7 Weeks to Go - Recovery Run</td>\n",
       "      <td>Run</td>\n",
       "      <td>3425</td>\n",
       "      <td>3220.0</td>\n",
       "      <td>6.04</td>\n",
       "      <td>173.0</td>\n",
       "      <td>55.000000</td>\n",
       "      <td>3.720000</td>\n",
       "      <td>258.0</td>\n",
       "    </tr>\n",
       "    <tr>\n",
       "      <th>19</th>\n",
       "      <td>11522274533</td>\n",
       "      <td>29 May 2024, 06:18:11</td>\n",
       "      <td>Afternoon Walk</td>\n",
       "      <td>Walk</td>\n",
       "      <td>392</td>\n",
       "      <td>134.0</td>\n",
       "      <td>1.00</td>\n",
       "      <td>138.0</td>\n",
       "      <td>3.799999</td>\n",
       "      <td>2.171997</td>\n",
       "      <td>33.0</td>\n",
       "    </tr>\n",
       "    <tr>\n",
       "      <th>20</th>\n",
       "      <td>11523191512</td>\n",
       "      <td>29 May 2024, 07:44:32</td>\n",
       "      <td>Afternoon Walk</td>\n",
       "      <td>Walk</td>\n",
       "      <td>1097</td>\n",
       "      <td>1041.0</td>\n",
       "      <td>2.72</td>\n",
       "      <td>140.0</td>\n",
       "      <td>37.599998</td>\n",
       "      <td>4.333984</td>\n",
       "      <td>114.0</td>\n",
       "    </tr>\n",
       "    <tr>\n",
       "      <th>21</th>\n",
       "      <td>11537951108</td>\n",
       "      <td>31 May 2024, 06:18:44</td>\n",
       "      <td>Nike Run Club: Next Speed Run</td>\n",
       "      <td>Run</td>\n",
       "      <td>1854</td>\n",
       "      <td>901.0</td>\n",
       "      <td>2.34</td>\n",
       "      <td>171.0</td>\n",
       "      <td>36.000000</td>\n",
       "      <td>4.069995</td>\n",
       "      <td>121.0</td>\n",
       "    </tr>\n",
       "    <tr>\n",
       "      <th>22</th>\n",
       "      <td>11537956241</td>\n",
       "      <td>31 May 2024, 06:19:15</td>\n",
       "      <td>Afternoon Run</td>\n",
       "      <td>Run</td>\n",
       "      <td>1795</td>\n",
       "      <td>1121.0</td>\n",
       "      <td>2.86</td>\n",
       "      <td>198.0</td>\n",
       "      <td>42.399998</td>\n",
       "      <td>8.529516</td>\n",
       "      <td>131.0</td>\n",
       "    </tr>\n",
       "    <tr>\n",
       "      <th>23</th>\n",
       "      <td>11551681161</td>\n",
       "      <td>2 Jun 2024, 00:11:56</td>\n",
       "      <td>Nike Run Club: 7 Weeks to Go - Long Run</td>\n",
       "      <td>Run</td>\n",
       "      <td>2485</td>\n",
       "      <td>2258.0</td>\n",
       "      <td>5.03</td>\n",
       "      <td>192.0</td>\n",
       "      <td>58.000000</td>\n",
       "      <td>3.900000</td>\n",
       "      <td>234.0</td>\n",
       "    </tr>\n",
       "    <tr>\n",
       "      <th>24</th>\n",
       "      <td>11551802058</td>\n",
       "      <td>2 Jun 2024, 00:57:07</td>\n",
       "      <td>Nike Run Club: 7 Weeks to Go - Recovery Run</td>\n",
       "      <td>Run</td>\n",
       "      <td>1753</td>\n",
       "      <td>1504.0</td>\n",
       "      <td>3.44</td>\n",
       "      <td>184.0</td>\n",
       "      <td>28.000000</td>\n",
       "      <td>3.583333</td>\n",
       "      <td>163.0</td>\n",
       "    </tr>\n",
       "    <tr>\n",
       "      <th>25</th>\n",
       "      <td>11559938586</td>\n",
       "      <td>2 Jun 2024, 23:41:16</td>\n",
       "      <td>Nike Run Club: A New Run</td>\n",
       "      <td>Run</td>\n",
       "      <td>1529</td>\n",
       "      <td>1500.0</td>\n",
       "      <td>2.85</td>\n",
       "      <td>169.0</td>\n",
       "      <td>26.000000</td>\n",
       "      <td>2.866016</td>\n",
       "      <td>122.0</td>\n",
       "    </tr>\n",
       "    <tr>\n",
       "      <th>26</th>\n",
       "      <td>11560190199</td>\n",
       "      <td>2 Jun 2024, 23:44:01</td>\n",
       "      <td>Morning Run</td>\n",
       "      <td>Run</td>\n",
       "      <td>1369</td>\n",
       "      <td>1347.0</td>\n",
       "      <td>2.57</td>\n",
       "      <td>174.0</td>\n",
       "      <td>36.200001</td>\n",
       "      <td>3.187988</td>\n",
       "      <td>131.0</td>\n",
       "    </tr>\n",
       "    <tr>\n",
       "      <th>27</th>\n",
       "      <td>11576211014</td>\n",
       "      <td>5 Jun 2024, 01:03:15</td>\n",
       "      <td>Nike Run Club: 6 Weeks to Go - Recovery Run</td>\n",
       "      <td>Run</td>\n",
       "      <td>2344</td>\n",
       "      <td>2219.0</td>\n",
       "      <td>5.00</td>\n",
       "      <td>188.0</td>\n",
       "      <td>44.000000</td>\n",
       "      <td>3.553333</td>\n",
       "      <td>233.0</td>\n",
       "    </tr>\n",
       "    <tr>\n",
       "      <th>28</th>\n",
       "      <td>11585126344</td>\n",
       "      <td>6 Jun 2024, 04:19:42</td>\n",
       "      <td>Nike Run Club: 6 Weeks to Go - Recovery Run</td>\n",
       "      <td>Run</td>\n",
       "      <td>1616</td>\n",
       "      <td>1510.0</td>\n",
       "      <td>3.50</td>\n",
       "      <td>190.0</td>\n",
       "      <td>33.000000</td>\n",
       "      <td>4.040000</td>\n",
       "      <td>166.0</td>\n",
       "    </tr>\n",
       "    <tr>\n",
       "      <th>29</th>\n",
       "      <td>11599728164</td>\n",
       "      <td>8 Jun 2024, 01:23:50</td>\n",
       "      <td>Nike Run Club: 6 Weeks to Go - Long Run</td>\n",
       "      <td>Run</td>\n",
       "      <td>2526</td>\n",
       "      <td>2452.0</td>\n",
       "      <td>6.02</td>\n",
       "      <td>195.0</td>\n",
       "      <td>71.000000</td>\n",
       "      <td>4.433333</td>\n",
       "      <td>288.0</td>\n",
       "    </tr>\n",
       "    <tr>\n",
       "      <th>30</th>\n",
       "      <td>11599836517</td>\n",
       "      <td>8 Jun 2024, 02:08:19</td>\n",
       "      <td>Lunch Run</td>\n",
       "      <td>Run</td>\n",
       "      <td>1617</td>\n",
       "      <td>1581.0</td>\n",
       "      <td>3.76</td>\n",
       "      <td>186.0</td>\n",
       "      <td>40.800003</td>\n",
       "      <td>3.402002</td>\n",
       "      <td>213.0</td>\n",
       "    </tr>\n",
       "    <tr>\n",
       "      <th>31</th>\n",
       "      <td>11677993982</td>\n",
       "      <td>18 Jun 2024, 03:19:44</td>\n",
       "      <td>Nike Run Club: 5 Weeks to Go - Recovery Run</td>\n",
       "      <td>Run</td>\n",
       "      <td>1944</td>\n",
       "      <td>1941.0</td>\n",
       "      <td>5.03</td>\n",
       "      <td>202.0</td>\n",
       "      <td>46.000000</td>\n",
       "      <td>3.955957</td>\n",
       "      <td>244.0</td>\n",
       "    </tr>\n",
       "  </tbody>\n",
       "</table>\n",
       "</div>"
      ],
      "text/plain": [
       "    activity id          activity date  \\\n",
       "0   11470038800  22 May 2024, 08:19:26   \n",
       "1   11470039023  21 May 2024, 00:48:20   \n",
       "2   11470243052  21 May 2024, 21:53:08   \n",
       "3   11470243289  19 May 2024, 07:07:07   \n",
       "4   11470243423  19 May 2024, 07:01:17   \n",
       "5   11470243536  18 May 2024, 07:19:05   \n",
       "6   11470243862  14 Apr 2024, 06:36:30   \n",
       "7   11470243993   9 Jan 2024, 06:54:46   \n",
       "8   11470290443  29 Dec 2023, 05:23:55   \n",
       "9   11476534443  23 May 2024, 06:10:14   \n",
       "10  11476585894  23 May 2024, 06:42:24   \n",
       "11  11490128286  25 May 2024, 02:09:16   \n",
       "12  11490222687  25 May 2024, 02:29:44   \n",
       "13  11490360645  25 May 2024, 03:45:59   \n",
       "14  11498777386  26 May 2024, 06:30:01   \n",
       "15  11498781598  26 May 2024, 06:30:51   \n",
       "16  11498799175  26 May 2024, 06:56:03   \n",
       "17  11513656106  28 May 2024, 00:58:41   \n",
       "18  11520905115  28 May 2024, 22:54:47   \n",
       "19  11522274533  29 May 2024, 06:18:11   \n",
       "20  11523191512  29 May 2024, 07:44:32   \n",
       "21  11537951108  31 May 2024, 06:18:44   \n",
       "22  11537956241  31 May 2024, 06:19:15   \n",
       "23  11551681161   2 Jun 2024, 00:11:56   \n",
       "24  11551802058   2 Jun 2024, 00:57:07   \n",
       "25  11559938586   2 Jun 2024, 23:41:16   \n",
       "26  11560190199   2 Jun 2024, 23:44:01   \n",
       "27  11576211014   5 Jun 2024, 01:03:15   \n",
       "28  11585126344   6 Jun 2024, 04:19:42   \n",
       "29  11599728164   8 Jun 2024, 01:23:50   \n",
       "30  11599836517   8 Jun 2024, 02:08:19   \n",
       "31  11677993982  18 Jun 2024, 03:19:44   \n",
       "\n",
       "                                  activity name activity type  elapsed time  \\\n",
       "0                                  Evening Walk          Walk          1266   \n",
       "1                                   Morning Run           Run          1386   \n",
       "2                                       Running           Run           658   \n",
       "3                                       Running           Run          1471   \n",
       "4                                       Running           Run           301   \n",
       "5                                       Running           Run          1719   \n",
       "6                                     Como Park           Run          2633   \n",
       "7                                     Como Park           Run          1765   \n",
       "8                                     Como Park           Run          1110   \n",
       "9              Nike Run Club: First \\nSpeed Run           Run          1617   \n",
       "10                                Afternoon Run           Run           374   \n",
       "11                                    Lunch Run           Run           586   \n",
       "12             Nike Run Club: 4K Starting Lines           Run          1978   \n",
       "13                                Afternoon Run           Run          1030   \n",
       "14                                Afternoon Run           Run          1452   \n",
       "15  Nike Run Club: 8 Weeks to Go - Recovery Run           Run          1430   \n",
       "16                                Afternoon Run           Run           201   \n",
       "17  Nike Run Club: 7 Weeks to Go - Recovery Run           Run           988   \n",
       "18  Nike Run Club: 7 Weeks to Go - Recovery Run           Run          3425   \n",
       "19                               Afternoon Walk          Walk           392   \n",
       "20                               Afternoon Walk          Walk          1097   \n",
       "21                Nike Run Club: Next Speed Run           Run          1854   \n",
       "22                                Afternoon Run           Run          1795   \n",
       "23      Nike Run Club: 7 Weeks to Go - Long Run           Run          2485   \n",
       "24  Nike Run Club: 7 Weeks to Go - Recovery Run           Run          1753   \n",
       "25                     Nike Run Club: A New Run           Run          1529   \n",
       "26                                  Morning Run           Run          1369   \n",
       "27  Nike Run Club: 6 Weeks to Go - Recovery Run           Run          2344   \n",
       "28  Nike Run Club: 6 Weeks to Go - Recovery Run           Run          1616   \n",
       "29      Nike Run Club: 6 Weeks to Go - Long Run           Run          2526   \n",
       "30                                    Lunch Run           Run          1617   \n",
       "31  Nike Run Club: 5 Weeks to Go - Recovery Run           Run          1944   \n",
       "\n",
       "    moving time  distance  max heart rate  elevation gain  max speed  calories  \n",
       "0        1164.0      3.01           143.0       28.600000   3.080005     123.0  \n",
       "1        1374.0      3.05           201.0       40.599998   3.105999     157.0  \n",
       "2         647.0      1.59           198.0        0.000000   3.890000      76.0  \n",
       "3         810.0      2.01             NaN        0.000000   4.702002     102.0  \n",
       "4         301.0      0.77             NaN        0.000000   3.345999      37.0  \n",
       "5        1200.0      2.62             NaN        0.000000   3.376001     124.0  \n",
       "6        1185.0      3.09           199.0       15.926480   3.438000     131.0  \n",
       "7        1255.0      3.19           192.0       18.130556   5.061963     134.0  \n",
       "8         919.0      2.31           187.0        3.189474   8.793333      90.0  \n",
       "9         810.0      2.27           155.0       28.000000   4.752002     118.0  \n",
       "10        374.0      1.05           203.0       10.600000   4.338000      42.0  \n",
       "11        455.0      1.19           200.0       13.400000   3.638000      51.0  \n",
       "12       1655.0      4.00           195.0       21.000000   3.450000     193.0  \n",
       "13       1001.0      2.20           191.0       17.599998   3.943994     106.0  \n",
       "14       1392.0      3.20           194.0       25.200001   7.267999     154.0  \n",
       "15       1321.0      3.06           194.0       33.000000   4.883333     144.0  \n",
       "16        190.0      0.53           193.0        9.000000   3.348000      21.0  \n",
       "17        875.0      1.84           179.0       18.000000   4.016667      84.0  \n",
       "18       3220.0      6.04           173.0       55.000000   3.720000     258.0  \n",
       "19        134.0      1.00           138.0        3.799999   2.171997      33.0  \n",
       "20       1041.0      2.72           140.0       37.599998   4.333984     114.0  \n",
       "21        901.0      2.34           171.0       36.000000   4.069995     121.0  \n",
       "22       1121.0      2.86           198.0       42.399998   8.529516     131.0  \n",
       "23       2258.0      5.03           192.0       58.000000   3.900000     234.0  \n",
       "24       1504.0      3.44           184.0       28.000000   3.583333     163.0  \n",
       "25       1500.0      2.85           169.0       26.000000   2.866016     122.0  \n",
       "26       1347.0      2.57           174.0       36.200001   3.187988     131.0  \n",
       "27       2219.0      5.00           188.0       44.000000   3.553333     233.0  \n",
       "28       1510.0      3.50           190.0       33.000000   4.040000     166.0  \n",
       "29       2452.0      6.02           195.0       71.000000   4.433333     288.0  \n",
       "30       1581.0      3.76           186.0       40.800003   3.402002     213.0  \n",
       "31       1941.0      5.03           202.0       46.000000   3.955957     244.0  "
      ]
     },
     "execution_count": 79,
     "metadata": {},
     "output_type": "execute_result"
    }
   ],
   "source": [
    "df = pd.read_csv(\"activities.csv\")\n",
    "df.columns=df.columns.str.lower()\n",
    "df\n",
    "\n",
    "# selecting relevant columns\n",
    "cols = ['activity id', 'activity date', 'activity name', 'activity type', 'elapsed time', 'moving time', 'distance',   \n",
    "         'max heart rate', 'elevation gain', 'max speed', 'calories'\n",
    "       ]\n",
    "df = df[cols] \n",
    "df\n"
   ]
  },
  {
   "cell_type": "code",
   "execution_count": 80,
   "metadata": {},
   "outputs": [
    {
     "data": {
      "text/plain": [
       "activity id         int64\n",
       "activity date      object\n",
       "activity name      object\n",
       "activity type      object\n",
       "elapsed time        int64\n",
       "moving time       float64\n",
       "distance          float64\n",
       "max heart rate    float64\n",
       "elevation gain    float64\n",
       "max speed         float64\n",
       "calories          float64\n",
       "dtype: object"
      ]
     },
     "execution_count": 80,
     "metadata": {},
     "output_type": "execute_result"
    }
   ],
   "source": [
    "df.dtypes\n"
   ]
  },
  {
   "cell_type": "code",
   "execution_count": 81,
   "metadata": {},
   "outputs": [
    {
     "data": {
      "text/html": [
       "<div>\n",
       "<style scoped>\n",
       "    .dataframe tbody tr th:only-of-type {\n",
       "        vertical-align: middle;\n",
       "    }\n",
       "\n",
       "    .dataframe tbody tr th {\n",
       "        vertical-align: top;\n",
       "    }\n",
       "\n",
       "    .dataframe thead th {\n",
       "        text-align: right;\n",
       "    }\n",
       "</style>\n",
       "<table border=\"1\" class=\"dataframe\">\n",
       "  <thead>\n",
       "    <tr style=\"text-align: right;\">\n",
       "      <th></th>\n",
       "      <th>activity id</th>\n",
       "      <th>activity date</th>\n",
       "      <th>activity name</th>\n",
       "      <th>activity type</th>\n",
       "      <th>elapsed time</th>\n",
       "      <th>moving time</th>\n",
       "      <th>distance</th>\n",
       "      <th>max heart rate</th>\n",
       "      <th>elevation gain</th>\n",
       "      <th>max speed</th>\n",
       "      <th>...</th>\n",
       "      <th>activity_date</th>\n",
       "      <th>start_time</th>\n",
       "      <th>start_date</th>\n",
       "      <th>month</th>\n",
       "      <th>year</th>\n",
       "      <th>dayofyear</th>\n",
       "      <th>dayofweek</th>\n",
       "      <th>elapsed minutes</th>\n",
       "      <th>km per hour</th>\n",
       "      <th>avg pace</th>\n",
       "    </tr>\n",
       "  </thead>\n",
       "  <tbody>\n",
       "    <tr>\n",
       "      <th>0</th>\n",
       "      <td>11470038800</td>\n",
       "      <td>22 May 2024, 08:19:26</td>\n",
       "      <td>Evening Walk</td>\n",
       "      <td>Walk</td>\n",
       "      <td>1266</td>\n",
       "      <td>1164.0</td>\n",
       "      <td>3.01</td>\n",
       "      <td>143.0</td>\n",
       "      <td>28.600000</td>\n",
       "      <td>3.080005</td>\n",
       "      <td>...</td>\n",
       "      <td>2024-05-22 08:19:26</td>\n",
       "      <td>08:19:26</td>\n",
       "      <td>2024-05-22</td>\n",
       "      <td>5</td>\n",
       "      <td>2024</td>\n",
       "      <td>143</td>\n",
       "      <td>2</td>\n",
       "      <td>21.10</td>\n",
       "      <td>8.56</td>\n",
       "      <td>7.01</td>\n",
       "    </tr>\n",
       "    <tr>\n",
       "      <th>1</th>\n",
       "      <td>11470039023</td>\n",
       "      <td>21 May 2024, 00:48:20</td>\n",
       "      <td>Morning Run</td>\n",
       "      <td>Run</td>\n",
       "      <td>1386</td>\n",
       "      <td>1374.0</td>\n",
       "      <td>3.05</td>\n",
       "      <td>201.0</td>\n",
       "      <td>40.599998</td>\n",
       "      <td>3.105999</td>\n",
       "      <td>...</td>\n",
       "      <td>2024-05-21 00:48:20</td>\n",
       "      <td>00:48:20</td>\n",
       "      <td>2024-05-21</td>\n",
       "      <td>5</td>\n",
       "      <td>2024</td>\n",
       "      <td>142</td>\n",
       "      <td>1</td>\n",
       "      <td>23.10</td>\n",
       "      <td>7.92</td>\n",
       "      <td>7.57</td>\n",
       "    </tr>\n",
       "    <tr>\n",
       "      <th>2</th>\n",
       "      <td>11470243052</td>\n",
       "      <td>21 May 2024, 21:53:08</td>\n",
       "      <td>Running</td>\n",
       "      <td>Run</td>\n",
       "      <td>658</td>\n",
       "      <td>647.0</td>\n",
       "      <td>1.59</td>\n",
       "      <td>198.0</td>\n",
       "      <td>0.000000</td>\n",
       "      <td>3.890000</td>\n",
       "      <td>...</td>\n",
       "      <td>2024-05-21 21:53:08</td>\n",
       "      <td>21:53:08</td>\n",
       "      <td>2024-05-21</td>\n",
       "      <td>5</td>\n",
       "      <td>2024</td>\n",
       "      <td>142</td>\n",
       "      <td>1</td>\n",
       "      <td>10.97</td>\n",
       "      <td>8.70</td>\n",
       "      <td>6.90</td>\n",
       "    </tr>\n",
       "    <tr>\n",
       "      <th>3</th>\n",
       "      <td>11470243289</td>\n",
       "      <td>19 May 2024, 07:07:07</td>\n",
       "      <td>Running</td>\n",
       "      <td>Run</td>\n",
       "      <td>1471</td>\n",
       "      <td>810.0</td>\n",
       "      <td>2.01</td>\n",
       "      <td>NaN</td>\n",
       "      <td>0.000000</td>\n",
       "      <td>4.702002</td>\n",
       "      <td>...</td>\n",
       "      <td>2024-05-19 07:07:07</td>\n",
       "      <td>07:07:07</td>\n",
       "      <td>2024-05-19</td>\n",
       "      <td>5</td>\n",
       "      <td>2024</td>\n",
       "      <td>140</td>\n",
       "      <td>6</td>\n",
       "      <td>24.52</td>\n",
       "      <td>4.92</td>\n",
       "      <td>12.20</td>\n",
       "    </tr>\n",
       "    <tr>\n",
       "      <th>4</th>\n",
       "      <td>11470243423</td>\n",
       "      <td>19 May 2024, 07:01:17</td>\n",
       "      <td>Running</td>\n",
       "      <td>Run</td>\n",
       "      <td>301</td>\n",
       "      <td>301.0</td>\n",
       "      <td>0.77</td>\n",
       "      <td>NaN</td>\n",
       "      <td>0.000000</td>\n",
       "      <td>3.345999</td>\n",
       "      <td>...</td>\n",
       "      <td>2024-05-19 07:01:17</td>\n",
       "      <td>07:01:17</td>\n",
       "      <td>2024-05-19</td>\n",
       "      <td>5</td>\n",
       "      <td>2024</td>\n",
       "      <td>140</td>\n",
       "      <td>6</td>\n",
       "      <td>5.02</td>\n",
       "      <td>9.20</td>\n",
       "      <td>6.52</td>\n",
       "    </tr>\n",
       "    <tr>\n",
       "      <th>5</th>\n",
       "      <td>11470243536</td>\n",
       "      <td>18 May 2024, 07:19:05</td>\n",
       "      <td>Running</td>\n",
       "      <td>Run</td>\n",
       "      <td>1719</td>\n",
       "      <td>1200.0</td>\n",
       "      <td>2.62</td>\n",
       "      <td>NaN</td>\n",
       "      <td>0.000000</td>\n",
       "      <td>3.376001</td>\n",
       "      <td>...</td>\n",
       "      <td>2024-05-18 07:19:05</td>\n",
       "      <td>07:19:05</td>\n",
       "      <td>2024-05-18</td>\n",
       "      <td>5</td>\n",
       "      <td>2024</td>\n",
       "      <td>139</td>\n",
       "      <td>5</td>\n",
       "      <td>28.65</td>\n",
       "      <td>5.49</td>\n",
       "      <td>10.94</td>\n",
       "    </tr>\n",
       "    <tr>\n",
       "      <th>6</th>\n",
       "      <td>11470243862</td>\n",
       "      <td>14 Apr 2024, 06:36:30</td>\n",
       "      <td>Como Park</td>\n",
       "      <td>Run</td>\n",
       "      <td>2633</td>\n",
       "      <td>1185.0</td>\n",
       "      <td>3.09</td>\n",
       "      <td>199.0</td>\n",
       "      <td>15.926480</td>\n",
       "      <td>3.438000</td>\n",
       "      <td>...</td>\n",
       "      <td>2024-04-14 06:36:30</td>\n",
       "      <td>06:36:30</td>\n",
       "      <td>2024-04-14</td>\n",
       "      <td>4</td>\n",
       "      <td>2024</td>\n",
       "      <td>105</td>\n",
       "      <td>6</td>\n",
       "      <td>43.88</td>\n",
       "      <td>4.23</td>\n",
       "      <td>14.20</td>\n",
       "    </tr>\n",
       "    <tr>\n",
       "      <th>7</th>\n",
       "      <td>11470243993</td>\n",
       "      <td>9 Jan 2024, 06:54:46</td>\n",
       "      <td>Como Park</td>\n",
       "      <td>Run</td>\n",
       "      <td>1765</td>\n",
       "      <td>1255.0</td>\n",
       "      <td>3.19</td>\n",
       "      <td>192.0</td>\n",
       "      <td>18.130556</td>\n",
       "      <td>5.061963</td>\n",
       "      <td>...</td>\n",
       "      <td>2024-01-09 06:54:46</td>\n",
       "      <td>06:54:46</td>\n",
       "      <td>2024-01-09</td>\n",
       "      <td>1</td>\n",
       "      <td>2024</td>\n",
       "      <td>9</td>\n",
       "      <td>1</td>\n",
       "      <td>29.42</td>\n",
       "      <td>6.51</td>\n",
       "      <td>9.22</td>\n",
       "    </tr>\n",
       "    <tr>\n",
       "      <th>8</th>\n",
       "      <td>11470290443</td>\n",
       "      <td>29 Dec 2023, 05:23:55</td>\n",
       "      <td>Como Park</td>\n",
       "      <td>Run</td>\n",
       "      <td>1110</td>\n",
       "      <td>919.0</td>\n",
       "      <td>2.31</td>\n",
       "      <td>187.0</td>\n",
       "      <td>3.189474</td>\n",
       "      <td>8.793333</td>\n",
       "      <td>...</td>\n",
       "      <td>2023-12-29 05:23:55</td>\n",
       "      <td>05:23:55</td>\n",
       "      <td>2023-12-29</td>\n",
       "      <td>12</td>\n",
       "      <td>2023</td>\n",
       "      <td>363</td>\n",
       "      <td>4</td>\n",
       "      <td>18.50</td>\n",
       "      <td>7.49</td>\n",
       "      <td>8.01</td>\n",
       "    </tr>\n",
       "    <tr>\n",
       "      <th>9</th>\n",
       "      <td>11476534443</td>\n",
       "      <td>23 May 2024, 06:10:14</td>\n",
       "      <td>Nike Run Club: First \\nSpeed Run</td>\n",
       "      <td>Run</td>\n",
       "      <td>1617</td>\n",
       "      <td>810.0</td>\n",
       "      <td>2.27</td>\n",
       "      <td>155.0</td>\n",
       "      <td>28.000000</td>\n",
       "      <td>4.752002</td>\n",
       "      <td>...</td>\n",
       "      <td>2024-05-23 06:10:14</td>\n",
       "      <td>06:10:14</td>\n",
       "      <td>2024-05-23</td>\n",
       "      <td>5</td>\n",
       "      <td>2024</td>\n",
       "      <td>144</td>\n",
       "      <td>3</td>\n",
       "      <td>26.95</td>\n",
       "      <td>5.05</td>\n",
       "      <td>11.87</td>\n",
       "    </tr>\n",
       "    <tr>\n",
       "      <th>10</th>\n",
       "      <td>11476585894</td>\n",
       "      <td>23 May 2024, 06:42:24</td>\n",
       "      <td>Afternoon Run</td>\n",
       "      <td>Run</td>\n",
       "      <td>374</td>\n",
       "      <td>374.0</td>\n",
       "      <td>1.05</td>\n",
       "      <td>203.0</td>\n",
       "      <td>10.600000</td>\n",
       "      <td>4.338000</td>\n",
       "      <td>...</td>\n",
       "      <td>2024-05-23 06:42:24</td>\n",
       "      <td>06:42:24</td>\n",
       "      <td>2024-05-23</td>\n",
       "      <td>5</td>\n",
       "      <td>2024</td>\n",
       "      <td>144</td>\n",
       "      <td>3</td>\n",
       "      <td>6.23</td>\n",
       "      <td>10.11</td>\n",
       "      <td>5.93</td>\n",
       "    </tr>\n",
       "    <tr>\n",
       "      <th>11</th>\n",
       "      <td>11490128286</td>\n",
       "      <td>25 May 2024, 02:09:16</td>\n",
       "      <td>Lunch Run</td>\n",
       "      <td>Run</td>\n",
       "      <td>586</td>\n",
       "      <td>455.0</td>\n",
       "      <td>1.19</td>\n",
       "      <td>200.0</td>\n",
       "      <td>13.400000</td>\n",
       "      <td>3.638000</td>\n",
       "      <td>...</td>\n",
       "      <td>2024-05-25 02:09:16</td>\n",
       "      <td>02:09:16</td>\n",
       "      <td>2024-05-25</td>\n",
       "      <td>5</td>\n",
       "      <td>2024</td>\n",
       "      <td>146</td>\n",
       "      <td>5</td>\n",
       "      <td>9.77</td>\n",
       "      <td>7.31</td>\n",
       "      <td>8.21</td>\n",
       "    </tr>\n",
       "    <tr>\n",
       "      <th>12</th>\n",
       "      <td>11490222687</td>\n",
       "      <td>25 May 2024, 02:29:44</td>\n",
       "      <td>Nike Run Club: 4K Starting Lines</td>\n",
       "      <td>Run</td>\n",
       "      <td>1978</td>\n",
       "      <td>1655.0</td>\n",
       "      <td>4.00</td>\n",
       "      <td>195.0</td>\n",
       "      <td>21.000000</td>\n",
       "      <td>3.450000</td>\n",
       "      <td>...</td>\n",
       "      <td>2024-05-25 02:29:44</td>\n",
       "      <td>02:29:44</td>\n",
       "      <td>2024-05-25</td>\n",
       "      <td>5</td>\n",
       "      <td>2024</td>\n",
       "      <td>146</td>\n",
       "      <td>5</td>\n",
       "      <td>32.97</td>\n",
       "      <td>7.28</td>\n",
       "      <td>8.24</td>\n",
       "    </tr>\n",
       "    <tr>\n",
       "      <th>13</th>\n",
       "      <td>11490360645</td>\n",
       "      <td>25 May 2024, 03:45:59</td>\n",
       "      <td>Afternoon Run</td>\n",
       "      <td>Run</td>\n",
       "      <td>1030</td>\n",
       "      <td>1001.0</td>\n",
       "      <td>2.20</td>\n",
       "      <td>191.0</td>\n",
       "      <td>17.599998</td>\n",
       "      <td>3.943994</td>\n",
       "      <td>...</td>\n",
       "      <td>2024-05-25 03:45:59</td>\n",
       "      <td>03:45:59</td>\n",
       "      <td>2024-05-25</td>\n",
       "      <td>5</td>\n",
       "      <td>2024</td>\n",
       "      <td>146</td>\n",
       "      <td>5</td>\n",
       "      <td>17.17</td>\n",
       "      <td>7.69</td>\n",
       "      <td>7.80</td>\n",
       "    </tr>\n",
       "    <tr>\n",
       "      <th>14</th>\n",
       "      <td>11498777386</td>\n",
       "      <td>26 May 2024, 06:30:01</td>\n",
       "      <td>Afternoon Run</td>\n",
       "      <td>Run</td>\n",
       "      <td>1452</td>\n",
       "      <td>1392.0</td>\n",
       "      <td>3.20</td>\n",
       "      <td>194.0</td>\n",
       "      <td>25.200001</td>\n",
       "      <td>7.267999</td>\n",
       "      <td>...</td>\n",
       "      <td>2024-05-26 06:30:01</td>\n",
       "      <td>06:30:01</td>\n",
       "      <td>2024-05-26</td>\n",
       "      <td>5</td>\n",
       "      <td>2024</td>\n",
       "      <td>147</td>\n",
       "      <td>6</td>\n",
       "      <td>24.20</td>\n",
       "      <td>7.93</td>\n",
       "      <td>7.56</td>\n",
       "    </tr>\n",
       "    <tr>\n",
       "      <th>15</th>\n",
       "      <td>11498781598</td>\n",
       "      <td>26 May 2024, 06:30:51</td>\n",
       "      <td>Nike Run Club: 8 Weeks to Go - Recovery Run</td>\n",
       "      <td>Run</td>\n",
       "      <td>1430</td>\n",
       "      <td>1321.0</td>\n",
       "      <td>3.06</td>\n",
       "      <td>194.0</td>\n",
       "      <td>33.000000</td>\n",
       "      <td>4.883333</td>\n",
       "      <td>...</td>\n",
       "      <td>2024-05-26 06:30:51</td>\n",
       "      <td>06:30:51</td>\n",
       "      <td>2024-05-26</td>\n",
       "      <td>5</td>\n",
       "      <td>2024</td>\n",
       "      <td>147</td>\n",
       "      <td>6</td>\n",
       "      <td>23.83</td>\n",
       "      <td>7.70</td>\n",
       "      <td>7.79</td>\n",
       "    </tr>\n",
       "    <tr>\n",
       "      <th>16</th>\n",
       "      <td>11498799175</td>\n",
       "      <td>26 May 2024, 06:56:03</td>\n",
       "      <td>Afternoon Run</td>\n",
       "      <td>Run</td>\n",
       "      <td>201</td>\n",
       "      <td>190.0</td>\n",
       "      <td>0.53</td>\n",
       "      <td>193.0</td>\n",
       "      <td>9.000000</td>\n",
       "      <td>3.348000</td>\n",
       "      <td>...</td>\n",
       "      <td>2024-05-26 06:56:03</td>\n",
       "      <td>06:56:03</td>\n",
       "      <td>2024-05-26</td>\n",
       "      <td>5</td>\n",
       "      <td>2024</td>\n",
       "      <td>147</td>\n",
       "      <td>6</td>\n",
       "      <td>3.35</td>\n",
       "      <td>9.49</td>\n",
       "      <td>6.32</td>\n",
       "    </tr>\n",
       "    <tr>\n",
       "      <th>17</th>\n",
       "      <td>11513656106</td>\n",
       "      <td>28 May 2024, 00:58:41</td>\n",
       "      <td>Nike Run Club: 7 Weeks to Go - Recovery Run</td>\n",
       "      <td>Run</td>\n",
       "      <td>988</td>\n",
       "      <td>875.0</td>\n",
       "      <td>1.84</td>\n",
       "      <td>179.0</td>\n",
       "      <td>18.000000</td>\n",
       "      <td>4.016667</td>\n",
       "      <td>...</td>\n",
       "      <td>2024-05-28 00:58:41</td>\n",
       "      <td>00:58:41</td>\n",
       "      <td>2024-05-28</td>\n",
       "      <td>5</td>\n",
       "      <td>2024</td>\n",
       "      <td>149</td>\n",
       "      <td>1</td>\n",
       "      <td>16.47</td>\n",
       "      <td>6.70</td>\n",
       "      <td>8.95</td>\n",
       "    </tr>\n",
       "    <tr>\n",
       "      <th>18</th>\n",
       "      <td>11520905115</td>\n",
       "      <td>28 May 2024, 22:54:47</td>\n",
       "      <td>Nike Run Club: 7 Weeks to Go - Recovery Run</td>\n",
       "      <td>Run</td>\n",
       "      <td>3425</td>\n",
       "      <td>3220.0</td>\n",
       "      <td>6.04</td>\n",
       "      <td>173.0</td>\n",
       "      <td>55.000000</td>\n",
       "      <td>3.720000</td>\n",
       "      <td>...</td>\n",
       "      <td>2024-05-28 22:54:47</td>\n",
       "      <td>22:54:47</td>\n",
       "      <td>2024-05-28</td>\n",
       "      <td>5</td>\n",
       "      <td>2024</td>\n",
       "      <td>149</td>\n",
       "      <td>1</td>\n",
       "      <td>57.08</td>\n",
       "      <td>6.35</td>\n",
       "      <td>9.45</td>\n",
       "    </tr>\n",
       "    <tr>\n",
       "      <th>19</th>\n",
       "      <td>11522274533</td>\n",
       "      <td>29 May 2024, 06:18:11</td>\n",
       "      <td>Afternoon Walk</td>\n",
       "      <td>Walk</td>\n",
       "      <td>392</td>\n",
       "      <td>134.0</td>\n",
       "      <td>1.00</td>\n",
       "      <td>138.0</td>\n",
       "      <td>3.799999</td>\n",
       "      <td>2.171997</td>\n",
       "      <td>...</td>\n",
       "      <td>2024-05-29 06:18:11</td>\n",
       "      <td>06:18:11</td>\n",
       "      <td>2024-05-29</td>\n",
       "      <td>5</td>\n",
       "      <td>2024</td>\n",
       "      <td>150</td>\n",
       "      <td>2</td>\n",
       "      <td>6.53</td>\n",
       "      <td>9.19</td>\n",
       "      <td>6.53</td>\n",
       "    </tr>\n",
       "    <tr>\n",
       "      <th>20</th>\n",
       "      <td>11523191512</td>\n",
       "      <td>29 May 2024, 07:44:32</td>\n",
       "      <td>Afternoon Walk</td>\n",
       "      <td>Walk</td>\n",
       "      <td>1097</td>\n",
       "      <td>1041.0</td>\n",
       "      <td>2.72</td>\n",
       "      <td>140.0</td>\n",
       "      <td>37.599998</td>\n",
       "      <td>4.333984</td>\n",
       "      <td>...</td>\n",
       "      <td>2024-05-29 07:44:32</td>\n",
       "      <td>07:44:32</td>\n",
       "      <td>2024-05-29</td>\n",
       "      <td>5</td>\n",
       "      <td>2024</td>\n",
       "      <td>150</td>\n",
       "      <td>2</td>\n",
       "      <td>18.28</td>\n",
       "      <td>8.93</td>\n",
       "      <td>6.72</td>\n",
       "    </tr>\n",
       "    <tr>\n",
       "      <th>21</th>\n",
       "      <td>11537951108</td>\n",
       "      <td>31 May 2024, 06:18:44</td>\n",
       "      <td>Nike Run Club: Next Speed Run</td>\n",
       "      <td>Run</td>\n",
       "      <td>1854</td>\n",
       "      <td>901.0</td>\n",
       "      <td>2.34</td>\n",
       "      <td>171.0</td>\n",
       "      <td>36.000000</td>\n",
       "      <td>4.069995</td>\n",
       "      <td>...</td>\n",
       "      <td>2024-05-31 06:18:44</td>\n",
       "      <td>06:18:44</td>\n",
       "      <td>2024-05-31</td>\n",
       "      <td>5</td>\n",
       "      <td>2024</td>\n",
       "      <td>152</td>\n",
       "      <td>4</td>\n",
       "      <td>30.90</td>\n",
       "      <td>4.54</td>\n",
       "      <td>13.21</td>\n",
       "    </tr>\n",
       "    <tr>\n",
       "      <th>22</th>\n",
       "      <td>11537956241</td>\n",
       "      <td>31 May 2024, 06:19:15</td>\n",
       "      <td>Afternoon Run</td>\n",
       "      <td>Run</td>\n",
       "      <td>1795</td>\n",
       "      <td>1121.0</td>\n",
       "      <td>2.86</td>\n",
       "      <td>198.0</td>\n",
       "      <td>42.399998</td>\n",
       "      <td>8.529516</td>\n",
       "      <td>...</td>\n",
       "      <td>2024-05-31 06:19:15</td>\n",
       "      <td>06:19:15</td>\n",
       "      <td>2024-05-31</td>\n",
       "      <td>5</td>\n",
       "      <td>2024</td>\n",
       "      <td>152</td>\n",
       "      <td>4</td>\n",
       "      <td>29.92</td>\n",
       "      <td>5.74</td>\n",
       "      <td>10.46</td>\n",
       "    </tr>\n",
       "    <tr>\n",
       "      <th>23</th>\n",
       "      <td>11551681161</td>\n",
       "      <td>2 Jun 2024, 00:11:56</td>\n",
       "      <td>Nike Run Club: 7 Weeks to Go - Long Run</td>\n",
       "      <td>Run</td>\n",
       "      <td>2485</td>\n",
       "      <td>2258.0</td>\n",
       "      <td>5.03</td>\n",
       "      <td>192.0</td>\n",
       "      <td>58.000000</td>\n",
       "      <td>3.900000</td>\n",
       "      <td>...</td>\n",
       "      <td>2024-06-02 00:11:56</td>\n",
       "      <td>00:11:56</td>\n",
       "      <td>2024-06-02</td>\n",
       "      <td>6</td>\n",
       "      <td>2024</td>\n",
       "      <td>154</td>\n",
       "      <td>6</td>\n",
       "      <td>41.42</td>\n",
       "      <td>7.29</td>\n",
       "      <td>8.23</td>\n",
       "    </tr>\n",
       "    <tr>\n",
       "      <th>24</th>\n",
       "      <td>11551802058</td>\n",
       "      <td>2 Jun 2024, 00:57:07</td>\n",
       "      <td>Nike Run Club: 7 Weeks to Go - Recovery Run</td>\n",
       "      <td>Run</td>\n",
       "      <td>1753</td>\n",
       "      <td>1504.0</td>\n",
       "      <td>3.44</td>\n",
       "      <td>184.0</td>\n",
       "      <td>28.000000</td>\n",
       "      <td>3.583333</td>\n",
       "      <td>...</td>\n",
       "      <td>2024-06-02 00:57:07</td>\n",
       "      <td>00:57:07</td>\n",
       "      <td>2024-06-02</td>\n",
       "      <td>6</td>\n",
       "      <td>2024</td>\n",
       "      <td>154</td>\n",
       "      <td>6</td>\n",
       "      <td>29.22</td>\n",
       "      <td>7.06</td>\n",
       "      <td>8.49</td>\n",
       "    </tr>\n",
       "    <tr>\n",
       "      <th>25</th>\n",
       "      <td>11559938586</td>\n",
       "      <td>2 Jun 2024, 23:41:16</td>\n",
       "      <td>Nike Run Club: A New Run</td>\n",
       "      <td>Run</td>\n",
       "      <td>1529</td>\n",
       "      <td>1500.0</td>\n",
       "      <td>2.85</td>\n",
       "      <td>169.0</td>\n",
       "      <td>26.000000</td>\n",
       "      <td>2.866016</td>\n",
       "      <td>...</td>\n",
       "      <td>2024-06-02 23:41:16</td>\n",
       "      <td>23:41:16</td>\n",
       "      <td>2024-06-02</td>\n",
       "      <td>6</td>\n",
       "      <td>2024</td>\n",
       "      <td>154</td>\n",
       "      <td>6</td>\n",
       "      <td>25.48</td>\n",
       "      <td>6.71</td>\n",
       "      <td>8.94</td>\n",
       "    </tr>\n",
       "    <tr>\n",
       "      <th>26</th>\n",
       "      <td>11560190199</td>\n",
       "      <td>2 Jun 2024, 23:44:01</td>\n",
       "      <td>Morning Run</td>\n",
       "      <td>Run</td>\n",
       "      <td>1369</td>\n",
       "      <td>1347.0</td>\n",
       "      <td>2.57</td>\n",
       "      <td>174.0</td>\n",
       "      <td>36.200001</td>\n",
       "      <td>3.187988</td>\n",
       "      <td>...</td>\n",
       "      <td>2024-06-02 23:44:01</td>\n",
       "      <td>23:44:01</td>\n",
       "      <td>2024-06-02</td>\n",
       "      <td>6</td>\n",
       "      <td>2024</td>\n",
       "      <td>154</td>\n",
       "      <td>6</td>\n",
       "      <td>22.82</td>\n",
       "      <td>6.76</td>\n",
       "      <td>8.88</td>\n",
       "    </tr>\n",
       "    <tr>\n",
       "      <th>27</th>\n",
       "      <td>11576211014</td>\n",
       "      <td>5 Jun 2024, 01:03:15</td>\n",
       "      <td>Nike Run Club: 6 Weeks to Go - Recovery Run</td>\n",
       "      <td>Run</td>\n",
       "      <td>2344</td>\n",
       "      <td>2219.0</td>\n",
       "      <td>5.00</td>\n",
       "      <td>188.0</td>\n",
       "      <td>44.000000</td>\n",
       "      <td>3.553333</td>\n",
       "      <td>...</td>\n",
       "      <td>2024-06-05 01:03:15</td>\n",
       "      <td>01:03:15</td>\n",
       "      <td>2024-06-05</td>\n",
       "      <td>6</td>\n",
       "      <td>2024</td>\n",
       "      <td>157</td>\n",
       "      <td>2</td>\n",
       "      <td>39.07</td>\n",
       "      <td>7.68</td>\n",
       "      <td>7.81</td>\n",
       "    </tr>\n",
       "    <tr>\n",
       "      <th>28</th>\n",
       "      <td>11585126344</td>\n",
       "      <td>6 Jun 2024, 04:19:42</td>\n",
       "      <td>Nike Run Club: 6 Weeks to Go - Recovery Run</td>\n",
       "      <td>Run</td>\n",
       "      <td>1616</td>\n",
       "      <td>1510.0</td>\n",
       "      <td>3.50</td>\n",
       "      <td>190.0</td>\n",
       "      <td>33.000000</td>\n",
       "      <td>4.040000</td>\n",
       "      <td>...</td>\n",
       "      <td>2024-06-06 04:19:42</td>\n",
       "      <td>04:19:42</td>\n",
       "      <td>2024-06-06</td>\n",
       "      <td>6</td>\n",
       "      <td>2024</td>\n",
       "      <td>158</td>\n",
       "      <td>3</td>\n",
       "      <td>26.93</td>\n",
       "      <td>7.80</td>\n",
       "      <td>7.69</td>\n",
       "    </tr>\n",
       "    <tr>\n",
       "      <th>29</th>\n",
       "      <td>11599728164</td>\n",
       "      <td>8 Jun 2024, 01:23:50</td>\n",
       "      <td>Nike Run Club: 6 Weeks to Go - Long Run</td>\n",
       "      <td>Run</td>\n",
       "      <td>2526</td>\n",
       "      <td>2452.0</td>\n",
       "      <td>6.02</td>\n",
       "      <td>195.0</td>\n",
       "      <td>71.000000</td>\n",
       "      <td>4.433333</td>\n",
       "      <td>...</td>\n",
       "      <td>2024-06-08 01:23:50</td>\n",
       "      <td>01:23:50</td>\n",
       "      <td>2024-06-08</td>\n",
       "      <td>6</td>\n",
       "      <td>2024</td>\n",
       "      <td>160</td>\n",
       "      <td>5</td>\n",
       "      <td>42.10</td>\n",
       "      <td>8.58</td>\n",
       "      <td>6.99</td>\n",
       "    </tr>\n",
       "    <tr>\n",
       "      <th>30</th>\n",
       "      <td>11599836517</td>\n",
       "      <td>8 Jun 2024, 02:08:19</td>\n",
       "      <td>Lunch Run</td>\n",
       "      <td>Run</td>\n",
       "      <td>1617</td>\n",
       "      <td>1581.0</td>\n",
       "      <td>3.76</td>\n",
       "      <td>186.0</td>\n",
       "      <td>40.800003</td>\n",
       "      <td>3.402002</td>\n",
       "      <td>...</td>\n",
       "      <td>2024-06-08 02:08:19</td>\n",
       "      <td>02:08:19</td>\n",
       "      <td>2024-06-08</td>\n",
       "      <td>6</td>\n",
       "      <td>2024</td>\n",
       "      <td>160</td>\n",
       "      <td>5</td>\n",
       "      <td>26.95</td>\n",
       "      <td>8.37</td>\n",
       "      <td>7.17</td>\n",
       "    </tr>\n",
       "    <tr>\n",
       "      <th>31</th>\n",
       "      <td>11677993982</td>\n",
       "      <td>18 Jun 2024, 03:19:44</td>\n",
       "      <td>Nike Run Club: 5 Weeks to Go - Recovery Run</td>\n",
       "      <td>Run</td>\n",
       "      <td>1944</td>\n",
       "      <td>1941.0</td>\n",
       "      <td>5.03</td>\n",
       "      <td>202.0</td>\n",
       "      <td>46.000000</td>\n",
       "      <td>3.955957</td>\n",
       "      <td>...</td>\n",
       "      <td>2024-06-18 03:19:44</td>\n",
       "      <td>03:19:44</td>\n",
       "      <td>2024-06-18</td>\n",
       "      <td>6</td>\n",
       "      <td>2024</td>\n",
       "      <td>170</td>\n",
       "      <td>1</td>\n",
       "      <td>32.40</td>\n",
       "      <td>9.31</td>\n",
       "      <td>6.44</td>\n",
       "    </tr>\n",
       "  </tbody>\n",
       "</table>\n",
       "<p>32 rows × 21 columns</p>\n",
       "</div>"
      ],
      "text/plain": [
       "    activity id          activity date  \\\n",
       "0   11470038800  22 May 2024, 08:19:26   \n",
       "1   11470039023  21 May 2024, 00:48:20   \n",
       "2   11470243052  21 May 2024, 21:53:08   \n",
       "3   11470243289  19 May 2024, 07:07:07   \n",
       "4   11470243423  19 May 2024, 07:01:17   \n",
       "5   11470243536  18 May 2024, 07:19:05   \n",
       "6   11470243862  14 Apr 2024, 06:36:30   \n",
       "7   11470243993   9 Jan 2024, 06:54:46   \n",
       "8   11470290443  29 Dec 2023, 05:23:55   \n",
       "9   11476534443  23 May 2024, 06:10:14   \n",
       "10  11476585894  23 May 2024, 06:42:24   \n",
       "11  11490128286  25 May 2024, 02:09:16   \n",
       "12  11490222687  25 May 2024, 02:29:44   \n",
       "13  11490360645  25 May 2024, 03:45:59   \n",
       "14  11498777386  26 May 2024, 06:30:01   \n",
       "15  11498781598  26 May 2024, 06:30:51   \n",
       "16  11498799175  26 May 2024, 06:56:03   \n",
       "17  11513656106  28 May 2024, 00:58:41   \n",
       "18  11520905115  28 May 2024, 22:54:47   \n",
       "19  11522274533  29 May 2024, 06:18:11   \n",
       "20  11523191512  29 May 2024, 07:44:32   \n",
       "21  11537951108  31 May 2024, 06:18:44   \n",
       "22  11537956241  31 May 2024, 06:19:15   \n",
       "23  11551681161   2 Jun 2024, 00:11:56   \n",
       "24  11551802058   2 Jun 2024, 00:57:07   \n",
       "25  11559938586   2 Jun 2024, 23:41:16   \n",
       "26  11560190199   2 Jun 2024, 23:44:01   \n",
       "27  11576211014   5 Jun 2024, 01:03:15   \n",
       "28  11585126344   6 Jun 2024, 04:19:42   \n",
       "29  11599728164   8 Jun 2024, 01:23:50   \n",
       "30  11599836517   8 Jun 2024, 02:08:19   \n",
       "31  11677993982  18 Jun 2024, 03:19:44   \n",
       "\n",
       "                                  activity name activity type  elapsed time  \\\n",
       "0                                  Evening Walk          Walk          1266   \n",
       "1                                   Morning Run           Run          1386   \n",
       "2                                       Running           Run           658   \n",
       "3                                       Running           Run          1471   \n",
       "4                                       Running           Run           301   \n",
       "5                                       Running           Run          1719   \n",
       "6                                     Como Park           Run          2633   \n",
       "7                                     Como Park           Run          1765   \n",
       "8                                     Como Park           Run          1110   \n",
       "9              Nike Run Club: First \\nSpeed Run           Run          1617   \n",
       "10                                Afternoon Run           Run           374   \n",
       "11                                    Lunch Run           Run           586   \n",
       "12             Nike Run Club: 4K Starting Lines           Run          1978   \n",
       "13                                Afternoon Run           Run          1030   \n",
       "14                                Afternoon Run           Run          1452   \n",
       "15  Nike Run Club: 8 Weeks to Go - Recovery Run           Run          1430   \n",
       "16                                Afternoon Run           Run           201   \n",
       "17  Nike Run Club: 7 Weeks to Go - Recovery Run           Run           988   \n",
       "18  Nike Run Club: 7 Weeks to Go - Recovery Run           Run          3425   \n",
       "19                               Afternoon Walk          Walk           392   \n",
       "20                               Afternoon Walk          Walk          1097   \n",
       "21                Nike Run Club: Next Speed Run           Run          1854   \n",
       "22                                Afternoon Run           Run          1795   \n",
       "23      Nike Run Club: 7 Weeks to Go - Long Run           Run          2485   \n",
       "24  Nike Run Club: 7 Weeks to Go - Recovery Run           Run          1753   \n",
       "25                     Nike Run Club: A New Run           Run          1529   \n",
       "26                                  Morning Run           Run          1369   \n",
       "27  Nike Run Club: 6 Weeks to Go - Recovery Run           Run          2344   \n",
       "28  Nike Run Club: 6 Weeks to Go - Recovery Run           Run          1616   \n",
       "29      Nike Run Club: 6 Weeks to Go - Long Run           Run          2526   \n",
       "30                                    Lunch Run           Run          1617   \n",
       "31  Nike Run Club: 5 Weeks to Go - Recovery Run           Run          1944   \n",
       "\n",
       "    moving time  distance  max heart rate  elevation gain  max speed  ...  \\\n",
       "0        1164.0      3.01           143.0       28.600000   3.080005  ...   \n",
       "1        1374.0      3.05           201.0       40.599998   3.105999  ...   \n",
       "2         647.0      1.59           198.0        0.000000   3.890000  ...   \n",
       "3         810.0      2.01             NaN        0.000000   4.702002  ...   \n",
       "4         301.0      0.77             NaN        0.000000   3.345999  ...   \n",
       "5        1200.0      2.62             NaN        0.000000   3.376001  ...   \n",
       "6        1185.0      3.09           199.0       15.926480   3.438000  ...   \n",
       "7        1255.0      3.19           192.0       18.130556   5.061963  ...   \n",
       "8         919.0      2.31           187.0        3.189474   8.793333  ...   \n",
       "9         810.0      2.27           155.0       28.000000   4.752002  ...   \n",
       "10        374.0      1.05           203.0       10.600000   4.338000  ...   \n",
       "11        455.0      1.19           200.0       13.400000   3.638000  ...   \n",
       "12       1655.0      4.00           195.0       21.000000   3.450000  ...   \n",
       "13       1001.0      2.20           191.0       17.599998   3.943994  ...   \n",
       "14       1392.0      3.20           194.0       25.200001   7.267999  ...   \n",
       "15       1321.0      3.06           194.0       33.000000   4.883333  ...   \n",
       "16        190.0      0.53           193.0        9.000000   3.348000  ...   \n",
       "17        875.0      1.84           179.0       18.000000   4.016667  ...   \n",
       "18       3220.0      6.04           173.0       55.000000   3.720000  ...   \n",
       "19        134.0      1.00           138.0        3.799999   2.171997  ...   \n",
       "20       1041.0      2.72           140.0       37.599998   4.333984  ...   \n",
       "21        901.0      2.34           171.0       36.000000   4.069995  ...   \n",
       "22       1121.0      2.86           198.0       42.399998   8.529516  ...   \n",
       "23       2258.0      5.03           192.0       58.000000   3.900000  ...   \n",
       "24       1504.0      3.44           184.0       28.000000   3.583333  ...   \n",
       "25       1500.0      2.85           169.0       26.000000   2.866016  ...   \n",
       "26       1347.0      2.57           174.0       36.200001   3.187988  ...   \n",
       "27       2219.0      5.00           188.0       44.000000   3.553333  ...   \n",
       "28       1510.0      3.50           190.0       33.000000   4.040000  ...   \n",
       "29       2452.0      6.02           195.0       71.000000   4.433333  ...   \n",
       "30       1581.0      3.76           186.0       40.800003   3.402002  ...   \n",
       "31       1941.0      5.03           202.0       46.000000   3.955957  ...   \n",
       "\n",
       "         activity_date start_time  start_date month  year  dayofyear  \\\n",
       "0  2024-05-22 08:19:26   08:19:26  2024-05-22     5  2024        143   \n",
       "1  2024-05-21 00:48:20   00:48:20  2024-05-21     5  2024        142   \n",
       "2  2024-05-21 21:53:08   21:53:08  2024-05-21     5  2024        142   \n",
       "3  2024-05-19 07:07:07   07:07:07  2024-05-19     5  2024        140   \n",
       "4  2024-05-19 07:01:17   07:01:17  2024-05-19     5  2024        140   \n",
       "5  2024-05-18 07:19:05   07:19:05  2024-05-18     5  2024        139   \n",
       "6  2024-04-14 06:36:30   06:36:30  2024-04-14     4  2024        105   \n",
       "7  2024-01-09 06:54:46   06:54:46  2024-01-09     1  2024          9   \n",
       "8  2023-12-29 05:23:55   05:23:55  2023-12-29    12  2023        363   \n",
       "9  2024-05-23 06:10:14   06:10:14  2024-05-23     5  2024        144   \n",
       "10 2024-05-23 06:42:24   06:42:24  2024-05-23     5  2024        144   \n",
       "11 2024-05-25 02:09:16   02:09:16  2024-05-25     5  2024        146   \n",
       "12 2024-05-25 02:29:44   02:29:44  2024-05-25     5  2024        146   \n",
       "13 2024-05-25 03:45:59   03:45:59  2024-05-25     5  2024        146   \n",
       "14 2024-05-26 06:30:01   06:30:01  2024-05-26     5  2024        147   \n",
       "15 2024-05-26 06:30:51   06:30:51  2024-05-26     5  2024        147   \n",
       "16 2024-05-26 06:56:03   06:56:03  2024-05-26     5  2024        147   \n",
       "17 2024-05-28 00:58:41   00:58:41  2024-05-28     5  2024        149   \n",
       "18 2024-05-28 22:54:47   22:54:47  2024-05-28     5  2024        149   \n",
       "19 2024-05-29 06:18:11   06:18:11  2024-05-29     5  2024        150   \n",
       "20 2024-05-29 07:44:32   07:44:32  2024-05-29     5  2024        150   \n",
       "21 2024-05-31 06:18:44   06:18:44  2024-05-31     5  2024        152   \n",
       "22 2024-05-31 06:19:15   06:19:15  2024-05-31     5  2024        152   \n",
       "23 2024-06-02 00:11:56   00:11:56  2024-06-02     6  2024        154   \n",
       "24 2024-06-02 00:57:07   00:57:07  2024-06-02     6  2024        154   \n",
       "25 2024-06-02 23:41:16   23:41:16  2024-06-02     6  2024        154   \n",
       "26 2024-06-02 23:44:01   23:44:01  2024-06-02     6  2024        154   \n",
       "27 2024-06-05 01:03:15   01:03:15  2024-06-05     6  2024        157   \n",
       "28 2024-06-06 04:19:42   04:19:42  2024-06-06     6  2024        158   \n",
       "29 2024-06-08 01:23:50   01:23:50  2024-06-08     6  2024        160   \n",
       "30 2024-06-08 02:08:19   02:08:19  2024-06-08     6  2024        160   \n",
       "31 2024-06-18 03:19:44   03:19:44  2024-06-18     6  2024        170   \n",
       "\n",
       "    dayofweek  elapsed minutes  km per hour  avg pace  \n",
       "0           2            21.10         8.56      7.01  \n",
       "1           1            23.10         7.92      7.57  \n",
       "2           1            10.97         8.70      6.90  \n",
       "3           6            24.52         4.92     12.20  \n",
       "4           6             5.02         9.20      6.52  \n",
       "5           5            28.65         5.49     10.94  \n",
       "6           6            43.88         4.23     14.20  \n",
       "7           1            29.42         6.51      9.22  \n",
       "8           4            18.50         7.49      8.01  \n",
       "9           3            26.95         5.05     11.87  \n",
       "10          3             6.23        10.11      5.93  \n",
       "11          5             9.77         7.31      8.21  \n",
       "12          5            32.97         7.28      8.24  \n",
       "13          5            17.17         7.69      7.80  \n",
       "14          6            24.20         7.93      7.56  \n",
       "15          6            23.83         7.70      7.79  \n",
       "16          6             3.35         9.49      6.32  \n",
       "17          1            16.47         6.70      8.95  \n",
       "18          1            57.08         6.35      9.45  \n",
       "19          2             6.53         9.19      6.53  \n",
       "20          2            18.28         8.93      6.72  \n",
       "21          4            30.90         4.54     13.21  \n",
       "22          4            29.92         5.74     10.46  \n",
       "23          6            41.42         7.29      8.23  \n",
       "24          6            29.22         7.06      8.49  \n",
       "25          6            25.48         6.71      8.94  \n",
       "26          6            22.82         6.76      8.88  \n",
       "27          2            39.07         7.68      7.81  \n",
       "28          3            26.93         7.80      7.69  \n",
       "29          5            42.10         8.58      6.99  \n",
       "30          5            26.95         8.37      7.17  \n",
       "31          1            32.40         9.31      6.44  \n",
       "\n",
       "[32 rows x 21 columns]"
      ]
     },
     "execution_count": 81,
     "metadata": {},
     "output_type": "execute_result"
    }
   ],
   "source": [
    "# breaking date into start time and date\n",
    "df['activity_date'] = pd.to_datetime(df['activity date'],format='%d %b %Y, %H:%M:%S')\n",
    "df['start_time'] = df['activity_date'].dt.time\n",
    "df['start_date'] = df['activity_date'].dt.date\n",
    "df['month'] = df['activity_date'].dt.month\n",
    "df['year'] = df['activity_date'].dt.year\n",
    "#df['year'] = (df['year']).astype(np.object) #change year from numeric to object\n",
    "df['dayofyear'] = df['activity_date'].dt.dayofyear\n",
    "df['dayofyear'] = pd.to_numeric(df['dayofyear'])\n",
    "df['dayofweek'] = df['activity_date'].dt.dayofweek\n",
    "\n",
    "#convert distance from object to numeric\n",
    "df['distance'] = pd.to_numeric(df['distance'], errors = 'coerce')\n",
    "\n",
    "#Create extra columns to create metrics which aren't in the dataset already\n",
    "df['elapsed minutes'] = round(df['elapsed time']/60, 2)\n",
    "df['km per hour'] = round(df['distance'] / (df['elapsed minutes'] / 60), 2)\n",
    "df['avg pace'] = round(df['elapsed minutes'] / df['distance'], 2)\n",
    "\n",
    "df\n"
   ]
  },
  {
   "cell_type": "code",
   "execution_count": 82,
   "metadata": {},
   "outputs": [
    {
     "data": {
      "text/plain": [
       "activity type\n",
       "Run     29\n",
       "Walk     3\n",
       "Name: count, dtype: int64"
      ]
     },
     "execution_count": 82,
     "metadata": {},
     "output_type": "execute_result"
    }
   ],
   "source": [
    "df['activity type'].value_counts()"
   ]
  },
  {
   "cell_type": "code",
   "execution_count": 83,
   "metadata": {},
   "outputs": [
    {
     "data": {
      "text/plain": [
       "activity id                 int64\n",
       "activity date              object\n",
       "activity name              object\n",
       "activity type              object\n",
       "elapsed time                int64\n",
       "moving time               float64\n",
       "distance                  float64\n",
       "max heart rate            float64\n",
       "elevation gain            float64\n",
       "max speed                 float64\n",
       "calories                  float64\n",
       "activity_date      datetime64[ns]\n",
       "start_time                 object\n",
       "start_date                 object\n",
       "month                       int32\n",
       "year                        int32\n",
       "dayofyear                   int32\n",
       "dayofweek                   int32\n",
       "elapsed minutes           float64\n",
       "km per hour               float64\n",
       "avg pace                  float64\n",
       "dtype: object"
      ]
     },
     "execution_count": 83,
     "metadata": {},
     "output_type": "execute_result"
    }
   ],
   "source": [
    "df.dtypes"
   ]
  },
  {
   "cell_type": "code",
   "execution_count": 84,
   "metadata": {},
   "outputs": [
    {
     "data": {
      "text/html": [
       "<div>\n",
       "<style scoped>\n",
       "    .dataframe tbody tr th:only-of-type {\n",
       "        vertical-align: middle;\n",
       "    }\n",
       "\n",
       "    .dataframe tbody tr th {\n",
       "        vertical-align: top;\n",
       "    }\n",
       "\n",
       "    .dataframe thead th {\n",
       "        text-align: right;\n",
       "    }\n",
       "</style>\n",
       "<table border=\"1\" class=\"dataframe\">\n",
       "  <thead>\n",
       "    <tr style=\"text-align: right;\">\n",
       "      <th></th>\n",
       "      <th>activity id</th>\n",
       "      <th>elapsed time</th>\n",
       "      <th>moving time</th>\n",
       "      <th>distance</th>\n",
       "      <th>max heart rate</th>\n",
       "      <th>elevation gain</th>\n",
       "      <th>max speed</th>\n",
       "      <th>calories</th>\n",
       "      <th>activity_date</th>\n",
       "      <th>month</th>\n",
       "      <th>year</th>\n",
       "      <th>dayofyear</th>\n",
       "      <th>dayofweek</th>\n",
       "      <th>elapsed minutes</th>\n",
       "      <th>km per hour</th>\n",
       "      <th>avg pace</th>\n",
       "    </tr>\n",
       "  </thead>\n",
       "  <tbody>\n",
       "    <tr>\n",
       "      <th>count</th>\n",
       "      <td>3.200000e+01</td>\n",
       "      <td>32.0</td>\n",
       "      <td>32.0</td>\n",
       "      <td>32.0</td>\n",
       "      <td>29.0</td>\n",
       "      <td>32.0</td>\n",
       "      <td>32.0</td>\n",
       "      <td>32.0</td>\n",
       "      <td>32</td>\n",
       "      <td>32.0</td>\n",
       "      <td>32.0</td>\n",
       "      <td>32.0</td>\n",
       "      <td>32.0</td>\n",
       "      <td>32.0</td>\n",
       "      <td>32.0</td>\n",
       "      <td>32.0</td>\n",
       "    </tr>\n",
       "    <tr>\n",
       "      <th>mean</th>\n",
       "      <td>1.151783e+10</td>\n",
       "      <td>1491.0</td>\n",
       "      <td>1239.0</td>\n",
       "      <td>3.0</td>\n",
       "      <td>184.0</td>\n",
       "      <td>26.0</td>\n",
       "      <td>4.0</td>\n",
       "      <td>136.0</td>\n",
       "      <td>2024-05-18 07:00:02.687500032</td>\n",
       "      <td>5.0</td>\n",
       "      <td>2024.0</td>\n",
       "      <td>150.0</td>\n",
       "      <td>4.0</td>\n",
       "      <td>25.0</td>\n",
       "      <td>7.0</td>\n",
       "      <td>9.0</td>\n",
       "    </tr>\n",
       "    <tr>\n",
       "      <th>min</th>\n",
       "      <td>1.147004e+10</td>\n",
       "      <td>201.0</td>\n",
       "      <td>134.0</td>\n",
       "      <td>1.0</td>\n",
       "      <td>138.0</td>\n",
       "      <td>0.0</td>\n",
       "      <td>2.0</td>\n",
       "      <td>21.0</td>\n",
       "      <td>2023-12-29 05:23:55</td>\n",
       "      <td>1.0</td>\n",
       "      <td>2023.0</td>\n",
       "      <td>9.0</td>\n",
       "      <td>1.0</td>\n",
       "      <td>3.0</td>\n",
       "      <td>4.0</td>\n",
       "      <td>6.0</td>\n",
       "    </tr>\n",
       "    <tr>\n",
       "      <th>25%</th>\n",
       "      <td>1.147028e+10</td>\n",
       "      <td>1080.0</td>\n",
       "      <td>859.0</td>\n",
       "      <td>2.0</td>\n",
       "      <td>174.0</td>\n",
       "      <td>13.0</td>\n",
       "      <td>3.0</td>\n",
       "      <td>99.0</td>\n",
       "      <td>2024-05-22 05:42:51.500000</td>\n",
       "      <td>5.0</td>\n",
       "      <td>2024.0</td>\n",
       "      <td>144.0</td>\n",
       "      <td>2.0</td>\n",
       "      <td>18.0</td>\n",
       "      <td>7.0</td>\n",
       "      <td>7.0</td>\n",
       "    </tr>\n",
       "    <tr>\n",
       "      <th>50%</th>\n",
       "      <td>1.149879e+10</td>\n",
       "      <td>1500.0</td>\n",
       "      <td>1192.0</td>\n",
       "      <td>3.0</td>\n",
       "      <td>191.0</td>\n",
       "      <td>27.0</td>\n",
       "      <td>4.0</td>\n",
       "      <td>128.0</td>\n",
       "      <td>2024-05-26 06:43:27</td>\n",
       "      <td>5.0</td>\n",
       "      <td>2024.0</td>\n",
       "      <td>148.0</td>\n",
       "      <td>4.0</td>\n",
       "      <td>25.0</td>\n",
       "      <td>8.0</td>\n",
       "      <td>8.0</td>\n",
       "    </tr>\n",
       "    <tr>\n",
       "      <th>75%</th>\n",
       "      <td>1.155171e+10</td>\n",
       "      <td>1810.0</td>\n",
       "      <td>1506.0</td>\n",
       "      <td>3.0</td>\n",
       "      <td>195.0</td>\n",
       "      <td>38.0</td>\n",
       "      <td>4.0</td>\n",
       "      <td>164.0</td>\n",
       "      <td>2024-06-02 00:23:13.750000128</td>\n",
       "      <td>6.0</td>\n",
       "      <td>2024.0</td>\n",
       "      <td>154.0</td>\n",
       "      <td>6.0</td>\n",
       "      <td>30.0</td>\n",
       "      <td>9.0</td>\n",
       "      <td>9.0</td>\n",
       "    </tr>\n",
       "    <tr>\n",
       "      <th>max</th>\n",
       "      <td>1.167799e+10</td>\n",
       "      <td>3425.0</td>\n",
       "      <td>3220.0</td>\n",
       "      <td>6.0</td>\n",
       "      <td>203.0</td>\n",
       "      <td>71.0</td>\n",
       "      <td>9.0</td>\n",
       "      <td>288.0</td>\n",
       "      <td>2024-06-18 03:19:44</td>\n",
       "      <td>12.0</td>\n",
       "      <td>2024.0</td>\n",
       "      <td>363.0</td>\n",
       "      <td>6.0</td>\n",
       "      <td>57.0</td>\n",
       "      <td>10.0</td>\n",
       "      <td>14.0</td>\n",
       "    </tr>\n",
       "    <tr>\n",
       "      <th>std</th>\n",
       "      <td>5.110653e+07</td>\n",
       "      <td>733.0</td>\n",
       "      <td>677.0</td>\n",
       "      <td>1.0</td>\n",
       "      <td>19.0</td>\n",
       "      <td>18.0</td>\n",
       "      <td>1.0</td>\n",
       "      <td>68.0</td>\n",
       "      <td>NaN</td>\n",
       "      <td>2.0</td>\n",
       "      <td>0.0</td>\n",
       "      <td>47.0</td>\n",
       "      <td>2.0</td>\n",
       "      <td>12.0</td>\n",
       "      <td>2.0</td>\n",
       "      <td>2.0</td>\n",
       "    </tr>\n",
       "  </tbody>\n",
       "</table>\n",
       "</div>"
      ],
      "text/plain": [
       "        activity id  elapsed time  moving time  distance  max heart rate  \\\n",
       "count  3.200000e+01          32.0         32.0      32.0            29.0   \n",
       "mean   1.151783e+10        1491.0       1239.0       3.0           184.0   \n",
       "min    1.147004e+10         201.0        134.0       1.0           138.0   \n",
       "25%    1.147028e+10        1080.0        859.0       2.0           174.0   \n",
       "50%    1.149879e+10        1500.0       1192.0       3.0           191.0   \n",
       "75%    1.155171e+10        1810.0       1506.0       3.0           195.0   \n",
       "max    1.167799e+10        3425.0       3220.0       6.0           203.0   \n",
       "std    5.110653e+07         733.0        677.0       1.0            19.0   \n",
       "\n",
       "       elevation gain  max speed  calories                  activity_date  \\\n",
       "count            32.0       32.0      32.0                             32   \n",
       "mean             26.0        4.0     136.0  2024-05-18 07:00:02.687500032   \n",
       "min               0.0        2.0      21.0            2023-12-29 05:23:55   \n",
       "25%              13.0        3.0      99.0     2024-05-22 05:42:51.500000   \n",
       "50%              27.0        4.0     128.0            2024-05-26 06:43:27   \n",
       "75%              38.0        4.0     164.0  2024-06-02 00:23:13.750000128   \n",
       "max              71.0        9.0     288.0            2024-06-18 03:19:44   \n",
       "std              18.0        1.0      68.0                            NaN   \n",
       "\n",
       "       month    year  dayofyear  dayofweek  elapsed minutes  km per hour  \\\n",
       "count   32.0    32.0       32.0       32.0             32.0         32.0   \n",
       "mean     5.0  2024.0      150.0        4.0             25.0          7.0   \n",
       "min      1.0  2023.0        9.0        1.0              3.0          4.0   \n",
       "25%      5.0  2024.0      144.0        2.0             18.0          7.0   \n",
       "50%      5.0  2024.0      148.0        4.0             25.0          8.0   \n",
       "75%      6.0  2024.0      154.0        6.0             30.0          9.0   \n",
       "max     12.0  2024.0      363.0        6.0             57.0         10.0   \n",
       "std      2.0     0.0       47.0        2.0             12.0          2.0   \n",
       "\n",
       "       avg pace  \n",
       "count      32.0  \n",
       "mean        9.0  \n",
       "min         6.0  \n",
       "25%         7.0  \n",
       "50%         8.0  \n",
       "75%         9.0  \n",
       "max        14.0  \n",
       "std         2.0  "
      ]
     },
     "execution_count": 84,
     "metadata": {},
     "output_type": "execute_result"
    }
   ],
   "source": [
    "df.describe().round(0)"
   ]
  },
  {
   "cell_type": "markdown",
   "metadata": {},
   "source": [
    "#### VISUALISATIONS (SEABORN)\n",
    "\n"
   ]
  },
  {
   "cell_type": "code",
   "execution_count": 85,
   "metadata": {},
   "outputs": [
    {
     "data": {
      "text/html": [
       "<div>\n",
       "<style scoped>\n",
       "    .dataframe tbody tr th:only-of-type {\n",
       "        vertical-align: middle;\n",
       "    }\n",
       "\n",
       "    .dataframe tbody tr th {\n",
       "        vertical-align: top;\n",
       "    }\n",
       "\n",
       "    .dataframe thead th {\n",
       "        text-align: right;\n",
       "    }\n",
       "</style>\n",
       "<table border=\"1\" class=\"dataframe\">\n",
       "  <thead>\n",
       "    <tr style=\"text-align: right;\">\n",
       "      <th></th>\n",
       "      <th>Day of Week</th>\n",
       "      <th>Distance</th>\n",
       "    </tr>\n",
       "    <tr>\n",
       "      <th>dayofweek</th>\n",
       "      <th></th>\n",
       "      <th></th>\n",
       "    </tr>\n",
       "  </thead>\n",
       "  <tbody>\n",
       "    <tr>\n",
       "      <th>1</th>\n",
       "      <td>Tuesday</td>\n",
       "      <td>20.74</td>\n",
       "    </tr>\n",
       "    <tr>\n",
       "      <th>2</th>\n",
       "      <td>Wednesday</td>\n",
       "      <td>11.73</td>\n",
       "    </tr>\n",
       "    <tr>\n",
       "      <th>3</th>\n",
       "      <td>Thursday</td>\n",
       "      <td>6.82</td>\n",
       "    </tr>\n",
       "    <tr>\n",
       "      <th>4</th>\n",
       "      <td>Friday</td>\n",
       "      <td>7.51</td>\n",
       "    </tr>\n",
       "    <tr>\n",
       "      <th>5</th>\n",
       "      <td>Saturday</td>\n",
       "      <td>19.79</td>\n",
       "    </tr>\n",
       "    <tr>\n",
       "      <th>6</th>\n",
       "      <td>Sunday</td>\n",
       "      <td>26.55</td>\n",
       "    </tr>\n",
       "  </tbody>\n",
       "</table>\n",
       "</div>"
      ],
      "text/plain": [
       "          Day of Week  Distance\n",
       "dayofweek                      \n",
       "1             Tuesday     20.74\n",
       "2           Wednesday     11.73\n",
       "3            Thursday      6.82\n",
       "4              Friday      7.51\n",
       "5            Saturday     19.79\n",
       "6              Sunday     26.55"
      ]
     },
     "execution_count": 85,
     "metadata": {},
     "output_type": "execute_result"
    },
    {
     "data": {
      "image/png": "[encoded data removed]",
      "text/plain": [
       "<Figure size 640x480 with 1 Axes>"
      ]
     },
     "metadata": {},
     "output_type": "display_data"
    }
   ],
   "source": [
    "# TOTAL RUN DISTANCE FOR EACH DAY OF WEEK:\n",
    "\n",
    "days = ['Tuesday', 'Wednesday', 'Thursday', 'Friday', 'Saturday', 'Sunday']\n",
    "df2 = df.groupby('dayofweek')['distance'].sum()\n",
    "dist_by_day = pd.DataFrame({'Day of Week': days, 'Distance': df2})\n",
    "\n",
    "ax = sns.barplot(dist_by_day, x='Day of Week', y='Distance', palette=\"mako\")\n",
    "ax.bar_label(ax.containers[0], fontsize=10)\n",
    "ax.set(title=\"Total Distance Run for Each Day of Week\", ylabel=\"Distance (km)\")\n",
    "sns.color_palette(\"mako\", as_cmap=True)\n",
    "dist_by_day"
   ]
  },
  {
   "cell_type": "code",
   "execution_count": 86,
   "metadata": {},
   "outputs": [
    {
     "data": {
      "image/png": "[encoded data removed]",
      "text/html": [
       "<div style=\"vertical-align: middle;\"><strong>mako</strong> </div><div class=\"cmap\"><img alt=\"mako colormap\" title=\"mako\" style=\"border: 1px solid #555;\" src=\"data:image/png;base64,iVBORw0KGgoAAAANSUhEUgAAAgAAAABACAYAAABsv8+/AAAAE3RFWHRUaXRsZQBtYWtvIGNvbG9ybWFwf+ab6gAAABl0RVh0RGVzY3JpcHRpb24AbWFrbyBjb2xvcm1hcPRUC3IAAAAwdEVYdEF1dGhvcgBNYXRwbG90bGliIHYzLjcuMiwgaHR0cHM6Ly9tYXRwbG90bGliLm9yZx9CTh4AAAAydEVYdFNvZnR3YXJlAE1hdHBsb3RsaWIgdjMuNy4yLCBodHRwczovL21hdHBsb3RsaWIub3JnMeTROQAAAg1JREFUeJzt1juS2zAURcEHsBx5/+vVJJRcBAFDnPR2Jyx8SY0dnPb3+POqqmqtVVVVq/PZel3mP+vj/GK8vGcY7/Y9Xv/dubp91/xcLX//e30xv7h/nK9f3le3+97j+e/89zuu++7nh3urTedrcc9+/f/j12q9t2F9Pv7M93FfLe6rzb6az7f3/HVc13/G+/r2/vl7bs/+3b7l+7fnN+8fvv/r967uv90zP9++Pj/f1zbf0xb3rM618f4+Pzee38739t2+zbMP37Vcb69hfF1/+jwW46OG8fmi47ZvnG+P5vtt/vpcrY/z/fzDfdafzp/jfv4H7eN8u84fNZ9/es9yfwEAcQQAAAQSAAAQSAAAQCABAACBBAAABBIAABBIAABAIAEAAIEEAAAEEgAAEEgAAEAgAQAAgQQAAAQSAAAQSAAAQCABAACBBAAABBIAABBIAABAIAEAAIEEAAAEEgAAEEgAAEAgAQAAgQQAAAQSAAAQSAAAQCABAACBBAAABBIAABBIAABAIAEAAIEEAAAEEgAAEEgAAEAgAQAAgQQAAAQSAAAQSAAAQCABAACBBAAABBIAABBIAABAIAEAAIEEAAAEEgAAEEgAAEAgAQAAgQQAAAQSAAAQSAAAQCABAACBBAAABBIAABBIAABAIAEAAIEEAAAEEgAAEEgAAEAgAQAAgQQAAAQSAAAQ6AcTSxI150SdAwAAAABJRU5ErkJggg==\"></div><div style=\"vertical-align: middle; max-width: 514px; display: flex; justify-content: space-between;\"><div style=\"float: left;\"><div title=\"#0b0405ff\" style=\"display: inline-block; width: 1em; height: 1em; margin: 0; vertical-align: middle; border: 1px solid #555; background-color: #0b0405ff;\"></div> under</div><div style=\"margin: 0 auto; display: inline-block;\">bad <div title=\"#00000000\" style=\"display: inline-block; width: 1em; height: 1em; margin: 0; vertical-align: middle; border: 1px solid #555; background-color: #00000000;\"></div></div><div style=\"float: right;\">over <div title=\"#def5e5ff\" style=\"display: inline-block; width: 1em; height: 1em; margin: 0; vertical-align: middle; border: 1px solid #555; background-color: #def5e5ff;\"></div></div>"
      ],
      "text/plain": [
       "<matplotlib.colors.ListedColormap at 0x16be19650>"
      ]
     },
     "execution_count": 86,
     "metadata": {},
     "output_type": "execute_result"
    },
    {
     "data": {
      "image/png": "[encoded data removed]",
      "text/plain": [
       "<Figure size 640x480 with 1 Axes>"
      ]
     },
     "metadata": {},
     "output_type": "display_data"
    }
   ],
   "source": [
    "# FREQUENCY OF RUNS BY DAY OF WEEK\n",
    "freq_by_day = pd.DataFrame({'Day of Week': days, 'Frequency': df.groupby('dayofweek')['dayofweek'].count()})\n",
    "\n",
    "ax = sns.barplot(freq_by_day, x='Day of Week', y='Frequency', palette=\"mako\")\n",
    "ax.bar_label(ax.containers[0], fontsize=10)\n",
    "ax.set(title=\"Total Number of Runs for Each Day of Week\")\n",
    "sns.color_palette(\"mako\", as_cmap=True)\n"
   ]
  },
  {
   "cell_type": "code",
   "execution_count": 87,
   "metadata": {},
   "outputs": [
    {
     "ename": "ValueError",
     "evalue": "array length 5 does not match index length 8",
     "output_type": "error",
     "traceback": [
      "\u001b[0;31m---------------------------------------------------------------------------\u001b[0m",
      "\u001b[0;31mValueError\u001b[0m                                Traceback (most recent call last)",
      "Cell \u001b[0;32mIn[87], line 9\u001b[0m\n\u001b[1;32m      6\u001b[0m df3 \u001b[38;5;241m=\u001b[39m pd\u001b[38;5;241m.\u001b[39mDataFrame(\u001b[38;5;28mround\u001b[39m((df\u001b[38;5;241m.\u001b[39mgroupby(\u001b[38;5;124m'\u001b[39m\u001b[38;5;124mWeek\u001b[39m\u001b[38;5;124m'\u001b[39m)[\u001b[38;5;124m'\u001b[39m\u001b[38;5;124melapsed minutes\u001b[39m\u001b[38;5;124m'\u001b[39m]\u001b[38;5;241m.\u001b[39msum()\u001b[38;5;241m/\u001b[39m\u001b[38;5;241m60\u001b[39m), \u001b[38;5;241m1\u001b[39m))\n\u001b[1;32m      8\u001b[0m \u001b[38;5;66;03m# removed outlier weeks with only one activity\u001b[39;00m\n\u001b[0;32m----> 9\u001b[0m hrs_per_week \u001b[38;5;241m=\u001b[39m pd\u001b[38;5;241m.\u001b[39mDataFrame({\u001b[38;5;124m'\u001b[39m\u001b[38;5;124mWeek\u001b[39m\u001b[38;5;124m'\u001b[39m: week, \u001b[38;5;124m'\u001b[39m\u001b[38;5;124melapsed hours\u001b[39m\u001b[38;5;124m'\u001b[39m: df3[\u001b[38;5;124m'\u001b[39m\u001b[38;5;124melapsed minutes\u001b[39m\u001b[38;5;124m'\u001b[39m]})\u001b[38;5;241m.\u001b[39mdrop(index\u001b[38;5;241m=\u001b[39m[\u001b[38;5;241m2\u001b[39m,\u001b[38;5;241m15\u001b[39m,\u001b[38;5;241m52\u001b[39m])\n\u001b[1;32m     10\u001b[0m ax \u001b[38;5;241m=\u001b[39m sns\u001b[38;5;241m.\u001b[39mbarplot(hrs_per_week, y\u001b[38;5;241m=\u001b[39m\u001b[38;5;124m\"\u001b[39m\u001b[38;5;124mWeek\u001b[39m\u001b[38;5;124m\"\u001b[39m, x\u001b[38;5;241m=\u001b[39m\u001b[38;5;124m'\u001b[39m\u001b[38;5;124melapsed hours\u001b[39m\u001b[38;5;124m'\u001b[39m, palette\u001b[38;5;241m=\u001b[39m\u001b[38;5;124m'\u001b[39m\u001b[38;5;124mmako\u001b[39m\u001b[38;5;124m'\u001b[39m, orient\u001b[38;5;241m=\u001b[39m\u001b[38;5;124m'\u001b[39m\u001b[38;5;124mh\u001b[39m\u001b[38;5;124m'\u001b[39m)\n\u001b[1;32m     11\u001b[0m ax\u001b[38;5;241m.\u001b[39mbar_label(ax\u001b[38;5;241m.\u001b[39mcontainers[\u001b[38;5;241m0\u001b[39m], fontsize\u001b[38;5;241m=\u001b[39m\u001b[38;5;241m10\u001b[39m)\n",
      "File \u001b[0;32m~/anaconda3/lib/python3.11/site-packages/pandas/core/frame.py:709\u001b[0m, in \u001b[0;36mDataFrame.__init__\u001b[0;34m(self, data, index, columns, dtype, copy)\u001b[0m\n\u001b[1;32m    703\u001b[0m     mgr \u001b[38;5;241m=\u001b[39m \u001b[38;5;28mself\u001b[39m\u001b[38;5;241m.\u001b[39m_init_mgr(\n\u001b[1;32m    704\u001b[0m         data, axes\u001b[38;5;241m=\u001b[39m{\u001b[38;5;124m\"\u001b[39m\u001b[38;5;124mindex\u001b[39m\u001b[38;5;124m\"\u001b[39m: index, \u001b[38;5;124m\"\u001b[39m\u001b[38;5;124mcolumns\u001b[39m\u001b[38;5;124m\"\u001b[39m: columns}, dtype\u001b[38;5;241m=\u001b[39mdtype, copy\u001b[38;5;241m=\u001b[39mcopy\n\u001b[1;32m    705\u001b[0m     )\n\u001b[1;32m    707\u001b[0m \u001b[38;5;28;01melif\u001b[39;00m \u001b[38;5;28misinstance\u001b[39m(data, \u001b[38;5;28mdict\u001b[39m):\n\u001b[1;32m    708\u001b[0m     \u001b[38;5;66;03m# GH#38939 de facto copy defaults to False only in non-dict cases\u001b[39;00m\n\u001b[0;32m--> 709\u001b[0m     mgr \u001b[38;5;241m=\u001b[39m dict_to_mgr(data, index, columns, dtype\u001b[38;5;241m=\u001b[39mdtype, copy\u001b[38;5;241m=\u001b[39mcopy, typ\u001b[38;5;241m=\u001b[39mmanager)\n\u001b[1;32m    710\u001b[0m \u001b[38;5;28;01melif\u001b[39;00m \u001b[38;5;28misinstance\u001b[39m(data, ma\u001b[38;5;241m.\u001b[39mMaskedArray):\n\u001b[1;32m    711\u001b[0m     \u001b[38;5;28;01mfrom\u001b[39;00m \u001b[38;5;21;01mnumpy\u001b[39;00m\u001b[38;5;21;01m.\u001b[39;00m\u001b[38;5;21;01mma\u001b[39;00m \u001b[38;5;28;01mimport\u001b[39;00m mrecords\n",
      "File \u001b[0;32m~/anaconda3/lib/python3.11/site-packages/pandas/core/internals/construction.py:481\u001b[0m, in \u001b[0;36mdict_to_mgr\u001b[0;34m(data, index, columns, dtype, typ, copy)\u001b[0m\n\u001b[1;32m    477\u001b[0m     \u001b[38;5;28;01melse\u001b[39;00m:\n\u001b[1;32m    478\u001b[0m         \u001b[38;5;66;03m# dtype check to exclude e.g. range objects, scalars\u001b[39;00m\n\u001b[1;32m    479\u001b[0m         arrays \u001b[38;5;241m=\u001b[39m [x\u001b[38;5;241m.\u001b[39mcopy() \u001b[38;5;28;01mif\u001b[39;00m \u001b[38;5;28mhasattr\u001b[39m(x, \u001b[38;5;124m\"\u001b[39m\u001b[38;5;124mdtype\u001b[39m\u001b[38;5;124m\"\u001b[39m) \u001b[38;5;28;01melse\u001b[39;00m x \u001b[38;5;28;01mfor\u001b[39;00m x \u001b[38;5;129;01min\u001b[39;00m arrays]\n\u001b[0;32m--> 481\u001b[0m \u001b[38;5;28;01mreturn\u001b[39;00m arrays_to_mgr(arrays, columns, index, dtype\u001b[38;5;241m=\u001b[39mdtype, typ\u001b[38;5;241m=\u001b[39mtyp, consolidate\u001b[38;5;241m=\u001b[39mcopy)\n",
      "File \u001b[0;32m~/anaconda3/lib/python3.11/site-packages/pandas/core/internals/construction.py:115\u001b[0m, in \u001b[0;36marrays_to_mgr\u001b[0;34m(arrays, columns, index, dtype, verify_integrity, typ, consolidate)\u001b[0m\n\u001b[1;32m    112\u001b[0m \u001b[38;5;28;01mif\u001b[39;00m verify_integrity:\n\u001b[1;32m    113\u001b[0m     \u001b[38;5;66;03m# figure out the index, if necessary\u001b[39;00m\n\u001b[1;32m    114\u001b[0m     \u001b[38;5;28;01mif\u001b[39;00m index \u001b[38;5;129;01mis\u001b[39;00m \u001b[38;5;28;01mNone\u001b[39;00m:\n\u001b[0;32m--> 115\u001b[0m         index \u001b[38;5;241m=\u001b[39m _extract_index(arrays)\n\u001b[1;32m    116\u001b[0m     \u001b[38;5;28;01melse\u001b[39;00m:\n\u001b[1;32m    117\u001b[0m         index \u001b[38;5;241m=\u001b[39m ensure_index(index)\n",
      "File \u001b[0;32m~/anaconda3/lib/python3.11/site-packages/pandas/core/internals/construction.py:668\u001b[0m, in \u001b[0;36m_extract_index\u001b[0;34m(data)\u001b[0m\n\u001b[1;32m    663\u001b[0m     \u001b[38;5;28;01mif\u001b[39;00m lengths[\u001b[38;5;241m0\u001b[39m] \u001b[38;5;241m!=\u001b[39m \u001b[38;5;28mlen\u001b[39m(index):\n\u001b[1;32m    664\u001b[0m         msg \u001b[38;5;241m=\u001b[39m (\n\u001b[1;32m    665\u001b[0m             \u001b[38;5;124mf\u001b[39m\u001b[38;5;124m\"\u001b[39m\u001b[38;5;124marray length \u001b[39m\u001b[38;5;132;01m{\u001b[39;00mlengths[\u001b[38;5;241m0\u001b[39m]\u001b[38;5;132;01m}\u001b[39;00m\u001b[38;5;124m does not match index \u001b[39m\u001b[38;5;124m\"\u001b[39m\n\u001b[1;32m    666\u001b[0m             \u001b[38;5;124mf\u001b[39m\u001b[38;5;124m\"\u001b[39m\u001b[38;5;124mlength \u001b[39m\u001b[38;5;132;01m{\u001b[39;00m\u001b[38;5;28mlen\u001b[39m(index)\u001b[38;5;132;01m}\u001b[39;00m\u001b[38;5;124m\"\u001b[39m\n\u001b[1;32m    667\u001b[0m         )\n\u001b[0;32m--> 668\u001b[0m         \u001b[38;5;28;01mraise\u001b[39;00m \u001b[38;5;167;01mValueError\u001b[39;00m(msg)\n\u001b[1;32m    669\u001b[0m \u001b[38;5;28;01melse\u001b[39;00m:\n\u001b[1;32m    670\u001b[0m     index \u001b[38;5;241m=\u001b[39m default_index(lengths[\u001b[38;5;241m0\u001b[39m])\n",
      "\u001b[0;31mValueError\u001b[0m: array length 5 does not match index length 8"
     ]
    }
   ],
   "source": [
    "# TOTAL HOURS RUN PER WEEK\n",
    "\n",
    "# how does datetime define a week?\n",
    "df['Week'] = df['activity_date'].dt.isocalendar().week\n",
    "week = ['1', '2', '3', '4', '5']\n",
    "df3 = pd.DataFrame(round((df.groupby('Week')['elapsed minutes'].sum()/60), 1))\n",
    "\n",
    "# removed outlier weeks with only one activity\n",
    "hrs_per_week = pd.DataFrame({'Week': week, 'elapsed hours': df3['elapsed minutes']}).drop(index=[2,15,52])\n",
    "ax = sns.barplot(hrs_per_week, y=\"Week\", x='elapsed hours', palette='mako', orient='h')\n",
    "ax.bar_label(ax.containers[0], fontsize=10)\n",
    "ax.set(title=\"Training Hours Per Week\", xlabel=\"Elapsed Hours\")\n",
    "hrs_per_week\n",
    "\n",
    "\n"
   ]
  },
  {
   "cell_type": "code",
   "execution_count": null,
   "metadata": {},
   "outputs": [
    {
     "data": {
      "text/plain": [
       "<Axes: xlabel='start_date', ylabel='distance'>"
      ]
     },
     "execution_count": 298,
     "metadata": {},
     "output_type": "execute_result"
    },
    {
     "data": {
      "image/png": "[encoded data removed]",
      "text/plain": [
       "<Figure size 640x480 with 1 Axes>"
      ]
     },
     "metadata": {},
     "output_type": "display_data"
    }
   ],
   "source": [
    "# TOTAL DISTANCE RUN PER DAY\n",
    "\n",
    "dist_activity = df.loc['2024-05-01':]\n",
    "sns.lineplot(dist_activity, x=\"start_date\", y='distance', markers=['o'],)\n",
    "\n"
   ]
  },
  {
   "cell_type": "markdown",
   "metadata": {},
   "source": []
  },
  {
   "cell_type": "markdown",
   "metadata": {},
   "source": [
    "#### DATAFRAMES FOR EACH DISTANCE TYPE"
   ]
  },
  {
   "cell_type": "code",
   "execution_count": null,
   "metadata": {},
   "outputs": [
    {
     "data": {
      "text/html": [
       "<div>\n",
       "<style scoped>\n",
       "    .dataframe tbody tr th:only-of-type {\n",
       "        vertical-align: middle;\n",
       "    }\n",
       "\n",
       "    .dataframe tbody tr th {\n",
       "        vertical-align: top;\n",
       "    }\n",
       "\n",
       "    .dataframe thead th {\n",
       "        text-align: right;\n",
       "    }\n",
       "</style>\n",
       "<table border=\"1\" class=\"dataframe\">\n",
       "  <thead>\n",
       "    <tr style=\"text-align: right;\">\n",
       "      <th></th>\n",
       "      <th>activity id</th>\n",
       "      <th>activity date</th>\n",
       "      <th>activity name</th>\n",
       "      <th>activity type</th>\n",
       "      <th>elapsed time</th>\n",
       "      <th>moving time</th>\n",
       "      <th>distance</th>\n",
       "      <th>max heart rate</th>\n",
       "      <th>elevation gain</th>\n",
       "      <th>max speed</th>\n",
       "      <th>...</th>\n",
       "      <th>start_time</th>\n",
       "      <th>start_date</th>\n",
       "      <th>month</th>\n",
       "      <th>year</th>\n",
       "      <th>dayofyear</th>\n",
       "      <th>dayofweek</th>\n",
       "      <th>elapsed minutes</th>\n",
       "      <th>km per hour</th>\n",
       "      <th>avg pace</th>\n",
       "      <th>Week</th>\n",
       "    </tr>\n",
       "  </thead>\n",
       "  <tbody>\n",
       "    <tr>\n",
       "      <th>2</th>\n",
       "      <td>11470243052</td>\n",
       "      <td>21 May 2024, 21:53:08</td>\n",
       "      <td>Running</td>\n",
       "      <td>Run</td>\n",
       "      <td>658</td>\n",
       "      <td>647.0</td>\n",
       "      <td>1.59</td>\n",
       "      <td>198.0</td>\n",
       "      <td>0.0</td>\n",
       "      <td>3.890000</td>\n",
       "      <td>...</td>\n",
       "      <td>21:53:08</td>\n",
       "      <td>2024-05-21</td>\n",
       "      <td>May</td>\n",
       "      <td>2024</td>\n",
       "      <td>142</td>\n",
       "      <td>1</td>\n",
       "      <td>10.97</td>\n",
       "      <td>8.70</td>\n",
       "      <td>6.90</td>\n",
       "      <td>21</td>\n",
       "    </tr>\n",
       "    <tr>\n",
       "      <th>10</th>\n",
       "      <td>11476585894</td>\n",
       "      <td>23 May 2024, 06:42:24</td>\n",
       "      <td>Afternoon Run</td>\n",
       "      <td>Run</td>\n",
       "      <td>374</td>\n",
       "      <td>374.0</td>\n",
       "      <td>1.05</td>\n",
       "      <td>203.0</td>\n",
       "      <td>10.6</td>\n",
       "      <td>4.338000</td>\n",
       "      <td>...</td>\n",
       "      <td>06:42:24</td>\n",
       "      <td>2024-05-23</td>\n",
       "      <td>May</td>\n",
       "      <td>2024</td>\n",
       "      <td>144</td>\n",
       "      <td>3</td>\n",
       "      <td>6.23</td>\n",
       "      <td>10.11</td>\n",
       "      <td>5.93</td>\n",
       "      <td>21</td>\n",
       "    </tr>\n",
       "    <tr>\n",
       "      <th>11</th>\n",
       "      <td>11490128286</td>\n",
       "      <td>25 May 2024, 02:09:16</td>\n",
       "      <td>Lunch Run</td>\n",
       "      <td>Run</td>\n",
       "      <td>586</td>\n",
       "      <td>455.0</td>\n",
       "      <td>1.19</td>\n",
       "      <td>200.0</td>\n",
       "      <td>13.4</td>\n",
       "      <td>3.638000</td>\n",
       "      <td>...</td>\n",
       "      <td>02:09:16</td>\n",
       "      <td>2024-05-25</td>\n",
       "      <td>May</td>\n",
       "      <td>2024</td>\n",
       "      <td>146</td>\n",
       "      <td>5</td>\n",
       "      <td>9.77</td>\n",
       "      <td>7.31</td>\n",
       "      <td>8.21</td>\n",
       "      <td>21</td>\n",
       "    </tr>\n",
       "    <tr>\n",
       "      <th>17</th>\n",
       "      <td>11513656106</td>\n",
       "      <td>28 May 2024, 00:58:41</td>\n",
       "      <td>Nike Run Club: 7 Weeks to Go - Recovery Run</td>\n",
       "      <td>Run</td>\n",
       "      <td>988</td>\n",
       "      <td>875.0</td>\n",
       "      <td>1.84</td>\n",
       "      <td>179.0</td>\n",
       "      <td>18.0</td>\n",
       "      <td>4.016667</td>\n",
       "      <td>...</td>\n",
       "      <td>00:58:41</td>\n",
       "      <td>2024-05-28</td>\n",
       "      <td>May</td>\n",
       "      <td>2024</td>\n",
       "      <td>149</td>\n",
       "      <td>1</td>\n",
       "      <td>16.47</td>\n",
       "      <td>6.70</td>\n",
       "      <td>8.95</td>\n",
       "      <td>22</td>\n",
       "    </tr>\n",
       "  </tbody>\n",
       "</table>\n",
       "<p>4 rows × 22 columns</p>\n",
       "</div>"
      ],
      "text/plain": [
       "    activity id          activity date  \\\n",
       "2   11470243052  21 May 2024, 21:53:08   \n",
       "10  11476585894  23 May 2024, 06:42:24   \n",
       "11  11490128286  25 May 2024, 02:09:16   \n",
       "17  11513656106  28 May 2024, 00:58:41   \n",
       "\n",
       "                                  activity name activity type  elapsed time  \\\n",
       "2                                       Running           Run           658   \n",
       "10                                Afternoon Run           Run           374   \n",
       "11                                    Lunch Run           Run           586   \n",
       "17  Nike Run Club: 7 Weeks to Go - Recovery Run           Run           988   \n",
       "\n",
       "    moving time  distance  max heart rate  elevation gain  max speed  ...  \\\n",
       "2         647.0      1.59           198.0             0.0   3.890000  ...   \n",
       "10        374.0      1.05           203.0            10.6   4.338000  ...   \n",
       "11        455.0      1.19           200.0            13.4   3.638000  ...   \n",
       "17        875.0      1.84           179.0            18.0   4.016667  ...   \n",
       "\n",
       "    start_time  start_date month  year dayofyear  dayofweek  elapsed minutes  \\\n",
       "2     21:53:08  2024-05-21   May  2024       142          1            10.97   \n",
       "10    06:42:24  2024-05-23   May  2024       144          3             6.23   \n",
       "11    02:09:16  2024-05-25   May  2024       146          5             9.77   \n",
       "17    00:58:41  2024-05-28   May  2024       149          1            16.47   \n",
       "\n",
       "    km per hour  avg pace  Week  \n",
       "2          8.70      6.90    21  \n",
       "10        10.11      5.93    21  \n",
       "11         7.31      8.21    21  \n",
       "17         6.70      8.95    22  \n",
       "\n",
       "[4 rows x 22 columns]"
      ]
     },
     "execution_count": 299,
     "metadata": {},
     "output_type": "execute_result"
    }
   ],
   "source": [
    "# 1KM DATAFRAME\n",
    "\n",
    "runs_1k = df.query('1 <= distance < 2')\n",
    "runs_1k = runs_1k.loc[runs_1k['activity type'] == 'Run']\n",
    "runs_1k"
   ]
  },
  {
   "cell_type": "code",
   "execution_count": null,
   "metadata": {},
   "outputs": [
    {
     "data": {
      "text/html": [
       "<div>\n",
       "<style scoped>\n",
       "    .dataframe tbody tr th:only-of-type {\n",
       "        vertical-align: middle;\n",
       "    }\n",
       "\n",
       "    .dataframe tbody tr th {\n",
       "        vertical-align: top;\n",
       "    }\n",
       "\n",
       "    .dataframe thead th {\n",
       "        text-align: right;\n",
       "    }\n",
       "</style>\n",
       "<table border=\"1\" class=\"dataframe\">\n",
       "  <thead>\n",
       "    <tr style=\"text-align: right;\">\n",
       "      <th></th>\n",
       "      <th>activity id</th>\n",
       "      <th>activity date</th>\n",
       "      <th>activity name</th>\n",
       "      <th>activity type</th>\n",
       "      <th>elapsed time</th>\n",
       "      <th>moving time</th>\n",
       "      <th>distance</th>\n",
       "      <th>max heart rate</th>\n",
       "      <th>elevation gain</th>\n",
       "      <th>max speed</th>\n",
       "      <th>...</th>\n",
       "      <th>start_time</th>\n",
       "      <th>start_date</th>\n",
       "      <th>month</th>\n",
       "      <th>year</th>\n",
       "      <th>dayofyear</th>\n",
       "      <th>dayofweek</th>\n",
       "      <th>elapsed minutes</th>\n",
       "      <th>km per hour</th>\n",
       "      <th>avg pace</th>\n",
       "      <th>Week</th>\n",
       "    </tr>\n",
       "  </thead>\n",
       "  <tbody>\n",
       "    <tr>\n",
       "      <th>1</th>\n",
       "      <td>11470039023</td>\n",
       "      <td>21 May 2024, 00:48:20</td>\n",
       "      <td>Morning Run</td>\n",
       "      <td>Run</td>\n",
       "      <td>1386</td>\n",
       "      <td>1374.0</td>\n",
       "      <td>3.05</td>\n",
       "      <td>201.0</td>\n",
       "      <td>40.599998</td>\n",
       "      <td>3.105999</td>\n",
       "      <td>...</td>\n",
       "      <td>00:48:20</td>\n",
       "      <td>2024-05-21</td>\n",
       "      <td>May</td>\n",
       "      <td>2024</td>\n",
       "      <td>142</td>\n",
       "      <td>1</td>\n",
       "      <td>23.10</td>\n",
       "      <td>7.92</td>\n",
       "      <td>7.57</td>\n",
       "      <td>21</td>\n",
       "    </tr>\n",
       "    <tr>\n",
       "      <th>14</th>\n",
       "      <td>11498777386</td>\n",
       "      <td>26 May 2024, 06:30:01</td>\n",
       "      <td>Afternoon Run</td>\n",
       "      <td>Run</td>\n",
       "      <td>1452</td>\n",
       "      <td>1392.0</td>\n",
       "      <td>3.20</td>\n",
       "      <td>194.0</td>\n",
       "      <td>25.200001</td>\n",
       "      <td>7.267999</td>\n",
       "      <td>...</td>\n",
       "      <td>06:30:01</td>\n",
       "      <td>2024-05-26</td>\n",
       "      <td>May</td>\n",
       "      <td>2024</td>\n",
       "      <td>147</td>\n",
       "      <td>6</td>\n",
       "      <td>24.20</td>\n",
       "      <td>7.93</td>\n",
       "      <td>7.56</td>\n",
       "      <td>21</td>\n",
       "    </tr>\n",
       "    <tr>\n",
       "      <th>15</th>\n",
       "      <td>11498781598</td>\n",
       "      <td>26 May 2024, 06:30:51</td>\n",
       "      <td>Nike Run Club: 8 Weeks to Go - Recovery Run</td>\n",
       "      <td>Run</td>\n",
       "      <td>1430</td>\n",
       "      <td>1321.0</td>\n",
       "      <td>3.06</td>\n",
       "      <td>194.0</td>\n",
       "      <td>33.000000</td>\n",
       "      <td>4.883333</td>\n",
       "      <td>...</td>\n",
       "      <td>06:30:51</td>\n",
       "      <td>2024-05-26</td>\n",
       "      <td>May</td>\n",
       "      <td>2024</td>\n",
       "      <td>147</td>\n",
       "      <td>6</td>\n",
       "      <td>23.83</td>\n",
       "      <td>7.70</td>\n",
       "      <td>7.79</td>\n",
       "      <td>21</td>\n",
       "    </tr>\n",
       "    <tr>\n",
       "      <th>24</th>\n",
       "      <td>11551802058</td>\n",
       "      <td>2 Jun 2024, 00:57:07</td>\n",
       "      <td>Nike Run Club: 7 Weeks to Go - Recovery Run</td>\n",
       "      <td>Run</td>\n",
       "      <td>1753</td>\n",
       "      <td>1504.0</td>\n",
       "      <td>3.44</td>\n",
       "      <td>184.0</td>\n",
       "      <td>28.000000</td>\n",
       "      <td>3.583333</td>\n",
       "      <td>...</td>\n",
       "      <td>00:57:07</td>\n",
       "      <td>2024-06-02</td>\n",
       "      <td>June</td>\n",
       "      <td>2024</td>\n",
       "      <td>154</td>\n",
       "      <td>6</td>\n",
       "      <td>29.22</td>\n",
       "      <td>7.06</td>\n",
       "      <td>8.49</td>\n",
       "      <td>22</td>\n",
       "    </tr>\n",
       "    <tr>\n",
       "      <th>28</th>\n",
       "      <td>11585126344</td>\n",
       "      <td>6 Jun 2024, 04:19:42</td>\n",
       "      <td>Nike Run Club: 6 Weeks to Go - Recovery Run</td>\n",
       "      <td>Run</td>\n",
       "      <td>1616</td>\n",
       "      <td>1510.0</td>\n",
       "      <td>3.50</td>\n",
       "      <td>190.0</td>\n",
       "      <td>33.000000</td>\n",
       "      <td>4.040000</td>\n",
       "      <td>...</td>\n",
       "      <td>04:19:42</td>\n",
       "      <td>2024-06-06</td>\n",
       "      <td>June</td>\n",
       "      <td>2024</td>\n",
       "      <td>158</td>\n",
       "      <td>3</td>\n",
       "      <td>26.93</td>\n",
       "      <td>7.80</td>\n",
       "      <td>7.69</td>\n",
       "      <td>23</td>\n",
       "    </tr>\n",
       "    <tr>\n",
       "      <th>30</th>\n",
       "      <td>11599836517</td>\n",
       "      <td>8 Jun 2024, 02:08:19</td>\n",
       "      <td>Lunch Run</td>\n",
       "      <td>Run</td>\n",
       "      <td>1617</td>\n",
       "      <td>1581.0</td>\n",
       "      <td>3.76</td>\n",
       "      <td>186.0</td>\n",
       "      <td>40.800003</td>\n",
       "      <td>3.402002</td>\n",
       "      <td>...</td>\n",
       "      <td>02:08:19</td>\n",
       "      <td>2024-06-08</td>\n",
       "      <td>June</td>\n",
       "      <td>2024</td>\n",
       "      <td>160</td>\n",
       "      <td>5</td>\n",
       "      <td>26.95</td>\n",
       "      <td>8.37</td>\n",
       "      <td>7.17</td>\n",
       "      <td>23</td>\n",
       "    </tr>\n",
       "  </tbody>\n",
       "</table>\n",
       "<p>6 rows × 22 columns</p>\n",
       "</div>"
      ],
      "text/plain": [
       "    activity id          activity date  \\\n",
       "1   11470039023  21 May 2024, 00:48:20   \n",
       "14  11498777386  26 May 2024, 06:30:01   \n",
       "15  11498781598  26 May 2024, 06:30:51   \n",
       "24  11551802058   2 Jun 2024, 00:57:07   \n",
       "28  11585126344   6 Jun 2024, 04:19:42   \n",
       "30  11599836517   8 Jun 2024, 02:08:19   \n",
       "\n",
       "                                  activity name activity type  elapsed time  \\\n",
       "1                                   Morning Run           Run          1386   \n",
       "14                                Afternoon Run           Run          1452   \n",
       "15  Nike Run Club: 8 Weeks to Go - Recovery Run           Run          1430   \n",
       "24  Nike Run Club: 7 Weeks to Go - Recovery Run           Run          1753   \n",
       "28  Nike Run Club: 6 Weeks to Go - Recovery Run           Run          1616   \n",
       "30                                    Lunch Run           Run          1617   \n",
       "\n",
       "    moving time  distance  max heart rate  elevation gain  max speed  ...  \\\n",
       "1        1374.0      3.05           201.0       40.599998   3.105999  ...   \n",
       "14       1392.0      3.20           194.0       25.200001   7.267999  ...   \n",
       "15       1321.0      3.06           194.0       33.000000   4.883333  ...   \n",
       "24       1504.0      3.44           184.0       28.000000   3.583333  ...   \n",
       "28       1510.0      3.50           190.0       33.000000   4.040000  ...   \n",
       "30       1581.0      3.76           186.0       40.800003   3.402002  ...   \n",
       "\n",
       "    start_time  start_date month  year dayofyear  dayofweek  elapsed minutes  \\\n",
       "1     00:48:20  2024-05-21   May  2024       142          1            23.10   \n",
       "14    06:30:01  2024-05-26   May  2024       147          6            24.20   \n",
       "15    06:30:51  2024-05-26   May  2024       147          6            23.83   \n",
       "24    00:57:07  2024-06-02  June  2024       154          6            29.22   \n",
       "28    04:19:42  2024-06-06  June  2024       158          3            26.93   \n",
       "30    02:08:19  2024-06-08  June  2024       160          5            26.95   \n",
       "\n",
       "    km per hour  avg pace  Week  \n",
       "1          7.92      7.57    21  \n",
       "14         7.93      7.56    21  \n",
       "15         7.70      7.79    21  \n",
       "24         7.06      8.49    22  \n",
       "28         7.80      7.69    23  \n",
       "30         8.37      7.17    23  \n",
       "\n",
       "[6 rows x 22 columns]"
      ]
     },
     "execution_count": 300,
     "metadata": {},
     "output_type": "execute_result"
    }
   ],
   "source": [
    "# 3KM DATAFRAME\n",
    "\n",
    "# runs_3k = df.loc[(df['distance'] >= 3) & (df['distance'] <= 4)]\n",
    "runs_3k = df.query('3 <= distance < 4').sort_values(by='start_date', ascending=True)\n",
    "runs_3k = runs_3k.loc[runs_3k['activity type'] == 'Run'].drop(index=[6,7])\n",
    "runs_3k"
   ]
  },
  {
   "cell_type": "code",
   "execution_count": null,
   "metadata": {},
   "outputs": [
    {
     "data": {
      "text/html": [
       "<div>\n",
       "<style scoped>\n",
       "    .dataframe tbody tr th:only-of-type {\n",
       "        vertical-align: middle;\n",
       "    }\n",
       "\n",
       "    .dataframe tbody tr th {\n",
       "        vertical-align: top;\n",
       "    }\n",
       "\n",
       "    .dataframe thead th {\n",
       "        text-align: right;\n",
       "    }\n",
       "</style>\n",
       "<table border=\"1\" class=\"dataframe\">\n",
       "  <thead>\n",
       "    <tr style=\"text-align: right;\">\n",
       "      <th></th>\n",
       "      <th>activity id</th>\n",
       "      <th>activity date</th>\n",
       "      <th>activity name</th>\n",
       "      <th>activity type</th>\n",
       "      <th>elapsed time</th>\n",
       "      <th>moving time</th>\n",
       "      <th>distance</th>\n",
       "      <th>max heart rate</th>\n",
       "      <th>elevation gain</th>\n",
       "      <th>max speed</th>\n",
       "      <th>...</th>\n",
       "      <th>start_time</th>\n",
       "      <th>start_date</th>\n",
       "      <th>month</th>\n",
       "      <th>year</th>\n",
       "      <th>dayofyear</th>\n",
       "      <th>dayofweek</th>\n",
       "      <th>elapsed minutes</th>\n",
       "      <th>km per hour</th>\n",
       "      <th>avg pace</th>\n",
       "      <th>Week</th>\n",
       "    </tr>\n",
       "  </thead>\n",
       "  <tbody>\n",
       "    <tr>\n",
       "      <th>23</th>\n",
       "      <td>11551681161</td>\n",
       "      <td>2 Jun 2024, 00:11:56</td>\n",
       "      <td>Nike Run Club: 7 Weeks to Go - Long Run</td>\n",
       "      <td>Run</td>\n",
       "      <td>2485</td>\n",
       "      <td>2258.0</td>\n",
       "      <td>5.03</td>\n",
       "      <td>192.0</td>\n",
       "      <td>58.0</td>\n",
       "      <td>3.900000</td>\n",
       "      <td>...</td>\n",
       "      <td>00:11:56</td>\n",
       "      <td>2024-06-02</td>\n",
       "      <td>June</td>\n",
       "      <td>2024</td>\n",
       "      <td>154</td>\n",
       "      <td>6</td>\n",
       "      <td>41.42</td>\n",
       "      <td>7.29</td>\n",
       "      <td>8.23</td>\n",
       "      <td>22</td>\n",
       "    </tr>\n",
       "    <tr>\n",
       "      <th>27</th>\n",
       "      <td>11576211014</td>\n",
       "      <td>5 Jun 2024, 01:03:15</td>\n",
       "      <td>Nike Run Club: 6 Weeks to Go - Recovery Run</td>\n",
       "      <td>Run</td>\n",
       "      <td>2344</td>\n",
       "      <td>2219.0</td>\n",
       "      <td>5.00</td>\n",
       "      <td>188.0</td>\n",
       "      <td>44.0</td>\n",
       "      <td>3.553333</td>\n",
       "      <td>...</td>\n",
       "      <td>01:03:15</td>\n",
       "      <td>2024-06-05</td>\n",
       "      <td>June</td>\n",
       "      <td>2024</td>\n",
       "      <td>157</td>\n",
       "      <td>2</td>\n",
       "      <td>39.07</td>\n",
       "      <td>7.68</td>\n",
       "      <td>7.81</td>\n",
       "      <td>23</td>\n",
       "    </tr>\n",
       "    <tr>\n",
       "      <th>31</th>\n",
       "      <td>11677993982</td>\n",
       "      <td>18 Jun 2024, 03:19:44</td>\n",
       "      <td>Nike Run Club: 5 Weeks to Go - Recovery Run</td>\n",
       "      <td>Run</td>\n",
       "      <td>1944</td>\n",
       "      <td>1941.0</td>\n",
       "      <td>5.03</td>\n",
       "      <td>202.0</td>\n",
       "      <td>46.0</td>\n",
       "      <td>3.955957</td>\n",
       "      <td>...</td>\n",
       "      <td>03:19:44</td>\n",
       "      <td>2024-06-18</td>\n",
       "      <td>June</td>\n",
       "      <td>2024</td>\n",
       "      <td>170</td>\n",
       "      <td>1</td>\n",
       "      <td>32.40</td>\n",
       "      <td>9.31</td>\n",
       "      <td>6.44</td>\n",
       "      <td>25</td>\n",
       "    </tr>\n",
       "  </tbody>\n",
       "</table>\n",
       "<p>3 rows × 22 columns</p>\n",
       "</div>"
      ],
      "text/plain": [
       "    activity id          activity date  \\\n",
       "23  11551681161   2 Jun 2024, 00:11:56   \n",
       "27  11576211014   5 Jun 2024, 01:03:15   \n",
       "31  11677993982  18 Jun 2024, 03:19:44   \n",
       "\n",
       "                                  activity name activity type  elapsed time  \\\n",
       "23      Nike Run Club: 7 Weeks to Go - Long Run           Run          2485   \n",
       "27  Nike Run Club: 6 Weeks to Go - Recovery Run           Run          2344   \n",
       "31  Nike Run Club: 5 Weeks to Go - Recovery Run           Run          1944   \n",
       "\n",
       "    moving time  distance  max heart rate  elevation gain  max speed  ...  \\\n",
       "23       2258.0      5.03           192.0            58.0   3.900000  ...   \n",
       "27       2219.0      5.00           188.0            44.0   3.553333  ...   \n",
       "31       1941.0      5.03           202.0            46.0   3.955957  ...   \n",
       "\n",
       "    start_time  start_date month  year dayofyear  dayofweek  elapsed minutes  \\\n",
       "23    00:11:56  2024-06-02  June  2024       154          6            41.42   \n",
       "27    01:03:15  2024-06-05  June  2024       157          2            39.07   \n",
       "31    03:19:44  2024-06-18  June  2024       170          1            32.40   \n",
       "\n",
       "    km per hour  avg pace  Week  \n",
       "23         7.29      8.23    22  \n",
       "27         7.68      7.81    23  \n",
       "31         9.31      6.44    25  \n",
       "\n",
       "[3 rows x 22 columns]"
      ]
     },
     "execution_count": 301,
     "metadata": {},
     "output_type": "execute_result"
    }
   ],
   "source": [
    "# 5 KM DATAFRAME\n",
    "runs_5k = df.query('5 <= distance < 6').sort_values(by='start_date', ascending=True)\n",
    "runs_5k = runs_5k.loc[runs_5k['activity type'] == 'Run']\n",
    "runs_5k\n"
   ]
  },
  {
   "cell_type": "markdown",
   "metadata": {},
   "source": [
    "#### DATAFRAMES BY RUN TYPE (RECOVERY, SPEED, LONGRUN) "
   ]
  },
  {
   "cell_type": "code",
   "execution_count": null,
   "metadata": {},
   "outputs": [
    {
     "data": {
      "text/html": [
       "<div>\n",
       "<style scoped>\n",
       "    .dataframe tbody tr th:only-of-type {\n",
       "        vertical-align: middle;\n",
       "    }\n",
       "\n",
       "    .dataframe tbody tr th {\n",
       "        vertical-align: top;\n",
       "    }\n",
       "\n",
       "    .dataframe thead th {\n",
       "        text-align: right;\n",
       "    }\n",
       "</style>\n",
       "<table border=\"1\" class=\"dataframe\">\n",
       "  <thead>\n",
       "    <tr style=\"text-align: right;\">\n",
       "      <th></th>\n",
       "      <th>activity id</th>\n",
       "      <th>activity date</th>\n",
       "      <th>activity name</th>\n",
       "      <th>activity type</th>\n",
       "      <th>elapsed time</th>\n",
       "      <th>moving time</th>\n",
       "      <th>distance</th>\n",
       "      <th>max heart rate</th>\n",
       "      <th>elevation gain</th>\n",
       "      <th>max speed</th>\n",
       "      <th>...</th>\n",
       "      <th>start_time</th>\n",
       "      <th>start_date</th>\n",
       "      <th>month</th>\n",
       "      <th>year</th>\n",
       "      <th>dayofyear</th>\n",
       "      <th>dayofweek</th>\n",
       "      <th>elapsed minutes</th>\n",
       "      <th>km per hour</th>\n",
       "      <th>avg pace</th>\n",
       "      <th>Week</th>\n",
       "    </tr>\n",
       "  </thead>\n",
       "  <tbody>\n",
       "    <tr>\n",
       "      <th>9</th>\n",
       "      <td>11476534443</td>\n",
       "      <td>23 May 2024, 06:10:14</td>\n",
       "      <td>Nike Run Club: First \\nSpeed Run</td>\n",
       "      <td>Run</td>\n",
       "      <td>1617</td>\n",
       "      <td>810.0</td>\n",
       "      <td>2.27</td>\n",
       "      <td>155.0</td>\n",
       "      <td>28.0</td>\n",
       "      <td>4.752002</td>\n",
       "      <td>...</td>\n",
       "      <td>06:10:14</td>\n",
       "      <td>2024-05-23</td>\n",
       "      <td>May</td>\n",
       "      <td>2024</td>\n",
       "      <td>144</td>\n",
       "      <td>3</td>\n",
       "      <td>26.95</td>\n",
       "      <td>5.05</td>\n",
       "      <td>11.87</td>\n",
       "      <td>21</td>\n",
       "    </tr>\n",
       "    <tr>\n",
       "      <th>25</th>\n",
       "      <td>11559938586</td>\n",
       "      <td>2 Jun 2024, 23:41:16</td>\n",
       "      <td>Nike Run Club: A New Run</td>\n",
       "      <td>Run</td>\n",
       "      <td>1529</td>\n",
       "      <td>1500.0</td>\n",
       "      <td>2.85</td>\n",
       "      <td>169.0</td>\n",
       "      <td>26.0</td>\n",
       "      <td>2.866016</td>\n",
       "      <td>...</td>\n",
       "      <td>23:41:16</td>\n",
       "      <td>2024-06-02</td>\n",
       "      <td>June</td>\n",
       "      <td>2024</td>\n",
       "      <td>154</td>\n",
       "      <td>6</td>\n",
       "      <td>25.48</td>\n",
       "      <td>6.71</td>\n",
       "      <td>8.94</td>\n",
       "      <td>22</td>\n",
       "    </tr>\n",
       "  </tbody>\n",
       "</table>\n",
       "<p>2 rows × 22 columns</p>\n",
       "</div>"
      ],
      "text/plain": [
       "    activity id          activity date                     activity name  \\\n",
       "9   11476534443  23 May 2024, 06:10:14  Nike Run Club: First \\nSpeed Run   \n",
       "25  11559938586   2 Jun 2024, 23:41:16          Nike Run Club: A New Run   \n",
       "\n",
       "   activity type  elapsed time  moving time  distance  max heart rate  \\\n",
       "9            Run          1617        810.0      2.27           155.0   \n",
       "25           Run          1529       1500.0      2.85           169.0   \n",
       "\n",
       "    elevation gain  max speed  ...  start_time  start_date month  year  \\\n",
       "9             28.0   4.752002  ...    06:10:14  2024-05-23   May  2024   \n",
       "25            26.0   2.866016  ...    23:41:16  2024-06-02  June  2024   \n",
       "\n",
       "   dayofyear  dayofweek  elapsed minutes  km per hour  avg pace  Week  \n",
       "9        144          3            26.95         5.05     11.87    21  \n",
       "25       154          6            25.48         6.71      8.94    22  \n",
       "\n",
       "[2 rows x 22 columns]"
      ]
     },
     "execution_count": 302,
     "metadata": {},
     "output_type": "execute_result"
    }
   ],
   "source": [
    "# DATAFRAMES BY RUN TYPE\n",
    "recovery_runs = df[df[\"activity name\"].str.contains(\"Recovery\")]\n",
    "speed_runs = df[df[\"activity name\"].str.contains(\"Speed\")]\n",
    "long_runs = df[df[\"activity name\"].str.contains(\"Long\")]\n",
    "zone2_runs = df[(df[\"max heart rate\"] <= 170) & (df[\"activity type\"] == 'Run')]\n",
    "zone2_runs\n"
   ]
  },
  {
   "cell_type": "code",
   "execution_count": null,
   "metadata": {},
   "outputs": [
    {
     "data": {
      "text/html": [
       "<div>\n",
       "<style scoped>\n",
       "    .dataframe tbody tr th:only-of-type {\n",
       "        vertical-align: middle;\n",
       "    }\n",
       "\n",
       "    .dataframe tbody tr th {\n",
       "        vertical-align: top;\n",
       "    }\n",
       "\n",
       "    .dataframe thead th {\n",
       "        text-align: right;\n",
       "    }\n",
       "</style>\n",
       "<table border=\"1\" class=\"dataframe\">\n",
       "  <thead>\n",
       "    <tr style=\"text-align: right;\">\n",
       "      <th></th>\n",
       "      <th>activity id</th>\n",
       "      <th>activity date</th>\n",
       "      <th>activity name</th>\n",
       "      <th>activity type</th>\n",
       "      <th>elapsed time</th>\n",
       "      <th>moving time</th>\n",
       "      <th>distance</th>\n",
       "      <th>max heart rate</th>\n",
       "      <th>elevation gain</th>\n",
       "      <th>max speed</th>\n",
       "      <th>...</th>\n",
       "      <th>start_date</th>\n",
       "      <th>month</th>\n",
       "      <th>year</th>\n",
       "      <th>dayofyear</th>\n",
       "      <th>dayofweek</th>\n",
       "      <th>elapsed minutes</th>\n",
       "      <th>km per hour</th>\n",
       "      <th>avg pace</th>\n",
       "      <th>Week</th>\n",
       "      <th>run type</th>\n",
       "    </tr>\n",
       "  </thead>\n",
       "  <tbody>\n",
       "    <tr>\n",
       "      <th>0</th>\n",
       "      <td>11470038800</td>\n",
       "      <td>22 May 2024, 08:19:26</td>\n",
       "      <td>Evening Walk</td>\n",
       "      <td>Walk</td>\n",
       "      <td>1266</td>\n",
       "      <td>1164.0</td>\n",
       "      <td>3.01</td>\n",
       "      <td>143.000000</td>\n",
       "      <td>28.600000</td>\n",
       "      <td>3.080005</td>\n",
       "      <td>...</td>\n",
       "      <td>2024-05-22</td>\n",
       "      <td>5</td>\n",
       "      <td>2024</td>\n",
       "      <td>143</td>\n",
       "      <td>2</td>\n",
       "      <td>21.10</td>\n",
       "      <td>8.56</td>\n",
       "      <td>7.01</td>\n",
       "      <td>21</td>\n",
       "      <td>zone 2 run</td>\n",
       "    </tr>\n",
       "    <tr>\n",
       "      <th>1</th>\n",
       "      <td>11470039023</td>\n",
       "      <td>21 May 2024, 00:48:20</td>\n",
       "      <td>Morning Run</td>\n",
       "      <td>Run</td>\n",
       "      <td>1386</td>\n",
       "      <td>1374.0</td>\n",
       "      <td>3.05</td>\n",
       "      <td>201.000000</td>\n",
       "      <td>40.599998</td>\n",
       "      <td>3.105999</td>\n",
       "      <td>...</td>\n",
       "      <td>2024-05-21</td>\n",
       "      <td>5</td>\n",
       "      <td>2024</td>\n",
       "      <td>142</td>\n",
       "      <td>1</td>\n",
       "      <td>23.10</td>\n",
       "      <td>7.92</td>\n",
       "      <td>7.57</td>\n",
       "      <td>21</td>\n",
       "      <td>recovery run</td>\n",
       "    </tr>\n",
       "    <tr>\n",
       "      <th>2</th>\n",
       "      <td>11470243052</td>\n",
       "      <td>21 May 2024, 21:53:08</td>\n",
       "      <td>Running</td>\n",
       "      <td>Run</td>\n",
       "      <td>658</td>\n",
       "      <td>647.0</td>\n",
       "      <td>1.59</td>\n",
       "      <td>198.000000</td>\n",
       "      <td>0.000000</td>\n",
       "      <td>3.890000</td>\n",
       "      <td>...</td>\n",
       "      <td>2024-05-21</td>\n",
       "      <td>5</td>\n",
       "      <td>2024</td>\n",
       "      <td>142</td>\n",
       "      <td>1</td>\n",
       "      <td>10.97</td>\n",
       "      <td>8.70</td>\n",
       "      <td>6.90</td>\n",
       "      <td>21</td>\n",
       "      <td>recovery run</td>\n",
       "    </tr>\n",
       "    <tr>\n",
       "      <th>3</th>\n",
       "      <td>11470243289</td>\n",
       "      <td>19 May 2024, 07:07:07</td>\n",
       "      <td>Running</td>\n",
       "      <td>Run</td>\n",
       "      <td>1471</td>\n",
       "      <td>810.0</td>\n",
       "      <td>2.01</td>\n",
       "      <td>183.586207</td>\n",
       "      <td>0.000000</td>\n",
       "      <td>4.702002</td>\n",
       "      <td>...</td>\n",
       "      <td>2024-05-19</td>\n",
       "      <td>5</td>\n",
       "      <td>2024</td>\n",
       "      <td>140</td>\n",
       "      <td>6</td>\n",
       "      <td>24.52</td>\n",
       "      <td>4.92</td>\n",
       "      <td>12.20</td>\n",
       "      <td>20</td>\n",
       "      <td>recovery run</td>\n",
       "    </tr>\n",
       "    <tr>\n",
       "      <th>4</th>\n",
       "      <td>11470243423</td>\n",
       "      <td>19 May 2024, 07:01:17</td>\n",
       "      <td>Running</td>\n",
       "      <td>Run</td>\n",
       "      <td>301</td>\n",
       "      <td>301.0</td>\n",
       "      <td>0.77</td>\n",
       "      <td>183.586207</td>\n",
       "      <td>0.000000</td>\n",
       "      <td>3.345999</td>\n",
       "      <td>...</td>\n",
       "      <td>2024-05-19</td>\n",
       "      <td>5</td>\n",
       "      <td>2024</td>\n",
       "      <td>140</td>\n",
       "      <td>6</td>\n",
       "      <td>5.02</td>\n",
       "      <td>9.20</td>\n",
       "      <td>6.52</td>\n",
       "      <td>20</td>\n",
       "      <td>recovery run</td>\n",
       "    </tr>\n",
       "    <tr>\n",
       "      <th>5</th>\n",
       "      <td>11470243536</td>\n",
       "      <td>18 May 2024, 07:19:05</td>\n",
       "      <td>Running</td>\n",
       "      <td>Run</td>\n",
       "      <td>1719</td>\n",
       "      <td>1200.0</td>\n",
       "      <td>2.62</td>\n",
       "      <td>183.586207</td>\n",
       "      <td>0.000000</td>\n",
       "      <td>3.376001</td>\n",
       "      <td>...</td>\n",
       "      <td>2024-05-18</td>\n",
       "      <td>5</td>\n",
       "      <td>2024</td>\n",
       "      <td>139</td>\n",
       "      <td>5</td>\n",
       "      <td>28.65</td>\n",
       "      <td>5.49</td>\n",
       "      <td>10.94</td>\n",
       "      <td>20</td>\n",
       "      <td>recovery run</td>\n",
       "    </tr>\n",
       "    <tr>\n",
       "      <th>6</th>\n",
       "      <td>11470243862</td>\n",
       "      <td>14 Apr 2024, 06:36:30</td>\n",
       "      <td>Como Park</td>\n",
       "      <td>Run</td>\n",
       "      <td>2633</td>\n",
       "      <td>1185.0</td>\n",
       "      <td>3.09</td>\n",
       "      <td>199.000000</td>\n",
       "      <td>15.926480</td>\n",
       "      <td>3.438000</td>\n",
       "      <td>...</td>\n",
       "      <td>2024-04-14</td>\n",
       "      <td>4</td>\n",
       "      <td>2024</td>\n",
       "      <td>105</td>\n",
       "      <td>6</td>\n",
       "      <td>43.88</td>\n",
       "      <td>4.23</td>\n",
       "      <td>14.20</td>\n",
       "      <td>15</td>\n",
       "      <td>recovery run</td>\n",
       "    </tr>\n",
       "    <tr>\n",
       "      <th>7</th>\n",
       "      <td>11470243993</td>\n",
       "      <td>9 Jan 2024, 06:54:46</td>\n",
       "      <td>Como Park</td>\n",
       "      <td>Run</td>\n",
       "      <td>1765</td>\n",
       "      <td>1255.0</td>\n",
       "      <td>3.19</td>\n",
       "      <td>192.000000</td>\n",
       "      <td>18.130556</td>\n",
       "      <td>5.061963</td>\n",
       "      <td>...</td>\n",
       "      <td>2024-01-09</td>\n",
       "      <td>1</td>\n",
       "      <td>2024</td>\n",
       "      <td>9</td>\n",
       "      <td>1</td>\n",
       "      <td>29.42</td>\n",
       "      <td>6.51</td>\n",
       "      <td>9.22</td>\n",
       "      <td>2</td>\n",
       "      <td>recovery run</td>\n",
       "    </tr>\n",
       "    <tr>\n",
       "      <th>8</th>\n",
       "      <td>11470290443</td>\n",
       "      <td>29 Dec 2023, 05:23:55</td>\n",
       "      <td>Como Park</td>\n",
       "      <td>Run</td>\n",
       "      <td>1110</td>\n",
       "      <td>919.0</td>\n",
       "      <td>2.31</td>\n",
       "      <td>187.000000</td>\n",
       "      <td>3.189474</td>\n",
       "      <td>8.793333</td>\n",
       "      <td>...</td>\n",
       "      <td>2023-12-29</td>\n",
       "      <td>12</td>\n",
       "      <td>2023</td>\n",
       "      <td>363</td>\n",
       "      <td>4</td>\n",
       "      <td>18.50</td>\n",
       "      <td>7.49</td>\n",
       "      <td>8.01</td>\n",
       "      <td>52</td>\n",
       "      <td>recovery run</td>\n",
       "    </tr>\n",
       "    <tr>\n",
       "      <th>9</th>\n",
       "      <td>11476534443</td>\n",
       "      <td>23 May 2024, 06:10:14</td>\n",
       "      <td>Nike Run Club: First \\nSpeed Run</td>\n",
       "      <td>Run</td>\n",
       "      <td>1617</td>\n",
       "      <td>810.0</td>\n",
       "      <td>2.27</td>\n",
       "      <td>155.000000</td>\n",
       "      <td>28.000000</td>\n",
       "      <td>4.752002</td>\n",
       "      <td>...</td>\n",
       "      <td>2024-05-23</td>\n",
       "      <td>5</td>\n",
       "      <td>2024</td>\n",
       "      <td>144</td>\n",
       "      <td>3</td>\n",
       "      <td>26.95</td>\n",
       "      <td>5.05</td>\n",
       "      <td>11.87</td>\n",
       "      <td>21</td>\n",
       "      <td>zone 2 run</td>\n",
       "    </tr>\n",
       "    <tr>\n",
       "      <th>10</th>\n",
       "      <td>11476585894</td>\n",
       "      <td>23 May 2024, 06:42:24</td>\n",
       "      <td>Afternoon Run</td>\n",
       "      <td>Run</td>\n",
       "      <td>374</td>\n",
       "      <td>374.0</td>\n",
       "      <td>1.05</td>\n",
       "      <td>203.000000</td>\n",
       "      <td>10.600000</td>\n",
       "      <td>4.338000</td>\n",
       "      <td>...</td>\n",
       "      <td>2024-05-23</td>\n",
       "      <td>5</td>\n",
       "      <td>2024</td>\n",
       "      <td>144</td>\n",
       "      <td>3</td>\n",
       "      <td>6.23</td>\n",
       "      <td>10.11</td>\n",
       "      <td>5.93</td>\n",
       "      <td>21</td>\n",
       "      <td>recovery run</td>\n",
       "    </tr>\n",
       "    <tr>\n",
       "      <th>11</th>\n",
       "      <td>11490128286</td>\n",
       "      <td>25 May 2024, 02:09:16</td>\n",
       "      <td>Lunch Run</td>\n",
       "      <td>Run</td>\n",
       "      <td>586</td>\n",
       "      <td>455.0</td>\n",
       "      <td>1.19</td>\n",
       "      <td>200.000000</td>\n",
       "      <td>13.400000</td>\n",
       "      <td>3.638000</td>\n",
       "      <td>...</td>\n",
       "      <td>2024-05-25</td>\n",
       "      <td>5</td>\n",
       "      <td>2024</td>\n",
       "      <td>146</td>\n",
       "      <td>5</td>\n",
       "      <td>9.77</td>\n",
       "      <td>7.31</td>\n",
       "      <td>8.21</td>\n",
       "      <td>21</td>\n",
       "      <td>recovery run</td>\n",
       "    </tr>\n",
       "    <tr>\n",
       "      <th>12</th>\n",
       "      <td>11490222687</td>\n",
       "      <td>25 May 2024, 02:29:44</td>\n",
       "      <td>Nike Run Club: 4K Starting Lines</td>\n",
       "      <td>Run</td>\n",
       "      <td>1978</td>\n",
       "      <td>1655.0</td>\n",
       "      <td>4.00</td>\n",
       "      <td>195.000000</td>\n",
       "      <td>21.000000</td>\n",
       "      <td>3.450000</td>\n",
       "      <td>...</td>\n",
       "      <td>2024-05-25</td>\n",
       "      <td>5</td>\n",
       "      <td>2024</td>\n",
       "      <td>146</td>\n",
       "      <td>5</td>\n",
       "      <td>32.97</td>\n",
       "      <td>7.28</td>\n",
       "      <td>8.24</td>\n",
       "      <td>21</td>\n",
       "      <td>recovery run</td>\n",
       "    </tr>\n",
       "    <tr>\n",
       "      <th>13</th>\n",
       "      <td>11490360645</td>\n",
       "      <td>25 May 2024, 03:45:59</td>\n",
       "      <td>Afternoon Run</td>\n",
       "      <td>Run</td>\n",
       "      <td>1030</td>\n",
       "      <td>1001.0</td>\n",
       "      <td>2.20</td>\n",
       "      <td>191.000000</td>\n",
       "      <td>17.599998</td>\n",
       "      <td>3.943994</td>\n",
       "      <td>...</td>\n",
       "      <td>2024-05-25</td>\n",
       "      <td>5</td>\n",
       "      <td>2024</td>\n",
       "      <td>146</td>\n",
       "      <td>5</td>\n",
       "      <td>17.17</td>\n",
       "      <td>7.69</td>\n",
       "      <td>7.80</td>\n",
       "      <td>21</td>\n",
       "      <td>recovery run</td>\n",
       "    </tr>\n",
       "    <tr>\n",
       "      <th>14</th>\n",
       "      <td>11498777386</td>\n",
       "      <td>26 May 2024, 06:30:01</td>\n",
       "      <td>Afternoon Run</td>\n",
       "      <td>Run</td>\n",
       "      <td>1452</td>\n",
       "      <td>1392.0</td>\n",
       "      <td>3.20</td>\n",
       "      <td>194.000000</td>\n",
       "      <td>25.200001</td>\n",
       "      <td>7.267999</td>\n",
       "      <td>...</td>\n",
       "      <td>2024-05-26</td>\n",
       "      <td>5</td>\n",
       "      <td>2024</td>\n",
       "      <td>147</td>\n",
       "      <td>6</td>\n",
       "      <td>24.20</td>\n",
       "      <td>7.93</td>\n",
       "      <td>7.56</td>\n",
       "      <td>21</td>\n",
       "      <td>recovery run</td>\n",
       "    </tr>\n",
       "    <tr>\n",
       "      <th>15</th>\n",
       "      <td>11498781598</td>\n",
       "      <td>26 May 2024, 06:30:51</td>\n",
       "      <td>Nike Run Club: 8 Weeks to Go - Recovery Run</td>\n",
       "      <td>Run</td>\n",
       "      <td>1430</td>\n",
       "      <td>1321.0</td>\n",
       "      <td>3.06</td>\n",
       "      <td>194.000000</td>\n",
       "      <td>33.000000</td>\n",
       "      <td>4.883333</td>\n",
       "      <td>...</td>\n",
       "      <td>2024-05-26</td>\n",
       "      <td>5</td>\n",
       "      <td>2024</td>\n",
       "      <td>147</td>\n",
       "      <td>6</td>\n",
       "      <td>23.83</td>\n",
       "      <td>7.70</td>\n",
       "      <td>7.79</td>\n",
       "      <td>21</td>\n",
       "      <td>recovery run</td>\n",
       "    </tr>\n",
       "    <tr>\n",
       "      <th>16</th>\n",
       "      <td>11498799175</td>\n",
       "      <td>26 May 2024, 06:56:03</td>\n",
       "      <td>Afternoon Run</td>\n",
       "      <td>Run</td>\n",
       "      <td>201</td>\n",
       "      <td>190.0</td>\n",
       "      <td>0.53</td>\n",
       "      <td>193.000000</td>\n",
       "      <td>9.000000</td>\n",
       "      <td>3.348000</td>\n",
       "      <td>...</td>\n",
       "      <td>2024-05-26</td>\n",
       "      <td>5</td>\n",
       "      <td>2024</td>\n",
       "      <td>147</td>\n",
       "      <td>6</td>\n",
       "      <td>3.35</td>\n",
       "      <td>9.49</td>\n",
       "      <td>6.32</td>\n",
       "      <td>21</td>\n",
       "      <td>recovery run</td>\n",
       "    </tr>\n",
       "    <tr>\n",
       "      <th>17</th>\n",
       "      <td>11513656106</td>\n",
       "      <td>28 May 2024, 00:58:41</td>\n",
       "      <td>Nike Run Club: 7 Weeks to Go - Recovery Run</td>\n",
       "      <td>Run</td>\n",
       "      <td>988</td>\n",
       "      <td>875.0</td>\n",
       "      <td>1.84</td>\n",
       "      <td>179.000000</td>\n",
       "      <td>18.000000</td>\n",
       "      <td>4.016667</td>\n",
       "      <td>...</td>\n",
       "      <td>2024-05-28</td>\n",
       "      <td>5</td>\n",
       "      <td>2024</td>\n",
       "      <td>149</td>\n",
       "      <td>1</td>\n",
       "      <td>16.47</td>\n",
       "      <td>6.70</td>\n",
       "      <td>8.95</td>\n",
       "      <td>22</td>\n",
       "      <td>recovery run</td>\n",
       "    </tr>\n",
       "    <tr>\n",
       "      <th>18</th>\n",
       "      <td>11520905115</td>\n",
       "      <td>28 May 2024, 22:54:47</td>\n",
       "      <td>Nike Run Club: 7 Weeks to Go - Recovery Run</td>\n",
       "      <td>Run</td>\n",
       "      <td>3425</td>\n",
       "      <td>3220.0</td>\n",
       "      <td>6.04</td>\n",
       "      <td>173.000000</td>\n",
       "      <td>55.000000</td>\n",
       "      <td>3.720000</td>\n",
       "      <td>...</td>\n",
       "      <td>2024-05-28</td>\n",
       "      <td>5</td>\n",
       "      <td>2024</td>\n",
       "      <td>149</td>\n",
       "      <td>1</td>\n",
       "      <td>57.08</td>\n",
       "      <td>6.35</td>\n",
       "      <td>9.45</td>\n",
       "      <td>22</td>\n",
       "      <td>recovery run</td>\n",
       "    </tr>\n",
       "    <tr>\n",
       "      <th>19</th>\n",
       "      <td>11522274533</td>\n",
       "      <td>29 May 2024, 06:18:11</td>\n",
       "      <td>Afternoon Walk</td>\n",
       "      <td>Walk</td>\n",
       "      <td>392</td>\n",
       "      <td>134.0</td>\n",
       "      <td>1.00</td>\n",
       "      <td>138.000000</td>\n",
       "      <td>3.799999</td>\n",
       "      <td>2.171997</td>\n",
       "      <td>...</td>\n",
       "      <td>2024-05-29</td>\n",
       "      <td>5</td>\n",
       "      <td>2024</td>\n",
       "      <td>150</td>\n",
       "      <td>2</td>\n",
       "      <td>6.53</td>\n",
       "      <td>9.19</td>\n",
       "      <td>6.53</td>\n",
       "      <td>22</td>\n",
       "      <td>zone 2 run</td>\n",
       "    </tr>\n",
       "    <tr>\n",
       "      <th>20</th>\n",
       "      <td>11523191512</td>\n",
       "      <td>29 May 2024, 07:44:32</td>\n",
       "      <td>Afternoon Walk</td>\n",
       "      <td>Walk</td>\n",
       "      <td>1097</td>\n",
       "      <td>1041.0</td>\n",
       "      <td>2.72</td>\n",
       "      <td>140.000000</td>\n",
       "      <td>37.599998</td>\n",
       "      <td>4.333984</td>\n",
       "      <td>...</td>\n",
       "      <td>2024-05-29</td>\n",
       "      <td>5</td>\n",
       "      <td>2024</td>\n",
       "      <td>150</td>\n",
       "      <td>2</td>\n",
       "      <td>18.28</td>\n",
       "      <td>8.93</td>\n",
       "      <td>6.72</td>\n",
       "      <td>22</td>\n",
       "      <td>zone 2 run</td>\n",
       "    </tr>\n",
       "    <tr>\n",
       "      <th>21</th>\n",
       "      <td>11537951108</td>\n",
       "      <td>31 May 2024, 06:18:44</td>\n",
       "      <td>Nike Run Club: Next Speed Run</td>\n",
       "      <td>Run</td>\n",
       "      <td>1854</td>\n",
       "      <td>901.0</td>\n",
       "      <td>2.34</td>\n",
       "      <td>171.000000</td>\n",
       "      <td>36.000000</td>\n",
       "      <td>4.069995</td>\n",
       "      <td>...</td>\n",
       "      <td>2024-05-31</td>\n",
       "      <td>5</td>\n",
       "      <td>2024</td>\n",
       "      <td>152</td>\n",
       "      <td>4</td>\n",
       "      <td>30.90</td>\n",
       "      <td>4.54</td>\n",
       "      <td>13.21</td>\n",
       "      <td>22</td>\n",
       "      <td>speed run</td>\n",
       "    </tr>\n",
       "    <tr>\n",
       "      <th>22</th>\n",
       "      <td>11537956241</td>\n",
       "      <td>31 May 2024, 06:19:15</td>\n",
       "      <td>Afternoon Run</td>\n",
       "      <td>Run</td>\n",
       "      <td>1795</td>\n",
       "      <td>1121.0</td>\n",
       "      <td>2.86</td>\n",
       "      <td>198.000000</td>\n",
       "      <td>42.399998</td>\n",
       "      <td>8.529516</td>\n",
       "      <td>...</td>\n",
       "      <td>2024-05-31</td>\n",
       "      <td>5</td>\n",
       "      <td>2024</td>\n",
       "      <td>152</td>\n",
       "      <td>4</td>\n",
       "      <td>29.92</td>\n",
       "      <td>5.74</td>\n",
       "      <td>10.46</td>\n",
       "      <td>22</td>\n",
       "      <td>recovery run</td>\n",
       "    </tr>\n",
       "    <tr>\n",
       "      <th>23</th>\n",
       "      <td>11551681161</td>\n",
       "      <td>2 Jun 2024, 00:11:56</td>\n",
       "      <td>Nike Run Club: 7 Weeks to Go - Long Run</td>\n",
       "      <td>Run</td>\n",
       "      <td>2485</td>\n",
       "      <td>2258.0</td>\n",
       "      <td>5.03</td>\n",
       "      <td>192.000000</td>\n",
       "      <td>58.000000</td>\n",
       "      <td>3.900000</td>\n",
       "      <td>...</td>\n",
       "      <td>2024-06-02</td>\n",
       "      <td>6</td>\n",
       "      <td>2024</td>\n",
       "      <td>154</td>\n",
       "      <td>6</td>\n",
       "      <td>41.42</td>\n",
       "      <td>7.29</td>\n",
       "      <td>8.23</td>\n",
       "      <td>22</td>\n",
       "      <td>long run</td>\n",
       "    </tr>\n",
       "    <tr>\n",
       "      <th>24</th>\n",
       "      <td>11551802058</td>\n",
       "      <td>2 Jun 2024, 00:57:07</td>\n",
       "      <td>Nike Run Club: 7 Weeks to Go - Recovery Run</td>\n",
       "      <td>Run</td>\n",
       "      <td>1753</td>\n",
       "      <td>1504.0</td>\n",
       "      <td>3.44</td>\n",
       "      <td>184.000000</td>\n",
       "      <td>28.000000</td>\n",
       "      <td>3.583333</td>\n",
       "      <td>...</td>\n",
       "      <td>2024-06-02</td>\n",
       "      <td>6</td>\n",
       "      <td>2024</td>\n",
       "      <td>154</td>\n",
       "      <td>6</td>\n",
       "      <td>29.22</td>\n",
       "      <td>7.06</td>\n",
       "      <td>8.49</td>\n",
       "      <td>22</td>\n",
       "      <td>recovery run</td>\n",
       "    </tr>\n",
       "    <tr>\n",
       "      <th>25</th>\n",
       "      <td>11559938586</td>\n",
       "      <td>2 Jun 2024, 23:41:16</td>\n",
       "      <td>Nike Run Club: A New Run</td>\n",
       "      <td>Run</td>\n",
       "      <td>1529</td>\n",
       "      <td>1500.0</td>\n",
       "      <td>2.85</td>\n",
       "      <td>169.000000</td>\n",
       "      <td>26.000000</td>\n",
       "      <td>2.866016</td>\n",
       "      <td>...</td>\n",
       "      <td>2024-06-02</td>\n",
       "      <td>6</td>\n",
       "      <td>2024</td>\n",
       "      <td>154</td>\n",
       "      <td>6</td>\n",
       "      <td>25.48</td>\n",
       "      <td>6.71</td>\n",
       "      <td>8.94</td>\n",
       "      <td>22</td>\n",
       "      <td>zone 2 run</td>\n",
       "    </tr>\n",
       "    <tr>\n",
       "      <th>26</th>\n",
       "      <td>11560190199</td>\n",
       "      <td>2 Jun 2024, 23:44:01</td>\n",
       "      <td>Morning Run</td>\n",
       "      <td>Run</td>\n",
       "      <td>1369</td>\n",
       "      <td>1347.0</td>\n",
       "      <td>2.57</td>\n",
       "      <td>174.000000</td>\n",
       "      <td>36.200001</td>\n",
       "      <td>3.187988</td>\n",
       "      <td>...</td>\n",
       "      <td>2024-06-02</td>\n",
       "      <td>6</td>\n",
       "      <td>2024</td>\n",
       "      <td>154</td>\n",
       "      <td>6</td>\n",
       "      <td>22.82</td>\n",
       "      <td>6.76</td>\n",
       "      <td>8.88</td>\n",
       "      <td>22</td>\n",
       "      <td>recovery run</td>\n",
       "    </tr>\n",
       "    <tr>\n",
       "      <th>27</th>\n",
       "      <td>11576211014</td>\n",
       "      <td>5 Jun 2024, 01:03:15</td>\n",
       "      <td>Nike Run Club: 6 Weeks to Go - Recovery Run</td>\n",
       "      <td>Run</td>\n",
       "      <td>2344</td>\n",
       "      <td>2219.0</td>\n",
       "      <td>5.00</td>\n",
       "      <td>188.000000</td>\n",
       "      <td>44.000000</td>\n",
       "      <td>3.553333</td>\n",
       "      <td>...</td>\n",
       "      <td>2024-06-05</td>\n",
       "      <td>6</td>\n",
       "      <td>2024</td>\n",
       "      <td>157</td>\n",
       "      <td>2</td>\n",
       "      <td>39.07</td>\n",
       "      <td>7.68</td>\n",
       "      <td>7.81</td>\n",
       "      <td>23</td>\n",
       "      <td>recovery run</td>\n",
       "    </tr>\n",
       "    <tr>\n",
       "      <th>28</th>\n",
       "      <td>11585126344</td>\n",
       "      <td>6 Jun 2024, 04:19:42</td>\n",
       "      <td>Nike Run Club: 6 Weeks to Go - Recovery Run</td>\n",
       "      <td>Run</td>\n",
       "      <td>1616</td>\n",
       "      <td>1510.0</td>\n",
       "      <td>3.50</td>\n",
       "      <td>190.000000</td>\n",
       "      <td>33.000000</td>\n",
       "      <td>4.040000</td>\n",
       "      <td>...</td>\n",
       "      <td>2024-06-06</td>\n",
       "      <td>6</td>\n",
       "      <td>2024</td>\n",
       "      <td>158</td>\n",
       "      <td>3</td>\n",
       "      <td>26.93</td>\n",
       "      <td>7.80</td>\n",
       "      <td>7.69</td>\n",
       "      <td>23</td>\n",
       "      <td>recovery run</td>\n",
       "    </tr>\n",
       "    <tr>\n",
       "      <th>29</th>\n",
       "      <td>11599728164</td>\n",
       "      <td>8 Jun 2024, 01:23:50</td>\n",
       "      <td>Nike Run Club: 6 Weeks to Go - Long Run</td>\n",
       "      <td>Run</td>\n",
       "      <td>2526</td>\n",
       "      <td>2452.0</td>\n",
       "      <td>6.02</td>\n",
       "      <td>195.000000</td>\n",
       "      <td>71.000000</td>\n",
       "      <td>4.433333</td>\n",
       "      <td>...</td>\n",
       "      <td>2024-06-08</td>\n",
       "      <td>6</td>\n",
       "      <td>2024</td>\n",
       "      <td>160</td>\n",
       "      <td>5</td>\n",
       "      <td>42.10</td>\n",
       "      <td>8.58</td>\n",
       "      <td>6.99</td>\n",
       "      <td>23</td>\n",
       "      <td>long run</td>\n",
       "    </tr>\n",
       "    <tr>\n",
       "      <th>30</th>\n",
       "      <td>11599836517</td>\n",
       "      <td>8 Jun 2024, 02:08:19</td>\n",
       "      <td>Lunch Run</td>\n",
       "      <td>Run</td>\n",
       "      <td>1617</td>\n",
       "      <td>1581.0</td>\n",
       "      <td>3.76</td>\n",
       "      <td>186.000000</td>\n",
       "      <td>40.800003</td>\n",
       "      <td>3.402002</td>\n",
       "      <td>...</td>\n",
       "      <td>2024-06-08</td>\n",
       "      <td>6</td>\n",
       "      <td>2024</td>\n",
       "      <td>160</td>\n",
       "      <td>5</td>\n",
       "      <td>26.95</td>\n",
       "      <td>8.37</td>\n",
       "      <td>7.17</td>\n",
       "      <td>23</td>\n",
       "      <td>recovery run</td>\n",
       "    </tr>\n",
       "    <tr>\n",
       "      <th>31</th>\n",
       "      <td>11677993982</td>\n",
       "      <td>18 Jun 2024, 03:19:44</td>\n",
       "      <td>Nike Run Club: 5 Weeks to Go - Recovery Run</td>\n",
       "      <td>Run</td>\n",
       "      <td>1944</td>\n",
       "      <td>1941.0</td>\n",
       "      <td>5.03</td>\n",
       "      <td>202.000000</td>\n",
       "      <td>46.000000</td>\n",
       "      <td>3.955957</td>\n",
       "      <td>...</td>\n",
       "      <td>2024-06-18</td>\n",
       "      <td>6</td>\n",
       "      <td>2024</td>\n",
       "      <td>170</td>\n",
       "      <td>1</td>\n",
       "      <td>32.40</td>\n",
       "      <td>9.31</td>\n",
       "      <td>6.44</td>\n",
       "      <td>25</td>\n",
       "      <td>recovery run</td>\n",
       "    </tr>\n",
       "  </tbody>\n",
       "</table>\n",
       "<p>32 rows × 23 columns</p>\n",
       "</div>"
      ],
      "text/plain": [
       "    activity id          activity date  \\\n",
       "0   11470038800  22 May 2024, 08:19:26   \n",
       "1   11470039023  21 May 2024, 00:48:20   \n",
       "2   11470243052  21 May 2024, 21:53:08   \n",
       "3   11470243289  19 May 2024, 07:07:07   \n",
       "4   11470243423  19 May 2024, 07:01:17   \n",
       "5   11470243536  18 May 2024, 07:19:05   \n",
       "6   11470243862  14 Apr 2024, 06:36:30   \n",
       "7   11470243993   9 Jan 2024, 06:54:46   \n",
       "8   11470290443  29 Dec 2023, 05:23:55   \n",
       "9   11476534443  23 May 2024, 06:10:14   \n",
       "10  11476585894  23 May 2024, 06:42:24   \n",
       "11  11490128286  25 May 2024, 02:09:16   \n",
       "12  11490222687  25 May 2024, 02:29:44   \n",
       "13  11490360645  25 May 2024, 03:45:59   \n",
       "14  11498777386  26 May 2024, 06:30:01   \n",
       "15  11498781598  26 May 2024, 06:30:51   \n",
       "16  11498799175  26 May 2024, 06:56:03   \n",
       "17  11513656106  28 May 2024, 00:58:41   \n",
       "18  11520905115  28 May 2024, 22:54:47   \n",
       "19  11522274533  29 May 2024, 06:18:11   \n",
       "20  11523191512  29 May 2024, 07:44:32   \n",
       "21  11537951108  31 May 2024, 06:18:44   \n",
       "22  11537956241  31 May 2024, 06:19:15   \n",
       "23  11551681161   2 Jun 2024, 00:11:56   \n",
       "24  11551802058   2 Jun 2024, 00:57:07   \n",
       "25  11559938586   2 Jun 2024, 23:41:16   \n",
       "26  11560190199   2 Jun 2024, 23:44:01   \n",
       "27  11576211014   5 Jun 2024, 01:03:15   \n",
       "28  11585126344   6 Jun 2024, 04:19:42   \n",
       "29  11599728164   8 Jun 2024, 01:23:50   \n",
       "30  11599836517   8 Jun 2024, 02:08:19   \n",
       "31  11677993982  18 Jun 2024, 03:19:44   \n",
       "\n",
       "                                  activity name activity type  elapsed time  \\\n",
       "0                                  Evening Walk          Walk          1266   \n",
       "1                                   Morning Run           Run          1386   \n",
       "2                                       Running           Run           658   \n",
       "3                                       Running           Run          1471   \n",
       "4                                       Running           Run           301   \n",
       "5                                       Running           Run          1719   \n",
       "6                                     Como Park           Run          2633   \n",
       "7                                     Como Park           Run          1765   \n",
       "8                                     Como Park           Run          1110   \n",
       "9              Nike Run Club: First \\nSpeed Run           Run          1617   \n",
       "10                                Afternoon Run           Run           374   \n",
       "11                                    Lunch Run           Run           586   \n",
       "12             Nike Run Club: 4K Starting Lines           Run          1978   \n",
       "13                                Afternoon Run           Run          1030   \n",
       "14                                Afternoon Run           Run          1452   \n",
       "15  Nike Run Club: 8 Weeks to Go - Recovery Run           Run          1430   \n",
       "16                                Afternoon Run           Run           201   \n",
       "17  Nike Run Club: 7 Weeks to Go - Recovery Run           Run           988   \n",
       "18  Nike Run Club: 7 Weeks to Go - Recovery Run           Run          3425   \n",
       "19                               Afternoon Walk          Walk           392   \n",
       "20                               Afternoon Walk          Walk          1097   \n",
       "21                Nike Run Club: Next Speed Run           Run          1854   \n",
       "22                                Afternoon Run           Run          1795   \n",
       "23      Nike Run Club: 7 Weeks to Go - Long Run           Run          2485   \n",
       "24  Nike Run Club: 7 Weeks to Go - Recovery Run           Run          1753   \n",
       "25                     Nike Run Club: A New Run           Run          1529   \n",
       "26                                  Morning Run           Run          1369   \n",
       "27  Nike Run Club: 6 Weeks to Go - Recovery Run           Run          2344   \n",
       "28  Nike Run Club: 6 Weeks to Go - Recovery Run           Run          1616   \n",
       "29      Nike Run Club: 6 Weeks to Go - Long Run           Run          2526   \n",
       "30                                    Lunch Run           Run          1617   \n",
       "31  Nike Run Club: 5 Weeks to Go - Recovery Run           Run          1944   \n",
       "\n",
       "    moving time  distance  max heart rate  elevation gain  max speed  ...  \\\n",
       "0        1164.0      3.01      143.000000       28.600000   3.080005  ...   \n",
       "1        1374.0      3.05      201.000000       40.599998   3.105999  ...   \n",
       "2         647.0      1.59      198.000000        0.000000   3.890000  ...   \n",
       "3         810.0      2.01      183.586207        0.000000   4.702002  ...   \n",
       "4         301.0      0.77      183.586207        0.000000   3.345999  ...   \n",
       "5        1200.0      2.62      183.586207        0.000000   3.376001  ...   \n",
       "6        1185.0      3.09      199.000000       15.926480   3.438000  ...   \n",
       "7        1255.0      3.19      192.000000       18.130556   5.061963  ...   \n",
       "8         919.0      2.31      187.000000        3.189474   8.793333  ...   \n",
       "9         810.0      2.27      155.000000       28.000000   4.752002  ...   \n",
       "10        374.0      1.05      203.000000       10.600000   4.338000  ...   \n",
       "11        455.0      1.19      200.000000       13.400000   3.638000  ...   \n",
       "12       1655.0      4.00      195.000000       21.000000   3.450000  ...   \n",
       "13       1001.0      2.20      191.000000       17.599998   3.943994  ...   \n",
       "14       1392.0      3.20      194.000000       25.200001   7.267999  ...   \n",
       "15       1321.0      3.06      194.000000       33.000000   4.883333  ...   \n",
       "16        190.0      0.53      193.000000        9.000000   3.348000  ...   \n",
       "17        875.0      1.84      179.000000       18.000000   4.016667  ...   \n",
       "18       3220.0      6.04      173.000000       55.000000   3.720000  ...   \n",
       "19        134.0      1.00      138.000000        3.799999   2.171997  ...   \n",
       "20       1041.0      2.72      140.000000       37.599998   4.333984  ...   \n",
       "21        901.0      2.34      171.000000       36.000000   4.069995  ...   \n",
       "22       1121.0      2.86      198.000000       42.399998   8.529516  ...   \n",
       "23       2258.0      5.03      192.000000       58.000000   3.900000  ...   \n",
       "24       1504.0      3.44      184.000000       28.000000   3.583333  ...   \n",
       "25       1500.0      2.85      169.000000       26.000000   2.866016  ...   \n",
       "26       1347.0      2.57      174.000000       36.200001   3.187988  ...   \n",
       "27       2219.0      5.00      188.000000       44.000000   3.553333  ...   \n",
       "28       1510.0      3.50      190.000000       33.000000   4.040000  ...   \n",
       "29       2452.0      6.02      195.000000       71.000000   4.433333  ...   \n",
       "30       1581.0      3.76      186.000000       40.800003   3.402002  ...   \n",
       "31       1941.0      5.03      202.000000       46.000000   3.955957  ...   \n",
       "\n",
       "    start_date month  year dayofyear  dayofweek  elapsed minutes  km per hour  \\\n",
       "0   2024-05-22     5  2024       143          2            21.10         8.56   \n",
       "1   2024-05-21     5  2024       142          1            23.10         7.92   \n",
       "2   2024-05-21     5  2024       142          1            10.97         8.70   \n",
       "3   2024-05-19     5  2024       140          6            24.52         4.92   \n",
       "4   2024-05-19     5  2024       140          6             5.02         9.20   \n",
       "5   2024-05-18     5  2024       139          5            28.65         5.49   \n",
       "6   2024-04-14     4  2024       105          6            43.88         4.23   \n",
       "7   2024-01-09     1  2024         9          1            29.42         6.51   \n",
       "8   2023-12-29    12  2023       363          4            18.50         7.49   \n",
       "9   2024-05-23     5  2024       144          3            26.95         5.05   \n",
       "10  2024-05-23     5  2024       144          3             6.23        10.11   \n",
       "11  2024-05-25     5  2024       146          5             9.77         7.31   \n",
       "12  2024-05-25     5  2024       146          5            32.97         7.28   \n",
       "13  2024-05-25     5  2024       146          5            17.17         7.69   \n",
       "14  2024-05-26     5  2024       147          6            24.20         7.93   \n",
       "15  2024-05-26     5  2024       147          6            23.83         7.70   \n",
       "16  2024-05-26     5  2024       147          6             3.35         9.49   \n",
       "17  2024-05-28     5  2024       149          1            16.47         6.70   \n",
       "18  2024-05-28     5  2024       149          1            57.08         6.35   \n",
       "19  2024-05-29     5  2024       150          2             6.53         9.19   \n",
       "20  2024-05-29     5  2024       150          2            18.28         8.93   \n",
       "21  2024-05-31     5  2024       152          4            30.90         4.54   \n",
       "22  2024-05-31     5  2024       152          4            29.92         5.74   \n",
       "23  2024-06-02     6  2024       154          6            41.42         7.29   \n",
       "24  2024-06-02     6  2024       154          6            29.22         7.06   \n",
       "25  2024-06-02     6  2024       154          6            25.48         6.71   \n",
       "26  2024-06-02     6  2024       154          6            22.82         6.76   \n",
       "27  2024-06-05     6  2024       157          2            39.07         7.68   \n",
       "28  2024-06-06     6  2024       158          3            26.93         7.80   \n",
       "29  2024-06-08     6  2024       160          5            42.10         8.58   \n",
       "30  2024-06-08     6  2024       160          5            26.95         8.37   \n",
       "31  2024-06-18     6  2024       170          1            32.40         9.31   \n",
       "\n",
       "    avg pace  Week      run type  \n",
       "0       7.01    21    zone 2 run  \n",
       "1       7.57    21  recovery run  \n",
       "2       6.90    21  recovery run  \n",
       "3      12.20    20  recovery run  \n",
       "4       6.52    20  recovery run  \n",
       "5      10.94    20  recovery run  \n",
       "6      14.20    15  recovery run  \n",
       "7       9.22     2  recovery run  \n",
       "8       8.01    52  recovery run  \n",
       "9      11.87    21    zone 2 run  \n",
       "10      5.93    21  recovery run  \n",
       "11      8.21    21  recovery run  \n",
       "12      8.24    21  recovery run  \n",
       "13      7.80    21  recovery run  \n",
       "14      7.56    21  recovery run  \n",
       "15      7.79    21  recovery run  \n",
       "16      6.32    21  recovery run  \n",
       "17      8.95    22  recovery run  \n",
       "18      9.45    22  recovery run  \n",
       "19      6.53    22    zone 2 run  \n",
       "20      6.72    22    zone 2 run  \n",
       "21     13.21    22     speed run  \n",
       "22     10.46    22  recovery run  \n",
       "23      8.23    22      long run  \n",
       "24      8.49    22  recovery run  \n",
       "25      8.94    22    zone 2 run  \n",
       "26      8.88    22  recovery run  \n",
       "27      7.81    23  recovery run  \n",
       "28      7.69    23  recovery run  \n",
       "29      6.99    23      long run  \n",
       "30      7.17    23  recovery run  \n",
       "31      6.44    25  recovery run  \n",
       "\n",
       "[32 rows x 23 columns]"
      ]
     },
     "execution_count": 31,
     "metadata": {},
     "output_type": "execute_result"
    }
   ],
   "source": [
    "# CREATING A NEW COLUMN THAT LABELS RUN TYPE\n",
    "\n",
    "def run_type(df):\n",
    "    # Initialize the 'run type' column with a default value (optional)\n",
    "    df['run type'] = 'unknown'\n",
    "    \n",
    "    for i, name in enumerate(df['activity name']):\n",
    "        if \"Recovery\" in name:\n",
    "            df.at[i, 'run type'] = 'recovery run'\n",
    "        elif \"Speed\" in name:\n",
    "            df.at[i, 'run type'] = 'speed run'\n",
    "        elif \"Long\" in name:\n",
    "            df.at[i, 'run type'] = 'long run'\n",
    "        else:\n",
    "            df.at[i, 'run type'] = 'recovery run'\n",
    "    \n",
    "    for i, heart_rate in enumerate(df['max heart rate']):\n",
    "        if heart_rate < 170:\n",
    "            df.at[i, 'run type'] = 'zone 2 run'\n",
    "    \n",
    "    return df\n",
    "\n",
    "df = run_type(df)\n",
    "df\n",
    "# df.to_csv('updated_activities.csv')\n",
    "    "
   ]
  },
  {
   "cell_type": "markdown",
   "metadata": {},
   "source": [
    "#### VISUALISATIONS PLOTLY"
   ]
  },
  {
   "cell_type": "code",
   "execution_count": null,
   "metadata": {},
   "outputs": [
    {
     "data": {
      "application/vnd.plotly.v1+json": {
       "config": {
        "plotlyServerURL": "https://plot.ly"
       },
       "data": [
        {
         "alignmentgroup": "True",
         "cliponaxis": false,
         "hovertemplate": "Day of Week=%{x}<br>Distance=%{y}<extra></extra>",
         "legendgroup": "",
         "marker": {
          "color": "rgb(230, 81, 0)",
          "line": {
           "color": "rgb(230, 81, 0)"
          },
          "pattern": {
           "shape": ""
          }
         },
         "name": "",
         "offsetgroup": "",
         "orientation": "v",
         "showlegend": false,
         "textangle": 0,
         "textfont": {
          "size": 12
         },
         "textposition": "outside",
         "texttemplate": "%{y:.2s}",
         "type": "bar",
         "x": [
          "Tuesday",
          "Wednesday",
          "Thursday",
          "Friday",
          "Saturday",
          "Sunday"
         ],
         "xaxis": "x",
         "y": [
          20.740000000000002,
          11.73,
          6.82,
          7.51,
          19.79,
          26.55
         ],
         "yaxis": "y"
        }
       ],
       "layout": {
        "barmode": "relative",
        "font": {
         "color": "white"
        },
        "legend": {
         "tracegroupgap": 0
        },
        "paper_bgcolor": "rgb(12, 29, 42)",
        "plot_bgcolor": "rgb(12, 29, 42)",
        "template": {
         "data": {
          "bar": [
           {
            "error_x": {
             "color": "#2a3f5f"
            },
            "error_y": {
             "color": "#2a3f5f"
            },
            "marker": {
             "line": {
              "color": "#E5ECF6",
              "width": 0.5
             },
             "pattern": {
              "fillmode": "overlay",
              "size": 10,
              "solidity": 0.2
             }
            },
            "type": "bar"
           }
          ],
          "barpolar": [
           {
            "marker": {
             "line": {
              "color": "#E5ECF6",
              "width": 0.5
             },
             "pattern": {
              "fillmode": "overlay",
              "size": 10,
              "solidity": 0.2
             }
            },
            "type": "barpolar"
           }
          ],
          "carpet": [
           {
            "aaxis": {
             "endlinecolor": "#2a3f5f",
             "gridcolor": "white",
             "linecolor": "white",
             "minorgridcolor": "white",
             "startlinecolor": "#2a3f5f"
            },
            "baxis": {
             "endlinecolor": "#2a3f5f",
             "gridcolor": "white",
             "linecolor": "white",
             "minorgridcolor": "white",
             "startlinecolor": "#2a3f5f"
            },
            "type": "carpet"
           }
          ],
          "choropleth": [
           {
            "colorbar": {
             "outlinewidth": 0,
             "ticks": ""
            },
            "type": "choropleth"
           }
          ],
          "contour": [
           {
            "colorbar": {
             "outlinewidth": 0,
             "ticks": ""
            },
            "colorscale": [
             [
              0,
              "#0d0887"
             ],
             [
              0.1111111111111111,
              "#46039f"
             ],
             [
              0.2222222222222222,
              "#7201a8"
             ],
             [
              0.3333333333333333,
              "#9c179e"
             ],
             [
              0.4444444444444444,
              "#bd3786"
             ],
             [
              0.5555555555555556,
              "#d8576b"
             ],
             [
              0.6666666666666666,
              "#ed7953"
             ],
             [
              0.7777777777777778,
              "#fb9f3a"
             ],
             [
              0.8888888888888888,
              "#fdca26"
             ],
             [
              1,
              "#f0f921"
             ]
            ],
            "type": "contour"
           }
          ],
          "contourcarpet": [
           {
            "colorbar": {
             "outlinewidth": 0,
             "ticks": ""
            },
            "type": "contourcarpet"
           }
          ],
          "heatmap": [
           {
            "colorbar": {
             "outlinewidth": 0,
             "ticks": ""
            },
            "colorscale": [
             [
              0,
              "#0d0887"
             ],
             [
              0.1111111111111111,
              "#46039f"
             ],
             [
              0.2222222222222222,
              "#7201a8"
             ],
             [
              0.3333333333333333,
              "#9c179e"
             ],
             [
              0.4444444444444444,
              "#bd3786"
             ],
             [
              0.5555555555555556,
              "#d8576b"
             ],
             [
              0.6666666666666666,
              "#ed7953"
             ],
             [
              0.7777777777777778,
              "#fb9f3a"
             ],
             [
              0.8888888888888888,
              "#fdca26"
             ],
             [
              1,
              "#f0f921"
             ]
            ],
            "type": "heatmap"
           }
          ],
          "heatmapgl": [
           {
            "colorbar": {
             "outlinewidth": 0,
             "ticks": ""
            },
            "colorscale": [
             [
              0,
              "#0d0887"
             ],
             [
              0.1111111111111111,
              "#46039f"
             ],
             [
              0.2222222222222222,
              "#7201a8"
             ],
             [
              0.3333333333333333,
              "#9c179e"
             ],
             [
              0.4444444444444444,
              "#bd3786"
             ],
             [
              0.5555555555555556,
              "#d8576b"
             ],
             [
              0.6666666666666666,
              "#ed7953"
             ],
             [
              0.7777777777777778,
              "#fb9f3a"
             ],
             [
              0.8888888888888888,
              "#fdca26"
             ],
             [
              1,
              "#f0f921"
             ]
            ],
            "type": "heatmapgl"
           }
          ],
          "histogram": [
           {
            "marker": {
             "pattern": {
              "fillmode": "overlay",
              "size": 10,
              "solidity": 0.2
             }
            },
            "type": "histogram"
           }
          ],
          "histogram2d": [
           {
            "colorbar": {
             "outlinewidth": 0,
             "ticks": ""
            },
            "colorscale": [
             [
              0,
              "#0d0887"
             ],
             [
              0.1111111111111111,
              "#46039f"
             ],
             [
              0.2222222222222222,
              "#7201a8"
             ],
             [
              0.3333333333333333,
              "#9c179e"
             ],
             [
              0.4444444444444444,
              "#bd3786"
             ],
             [
              0.5555555555555556,
              "#d8576b"
             ],
             [
              0.6666666666666666,
              "#ed7953"
             ],
             [
              0.7777777777777778,
              "#fb9f3a"
             ],
             [
              0.8888888888888888,
              "#fdca26"
             ],
             [
              1,
              "#f0f921"
             ]
            ],
            "type": "histogram2d"
           }
          ],
          "histogram2dcontour": [
           {
            "colorbar": {
             "outlinewidth": 0,
             "ticks": ""
            },
            "colorscale": [
             [
              0,
              "#0d0887"
             ],
             [
              0.1111111111111111,
              "#46039f"
             ],
             [
              0.2222222222222222,
              "#7201a8"
             ],
             [
              0.3333333333333333,
              "#9c179e"
             ],
             [
              0.4444444444444444,
              "#bd3786"
             ],
             [
              0.5555555555555556,
              "#d8576b"
             ],
             [
              0.6666666666666666,
              "#ed7953"
             ],
             [
              0.7777777777777778,
              "#fb9f3a"
             ],
             [
              0.8888888888888888,
              "#fdca26"
             ],
             [
              1,
              "#f0f921"
             ]
            ],
            "type": "histogram2dcontour"
           }
          ],
          "mesh3d": [
           {
            "colorbar": {
             "outlinewidth": 0,
             "ticks": ""
            },
            "type": "mesh3d"
           }
          ],
          "parcoords": [
           {
            "line": {
             "colorbar": {
              "outlinewidth": 0,
              "ticks": ""
             }
            },
            "type": "parcoords"
           }
          ],
          "pie": [
           {
            "automargin": true,
            "type": "pie"
           }
          ],
          "scatter": [
           {
            "fillpattern": {
             "fillmode": "overlay",
             "size": 10,
             "solidity": 0.2
            },
            "type": "scatter"
           }
          ],
          "scatter3d": [
           {
            "line": {
             "colorbar": {
              "outlinewidth": 0,
              "ticks": ""
             }
            },
            "marker": {
             "colorbar": {
              "outlinewidth": 0,
              "ticks": ""
             }
            },
            "type": "scatter3d"
           }
          ],
          "scattercarpet": [
           {
            "marker": {
             "colorbar": {
              "outlinewidth": 0,
              "ticks": ""
             }
            },
            "type": "scattercarpet"
           }
          ],
          "scattergeo": [
           {
            "marker": {
             "colorbar": {
              "outlinewidth": 0,
              "ticks": ""
             }
            },
            "type": "scattergeo"
           }
          ],
          "scattergl": [
           {
            "marker": {
             "colorbar": {
              "outlinewidth": 0,
              "ticks": ""
             }
            },
            "type": "scattergl"
           }
          ],
          "scattermapbox": [
           {
            "marker": {
             "colorbar": {
              "outlinewidth": 0,
              "ticks": ""
             }
            },
            "type": "scattermapbox"
           }
          ],
          "scatterpolar": [
           {
            "marker": {
             "colorbar": {
              "outlinewidth": 0,
              "ticks": ""
             }
            },
            "type": "scatterpolar"
           }
          ],
          "scatterpolargl": [
           {
            "marker": {
             "colorbar": {
              "outlinewidth": 0,
              "ticks": ""
             }
            },
            "type": "scatterpolargl"
           }
          ],
          "scatterternary": [
           {
            "marker": {
             "colorbar": {
              "outlinewidth": 0,
              "ticks": ""
             }
            },
            "type": "scatterternary"
           }
          ],
          "surface": [
           {
            "colorbar": {
             "outlinewidth": 0,
             "ticks": ""
            },
            "colorscale": [
             [
              0,
              "#0d0887"
             ],
             [
              0.1111111111111111,
              "#46039f"
             ],
             [
              0.2222222222222222,
              "#7201a8"
             ],
             [
              0.3333333333333333,
              "#9c179e"
             ],
             [
              0.4444444444444444,
              "#bd3786"
             ],
             [
              0.5555555555555556,
              "#d8576b"
             ],
             [
              0.6666666666666666,
              "#ed7953"
             ],
             [
              0.7777777777777778,
              "#fb9f3a"
             ],
             [
              0.8888888888888888,
              "#fdca26"
             ],
             [
              1,
              "#f0f921"
             ]
            ],
            "type": "surface"
           }
          ],
          "table": [
           {
            "cells": {
             "fill": {
              "color": "#EBF0F8"
             },
             "line": {
              "color": "white"
             }
            },
            "header": {
             "fill": {
              "color": "#C8D4E3"
             },
             "line": {
              "color": "white"
             }
            },
            "type": "table"
           }
          ]
         },
         "layout": {
          "annotationdefaults": {
           "arrowcolor": "#2a3f5f",
           "arrowhead": 0,
           "arrowwidth": 1
          },
          "autotypenumbers": "strict",
          "coloraxis": {
           "colorbar": {
            "outlinewidth": 0,
            "ticks": ""
           }
          },
          "colorscale": {
           "diverging": [
            [
             0,
             "#8e0152"
            ],
            [
             0.1,
             "#c51b7d"
            ],
            [
             0.2,
             "#de77ae"
            ],
            [
             0.3,
             "#f1b6da"
            ],
            [
             0.4,
             "#fde0ef"
            ],
            [
             0.5,
             "#f7f7f7"
            ],
            [
             0.6,
             "#e6f5d0"
            ],
            [
             0.7,
             "#b8e186"
            ],
            [
             0.8,
             "#7fbc41"
            ],
            [
             0.9,
             "#4d9221"
            ],
            [
             1,
             "#276419"
            ]
           ],
           "sequential": [
            [
             0,
             "#0d0887"
            ],
            [
             0.1111111111111111,
             "#46039f"
            ],
            [
             0.2222222222222222,
             "#7201a8"
            ],
            [
             0.3333333333333333,
             "#9c179e"
            ],
            [
             0.4444444444444444,
             "#bd3786"
            ],
            [
             0.5555555555555556,
             "#d8576b"
            ],
            [
             0.6666666666666666,
             "#ed7953"
            ],
            [
             0.7777777777777778,
             "#fb9f3a"
            ],
            [
             0.8888888888888888,
             "#fdca26"
            ],
            [
             1,
             "#f0f921"
            ]
           ],
           "sequentialminus": [
            [
             0,
             "#0d0887"
            ],
            [
             0.1111111111111111,
             "#46039f"
            ],
            [
             0.2222222222222222,
             "#7201a8"
            ],
            [
             0.3333333333333333,
             "#9c179e"
            ],
            [
             0.4444444444444444,
             "#bd3786"
            ],
            [
             0.5555555555555556,
             "#d8576b"
            ],
            [
             0.6666666666666666,
             "#ed7953"
            ],
            [
             0.7777777777777778,
             "#fb9f3a"
            ],
            [
             0.8888888888888888,
             "#fdca26"
            ],
            [
             1,
             "#f0f921"
            ]
           ]
          },
          "colorway": [
           "#636efa",
           "#EF553B",
           "#00cc96",
           "#ab63fa",
           "#FFA15A",
           "#19d3f3",
           "#FF6692",
           "#B6E880",
           "#FF97FF",
           "#FECB52"
          ],
          "font": {
           "color": "#2a3f5f"
          },
          "geo": {
           "bgcolor": "white",
           "lakecolor": "white",
           "landcolor": "#E5ECF6",
           "showlakes": true,
           "showland": true,
           "subunitcolor": "white"
          },
          "hoverlabel": {
           "align": "left"
          },
          "hovermode": "closest",
          "mapbox": {
           "style": "light"
          },
          "paper_bgcolor": "white",
          "plot_bgcolor": "#E5ECF6",
          "polar": {
           "angularaxis": {
            "gridcolor": "white",
            "linecolor": "white",
            "ticks": ""
           },
           "bgcolor": "#E5ECF6",
           "radialaxis": {
            "gridcolor": "white",
            "linecolor": "white",
            "ticks": ""
           }
          },
          "scene": {
           "xaxis": {
            "backgroundcolor": "#E5ECF6",
            "gridcolor": "white",
            "gridwidth": 2,
            "linecolor": "white",
            "showbackground": true,
            "ticks": "",
            "zerolinecolor": "white"
           },
           "yaxis": {
            "backgroundcolor": "#E5ECF6",
            "gridcolor": "white",
            "gridwidth": 2,
            "linecolor": "white",
            "showbackground": true,
            "ticks": "",
            "zerolinecolor": "white"
           },
           "zaxis": {
            "backgroundcolor": "#E5ECF6",
            "gridcolor": "white",
            "gridwidth": 2,
            "linecolor": "white",
            "showbackground": true,
            "ticks": "",
            "zerolinecolor": "white"
           }
          },
          "shapedefaults": {
           "line": {
            "color": "#2a3f5f"
           }
          },
          "ternary": {
           "aaxis": {
            "gridcolor": "white",
            "linecolor": "white",
            "ticks": ""
           },
           "baxis": {
            "gridcolor": "white",
            "linecolor": "white",
            "ticks": ""
           },
           "bgcolor": "#E5ECF6",
           "caxis": {
            "gridcolor": "white",
            "linecolor": "white",
            "ticks": ""
           }
          },
          "title": {
           "x": 0.05
          },
          "xaxis": {
           "automargin": true,
           "gridcolor": "white",
           "linecolor": "white",
           "ticks": "",
           "title": {
            "standoff": 15
           },
           "zerolinecolor": "white",
           "zerolinewidth": 2
          },
          "yaxis": {
           "automargin": true,
           "gridcolor": "white",
           "linecolor": "white",
           "ticks": "",
           "title": {
            "standoff": 15
           },
           "zerolinecolor": "white",
           "zerolinewidth": 2
          }
         }
        },
        "title": {
         "text": "Total Distance Run For Each Day of Week",
         "x": 0.5
        },
        "xaxis": {
         "anchor": "y",
         "domain": [
          0,
          1
         ],
         "title": {
          "text": "Day of Week"
         }
        },
        "yaxis": {
         "anchor": "x",
         "domain": [
          0,
          1
         ],
         "title": {
          "text": "Distance (km)"
         }
        }
       }
      }
     },
     "metadata": {},
     "output_type": "display_data"
    }
   ],
   "source": [
    "# TOTAL RUN DISTANCE FOR EACH DAY OF WEEK:\n",
    "import plotly.express as px\n",
    "fig = px.bar(dist_by_day, \n",
    "             x='Day of Week', \n",
    "             y='Distance', \n",
    "             text_auto='.2s', \n",
    "             title= \"Total Distance Run For Each Day of Week\",\n",
    "             )\n",
    "fig.update_traces(textfont_size=12, \n",
    "                  textangle=0, \n",
    "                  textposition=\"outside\", \n",
    "                  cliponaxis=False,\n",
    "                  marker_color=\"rgb(230, 81, 0)\",\n",
    "                  marker_line_color='rgb(230, 81, 0)'\n",
    "                  )\n",
    "\n",
    "fig.update_layout(paper_bgcolor='rgb(12, 29, 42)', \n",
    "                  plot_bgcolor='rgb(12, 29, 42)', \n",
    "                  font=dict(color='white'),\n",
    "                  title_x=0.5,\n",
    "                  yaxis_title='Distance (km)',\n",
    "                  )\n",
    "fig.show()\n"
   ]
  },
  {
   "cell_type": "code",
   "execution_count": null,
   "metadata": {},
   "outputs": [
    {
     "data": {
      "application/vnd.plotly.v1+json": {
       "config": {
        "plotlyServerURL": "https://plot.ly"
       },
       "data": [
        {
         "alignmentgroup": "True",
         "cliponaxis": false,
         "hovertemplate": "Day of Week=%{x}<br>Frequency=%{text}<extra></extra>",
         "legendgroup": "",
         "marker": {
          "color": "rgb(230, 81, 0)",
          "line": {
           "color": "rgb(230, 81, 0)"
          },
          "pattern": {
           "shape": ""
          }
         },
         "name": "",
         "offsetgroup": "",
         "orientation": "v",
         "showlegend": false,
         "text": [
          6,
          4,
          3,
          3,
          6,
          10
         ],
         "textangle": 0,
         "textfont": {
          "size": 12
         },
         "textposition": "outside",
         "type": "bar",
         "x": [
          "Tuesday",
          "Wednesday",
          "Thursday",
          "Friday",
          "Saturday",
          "Sunday"
         ],
         "xaxis": "x",
         "y": [
          6,
          4,
          3,
          3,
          6,
          10
         ],
         "yaxis": "y"
        }
       ],
       "layout": {
        "barmode": "relative",
        "font": {
         "color": "white"
        },
        "legend": {
         "tracegroupgap": 0
        },
        "paper_bgcolor": "rgb(12, 29, 42)",
        "plot_bgcolor": "rgb(12, 29, 42)",
        "template": {
         "data": {
          "bar": [
           {
            "error_x": {
             "color": "#2a3f5f"
            },
            "error_y": {
             "color": "#2a3f5f"
            },
            "marker": {
             "line": {
              "color": "#E5ECF6",
              "width": 0.5
             },
             "pattern": {
              "fillmode": "overlay",
              "size": 10,
              "solidity": 0.2
             }
            },
            "type": "bar"
           }
          ],
          "barpolar": [
           {
            "marker": {
             "line": {
              "color": "#E5ECF6",
              "width": 0.5
             },
             "pattern": {
              "fillmode": "overlay",
              "size": 10,
              "solidity": 0.2
             }
            },
            "type": "barpolar"
           }
          ],
          "carpet": [
           {
            "aaxis": {
             "endlinecolor": "#2a3f5f",
             "gridcolor": "white",
             "linecolor": "white",
             "minorgridcolor": "white",
             "startlinecolor": "#2a3f5f"
            },
            "baxis": {
             "endlinecolor": "#2a3f5f",
             "gridcolor": "white",
             "linecolor": "white",
             "minorgridcolor": "white",
             "startlinecolor": "#2a3f5f"
            },
            "type": "carpet"
           }
          ],
          "choropleth": [
           {
            "colorbar": {
             "outlinewidth": 0,
             "ticks": ""
            },
            "type": "choropleth"
           }
          ],
          "contour": [
           {
            "colorbar": {
             "outlinewidth": 0,
             "ticks": ""
            },
            "colorscale": [
             [
              0,
              "#0d0887"
             ],
             [
              0.1111111111111111,
              "#46039f"
             ],
             [
              0.2222222222222222,
              "#7201a8"
             ],
             [
              0.3333333333333333,
              "#9c179e"
             ],
             [
              0.4444444444444444,
              "#bd3786"
             ],
             [
              0.5555555555555556,
              "#d8576b"
             ],
             [
              0.6666666666666666,
              "#ed7953"
             ],
             [
              0.7777777777777778,
              "#fb9f3a"
             ],
             [
              0.8888888888888888,
              "#fdca26"
             ],
             [
              1,
              "#f0f921"
             ]
            ],
            "type": "contour"
           }
          ],
          "contourcarpet": [
           {
            "colorbar": {
             "outlinewidth": 0,
             "ticks": ""
            },
            "type": "contourcarpet"
           }
          ],
          "heatmap": [
           {
            "colorbar": {
             "outlinewidth": 0,
             "ticks": ""
            },
            "colorscale": [
             [
              0,
              "#0d0887"
             ],
             [
              0.1111111111111111,
              "#46039f"
             ],
             [
              0.2222222222222222,
              "#7201a8"
             ],
             [
              0.3333333333333333,
              "#9c179e"
             ],
             [
              0.4444444444444444,
              "#bd3786"
             ],
             [
              0.5555555555555556,
              "#d8576b"
             ],
             [
              0.6666666666666666,
              "#ed7953"
             ],
             [
              0.7777777777777778,
              "#fb9f3a"
             ],
             [
              0.8888888888888888,
              "#fdca26"
             ],
             [
              1,
              "#f0f921"
             ]
            ],
            "type": "heatmap"
           }
          ],
          "heatmapgl": [
           {
            "colorbar": {
             "outlinewidth": 0,
             "ticks": ""
            },
            "colorscale": [
             [
              0,
              "#0d0887"
             ],
             [
              0.1111111111111111,
              "#46039f"
             ],
             [
              0.2222222222222222,
              "#7201a8"
             ],
             [
              0.3333333333333333,
              "#9c179e"
             ],
             [
              0.4444444444444444,
              "#bd3786"
             ],
             [
              0.5555555555555556,
              "#d8576b"
             ],
             [
              0.6666666666666666,
              "#ed7953"
             ],
             [
              0.7777777777777778,
              "#fb9f3a"
             ],
             [
              0.8888888888888888,
              "#fdca26"
             ],
             [
              1,
              "#f0f921"
             ]
            ],
            "type": "heatmapgl"
           }
          ],
          "histogram": [
           {
            "marker": {
             "pattern": {
              "fillmode": "overlay",
              "size": 10,
              "solidity": 0.2
             }
            },
            "type": "histogram"
           }
          ],
          "histogram2d": [
           {
            "colorbar": {
             "outlinewidth": 0,
             "ticks": ""
            },
            "colorscale": [
             [
              0,
              "#0d0887"
             ],
             [
              0.1111111111111111,
              "#46039f"
             ],
             [
              0.2222222222222222,
              "#7201a8"
             ],
             [
              0.3333333333333333,
              "#9c179e"
             ],
             [
              0.4444444444444444,
              "#bd3786"
             ],
             [
              0.5555555555555556,
              "#d8576b"
             ],
             [
              0.6666666666666666,
              "#ed7953"
             ],
             [
              0.7777777777777778,
              "#fb9f3a"
             ],
             [
              0.8888888888888888,
              "#fdca26"
             ],
             [
              1,
              "#f0f921"
             ]
            ],
            "type": "histogram2d"
           }
          ],
          "histogram2dcontour": [
           {
            "colorbar": {
             "outlinewidth": 0,
             "ticks": ""
            },
            "colorscale": [
             [
              0,
              "#0d0887"
             ],
             [
              0.1111111111111111,
              "#46039f"
             ],
             [
              0.2222222222222222,
              "#7201a8"
             ],
             [
              0.3333333333333333,
              "#9c179e"
             ],
             [
              0.4444444444444444,
              "#bd3786"
             ],
             [
              0.5555555555555556,
              "#d8576b"
             ],
             [
              0.6666666666666666,
              "#ed7953"
             ],
             [
              0.7777777777777778,
              "#fb9f3a"
             ],
             [
              0.8888888888888888,
              "#fdca26"
             ],
             [
              1,
              "#f0f921"
             ]
            ],
            "type": "histogram2dcontour"
           }
          ],
          "mesh3d": [
           {
            "colorbar": {
             "outlinewidth": 0,
             "ticks": ""
            },
            "type": "mesh3d"
           }
          ],
          "parcoords": [
           {
            "line": {
             "colorbar": {
              "outlinewidth": 0,
              "ticks": ""
             }
            },
            "type": "parcoords"
           }
          ],
          "pie": [
           {
            "automargin": true,
            "type": "pie"
           }
          ],
          "scatter": [
           {
            "fillpattern": {
             "fillmode": "overlay",
             "size": 10,
             "solidity": 0.2
            },
            "type": "scatter"
           }
          ],
          "scatter3d": [
           {
            "line": {
             "colorbar": {
              "outlinewidth": 0,
              "ticks": ""
             }
            },
            "marker": {
             "colorbar": {
              "outlinewidth": 0,
              "ticks": ""
             }
            },
            "type": "scatter3d"
           }
          ],
          "scattercarpet": [
           {
            "marker": {
             "colorbar": {
              "outlinewidth": 0,
              "ticks": ""
             }
            },
            "type": "scattercarpet"
           }
          ],
          "scattergeo": [
           {
            "marker": {
             "colorbar": {
              "outlinewidth": 0,
              "ticks": ""
             }
            },
            "type": "scattergeo"
           }
          ],
          "scattergl": [
           {
            "marker": {
             "colorbar": {
              "outlinewidth": 0,
              "ticks": ""
             }
            },
            "type": "scattergl"
           }
          ],
          "scattermapbox": [
           {
            "marker": {
             "colorbar": {
              "outlinewidth": 0,
              "ticks": ""
             }
            },
            "type": "scattermapbox"
           }
          ],
          "scatterpolar": [
           {
            "marker": {
             "colorbar": {
              "outlinewidth": 0,
              "ticks": ""
             }
            },
            "type": "scatterpolar"
           }
          ],
          "scatterpolargl": [
           {
            "marker": {
             "colorbar": {
              "outlinewidth": 0,
              "ticks": ""
             }
            },
            "type": "scatterpolargl"
           }
          ],
          "scatterternary": [
           {
            "marker": {
             "colorbar": {
              "outlinewidth": 0,
              "ticks": ""
             }
            },
            "type": "scatterternary"
           }
          ],
          "surface": [
           {
            "colorbar": {
             "outlinewidth": 0,
             "ticks": ""
            },
            "colorscale": [
             [
              0,
              "#0d0887"
             ],
             [
              0.1111111111111111,
              "#46039f"
             ],
             [
              0.2222222222222222,
              "#7201a8"
             ],
             [
              0.3333333333333333,
              "#9c179e"
             ],
             [
              0.4444444444444444,
              "#bd3786"
             ],
             [
              0.5555555555555556,
              "#d8576b"
             ],
             [
              0.6666666666666666,
              "#ed7953"
             ],
             [
              0.7777777777777778,
              "#fb9f3a"
             ],
             [
              0.8888888888888888,
              "#fdca26"
             ],
             [
              1,
              "#f0f921"
             ]
            ],
            "type": "surface"
           }
          ],
          "table": [
           {
            "cells": {
             "fill": {
              "color": "#EBF0F8"
             },
             "line": {
              "color": "white"
             }
            },
            "header": {
             "fill": {
              "color": "#C8D4E3"
             },
             "line": {
              "color": "white"
             }
            },
            "type": "table"
           }
          ]
         },
         "layout": {
          "annotationdefaults": {
           "arrowcolor": "#2a3f5f",
           "arrowhead": 0,
           "arrowwidth": 1
          },
          "autotypenumbers": "strict",
          "coloraxis": {
           "colorbar": {
            "outlinewidth": 0,
            "ticks": ""
           }
          },
          "colorscale": {
           "diverging": [
            [
             0,
             "#8e0152"
            ],
            [
             0.1,
             "#c51b7d"
            ],
            [
             0.2,
             "#de77ae"
            ],
            [
             0.3,
             "#f1b6da"
            ],
            [
             0.4,
             "#fde0ef"
            ],
            [
             0.5,
             "#f7f7f7"
            ],
            [
             0.6,
             "#e6f5d0"
            ],
            [
             0.7,
             "#b8e186"
            ],
            [
             0.8,
             "#7fbc41"
            ],
            [
             0.9,
             "#4d9221"
            ],
            [
             1,
             "#276419"
            ]
           ],
           "sequential": [
            [
             0,
             "#0d0887"
            ],
            [
             0.1111111111111111,
             "#46039f"
            ],
            [
             0.2222222222222222,
             "#7201a8"
            ],
            [
             0.3333333333333333,
             "#9c179e"
            ],
            [
             0.4444444444444444,
             "#bd3786"
            ],
            [
             0.5555555555555556,
             "#d8576b"
            ],
            [
             0.6666666666666666,
             "#ed7953"
            ],
            [
             0.7777777777777778,
             "#fb9f3a"
            ],
            [
             0.8888888888888888,
             "#fdca26"
            ],
            [
             1,
             "#f0f921"
            ]
           ],
           "sequentialminus": [
            [
             0,
             "#0d0887"
            ],
            [
             0.1111111111111111,
             "#46039f"
            ],
            [
             0.2222222222222222,
             "#7201a8"
            ],
            [
             0.3333333333333333,
             "#9c179e"
            ],
            [
             0.4444444444444444,
             "#bd3786"
            ],
            [
             0.5555555555555556,
             "#d8576b"
            ],
            [
             0.6666666666666666,
             "#ed7953"
            ],
            [
             0.7777777777777778,
             "#fb9f3a"
            ],
            [
             0.8888888888888888,
             "#fdca26"
            ],
            [
             1,
             "#f0f921"
            ]
           ]
          },
          "colorway": [
           "#636efa",
           "#EF553B",
           "#00cc96",
           "#ab63fa",
           "#FFA15A",
           "#19d3f3",
           "#FF6692",
           "#B6E880",
           "#FF97FF",
           "#FECB52"
          ],
          "font": {
           "color": "#2a3f5f"
          },
          "geo": {
           "bgcolor": "white",
           "lakecolor": "white",
           "landcolor": "#E5ECF6",
           "showlakes": true,
           "showland": true,
           "subunitcolor": "white"
          },
          "hoverlabel": {
           "align": "left"
          },
          "hovermode": "closest",
          "mapbox": {
           "style": "light"
          },
          "paper_bgcolor": "white",
          "plot_bgcolor": "#E5ECF6",
          "polar": {
           "angularaxis": {
            "gridcolor": "white",
            "linecolor": "white",
            "ticks": ""
           },
           "bgcolor": "#E5ECF6",
           "radialaxis": {
            "gridcolor": "white",
            "linecolor": "white",
            "ticks": ""
           }
          },
          "scene": {
           "xaxis": {
            "backgroundcolor": "#E5ECF6",
            "gridcolor": "white",
            "gridwidth": 2,
            "linecolor": "white",
            "showbackground": true,
            "ticks": "",
            "zerolinecolor": "white"
           },
           "yaxis": {
            "backgroundcolor": "#E5ECF6",
            "gridcolor": "white",
            "gridwidth": 2,
            "linecolor": "white",
            "showbackground": true,
            "ticks": "",
            "zerolinecolor": "white"
           },
           "zaxis": {
            "backgroundcolor": "#E5ECF6",
            "gridcolor": "white",
            "gridwidth": 2,
            "linecolor": "white",
            "showbackground": true,
            "ticks": "",
            "zerolinecolor": "white"
           }
          },
          "shapedefaults": {
           "line": {
            "color": "#2a3f5f"
           }
          },
          "ternary": {
           "aaxis": {
            "gridcolor": "white",
            "linecolor": "white",
            "ticks": ""
           },
           "baxis": {
            "gridcolor": "white",
            "linecolor": "white",
            "ticks": ""
           },
           "bgcolor": "#E5ECF6",
           "caxis": {
            "gridcolor": "white",
            "linecolor": "white",
            "ticks": ""
           }
          },
          "title": {
           "x": 0.05
          },
          "xaxis": {
           "automargin": true,
           "gridcolor": "white",
           "linecolor": "white",
           "ticks": "",
           "title": {
            "standoff": 15
           },
           "zerolinecolor": "white",
           "zerolinewidth": 2
          },
          "yaxis": {
           "automargin": true,
           "gridcolor": "white",
           "linecolor": "white",
           "ticks": "",
           "title": {
            "standoff": 15
           },
           "zerolinecolor": "white",
           "zerolinewidth": 2
          }
         }
        },
        "title": {
         "text": "Total Frequency of Runs Each Day of Week",
         "x": 0.5
        },
        "xaxis": {
         "anchor": "y",
         "domain": [
          0,
          1
         ],
         "title": {
          "text": "Day of Week"
         }
        },
        "yaxis": {
         "anchor": "x",
         "domain": [
          0,
          1
         ],
         "title": {
          "text": "Distance (km)"
         }
        }
       }
      }
     },
     "metadata": {},
     "output_type": "display_data"
    }
   ],
   "source": [
    "# FREQUENCY OF RUNS BY DAY OF WEEK\n",
    "\n",
    "fig = px.bar(freq_by_day, x='Day of Week', y='Frequency', text='Frequency', title= \"Total Frequency of Runs Each Day of Week\")\n",
    "fig.update_traces(textfont_size=12, \n",
    "                  textangle=0, \n",
    "                  textposition=\"outside\", \n",
    "                  cliponaxis=False,\n",
    "                  marker_color=\"rgb(230, 81, 0)\",\n",
    "                  marker_line_color='rgb(230, 81, 0)'\n",
    "                  )\n",
    "\n",
    "fig.update_layout(paper_bgcolor='rgb(12, 29, 42)', \n",
    "                  plot_bgcolor='rgb(12, 29, 42)', \n",
    "                  font=dict(color='white'),\n",
    "                  title_x=0.5,\n",
    "                  yaxis_title='Distance (km)',\n",
    "                  )\n",
    "fig.show()"
   ]
  },
  {
   "cell_type": "code",
   "execution_count": null,
   "metadata": {},
   "outputs": [
    {
     "data": {
      "application/vnd.plotly.v1+json": {
       "config": {
        "plotlyServerURL": "https://plot.ly"
       },
       "data": [
        {
         "alignmentgroup": "True",
         "cliponaxis": false,
         "hovertemplate": "elapsed hours=%{text}<br>Week=%{y}<extra></extra>",
         "legendgroup": "",
         "marker": {
          "color": "rgb(230, 81, 0)",
          "line": {
           "color": "rgb(230, 81, 0)"
          },
          "pattern": {
           "shape": ""
          }
         },
         "name": "",
         "offsetgroup": "",
         "orientation": "h",
         "showlegend": false,
         "text": [
          1,
          3.3,
          4.6,
          2.3,
          0.5
         ],
         "textangle": 0,
         "textfont": {
          "size": 12
         },
         "textposition": "outside",
         "type": "bar",
         "x": [
          1,
          3.3,
          4.6,
          2.3,
          0.5
         ],
         "xaxis": "x",
         "y": [
          "1",
          "2",
          "3",
          "4",
          "5"
         ],
         "yaxis": "y"
        }
       ],
       "layout": {
        "barmode": "relative",
        "font": {
         "color": "white"
        },
        "legend": {
         "tracegroupgap": 0
        },
        "paper_bgcolor": "rgb(12, 29, 42)",
        "plot_bgcolor": "rgb(12, 29, 42)",
        "template": {
         "data": {
          "bar": [
           {
            "error_x": {
             "color": "#2a3f5f"
            },
            "error_y": {
             "color": "#2a3f5f"
            },
            "marker": {
             "line": {
              "color": "#E5ECF6",
              "width": 0.5
             },
             "pattern": {
              "fillmode": "overlay",
              "size": 10,
              "solidity": 0.2
             }
            },
            "type": "bar"
           }
          ],
          "barpolar": [
           {
            "marker": {
             "line": {
              "color": "#E5ECF6",
              "width": 0.5
             },
             "pattern": {
              "fillmode": "overlay",
              "size": 10,
              "solidity": 0.2
             }
            },
            "type": "barpolar"
           }
          ],
          "carpet": [
           {
            "aaxis": {
             "endlinecolor": "#2a3f5f",
             "gridcolor": "white",
             "linecolor": "white",
             "minorgridcolor": "white",
             "startlinecolor": "#2a3f5f"
            },
            "baxis": {
             "endlinecolor": "#2a3f5f",
             "gridcolor": "white",
             "linecolor": "white",
             "minorgridcolor": "white",
             "startlinecolor": "#2a3f5f"
            },
            "type": "carpet"
           }
          ],
          "choropleth": [
           {
            "colorbar": {
             "outlinewidth": 0,
             "ticks": ""
            },
            "type": "choropleth"
           }
          ],
          "contour": [
           {
            "colorbar": {
             "outlinewidth": 0,
             "ticks": ""
            },
            "colorscale": [
             [
              0,
              "#0d0887"
             ],
             [
              0.1111111111111111,
              "#46039f"
             ],
             [
              0.2222222222222222,
              "#7201a8"
             ],
             [
              0.3333333333333333,
              "#9c179e"
             ],
             [
              0.4444444444444444,
              "#bd3786"
             ],
             [
              0.5555555555555556,
              "#d8576b"
             ],
             [
              0.6666666666666666,
              "#ed7953"
             ],
             [
              0.7777777777777778,
              "#fb9f3a"
             ],
             [
              0.8888888888888888,
              "#fdca26"
             ],
             [
              1,
              "#f0f921"
             ]
            ],
            "type": "contour"
           }
          ],
          "contourcarpet": [
           {
            "colorbar": {
             "outlinewidth": 0,
             "ticks": ""
            },
            "type": "contourcarpet"
           }
          ],
          "heatmap": [
           {
            "colorbar": {
             "outlinewidth": 0,
             "ticks": ""
            },
            "colorscale": [
             [
              0,
              "#0d0887"
             ],
             [
              0.1111111111111111,
              "#46039f"
             ],
             [
              0.2222222222222222,
              "#7201a8"
             ],
             [
              0.3333333333333333,
              "#9c179e"
             ],
             [
              0.4444444444444444,
              "#bd3786"
             ],
             [
              0.5555555555555556,
              "#d8576b"
             ],
             [
              0.6666666666666666,
              "#ed7953"
             ],
             [
              0.7777777777777778,
              "#fb9f3a"
             ],
             [
              0.8888888888888888,
              "#fdca26"
             ],
             [
              1,
              "#f0f921"
             ]
            ],
            "type": "heatmap"
           }
          ],
          "heatmapgl": [
           {
            "colorbar": {
             "outlinewidth": 0,
             "ticks": ""
            },
            "colorscale": [
             [
              0,
              "#0d0887"
             ],
             [
              0.1111111111111111,
              "#46039f"
             ],
             [
              0.2222222222222222,
              "#7201a8"
             ],
             [
              0.3333333333333333,
              "#9c179e"
             ],
             [
              0.4444444444444444,
              "#bd3786"
             ],
             [
              0.5555555555555556,
              "#d8576b"
             ],
             [
              0.6666666666666666,
              "#ed7953"
             ],
             [
              0.7777777777777778,
              "#fb9f3a"
             ],
             [
              0.8888888888888888,
              "#fdca26"
             ],
             [
              1,
              "#f0f921"
             ]
            ],
            "type": "heatmapgl"
           }
          ],
          "histogram": [
           {
            "marker": {
             "pattern": {
              "fillmode": "overlay",
              "size": 10,
              "solidity": 0.2
             }
            },
            "type": "histogram"
           }
          ],
          "histogram2d": [
           {
            "colorbar": {
             "outlinewidth": 0,
             "ticks": ""
            },
            "colorscale": [
             [
              0,
              "#0d0887"
             ],
             [
              0.1111111111111111,
              "#46039f"
             ],
             [
              0.2222222222222222,
              "#7201a8"
             ],
             [
              0.3333333333333333,
              "#9c179e"
             ],
             [
              0.4444444444444444,
              "#bd3786"
             ],
             [
              0.5555555555555556,
              "#d8576b"
             ],
             [
              0.6666666666666666,
              "#ed7953"
             ],
             [
              0.7777777777777778,
              "#fb9f3a"
             ],
             [
              0.8888888888888888,
              "#fdca26"
             ],
             [
              1,
              "#f0f921"
             ]
            ],
            "type": "histogram2d"
           }
          ],
          "histogram2dcontour": [
           {
            "colorbar": {
             "outlinewidth": 0,
             "ticks": ""
            },
            "colorscale": [
             [
              0,
              "#0d0887"
             ],
             [
              0.1111111111111111,
              "#46039f"
             ],
             [
              0.2222222222222222,
              "#7201a8"
             ],
             [
              0.3333333333333333,
              "#9c179e"
             ],
             [
              0.4444444444444444,
              "#bd3786"
             ],
             [
              0.5555555555555556,
              "#d8576b"
             ],
             [
              0.6666666666666666,
              "#ed7953"
             ],
             [
              0.7777777777777778,
              "#fb9f3a"
             ],
             [
              0.8888888888888888,
              "#fdca26"
             ],
             [
              1,
              "#f0f921"
             ]
            ],
            "type": "histogram2dcontour"
           }
          ],
          "mesh3d": [
           {
            "colorbar": {
             "outlinewidth": 0,
             "ticks": ""
            },
            "type": "mesh3d"
           }
          ],
          "parcoords": [
           {
            "line": {
             "colorbar": {
              "outlinewidth": 0,
              "ticks": ""
             }
            },
            "type": "parcoords"
           }
          ],
          "pie": [
           {
            "automargin": true,
            "type": "pie"
           }
          ],
          "scatter": [
           {
            "fillpattern": {
             "fillmode": "overlay",
             "size": 10,
             "solidity": 0.2
            },
            "type": "scatter"
           }
          ],
          "scatter3d": [
           {
            "line": {
             "colorbar": {
              "outlinewidth": 0,
              "ticks": ""
             }
            },
            "marker": {
             "colorbar": {
              "outlinewidth": 0,
              "ticks": ""
             }
            },
            "type": "scatter3d"
           }
          ],
          "scattercarpet": [
           {
            "marker": {
             "colorbar": {
              "outlinewidth": 0,
              "ticks": ""
             }
            },
            "type": "scattercarpet"
           }
          ],
          "scattergeo": [
           {
            "marker": {
             "colorbar": {
              "outlinewidth": 0,
              "ticks": ""
             }
            },
            "type": "scattergeo"
           }
          ],
          "scattergl": [
           {
            "marker": {
             "colorbar": {
              "outlinewidth": 0,
              "ticks": ""
             }
            },
            "type": "scattergl"
           }
          ],
          "scattermapbox": [
           {
            "marker": {
             "colorbar": {
              "outlinewidth": 0,
              "ticks": ""
             }
            },
            "type": "scattermapbox"
           }
          ],
          "scatterpolar": [
           {
            "marker": {
             "colorbar": {
              "outlinewidth": 0,
              "ticks": ""
             }
            },
            "type": "scatterpolar"
           }
          ],
          "scatterpolargl": [
           {
            "marker": {
             "colorbar": {
              "outlinewidth": 0,
              "ticks": ""
             }
            },
            "type": "scatterpolargl"
           }
          ],
          "scatterternary": [
           {
            "marker": {
             "colorbar": {
              "outlinewidth": 0,
              "ticks": ""
             }
            },
            "type": "scatterternary"
           }
          ],
          "surface": [
           {
            "colorbar": {
             "outlinewidth": 0,
             "ticks": ""
            },
            "colorscale": [
             [
              0,
              "#0d0887"
             ],
             [
              0.1111111111111111,
              "#46039f"
             ],
             [
              0.2222222222222222,
              "#7201a8"
             ],
             [
              0.3333333333333333,
              "#9c179e"
             ],
             [
              0.4444444444444444,
              "#bd3786"
             ],
             [
              0.5555555555555556,
              "#d8576b"
             ],
             [
              0.6666666666666666,
              "#ed7953"
             ],
             [
              0.7777777777777778,
              "#fb9f3a"
             ],
             [
              0.8888888888888888,
              "#fdca26"
             ],
             [
              1,
              "#f0f921"
             ]
            ],
            "type": "surface"
           }
          ],
          "table": [
           {
            "cells": {
             "fill": {
              "color": "#EBF0F8"
             },
             "line": {
              "color": "white"
             }
            },
            "header": {
             "fill": {
              "color": "#C8D4E3"
             },
             "line": {
              "color": "white"
             }
            },
            "type": "table"
           }
          ]
         },
         "layout": {
          "annotationdefaults": {
           "arrowcolor": "#2a3f5f",
           "arrowhead": 0,
           "arrowwidth": 1
          },
          "autotypenumbers": "strict",
          "coloraxis": {
           "colorbar": {
            "outlinewidth": 0,
            "ticks": ""
           }
          },
          "colorscale": {
           "diverging": [
            [
             0,
             "#8e0152"
            ],
            [
             0.1,
             "#c51b7d"
            ],
            [
             0.2,
             "#de77ae"
            ],
            [
             0.3,
             "#f1b6da"
            ],
            [
             0.4,
             "#fde0ef"
            ],
            [
             0.5,
             "#f7f7f7"
            ],
            [
             0.6,
             "#e6f5d0"
            ],
            [
             0.7,
             "#b8e186"
            ],
            [
             0.8,
             "#7fbc41"
            ],
            [
             0.9,
             "#4d9221"
            ],
            [
             1,
             "#276419"
            ]
           ],
           "sequential": [
            [
             0,
             "#0d0887"
            ],
            [
             0.1111111111111111,
             "#46039f"
            ],
            [
             0.2222222222222222,
             "#7201a8"
            ],
            [
             0.3333333333333333,
             "#9c179e"
            ],
            [
             0.4444444444444444,
             "#bd3786"
            ],
            [
             0.5555555555555556,
             "#d8576b"
            ],
            [
             0.6666666666666666,
             "#ed7953"
            ],
            [
             0.7777777777777778,
             "#fb9f3a"
            ],
            [
             0.8888888888888888,
             "#fdca26"
            ],
            [
             1,
             "#f0f921"
            ]
           ],
           "sequentialminus": [
            [
             0,
             "#0d0887"
            ],
            [
             0.1111111111111111,
             "#46039f"
            ],
            [
             0.2222222222222222,
             "#7201a8"
            ],
            [
             0.3333333333333333,
             "#9c179e"
            ],
            [
             0.4444444444444444,
             "#bd3786"
            ],
            [
             0.5555555555555556,
             "#d8576b"
            ],
            [
             0.6666666666666666,
             "#ed7953"
            ],
            [
             0.7777777777777778,
             "#fb9f3a"
            ],
            [
             0.8888888888888888,
             "#fdca26"
            ],
            [
             1,
             "#f0f921"
            ]
           ]
          },
          "colorway": [
           "#636efa",
           "#EF553B",
           "#00cc96",
           "#ab63fa",
           "#FFA15A",
           "#19d3f3",
           "#FF6692",
           "#B6E880",
           "#FF97FF",
           "#FECB52"
          ],
          "font": {
           "color": "#2a3f5f"
          },
          "geo": {
           "bgcolor": "white",
           "lakecolor": "white",
           "landcolor": "#E5ECF6",
           "showlakes": true,
           "showland": true,
           "subunitcolor": "white"
          },
          "hoverlabel": {
           "align": "left"
          },
          "hovermode": "closest",
          "mapbox": {
           "style": "light"
          },
          "paper_bgcolor": "white",
          "plot_bgcolor": "#E5ECF6",
          "polar": {
           "angularaxis": {
            "gridcolor": "white",
            "linecolor": "white",
            "ticks": ""
           },
           "bgcolor": "#E5ECF6",
           "radialaxis": {
            "gridcolor": "white",
            "linecolor": "white",
            "ticks": ""
           }
          },
          "scene": {
           "xaxis": {
            "backgroundcolor": "#E5ECF6",
            "gridcolor": "white",
            "gridwidth": 2,
            "linecolor": "white",
            "showbackground": true,
            "ticks": "",
            "zerolinecolor": "white"
           },
           "yaxis": {
            "backgroundcolor": "#E5ECF6",
            "gridcolor": "white",
            "gridwidth": 2,
            "linecolor": "white",
            "showbackground": true,
            "ticks": "",
            "zerolinecolor": "white"
           },
           "zaxis": {
            "backgroundcolor": "#E5ECF6",
            "gridcolor": "white",
            "gridwidth": 2,
            "linecolor": "white",
            "showbackground": true,
            "ticks": "",
            "zerolinecolor": "white"
           }
          },
          "shapedefaults": {
           "line": {
            "color": "#2a3f5f"
           }
          },
          "ternary": {
           "aaxis": {
            "gridcolor": "white",
            "linecolor": "white",
            "ticks": ""
           },
           "baxis": {
            "gridcolor": "white",
            "linecolor": "white",
            "ticks": ""
           },
           "bgcolor": "#E5ECF6",
           "caxis": {
            "gridcolor": "white",
            "linecolor": "white",
            "ticks": ""
           }
          },
          "title": {
           "x": 0.05
          },
          "xaxis": {
           "automargin": true,
           "gridcolor": "white",
           "linecolor": "white",
           "ticks": "",
           "title": {
            "standoff": 15
           },
           "zerolinecolor": "white",
           "zerolinewidth": 2
          },
          "yaxis": {
           "automargin": true,
           "gridcolor": "white",
           "linecolor": "white",
           "ticks": "",
           "title": {
            "standoff": 15
           },
           "zerolinecolor": "white",
           "zerolinewidth": 2
          }
         }
        },
        "title": {
         "text": "Training Hours Per Week",
         "x": 0.5
        },
        "xaxis": {
         "anchor": "y",
         "domain": [
          0,
          1
         ],
         "title": {
          "text": "elapsed hours"
         }
        },
        "yaxis": {
         "anchor": "x",
         "autorange": "reversed",
         "domain": [
          0,
          1
         ],
         "title": {
          "text": "Week"
         }
        }
       }
      }
     },
     "metadata": {},
     "output_type": "display_data"
    }
   ],
   "source": [
    "# TOTAL HOURS RUN PER WEEK\n",
    "\n",
    "fig = px.bar(hrs_per_week, x='elapsed hours', y='Week', text='elapsed hours', title= \"Training Hours Per Week\", orientation='h')\n",
    "fig.update_traces(textfont_size=12, \n",
    "                  textangle=0, \n",
    "                  textposition=\"outside\", \n",
    "                  cliponaxis=False,\n",
    "                  marker_color=\"rgb(230, 81, 0)\",\n",
    "                  marker_line_color='rgb(230, 81, 0)'\n",
    "                  )\n",
    "\n",
    "fig.update_layout(paper_bgcolor='rgb(12, 29, 42)', \n",
    "                  plot_bgcolor='rgb(12, 29, 42)', \n",
    "                  font=dict(color='white'),\n",
    "                  title_x=0.5,\n",
    "                  )\n",
    "fig.update_yaxes(autorange='reversed')\n",
    "fig.show()\n"
   ]
  },
  {
   "cell_type": "code",
   "execution_count": null,
   "metadata": {},
   "outputs": [
    {
     "data": {
      "application/vnd.plotly.v1+json": {
       "config": {
        "plotlyServerURL": "https://plot.ly"
       },
       "data": [
        {
         "hovertemplate": "start_date=%{x}<br>avg pace=%{y}<extra></extra>",
         "legendgroup": "",
         "line": {
          "color": "rgb(230, 81, 0)",
          "dash": "solid"
         },
         "marker": {
          "color": "rgb(230, 81, 0)",
          "line": {
           "color": "rgb(230, 81, 0)"
          },
          "symbol": "circle"
         },
         "mode": "lines+markers",
         "name": "",
         "orientation": "v",
         "showlegend": false,
         "type": "scatter",
         "x": [
          "2024-05-21",
          "2024-05-23",
          "2024-05-25",
          "2024-05-28"
         ],
         "xaxis": "x",
         "y": [
          6.9,
          5.93,
          8.21,
          8.95
         ],
         "yaxis": "y"
        }
       ],
       "layout": {
        "font": {
         "color": "white"
        },
        "legend": {
         "tracegroupgap": 0
        },
        "paper_bgcolor": "rgb(12, 29, 42)",
        "plot_bgcolor": "rgb(12, 29, 42)",
        "template": {
         "data": {
          "bar": [
           {
            "error_x": {
             "color": "#2a3f5f"
            },
            "error_y": {
             "color": "#2a3f5f"
            },
            "marker": {
             "line": {
              "color": "#E5ECF6",
              "width": 0.5
             },
             "pattern": {
              "fillmode": "overlay",
              "size": 10,
              "solidity": 0.2
             }
            },
            "type": "bar"
           }
          ],
          "barpolar": [
           {
            "marker": {
             "line": {
              "color": "#E5ECF6",
              "width": 0.5
             },
             "pattern": {
              "fillmode": "overlay",
              "size": 10,
              "solidity": 0.2
             }
            },
            "type": "barpolar"
           }
          ],
          "carpet": [
           {
            "aaxis": {
             "endlinecolor": "#2a3f5f",
             "gridcolor": "white",
             "linecolor": "white",
             "minorgridcolor": "white",
             "startlinecolor": "#2a3f5f"
            },
            "baxis": {
             "endlinecolor": "#2a3f5f",
             "gridcolor": "white",
             "linecolor": "white",
             "minorgridcolor": "white",
             "startlinecolor": "#2a3f5f"
            },
            "type": "carpet"
           }
          ],
          "choropleth": [
           {
            "colorbar": {
             "outlinewidth": 0,
             "ticks": ""
            },
            "type": "choropleth"
           }
          ],
          "contour": [
           {
            "colorbar": {
             "outlinewidth": 0,
             "ticks": ""
            },
            "colorscale": [
             [
              0,
              "#0d0887"
             ],
             [
              0.1111111111111111,
              "#46039f"
             ],
             [
              0.2222222222222222,
              "#7201a8"
             ],
             [
              0.3333333333333333,
              "#9c179e"
             ],
             [
              0.4444444444444444,
              "#bd3786"
             ],
             [
              0.5555555555555556,
              "#d8576b"
             ],
             [
              0.6666666666666666,
              "#ed7953"
             ],
             [
              0.7777777777777778,
              "#fb9f3a"
             ],
             [
              0.8888888888888888,
              "#fdca26"
             ],
             [
              1,
              "#f0f921"
             ]
            ],
            "type": "contour"
           }
          ],
          "contourcarpet": [
           {
            "colorbar": {
             "outlinewidth": 0,
             "ticks": ""
            },
            "type": "contourcarpet"
           }
          ],
          "heatmap": [
           {
            "colorbar": {
             "outlinewidth": 0,
             "ticks": ""
            },
            "colorscale": [
             [
              0,
              "#0d0887"
             ],
             [
              0.1111111111111111,
              "#46039f"
             ],
             [
              0.2222222222222222,
              "#7201a8"
             ],
             [
              0.3333333333333333,
              "#9c179e"
             ],
             [
              0.4444444444444444,
              "#bd3786"
             ],
             [
              0.5555555555555556,
              "#d8576b"
             ],
             [
              0.6666666666666666,
              "#ed7953"
             ],
             [
              0.7777777777777778,
              "#fb9f3a"
             ],
             [
              0.8888888888888888,
              "#fdca26"
             ],
             [
              1,
              "#f0f921"
             ]
            ],
            "type": "heatmap"
           }
          ],
          "heatmapgl": [
           {
            "colorbar": {
             "outlinewidth": 0,
             "ticks": ""
            },
            "colorscale": [
             [
              0,
              "#0d0887"
             ],
             [
              0.1111111111111111,
              "#46039f"
             ],
             [
              0.2222222222222222,
              "#7201a8"
             ],
             [
              0.3333333333333333,
              "#9c179e"
             ],
             [
              0.4444444444444444,
              "#bd3786"
             ],
             [
              0.5555555555555556,
              "#d8576b"
             ],
             [
              0.6666666666666666,
              "#ed7953"
             ],
             [
              0.7777777777777778,
              "#fb9f3a"
             ],
             [
              0.8888888888888888,
              "#fdca26"
             ],
             [
              1,
              "#f0f921"
             ]
            ],
            "type": "heatmapgl"
           }
          ],
          "histogram": [
           {
            "marker": {
             "pattern": {
              "fillmode": "overlay",
              "size": 10,
              "solidity": 0.2
             }
            },
            "type": "histogram"
           }
          ],
          "histogram2d": [
           {
            "colorbar": {
             "outlinewidth": 0,
             "ticks": ""
            },
            "colorscale": [
             [
              0,
              "#0d0887"
             ],
             [
              0.1111111111111111,
              "#46039f"
             ],
             [
              0.2222222222222222,
              "#7201a8"
             ],
             [
              0.3333333333333333,
              "#9c179e"
             ],
             [
              0.4444444444444444,
              "#bd3786"
             ],
             [
              0.5555555555555556,
              "#d8576b"
             ],
             [
              0.6666666666666666,
              "#ed7953"
             ],
             [
              0.7777777777777778,
              "#fb9f3a"
             ],
             [
              0.8888888888888888,
              "#fdca26"
             ],
             [
              1,
              "#f0f921"
             ]
            ],
            "type": "histogram2d"
           }
          ],
          "histogram2dcontour": [
           {
            "colorbar": {
             "outlinewidth": 0,
             "ticks": ""
            },
            "colorscale": [
             [
              0,
              "#0d0887"
             ],
             [
              0.1111111111111111,
              "#46039f"
             ],
             [
              0.2222222222222222,
              "#7201a8"
             ],
             [
              0.3333333333333333,
              "#9c179e"
             ],
             [
              0.4444444444444444,
              "#bd3786"
             ],
             [
              0.5555555555555556,
              "#d8576b"
             ],
             [
              0.6666666666666666,
              "#ed7953"
             ],
             [
              0.7777777777777778,
              "#fb9f3a"
             ],
             [
              0.8888888888888888,
              "#fdca26"
             ],
             [
              1,
              "#f0f921"
             ]
            ],
            "type": "histogram2dcontour"
           }
          ],
          "mesh3d": [
           {
            "colorbar": {
             "outlinewidth": 0,
             "ticks": ""
            },
            "type": "mesh3d"
           }
          ],
          "parcoords": [
           {
            "line": {
             "colorbar": {
              "outlinewidth": 0,
              "ticks": ""
             }
            },
            "type": "parcoords"
           }
          ],
          "pie": [
           {
            "automargin": true,
            "type": "pie"
           }
          ],
          "scatter": [
           {
            "fillpattern": {
             "fillmode": "overlay",
             "size": 10,
             "solidity": 0.2
            },
            "type": "scatter"
           }
          ],
          "scatter3d": [
           {
            "line": {
             "colorbar": {
              "outlinewidth": 0,
              "ticks": ""
             }
            },
            "marker": {
             "colorbar": {
              "outlinewidth": 0,
              "ticks": ""
             }
            },
            "type": "scatter3d"
           }
          ],
          "scattercarpet": [
           {
            "marker": {
             "colorbar": {
              "outlinewidth": 0,
              "ticks": ""
             }
            },
            "type": "scattercarpet"
           }
          ],
          "scattergeo": [
           {
            "marker": {
             "colorbar": {
              "outlinewidth": 0,
              "ticks": ""
             }
            },
            "type": "scattergeo"
           }
          ],
          "scattergl": [
           {
            "marker": {
             "colorbar": {
              "outlinewidth": 0,
              "ticks": ""
             }
            },
            "type": "scattergl"
           }
          ],
          "scattermapbox": [
           {
            "marker": {
             "colorbar": {
              "outlinewidth": 0,
              "ticks": ""
             }
            },
            "type": "scattermapbox"
           }
          ],
          "scatterpolar": [
           {
            "marker": {
             "colorbar": {
              "outlinewidth": 0,
              "ticks": ""
             }
            },
            "type": "scatterpolar"
           }
          ],
          "scatterpolargl": [
           {
            "marker": {
             "colorbar": {
              "outlinewidth": 0,
              "ticks": ""
             }
            },
            "type": "scatterpolargl"
           }
          ],
          "scatterternary": [
           {
            "marker": {
             "colorbar": {
              "outlinewidth": 0,
              "ticks": ""
             }
            },
            "type": "scatterternary"
           }
          ],
          "surface": [
           {
            "colorbar": {
             "outlinewidth": 0,
             "ticks": ""
            },
            "colorscale": [
             [
              0,
              "#0d0887"
             ],
             [
              0.1111111111111111,
              "#46039f"
             ],
             [
              0.2222222222222222,
              "#7201a8"
             ],
             [
              0.3333333333333333,
              "#9c179e"
             ],
             [
              0.4444444444444444,
              "#bd3786"
             ],
             [
              0.5555555555555556,
              "#d8576b"
             ],
             [
              0.6666666666666666,
              "#ed7953"
             ],
             [
              0.7777777777777778,
              "#fb9f3a"
             ],
             [
              0.8888888888888888,
              "#fdca26"
             ],
             [
              1,
              "#f0f921"
             ]
            ],
            "type": "surface"
           }
          ],
          "table": [
           {
            "cells": {
             "fill": {
              "color": "#EBF0F8"
             },
             "line": {
              "color": "white"
             }
            },
            "header": {
             "fill": {
              "color": "#C8D4E3"
             },
             "line": {
              "color": "white"
             }
            },
            "type": "table"
           }
          ]
         },
         "layout": {
          "annotationdefaults": {
           "arrowcolor": "#2a3f5f",
           "arrowhead": 0,
           "arrowwidth": 1
          },
          "autotypenumbers": "strict",
          "coloraxis": {
           "colorbar": {
            "outlinewidth": 0,
            "ticks": ""
           }
          },
          "colorscale": {
           "diverging": [
            [
             0,
             "#8e0152"
            ],
            [
             0.1,
             "#c51b7d"
            ],
            [
             0.2,
             "#de77ae"
            ],
            [
             0.3,
             "#f1b6da"
            ],
            [
             0.4,
             "#fde0ef"
            ],
            [
             0.5,
             "#f7f7f7"
            ],
            [
             0.6,
             "#e6f5d0"
            ],
            [
             0.7,
             "#b8e186"
            ],
            [
             0.8,
             "#7fbc41"
            ],
            [
             0.9,
             "#4d9221"
            ],
            [
             1,
             "#276419"
            ]
           ],
           "sequential": [
            [
             0,
             "#0d0887"
            ],
            [
             0.1111111111111111,
             "#46039f"
            ],
            [
             0.2222222222222222,
             "#7201a8"
            ],
            [
             0.3333333333333333,
             "#9c179e"
            ],
            [
             0.4444444444444444,
             "#bd3786"
            ],
            [
             0.5555555555555556,
             "#d8576b"
            ],
            [
             0.6666666666666666,
             "#ed7953"
            ],
            [
             0.7777777777777778,
             "#fb9f3a"
            ],
            [
             0.8888888888888888,
             "#fdca26"
            ],
            [
             1,
             "#f0f921"
            ]
           ],
           "sequentialminus": [
            [
             0,
             "#0d0887"
            ],
            [
             0.1111111111111111,
             "#46039f"
            ],
            [
             0.2222222222222222,
             "#7201a8"
            ],
            [
             0.3333333333333333,
             "#9c179e"
            ],
            [
             0.4444444444444444,
             "#bd3786"
            ],
            [
             0.5555555555555556,
             "#d8576b"
            ],
            [
             0.6666666666666666,
             "#ed7953"
            ],
            [
             0.7777777777777778,
             "#fb9f3a"
            ],
            [
             0.8888888888888888,
             "#fdca26"
            ],
            [
             1,
             "#f0f921"
            ]
           ]
          },
          "colorway": [
           "#636efa",
           "#EF553B",
           "#00cc96",
           "#ab63fa",
           "#FFA15A",
           "#19d3f3",
           "#FF6692",
           "#B6E880",
           "#FF97FF",
           "#FECB52"
          ],
          "font": {
           "color": "#2a3f5f"
          },
          "geo": {
           "bgcolor": "white",
           "lakecolor": "white",
           "landcolor": "#E5ECF6",
           "showlakes": true,
           "showland": true,
           "subunitcolor": "white"
          },
          "hoverlabel": {
           "align": "left"
          },
          "hovermode": "closest",
          "mapbox": {
           "style": "light"
          },
          "paper_bgcolor": "white",
          "plot_bgcolor": "#E5ECF6",
          "polar": {
           "angularaxis": {
            "gridcolor": "white",
            "linecolor": "white",
            "ticks": ""
           },
           "bgcolor": "#E5ECF6",
           "radialaxis": {
            "gridcolor": "white",
            "linecolor": "white",
            "ticks": ""
           }
          },
          "scene": {
           "xaxis": {
            "backgroundcolor": "#E5ECF6",
            "gridcolor": "white",
            "gridwidth": 2,
            "linecolor": "white",
            "showbackground": true,
            "ticks": "",
            "zerolinecolor": "white"
           },
           "yaxis": {
            "backgroundcolor": "#E5ECF6",
            "gridcolor": "white",
            "gridwidth": 2,
            "linecolor": "white",
            "showbackground": true,
            "ticks": "",
            "zerolinecolor": "white"
           },
           "zaxis": {
            "backgroundcolor": "#E5ECF6",
            "gridcolor": "white",
            "gridwidth": 2,
            "linecolor": "white",
            "showbackground": true,
            "ticks": "",
            "zerolinecolor": "white"
           }
          },
          "shapedefaults": {
           "line": {
            "color": "#2a3f5f"
           }
          },
          "ternary": {
           "aaxis": {
            "gridcolor": "white",
            "linecolor": "white",
            "ticks": ""
           },
           "baxis": {
            "gridcolor": "white",
            "linecolor": "white",
            "ticks": ""
           },
           "bgcolor": "#E5ECF6",
           "caxis": {
            "gridcolor": "white",
            "linecolor": "white",
            "ticks": ""
           }
          },
          "title": {
           "x": 0.05
          },
          "xaxis": {
           "automargin": true,
           "gridcolor": "white",
           "linecolor": "white",
           "ticks": "",
           "title": {
            "standoff": 15
           },
           "zerolinecolor": "white",
           "zerolinewidth": 2
          },
          "yaxis": {
           "automargin": true,
           "gridcolor": "white",
           "linecolor": "white",
           "ticks": "",
           "title": {
            "standoff": 15
           },
           "zerolinecolor": "white",
           "zerolinewidth": 2
          }
         }
        },
        "title": {
         "text": "Avg Pace of 1km Runs Overtime",
         "x": 0.5
        },
        "xaxis": {
         "anchor": "y",
         "domain": [
          0,
          1
         ],
         "showgrid": false,
         "title": {
          "text": "Date"
         },
         "zeroline": false
        },
        "yaxis": {
         "anchor": "x",
         "domain": [
          0,
          1
         ],
         "showgrid": false,
         "title": {
          "text": "avg pace"
         },
         "zeroline": false
        }
       }
      }
     },
     "metadata": {},
     "output_type": "display_data"
    }
   ],
   "source": [
    "# AVG PACE OF 1KM RUNS OVERTIME\n",
    "\n",
    "fig = px.line(runs_1k, \n",
    "              x='start_date',\n",
    "              y='avg pace', \n",
    "              markers=True, \n",
    "              title=\"Avg Pace of 1km Runs Overtime\",\n",
    "              )\n",
    "fig.update_traces(line_color=\"rgb(230, 81, 0)\",\n",
    "                  marker_color=\"rgb(230, 81, 0)\",\n",
    "                  marker_line_color='rgb(230, 81, 0)'\n",
    "                  )\n",
    "\n",
    "fig.update_layout(paper_bgcolor='rgb(12, 29, 42)', \n",
    "                  plot_bgcolor='rgb(12, 29, 42)', \n",
    "                  font=dict(color='white'),\n",
    "                  title_x=0.5,\n",
    "                  xaxis_title='Date',\n",
    "                  )\n",
    "\n",
    "fig.update_xaxes(showgrid=False, zeroline=False)\n",
    "fig.update_yaxes(showgrid=False, zeroline=False)\n",
    "\n",
    "fig.show()"
   ]
  },
  {
   "cell_type": "code",
   "execution_count": null,
   "metadata": {},
   "outputs": [
    {
     "data": {
      "application/vnd.plotly.v1+json": {
       "config": {
        "plotlyServerURL": "https://plot.ly"
       },
       "data": [
        {
         "hovertemplate": "start_date=%{x}<br>avg pace=%{y}<extra></extra>",
         "legendgroup": "",
         "line": {
          "color": "rgb(230, 81, 0)",
          "dash": "solid"
         },
         "marker": {
          "color": "rgb(230, 81, 0)",
          "line": {
           "color": "rgb(230, 81, 0)"
          },
          "symbol": "circle"
         },
         "mode": "lines+markers",
         "name": "",
         "orientation": "v",
         "showlegend": false,
         "type": "scatter",
         "x": [
          "2024-05-21",
          "2024-05-26",
          "2024-05-26",
          "2024-06-02",
          "2024-06-06",
          "2024-06-08"
         ],
         "xaxis": "x",
         "y": [
          7.57,
          7.56,
          7.79,
          8.49,
          7.69,
          7.17
         ],
         "yaxis": "y"
        }
       ],
       "layout": {
        "font": {
         "color": "white"
        },
        "legend": {
         "tracegroupgap": 0
        },
        "paper_bgcolor": "rgb(12, 29, 42)",
        "plot_bgcolor": "rgb(12, 29, 42)",
        "template": {
         "data": {
          "bar": [
           {
            "error_x": {
             "color": "#2a3f5f"
            },
            "error_y": {
             "color": "#2a3f5f"
            },
            "marker": {
             "line": {
              "color": "#E5ECF6",
              "width": 0.5
             },
             "pattern": {
              "fillmode": "overlay",
              "size": 10,
              "solidity": 0.2
             }
            },
            "type": "bar"
           }
          ],
          "barpolar": [
           {
            "marker": {
             "line": {
              "color": "#E5ECF6",
              "width": 0.5
             },
             "pattern": {
              "fillmode": "overlay",
              "size": 10,
              "solidity": 0.2
             }
            },
            "type": "barpolar"
           }
          ],
          "carpet": [
           {
            "aaxis": {
             "endlinecolor": "#2a3f5f",
             "gridcolor": "white",
             "linecolor": "white",
             "minorgridcolor": "white",
             "startlinecolor": "#2a3f5f"
            },
            "baxis": {
             "endlinecolor": "#2a3f5f",
             "gridcolor": "white",
             "linecolor": "white",
             "minorgridcolor": "white",
             "startlinecolor": "#2a3f5f"
            },
            "type": "carpet"
           }
          ],
          "choropleth": [
           {
            "colorbar": {
             "outlinewidth": 0,
             "ticks": ""
            },
            "type": "choropleth"
           }
          ],
          "contour": [
           {
            "colorbar": {
             "outlinewidth": 0,
             "ticks": ""
            },
            "colorscale": [
             [
              0,
              "#0d0887"
             ],
             [
              0.1111111111111111,
              "#46039f"
             ],
             [
              0.2222222222222222,
              "#7201a8"
             ],
             [
              0.3333333333333333,
              "#9c179e"
             ],
             [
              0.4444444444444444,
              "#bd3786"
             ],
             [
              0.5555555555555556,
              "#d8576b"
             ],
             [
              0.6666666666666666,
              "#ed7953"
             ],
             [
              0.7777777777777778,
              "#fb9f3a"
             ],
             [
              0.8888888888888888,
              "#fdca26"
             ],
             [
              1,
              "#f0f921"
             ]
            ],
            "type": "contour"
           }
          ],
          "contourcarpet": [
           {
            "colorbar": {
             "outlinewidth": 0,
             "ticks": ""
            },
            "type": "contourcarpet"
           }
          ],
          "heatmap": [
           {
            "colorbar": {
             "outlinewidth": 0,
             "ticks": ""
            },
            "colorscale": [
             [
              0,
              "#0d0887"
             ],
             [
              0.1111111111111111,
              "#46039f"
             ],
             [
              0.2222222222222222,
              "#7201a8"
             ],
             [
              0.3333333333333333,
              "#9c179e"
             ],
             [
              0.4444444444444444,
              "#bd3786"
             ],
             [
              0.5555555555555556,
              "#d8576b"
             ],
             [
              0.6666666666666666,
              "#ed7953"
             ],
             [
              0.7777777777777778,
              "#fb9f3a"
             ],
             [
              0.8888888888888888,
              "#fdca26"
             ],
             [
              1,
              "#f0f921"
             ]
            ],
            "type": "heatmap"
           }
          ],
          "heatmapgl": [
           {
            "colorbar": {
             "outlinewidth": 0,
             "ticks": ""
            },
            "colorscale": [
             [
              0,
              "#0d0887"
             ],
             [
              0.1111111111111111,
              "#46039f"
             ],
             [
              0.2222222222222222,
              "#7201a8"
             ],
             [
              0.3333333333333333,
              "#9c179e"
             ],
             [
              0.4444444444444444,
              "#bd3786"
             ],
             [
              0.5555555555555556,
              "#d8576b"
             ],
             [
              0.6666666666666666,
              "#ed7953"
             ],
             [
              0.7777777777777778,
              "#fb9f3a"
             ],
             [
              0.8888888888888888,
              "#fdca26"
             ],
             [
              1,
              "#f0f921"
             ]
            ],
            "type": "heatmapgl"
           }
          ],
          "histogram": [
           {
            "marker": {
             "pattern": {
              "fillmode": "overlay",
              "size": 10,
              "solidity": 0.2
             }
            },
            "type": "histogram"
           }
          ],
          "histogram2d": [
           {
            "colorbar": {
             "outlinewidth": 0,
             "ticks": ""
            },
            "colorscale": [
             [
              0,
              "#0d0887"
             ],
             [
              0.1111111111111111,
              "#46039f"
             ],
             [
              0.2222222222222222,
              "#7201a8"
             ],
             [
              0.3333333333333333,
              "#9c179e"
             ],
             [
              0.4444444444444444,
              "#bd3786"
             ],
             [
              0.5555555555555556,
              "#d8576b"
             ],
             [
              0.6666666666666666,
              "#ed7953"
             ],
             [
              0.7777777777777778,
              "#fb9f3a"
             ],
             [
              0.8888888888888888,
              "#fdca26"
             ],
             [
              1,
              "#f0f921"
             ]
            ],
            "type": "histogram2d"
           }
          ],
          "histogram2dcontour": [
           {
            "colorbar": {
             "outlinewidth": 0,
             "ticks": ""
            },
            "colorscale": [
             [
              0,
              "#0d0887"
             ],
             [
              0.1111111111111111,
              "#46039f"
             ],
             [
              0.2222222222222222,
              "#7201a8"
             ],
             [
              0.3333333333333333,
              "#9c179e"
             ],
             [
              0.4444444444444444,
              "#bd3786"
             ],
             [
              0.5555555555555556,
              "#d8576b"
             ],
             [
              0.6666666666666666,
              "#ed7953"
             ],
             [
              0.7777777777777778,
              "#fb9f3a"
             ],
             [
              0.8888888888888888,
              "#fdca26"
             ],
             [
              1,
              "#f0f921"
             ]
            ],
            "type": "histogram2dcontour"
           }
          ],
          "mesh3d": [
           {
            "colorbar": {
             "outlinewidth": 0,
             "ticks": ""
            },
            "type": "mesh3d"
           }
          ],
          "parcoords": [
           {
            "line": {
             "colorbar": {
              "outlinewidth": 0,
              "ticks": ""
             }
            },
            "type": "parcoords"
           }
          ],
          "pie": [
           {
            "automargin": true,
            "type": "pie"
           }
          ],
          "scatter": [
           {
            "fillpattern": {
             "fillmode": "overlay",
             "size": 10,
             "solidity": 0.2
            },
            "type": "scatter"
           }
          ],
          "scatter3d": [
           {
            "line": {
             "colorbar": {
              "outlinewidth": 0,
              "ticks": ""
             }
            },
            "marker": {
             "colorbar": {
              "outlinewidth": 0,
              "ticks": ""
             }
            },
            "type": "scatter3d"
           }
          ],
          "scattercarpet": [
           {
            "marker": {
             "colorbar": {
              "outlinewidth": 0,
              "ticks": ""
             }
            },
            "type": "scattercarpet"
           }
          ],
          "scattergeo": [
           {
            "marker": {
             "colorbar": {
              "outlinewidth": 0,
              "ticks": ""
             }
            },
            "type": "scattergeo"
           }
          ],
          "scattergl": [
           {
            "marker": {
             "colorbar": {
              "outlinewidth": 0,
              "ticks": ""
             }
            },
            "type": "scattergl"
           }
          ],
          "scattermapbox": [
           {
            "marker": {
             "colorbar": {
              "outlinewidth": 0,
              "ticks": ""
             }
            },
            "type": "scattermapbox"
           }
          ],
          "scatterpolar": [
           {
            "marker": {
             "colorbar": {
              "outlinewidth": 0,
              "ticks": ""
             }
            },
            "type": "scatterpolar"
           }
          ],
          "scatterpolargl": [
           {
            "marker": {
             "colorbar": {
              "outlinewidth": 0,
              "ticks": ""
             }
            },
            "type": "scatterpolargl"
           }
          ],
          "scatterternary": [
           {
            "marker": {
             "colorbar": {
              "outlinewidth": 0,
              "ticks": ""
             }
            },
            "type": "scatterternary"
           }
          ],
          "surface": [
           {
            "colorbar": {
             "outlinewidth": 0,
             "ticks": ""
            },
            "colorscale": [
             [
              0,
              "#0d0887"
             ],
             [
              0.1111111111111111,
              "#46039f"
             ],
             [
              0.2222222222222222,
              "#7201a8"
             ],
             [
              0.3333333333333333,
              "#9c179e"
             ],
             [
              0.4444444444444444,
              "#bd3786"
             ],
             [
              0.5555555555555556,
              "#d8576b"
             ],
             [
              0.6666666666666666,
              "#ed7953"
             ],
             [
              0.7777777777777778,
              "#fb9f3a"
             ],
             [
              0.8888888888888888,
              "#fdca26"
             ],
             [
              1,
              "#f0f921"
             ]
            ],
            "type": "surface"
           }
          ],
          "table": [
           {
            "cells": {
             "fill": {
              "color": "#EBF0F8"
             },
             "line": {
              "color": "white"
             }
            },
            "header": {
             "fill": {
              "color": "#C8D4E3"
             },
             "line": {
              "color": "white"
             }
            },
            "type": "table"
           }
          ]
         },
         "layout": {
          "annotationdefaults": {
           "arrowcolor": "#2a3f5f",
           "arrowhead": 0,
           "arrowwidth": 1
          },
          "autotypenumbers": "strict",
          "coloraxis": {
           "colorbar": {
            "outlinewidth": 0,
            "ticks": ""
           }
          },
          "colorscale": {
           "diverging": [
            [
             0,
             "#8e0152"
            ],
            [
             0.1,
             "#c51b7d"
            ],
            [
             0.2,
             "#de77ae"
            ],
            [
             0.3,
             "#f1b6da"
            ],
            [
             0.4,
             "#fde0ef"
            ],
            [
             0.5,
             "#f7f7f7"
            ],
            [
             0.6,
             "#e6f5d0"
            ],
            [
             0.7,
             "#b8e186"
            ],
            [
             0.8,
             "#7fbc41"
            ],
            [
             0.9,
             "#4d9221"
            ],
            [
             1,
             "#276419"
            ]
           ],
           "sequential": [
            [
             0,
             "#0d0887"
            ],
            [
             0.1111111111111111,
             "#46039f"
            ],
            [
             0.2222222222222222,
             "#7201a8"
            ],
            [
             0.3333333333333333,
             "#9c179e"
            ],
            [
             0.4444444444444444,
             "#bd3786"
            ],
            [
             0.5555555555555556,
             "#d8576b"
            ],
            [
             0.6666666666666666,
             "#ed7953"
            ],
            [
             0.7777777777777778,
             "#fb9f3a"
            ],
            [
             0.8888888888888888,
             "#fdca26"
            ],
            [
             1,
             "#f0f921"
            ]
           ],
           "sequentialminus": [
            [
             0,
             "#0d0887"
            ],
            [
             0.1111111111111111,
             "#46039f"
            ],
            [
             0.2222222222222222,
             "#7201a8"
            ],
            [
             0.3333333333333333,
             "#9c179e"
            ],
            [
             0.4444444444444444,
             "#bd3786"
            ],
            [
             0.5555555555555556,
             "#d8576b"
            ],
            [
             0.6666666666666666,
             "#ed7953"
            ],
            [
             0.7777777777777778,
             "#fb9f3a"
            ],
            [
             0.8888888888888888,
             "#fdca26"
            ],
            [
             1,
             "#f0f921"
            ]
           ]
          },
          "colorway": [
           "#636efa",
           "#EF553B",
           "#00cc96",
           "#ab63fa",
           "#FFA15A",
           "#19d3f3",
           "#FF6692",
           "#B6E880",
           "#FF97FF",
           "#FECB52"
          ],
          "font": {
           "color": "#2a3f5f"
          },
          "geo": {
           "bgcolor": "white",
           "lakecolor": "white",
           "landcolor": "#E5ECF6",
           "showlakes": true,
           "showland": true,
           "subunitcolor": "white"
          },
          "hoverlabel": {
           "align": "left"
          },
          "hovermode": "closest",
          "mapbox": {
           "style": "light"
          },
          "paper_bgcolor": "white",
          "plot_bgcolor": "#E5ECF6",
          "polar": {
           "angularaxis": {
            "gridcolor": "white",
            "linecolor": "white",
            "ticks": ""
           },
           "bgcolor": "#E5ECF6",
           "radialaxis": {
            "gridcolor": "white",
            "linecolor": "white",
            "ticks": ""
           }
          },
          "scene": {
           "xaxis": {
            "backgroundcolor": "#E5ECF6",
            "gridcolor": "white",
            "gridwidth": 2,
            "linecolor": "white",
            "showbackground": true,
            "ticks": "",
            "zerolinecolor": "white"
           },
           "yaxis": {
            "backgroundcolor": "#E5ECF6",
            "gridcolor": "white",
            "gridwidth": 2,
            "linecolor": "white",
            "showbackground": true,
            "ticks": "",
            "zerolinecolor": "white"
           },
           "zaxis": {
            "backgroundcolor": "#E5ECF6",
            "gridcolor": "white",
            "gridwidth": 2,
            "linecolor": "white",
            "showbackground": true,
            "ticks": "",
            "zerolinecolor": "white"
           }
          },
          "shapedefaults": {
           "line": {
            "color": "#2a3f5f"
           }
          },
          "ternary": {
           "aaxis": {
            "gridcolor": "white",
            "linecolor": "white",
            "ticks": ""
           },
           "baxis": {
            "gridcolor": "white",
            "linecolor": "white",
            "ticks": ""
           },
           "bgcolor": "#E5ECF6",
           "caxis": {
            "gridcolor": "white",
            "linecolor": "white",
            "ticks": ""
           }
          },
          "title": {
           "x": 0.05
          },
          "xaxis": {
           "automargin": true,
           "gridcolor": "white",
           "linecolor": "white",
           "ticks": "",
           "title": {
            "standoff": 15
           },
           "zerolinecolor": "white",
           "zerolinewidth": 2
          },
          "yaxis": {
           "automargin": true,
           "gridcolor": "white",
           "linecolor": "white",
           "ticks": "",
           "title": {
            "standoff": 15
           },
           "zerolinecolor": "white",
           "zerolinewidth": 2
          }
         }
        },
        "title": {
         "text": "Avg Pace of 3km Runs Overtime",
         "x": 0.5
        },
        "xaxis": {
         "anchor": "y",
         "domain": [
          0,
          1
         ],
         "showgrid": false,
         "title": {
          "text": "Date"
         },
         "zeroline": false
        },
        "yaxis": {
         "anchor": "x",
         "domain": [
          0,
          1
         ],
         "showgrid": false,
         "title": {
          "text": "avg pace"
         },
         "zeroline": false
        }
       }
      }
     },
     "metadata": {},
     "output_type": "display_data"
    }
   ],
   "source": [
    "# AVG PACE OF 3KM RUNS OVERTIME\n",
    "\n",
    "fig = px.line(runs_3k, \n",
    "              x='start_date', \n",
    "              y='avg pace', \n",
    "              markers=True, \n",
    "              title=\"Avg Pace of 3km Runs Overtime\",\n",
    "              )\n",
    "fig.update_traces(line_color=\"rgb(230, 81, 0)\",\n",
    "                  marker_color=\"rgb(230, 81, 0)\",\n",
    "                  marker_line_color='rgb(230, 81, 0)'\n",
    "                  )\n",
    "\n",
    "fig.update_layout(paper_bgcolor='rgb(12, 29, 42)', \n",
    "                  plot_bgcolor='rgb(12, 29, 42)', \n",
    "                  font=dict(color='white'),\n",
    "                  title_x=0.5,\n",
    "                  xaxis_title='Date',\n",
    "                  )\n",
    "\n",
    "fig.update_xaxes(showgrid=False, zeroline=False)\n",
    "fig.update_yaxes(showgrid=False, zeroline=False)\n",
    "\n",
    "fig.show()\n"
   ]
  },
  {
   "cell_type": "code",
   "execution_count": null,
   "metadata": {},
   "outputs": [
    {
     "data": {
      "application/vnd.plotly.v1+json": {
       "config": {
        "plotlyServerURL": "https://plot.ly"
       },
       "data": [
        {
         "hovertemplate": "start_date=%{x}<br>avg pace=%{y}<extra></extra>",
         "legendgroup": "",
         "line": {
          "color": "rgb(230, 81, 0)",
          "dash": "solid"
         },
         "marker": {
          "color": "rgb(230, 81, 0)",
          "line": {
           "color": "rgb(230, 81, 0)"
          },
          "symbol": "circle"
         },
         "mode": "lines+markers",
         "name": "",
         "orientation": "v",
         "showlegend": false,
         "type": "scatter",
         "x": [
          "2024-06-02",
          "2024-06-05",
          "2024-06-18"
         ],
         "xaxis": "x",
         "y": [
          8.23,
          7.81,
          6.44
         ],
         "yaxis": "y"
        }
       ],
       "layout": {
        "font": {
         "color": "white"
        },
        "legend": {
         "tracegroupgap": 0
        },
        "paper_bgcolor": "rgb(12, 29, 42)",
        "plot_bgcolor": "rgb(12, 29, 42)",
        "template": {
         "data": {
          "bar": [
           {
            "error_x": {
             "color": "#2a3f5f"
            },
            "error_y": {
             "color": "#2a3f5f"
            },
            "marker": {
             "line": {
              "color": "#E5ECF6",
              "width": 0.5
             },
             "pattern": {
              "fillmode": "overlay",
              "size": 10,
              "solidity": 0.2
             }
            },
            "type": "bar"
           }
          ],
          "barpolar": [
           {
            "marker": {
             "line": {
              "color": "#E5ECF6",
              "width": 0.5
             },
             "pattern": {
              "fillmode": "overlay",
              "size": 10,
              "solidity": 0.2
             }
            },
            "type": "barpolar"
           }
          ],
          "carpet": [
           {
            "aaxis": {
             "endlinecolor": "#2a3f5f",
             "gridcolor": "white",
             "linecolor": "white",
             "minorgridcolor": "white",
             "startlinecolor": "#2a3f5f"
            },
            "baxis": {
             "endlinecolor": "#2a3f5f",
             "gridcolor": "white",
             "linecolor": "white",
             "minorgridcolor": "white",
             "startlinecolor": "#2a3f5f"
            },
            "type": "carpet"
           }
          ],
          "choropleth": [
           {
            "colorbar": {
             "outlinewidth": 0,
             "ticks": ""
            },
            "type": "choropleth"
           }
          ],
          "contour": [
           {
            "colorbar": {
             "outlinewidth": 0,
             "ticks": ""
            },
            "colorscale": [
             [
              0,
              "#0d0887"
             ],
             [
              0.1111111111111111,
              "#46039f"
             ],
             [
              0.2222222222222222,
              "#7201a8"
             ],
             [
              0.3333333333333333,
              "#9c179e"
             ],
             [
              0.4444444444444444,
              "#bd3786"
             ],
             [
              0.5555555555555556,
              "#d8576b"
             ],
             [
              0.6666666666666666,
              "#ed7953"
             ],
             [
              0.7777777777777778,
              "#fb9f3a"
             ],
             [
              0.8888888888888888,
              "#fdca26"
             ],
             [
              1,
              "#f0f921"
             ]
            ],
            "type": "contour"
           }
          ],
          "contourcarpet": [
           {
            "colorbar": {
             "outlinewidth": 0,
             "ticks": ""
            },
            "type": "contourcarpet"
           }
          ],
          "heatmap": [
           {
            "colorbar": {
             "outlinewidth": 0,
             "ticks": ""
            },
            "colorscale": [
             [
              0,
              "#0d0887"
             ],
             [
              0.1111111111111111,
              "#46039f"
             ],
             [
              0.2222222222222222,
              "#7201a8"
             ],
             [
              0.3333333333333333,
              "#9c179e"
             ],
             [
              0.4444444444444444,
              "#bd3786"
             ],
             [
              0.5555555555555556,
              "#d8576b"
             ],
             [
              0.6666666666666666,
              "#ed7953"
             ],
             [
              0.7777777777777778,
              "#fb9f3a"
             ],
             [
              0.8888888888888888,
              "#fdca26"
             ],
             [
              1,
              "#f0f921"
             ]
            ],
            "type": "heatmap"
           }
          ],
          "heatmapgl": [
           {
            "colorbar": {
             "outlinewidth": 0,
             "ticks": ""
            },
            "colorscale": [
             [
              0,
              "#0d0887"
             ],
             [
              0.1111111111111111,
              "#46039f"
             ],
             [
              0.2222222222222222,
              "#7201a8"
             ],
             [
              0.3333333333333333,
              "#9c179e"
             ],
             [
              0.4444444444444444,
              "#bd3786"
             ],
             [
              0.5555555555555556,
              "#d8576b"
             ],
             [
              0.6666666666666666,
              "#ed7953"
             ],
             [
              0.7777777777777778,
              "#fb9f3a"
             ],
             [
              0.8888888888888888,
              "#fdca26"
             ],
             [
              1,
              "#f0f921"
             ]
            ],
            "type": "heatmapgl"
           }
          ],
          "histogram": [
           {
            "marker": {
             "pattern": {
              "fillmode": "overlay",
              "size": 10,
              "solidity": 0.2
             }
            },
            "type": "histogram"
           }
          ],
          "histogram2d": [
           {
            "colorbar": {
             "outlinewidth": 0,
             "ticks": ""
            },
            "colorscale": [
             [
              0,
              "#0d0887"
             ],
             [
              0.1111111111111111,
              "#46039f"
             ],
             [
              0.2222222222222222,
              "#7201a8"
             ],
             [
              0.3333333333333333,
              "#9c179e"
             ],
             [
              0.4444444444444444,
              "#bd3786"
             ],
             [
              0.5555555555555556,
              "#d8576b"
             ],
             [
              0.6666666666666666,
              "#ed7953"
             ],
             [
              0.7777777777777778,
              "#fb9f3a"
             ],
             [
              0.8888888888888888,
              "#fdca26"
             ],
             [
              1,
              "#f0f921"
             ]
            ],
            "type": "histogram2d"
           }
          ],
          "histogram2dcontour": [
           {
            "colorbar": {
             "outlinewidth": 0,
             "ticks": ""
            },
            "colorscale": [
             [
              0,
              "#0d0887"
             ],
             [
              0.1111111111111111,
              "#46039f"
             ],
             [
              0.2222222222222222,
              "#7201a8"
             ],
             [
              0.3333333333333333,
              "#9c179e"
             ],
             [
              0.4444444444444444,
              "#bd3786"
             ],
             [
              0.5555555555555556,
              "#d8576b"
             ],
             [
              0.6666666666666666,
              "#ed7953"
             ],
             [
              0.7777777777777778,
              "#fb9f3a"
             ],
             [
              0.8888888888888888,
              "#fdca26"
             ],
             [
              1,
              "#f0f921"
             ]
            ],
            "type": "histogram2dcontour"
           }
          ],
          "mesh3d": [
           {
            "colorbar": {
             "outlinewidth": 0,
             "ticks": ""
            },
            "type": "mesh3d"
           }
          ],
          "parcoords": [
           {
            "line": {
             "colorbar": {
              "outlinewidth": 0,
              "ticks": ""
             }
            },
            "type": "parcoords"
           }
          ],
          "pie": [
           {
            "automargin": true,
            "type": "pie"
           }
          ],
          "scatter": [
           {
            "fillpattern": {
             "fillmode": "overlay",
             "size": 10,
             "solidity": 0.2
            },
            "type": "scatter"
           }
          ],
          "scatter3d": [
           {
            "line": {
             "colorbar": {
              "outlinewidth": 0,
              "ticks": ""
             }
            },
            "marker": {
             "colorbar": {
              "outlinewidth": 0,
              "ticks": ""
             }
            },
            "type": "scatter3d"
           }
          ],
          "scattercarpet": [
           {
            "marker": {
             "colorbar": {
              "outlinewidth": 0,
              "ticks": ""
             }
            },
            "type": "scattercarpet"
           }
          ],
          "scattergeo": [
           {
            "marker": {
             "colorbar": {
              "outlinewidth": 0,
              "ticks": ""
             }
            },
            "type": "scattergeo"
           }
          ],
          "scattergl": [
           {
            "marker": {
             "colorbar": {
              "outlinewidth": 0,
              "ticks": ""
             }
            },
            "type": "scattergl"
           }
          ],
          "scattermapbox": [
           {
            "marker": {
             "colorbar": {
              "outlinewidth": 0,
              "ticks": ""
             }
            },
            "type": "scattermapbox"
           }
          ],
          "scatterpolar": [
           {
            "marker": {
             "colorbar": {
              "outlinewidth": 0,
              "ticks": ""
             }
            },
            "type": "scatterpolar"
           }
          ],
          "scatterpolargl": [
           {
            "marker": {
             "colorbar": {
              "outlinewidth": 0,
              "ticks": ""
             }
            },
            "type": "scatterpolargl"
           }
          ],
          "scatterternary": [
           {
            "marker": {
             "colorbar": {
              "outlinewidth": 0,
              "ticks": ""
             }
            },
            "type": "scatterternary"
           }
          ],
          "surface": [
           {
            "colorbar": {
             "outlinewidth": 0,
             "ticks": ""
            },
            "colorscale": [
             [
              0,
              "#0d0887"
             ],
             [
              0.1111111111111111,
              "#46039f"
             ],
             [
              0.2222222222222222,
              "#7201a8"
             ],
             [
              0.3333333333333333,
              "#9c179e"
             ],
             [
              0.4444444444444444,
              "#bd3786"
             ],
             [
              0.5555555555555556,
              "#d8576b"
             ],
             [
              0.6666666666666666,
              "#ed7953"
             ],
             [
              0.7777777777777778,
              "#fb9f3a"
             ],
             [
              0.8888888888888888,
              "#fdca26"
             ],
             [
              1,
              "#f0f921"
             ]
            ],
            "type": "surface"
           }
          ],
          "table": [
           {
            "cells": {
             "fill": {
              "color": "#EBF0F8"
             },
             "line": {
              "color": "white"
             }
            },
            "header": {
             "fill": {
              "color": "#C8D4E3"
             },
             "line": {
              "color": "white"
             }
            },
            "type": "table"
           }
          ]
         },
         "layout": {
          "annotationdefaults": {
           "arrowcolor": "#2a3f5f",
           "arrowhead": 0,
           "arrowwidth": 1
          },
          "autotypenumbers": "strict",
          "coloraxis": {
           "colorbar": {
            "outlinewidth": 0,
            "ticks": ""
           }
          },
          "colorscale": {
           "diverging": [
            [
             0,
             "#8e0152"
            ],
            [
             0.1,
             "#c51b7d"
            ],
            [
             0.2,
             "#de77ae"
            ],
            [
             0.3,
             "#f1b6da"
            ],
            [
             0.4,
             "#fde0ef"
            ],
            [
             0.5,
             "#f7f7f7"
            ],
            [
             0.6,
             "#e6f5d0"
            ],
            [
             0.7,
             "#b8e186"
            ],
            [
             0.8,
             "#7fbc41"
            ],
            [
             0.9,
             "#4d9221"
            ],
            [
             1,
             "#276419"
            ]
           ],
           "sequential": [
            [
             0,
             "#0d0887"
            ],
            [
             0.1111111111111111,
             "#46039f"
            ],
            [
             0.2222222222222222,
             "#7201a8"
            ],
            [
             0.3333333333333333,
             "#9c179e"
            ],
            [
             0.4444444444444444,
             "#bd3786"
            ],
            [
             0.5555555555555556,
             "#d8576b"
            ],
            [
             0.6666666666666666,
             "#ed7953"
            ],
            [
             0.7777777777777778,
             "#fb9f3a"
            ],
            [
             0.8888888888888888,
             "#fdca26"
            ],
            [
             1,
             "#f0f921"
            ]
           ],
           "sequentialminus": [
            [
             0,
             "#0d0887"
            ],
            [
             0.1111111111111111,
             "#46039f"
            ],
            [
             0.2222222222222222,
             "#7201a8"
            ],
            [
             0.3333333333333333,
             "#9c179e"
            ],
            [
             0.4444444444444444,
             "#bd3786"
            ],
            [
             0.5555555555555556,
             "#d8576b"
            ],
            [
             0.6666666666666666,
             "#ed7953"
            ],
            [
             0.7777777777777778,
             "#fb9f3a"
            ],
            [
             0.8888888888888888,
             "#fdca26"
            ],
            [
             1,
             "#f0f921"
            ]
           ]
          },
          "colorway": [
           "#636efa",
           "#EF553B",
           "#00cc96",
           "#ab63fa",
           "#FFA15A",
           "#19d3f3",
           "#FF6692",
           "#B6E880",
           "#FF97FF",
           "#FECB52"
          ],
          "font": {
           "color": "#2a3f5f"
          },
          "geo": {
           "bgcolor": "white",
           "lakecolor": "white",
           "landcolor": "#E5ECF6",
           "showlakes": true,
           "showland": true,
           "subunitcolor": "white"
          },
          "hoverlabel": {
           "align": "left"
          },
          "hovermode": "closest",
          "mapbox": {
           "style": "light"
          },
          "paper_bgcolor": "white",
          "plot_bgcolor": "#E5ECF6",
          "polar": {
           "angularaxis": {
            "gridcolor": "white",
            "linecolor": "white",
            "ticks": ""
           },
           "bgcolor": "#E5ECF6",
           "radialaxis": {
            "gridcolor": "white",
            "linecolor": "white",
            "ticks": ""
           }
          },
          "scene": {
           "xaxis": {
            "backgroundcolor": "#E5ECF6",
            "gridcolor": "white",
            "gridwidth": 2,
            "linecolor": "white",
            "showbackground": true,
            "ticks": "",
            "zerolinecolor": "white"
           },
           "yaxis": {
            "backgroundcolor": "#E5ECF6",
            "gridcolor": "white",
            "gridwidth": 2,
            "linecolor": "white",
            "showbackground": true,
            "ticks": "",
            "zerolinecolor": "white"
           },
           "zaxis": {
            "backgroundcolor": "#E5ECF6",
            "gridcolor": "white",
            "gridwidth": 2,
            "linecolor": "white",
            "showbackground": true,
            "ticks": "",
            "zerolinecolor": "white"
           }
          },
          "shapedefaults": {
           "line": {
            "color": "#2a3f5f"
           }
          },
          "ternary": {
           "aaxis": {
            "gridcolor": "white",
            "linecolor": "white",
            "ticks": ""
           },
           "baxis": {
            "gridcolor": "white",
            "linecolor": "white",
            "ticks": ""
           },
           "bgcolor": "#E5ECF6",
           "caxis": {
            "gridcolor": "white",
            "linecolor": "white",
            "ticks": ""
           }
          },
          "title": {
           "x": 0.05
          },
          "xaxis": {
           "automargin": true,
           "gridcolor": "white",
           "linecolor": "white",
           "ticks": "",
           "title": {
            "standoff": 15
           },
           "zerolinecolor": "white",
           "zerolinewidth": 2
          },
          "yaxis": {
           "automargin": true,
           "gridcolor": "white",
           "linecolor": "white",
           "ticks": "",
           "title": {
            "standoff": 15
           },
           "zerolinecolor": "white",
           "zerolinewidth": 2
          }
         }
        },
        "title": {
         "text": "Avg Pace of 5km Runs Overtime",
         "x": 0.5
        },
        "xaxis": {
         "anchor": "y",
         "domain": [
          0,
          1
         ],
         "showgrid": false,
         "title": {
          "text": "Date"
         },
         "zeroline": false
        },
        "yaxis": {
         "anchor": "x",
         "domain": [
          0,
          1
         ],
         "showgrid": false,
         "title": {
          "text": "avg pace"
         },
         "zeroline": false
        }
       }
      }
     },
     "metadata": {},
     "output_type": "display_data"
    }
   ],
   "source": [
    "# AVG PACE OF 5KM RUNS OVERTIME\n",
    "\n",
    "fig = px.line(runs_5k, \n",
    "              x='start_date', \n",
    "              y='avg pace', \n",
    "              markers=True, \n",
    "              title=\"Avg Pace of 5km Runs Overtime\",\n",
    "              )\n",
    "\n",
    "fig.update_traces(line_color=\"rgb(230, 81, 0)\",\n",
    "                  marker_color=\"rgb(230, 81, 0)\",\n",
    "                  marker_line_color='rgb(230, 81, 0)'\n",
    "                  )\n",
    "\n",
    "fig.update_layout(paper_bgcolor='rgb(12, 29, 42)', \n",
    "                  plot_bgcolor='rgb(12, 29, 42)', \n",
    "                  font=dict(color='white'),\n",
    "                  title_x=0.5,\n",
    "                  xaxis_title='Date',\n",
    "                  )\n",
    "\n",
    "fig.update_xaxes(showgrid=False, zeroline=False)\n",
    "fig.update_yaxes(showgrid=False, zeroline=False)\n",
    "\n",
    "fig.show()"
   ]
  },
  {
   "cell_type": "code",
   "execution_count": null,
   "metadata": {},
   "outputs": [
    {
     "data": {
      "application/vnd.plotly.v1+json": {
       "config": {
        "plotlyServerURL": "https://plot.ly"
       },
       "data": [
        {
         "hovertemplate": "start_date=%{x}<br>avg pace=%{y}<extra></extra>",
         "legendgroup": "",
         "line": {
          "color": "rgb(230, 81, 0)",
          "dash": "solid"
         },
         "marker": {
          "color": "rgb(230, 81, 0)",
          "line": {
           "color": "rgb(230, 81, 0)"
          },
          "symbol": "circle"
         },
         "mode": "lines+markers",
         "name": "",
         "orientation": "v",
         "showlegend": false,
         "type": "scatter",
         "x": [
          "2024-05-18",
          "2024-05-19",
          "2024-05-19",
          "2024-05-21",
          "2024-05-21",
          "2024-05-22",
          "2024-05-23",
          "2024-05-23",
          "2024-05-25",
          "2024-05-25",
          "2024-05-25",
          "2024-05-26",
          "2024-05-26",
          "2024-05-26",
          "2024-05-28",
          "2024-05-28",
          "2024-05-29",
          "2024-05-29",
          "2024-05-31",
          "2024-05-31",
          "2024-06-02",
          "2024-06-02",
          "2024-06-02",
          "2024-06-02",
          "2024-06-05",
          "2024-06-06",
          "2024-06-08",
          "2024-06-08",
          "2024-06-18"
         ],
         "xaxis": "x",
         "y": [
          10.94,
          12.2,
          6.52,
          7.57,
          6.9,
          7.01,
          11.87,
          5.93,
          8.21,
          8.24,
          7.8,
          6.32,
          7.79,
          7.56,
          8.95,
          9.45,
          6.53,
          6.72,
          13.21,
          10.46,
          8.23,
          8.49,
          8.94,
          8.88,
          7.81,
          7.69,
          6.99,
          7.17,
          6.44
         ],
         "yaxis": "y"
        }
       ],
       "layout": {
        "font": {
         "color": "white"
        },
        "legend": {
         "tracegroupgap": 0
        },
        "paper_bgcolor": "rgb(12, 29, 42)",
        "plot_bgcolor": "rgb(12, 29, 42)",
        "template": {
         "data": {
          "bar": [
           {
            "error_x": {
             "color": "#2a3f5f"
            },
            "error_y": {
             "color": "#2a3f5f"
            },
            "marker": {
             "line": {
              "color": "#E5ECF6",
              "width": 0.5
             },
             "pattern": {
              "fillmode": "overlay",
              "size": 10,
              "solidity": 0.2
             }
            },
            "type": "bar"
           }
          ],
          "barpolar": [
           {
            "marker": {
             "line": {
              "color": "#E5ECF6",
              "width": 0.5
             },
             "pattern": {
              "fillmode": "overlay",
              "size": 10,
              "solidity": 0.2
             }
            },
            "type": "barpolar"
           }
          ],
          "carpet": [
           {
            "aaxis": {
             "endlinecolor": "#2a3f5f",
             "gridcolor": "white",
             "linecolor": "white",
             "minorgridcolor": "white",
             "startlinecolor": "#2a3f5f"
            },
            "baxis": {
             "endlinecolor": "#2a3f5f",
             "gridcolor": "white",
             "linecolor": "white",
             "minorgridcolor": "white",
             "startlinecolor": "#2a3f5f"
            },
            "type": "carpet"
           }
          ],
          "choropleth": [
           {
            "colorbar": {
             "outlinewidth": 0,
             "ticks": ""
            },
            "type": "choropleth"
           }
          ],
          "contour": [
           {
            "colorbar": {
             "outlinewidth": 0,
             "ticks": ""
            },
            "colorscale": [
             [
              0,
              "#0d0887"
             ],
             [
              0.1111111111111111,
              "#46039f"
             ],
             [
              0.2222222222222222,
              "#7201a8"
             ],
             [
              0.3333333333333333,
              "#9c179e"
             ],
             [
              0.4444444444444444,
              "#bd3786"
             ],
             [
              0.5555555555555556,
              "#d8576b"
             ],
             [
              0.6666666666666666,
              "#ed7953"
             ],
             [
              0.7777777777777778,
              "#fb9f3a"
             ],
             [
              0.8888888888888888,
              "#fdca26"
             ],
             [
              1,
              "#f0f921"
             ]
            ],
            "type": "contour"
           }
          ],
          "contourcarpet": [
           {
            "colorbar": {
             "outlinewidth": 0,
             "ticks": ""
            },
            "type": "contourcarpet"
           }
          ],
          "heatmap": [
           {
            "colorbar": {
             "outlinewidth": 0,
             "ticks": ""
            },
            "colorscale": [
             [
              0,
              "#0d0887"
             ],
             [
              0.1111111111111111,
              "#46039f"
             ],
             [
              0.2222222222222222,
              "#7201a8"
             ],
             [
              0.3333333333333333,
              "#9c179e"
             ],
             [
              0.4444444444444444,
              "#bd3786"
             ],
             [
              0.5555555555555556,
              "#d8576b"
             ],
             [
              0.6666666666666666,
              "#ed7953"
             ],
             [
              0.7777777777777778,
              "#fb9f3a"
             ],
             [
              0.8888888888888888,
              "#fdca26"
             ],
             [
              1,
              "#f0f921"
             ]
            ],
            "type": "heatmap"
           }
          ],
          "heatmapgl": [
           {
            "colorbar": {
             "outlinewidth": 0,
             "ticks": ""
            },
            "colorscale": [
             [
              0,
              "#0d0887"
             ],
             [
              0.1111111111111111,
              "#46039f"
             ],
             [
              0.2222222222222222,
              "#7201a8"
             ],
             [
              0.3333333333333333,
              "#9c179e"
             ],
             [
              0.4444444444444444,
              "#bd3786"
             ],
             [
              0.5555555555555556,
              "#d8576b"
             ],
             [
              0.6666666666666666,
              "#ed7953"
             ],
             [
              0.7777777777777778,
              "#fb9f3a"
             ],
             [
              0.8888888888888888,
              "#fdca26"
             ],
             [
              1,
              "#f0f921"
             ]
            ],
            "type": "heatmapgl"
           }
          ],
          "histogram": [
           {
            "marker": {
             "pattern": {
              "fillmode": "overlay",
              "size": 10,
              "solidity": 0.2
             }
            },
            "type": "histogram"
           }
          ],
          "histogram2d": [
           {
            "colorbar": {
             "outlinewidth": 0,
             "ticks": ""
            },
            "colorscale": [
             [
              0,
              "#0d0887"
             ],
             [
              0.1111111111111111,
              "#46039f"
             ],
             [
              0.2222222222222222,
              "#7201a8"
             ],
             [
              0.3333333333333333,
              "#9c179e"
             ],
             [
              0.4444444444444444,
              "#bd3786"
             ],
             [
              0.5555555555555556,
              "#d8576b"
             ],
             [
              0.6666666666666666,
              "#ed7953"
             ],
             [
              0.7777777777777778,
              "#fb9f3a"
             ],
             [
              0.8888888888888888,
              "#fdca26"
             ],
             [
              1,
              "#f0f921"
             ]
            ],
            "type": "histogram2d"
           }
          ],
          "histogram2dcontour": [
           {
            "colorbar": {
             "outlinewidth": 0,
             "ticks": ""
            },
            "colorscale": [
             [
              0,
              "#0d0887"
             ],
             [
              0.1111111111111111,
              "#46039f"
             ],
             [
              0.2222222222222222,
              "#7201a8"
             ],
             [
              0.3333333333333333,
              "#9c179e"
             ],
             [
              0.4444444444444444,
              "#bd3786"
             ],
             [
              0.5555555555555556,
              "#d8576b"
             ],
             [
              0.6666666666666666,
              "#ed7953"
             ],
             [
              0.7777777777777778,
              "#fb9f3a"
             ],
             [
              0.8888888888888888,
              "#fdca26"
             ],
             [
              1,
              "#f0f921"
             ]
            ],
            "type": "histogram2dcontour"
           }
          ],
          "mesh3d": [
           {
            "colorbar": {
             "outlinewidth": 0,
             "ticks": ""
            },
            "type": "mesh3d"
           }
          ],
          "parcoords": [
           {
            "line": {
             "colorbar": {
              "outlinewidth": 0,
              "ticks": ""
             }
            },
            "type": "parcoords"
           }
          ],
          "pie": [
           {
            "automargin": true,
            "type": "pie"
           }
          ],
          "scatter": [
           {
            "fillpattern": {
             "fillmode": "overlay",
             "size": 10,
             "solidity": 0.2
            },
            "type": "scatter"
           }
          ],
          "scatter3d": [
           {
            "line": {
             "colorbar": {
              "outlinewidth": 0,
              "ticks": ""
             }
            },
            "marker": {
             "colorbar": {
              "outlinewidth": 0,
              "ticks": ""
             }
            },
            "type": "scatter3d"
           }
          ],
          "scattercarpet": [
           {
            "marker": {
             "colorbar": {
              "outlinewidth": 0,
              "ticks": ""
             }
            },
            "type": "scattercarpet"
           }
          ],
          "scattergeo": [
           {
            "marker": {
             "colorbar": {
              "outlinewidth": 0,
              "ticks": ""
             }
            },
            "type": "scattergeo"
           }
          ],
          "scattergl": [
           {
            "marker": {
             "colorbar": {
              "outlinewidth": 0,
              "ticks": ""
             }
            },
            "type": "scattergl"
           }
          ],
          "scattermapbox": [
           {
            "marker": {
             "colorbar": {
              "outlinewidth": 0,
              "ticks": ""
             }
            },
            "type": "scattermapbox"
           }
          ],
          "scatterpolar": [
           {
            "marker": {
             "colorbar": {
              "outlinewidth": 0,
              "ticks": ""
             }
            },
            "type": "scatterpolar"
           }
          ],
          "scatterpolargl": [
           {
            "marker": {
             "colorbar": {
              "outlinewidth": 0,
              "ticks": ""
             }
            },
            "type": "scatterpolargl"
           }
          ],
          "scatterternary": [
           {
            "marker": {
             "colorbar": {
              "outlinewidth": 0,
              "ticks": ""
             }
            },
            "type": "scatterternary"
           }
          ],
          "surface": [
           {
            "colorbar": {
             "outlinewidth": 0,
             "ticks": ""
            },
            "colorscale": [
             [
              0,
              "#0d0887"
             ],
             [
              0.1111111111111111,
              "#46039f"
             ],
             [
              0.2222222222222222,
              "#7201a8"
             ],
             [
              0.3333333333333333,
              "#9c179e"
             ],
             [
              0.4444444444444444,
              "#bd3786"
             ],
             [
              0.5555555555555556,
              "#d8576b"
             ],
             [
              0.6666666666666666,
              "#ed7953"
             ],
             [
              0.7777777777777778,
              "#fb9f3a"
             ],
             [
              0.8888888888888888,
              "#fdca26"
             ],
             [
              1,
              "#f0f921"
             ]
            ],
            "type": "surface"
           }
          ],
          "table": [
           {
            "cells": {
             "fill": {
              "color": "#EBF0F8"
             },
             "line": {
              "color": "white"
             }
            },
            "header": {
             "fill": {
              "color": "#C8D4E3"
             },
             "line": {
              "color": "white"
             }
            },
            "type": "table"
           }
          ]
         },
         "layout": {
          "annotationdefaults": {
           "arrowcolor": "#2a3f5f",
           "arrowhead": 0,
           "arrowwidth": 1
          },
          "autotypenumbers": "strict",
          "coloraxis": {
           "colorbar": {
            "outlinewidth": 0,
            "ticks": ""
           }
          },
          "colorscale": {
           "diverging": [
            [
             0,
             "#8e0152"
            ],
            [
             0.1,
             "#c51b7d"
            ],
            [
             0.2,
             "#de77ae"
            ],
            [
             0.3,
             "#f1b6da"
            ],
            [
             0.4,
             "#fde0ef"
            ],
            [
             0.5,
             "#f7f7f7"
            ],
            [
             0.6,
             "#e6f5d0"
            ],
            [
             0.7,
             "#b8e186"
            ],
            [
             0.8,
             "#7fbc41"
            ],
            [
             0.9,
             "#4d9221"
            ],
            [
             1,
             "#276419"
            ]
           ],
           "sequential": [
            [
             0,
             "#0d0887"
            ],
            [
             0.1111111111111111,
             "#46039f"
            ],
            [
             0.2222222222222222,
             "#7201a8"
            ],
            [
             0.3333333333333333,
             "#9c179e"
            ],
            [
             0.4444444444444444,
             "#bd3786"
            ],
            [
             0.5555555555555556,
             "#d8576b"
            ],
            [
             0.6666666666666666,
             "#ed7953"
            ],
            [
             0.7777777777777778,
             "#fb9f3a"
            ],
            [
             0.8888888888888888,
             "#fdca26"
            ],
            [
             1,
             "#f0f921"
            ]
           ],
           "sequentialminus": [
            [
             0,
             "#0d0887"
            ],
            [
             0.1111111111111111,
             "#46039f"
            ],
            [
             0.2222222222222222,
             "#7201a8"
            ],
            [
             0.3333333333333333,
             "#9c179e"
            ],
            [
             0.4444444444444444,
             "#bd3786"
            ],
            [
             0.5555555555555556,
             "#d8576b"
            ],
            [
             0.6666666666666666,
             "#ed7953"
            ],
            [
             0.7777777777777778,
             "#fb9f3a"
            ],
            [
             0.8888888888888888,
             "#fdca26"
            ],
            [
             1,
             "#f0f921"
            ]
           ]
          },
          "colorway": [
           "#636efa",
           "#EF553B",
           "#00cc96",
           "#ab63fa",
           "#FFA15A",
           "#19d3f3",
           "#FF6692",
           "#B6E880",
           "#FF97FF",
           "#FECB52"
          ],
          "font": {
           "color": "#2a3f5f"
          },
          "geo": {
           "bgcolor": "white",
           "lakecolor": "white",
           "landcolor": "#E5ECF6",
           "showlakes": true,
           "showland": true,
           "subunitcolor": "white"
          },
          "hoverlabel": {
           "align": "left"
          },
          "hovermode": "closest",
          "mapbox": {
           "style": "light"
          },
          "paper_bgcolor": "white",
          "plot_bgcolor": "#E5ECF6",
          "polar": {
           "angularaxis": {
            "gridcolor": "white",
            "linecolor": "white",
            "ticks": ""
           },
           "bgcolor": "#E5ECF6",
           "radialaxis": {
            "gridcolor": "white",
            "linecolor": "white",
            "ticks": ""
           }
          },
          "scene": {
           "xaxis": {
            "backgroundcolor": "#E5ECF6",
            "gridcolor": "white",
            "gridwidth": 2,
            "linecolor": "white",
            "showbackground": true,
            "ticks": "",
            "zerolinecolor": "white"
           },
           "yaxis": {
            "backgroundcolor": "#E5ECF6",
            "gridcolor": "white",
            "gridwidth": 2,
            "linecolor": "white",
            "showbackground": true,
            "ticks": "",
            "zerolinecolor": "white"
           },
           "zaxis": {
            "backgroundcolor": "#E5ECF6",
            "gridcolor": "white",
            "gridwidth": 2,
            "linecolor": "white",
            "showbackground": true,
            "ticks": "",
            "zerolinecolor": "white"
           }
          },
          "shapedefaults": {
           "line": {
            "color": "#2a3f5f"
           }
          },
          "ternary": {
           "aaxis": {
            "gridcolor": "white",
            "linecolor": "white",
            "ticks": ""
           },
           "baxis": {
            "gridcolor": "white",
            "linecolor": "white",
            "ticks": ""
           },
           "bgcolor": "#E5ECF6",
           "caxis": {
            "gridcolor": "white",
            "linecolor": "white",
            "ticks": ""
           }
          },
          "title": {
           "x": 0.05
          },
          "xaxis": {
           "automargin": true,
           "gridcolor": "white",
           "linecolor": "white",
           "ticks": "",
           "title": {
            "standoff": 15
           },
           "zerolinecolor": "white",
           "zerolinewidth": 2
          },
          "yaxis": {
           "automargin": true,
           "gridcolor": "white",
           "linecolor": "white",
           "ticks": "",
           "title": {
            "standoff": 15
           },
           "zerolinecolor": "white",
           "zerolinewidth": 2
          }
         }
        },
        "title": {
         "text": "Average Pace Overtime",
         "x": 0.5
        },
        "xaxis": {
         "anchor": "y",
         "domain": [
          0,
          1
         ],
         "showgrid": false,
         "title": {
          "text": "Date"
         },
         "zeroline": false
        },
        "yaxis": {
         "anchor": "x",
         "domain": [
          0,
          1
         ],
         "showgrid": false,
         "title": {
          "text": "avg pace"
         },
         "zeroline": false
        }
       }
      }
     },
     "metadata": {},
     "output_type": "display_data"
    }
   ],
   "source": [
    "# AVERAGE PACE OVERTIME (FOR ALL RUNS)\n",
    "\n",
    "df = df.sort_values(by='start_date', ascending=True).drop(index=[6,7,8])\n",
    "fig = px.line(df, x='start_date', y='avg pace', markers=True, title=\"Average Pace Overtime\")\n",
    "\n",
    "fig.update_traces(line_color=\"rgb(230, 81, 0)\",\n",
    "                  marker_color=\"rgb(230, 81, 0)\",\n",
    "                  marker_line_color='rgb(230, 81, 0)'\n",
    "                  )\n",
    "\n",
    "fig.update_layout(paper_bgcolor='rgb(12, 29, 42)', \n",
    "                  plot_bgcolor='rgb(12, 29, 42)', \n",
    "                  font=dict(color='white'),\n",
    "                  title_x=0.5,\n",
    "                  xaxis_title='Date',\n",
    "                  )\n",
    "\n",
    "fig.update_xaxes(showgrid=False, zeroline=False)\n",
    "fig.update_yaxes(showgrid=False, zeroline=False)\n",
    "\n",
    "fig.show()"
   ]
  },
  {
   "cell_type": "code",
   "execution_count": null,
   "metadata": {},
   "outputs": [
    {
     "data": {
      "application/vnd.plotly.v1+json": {
       "config": {
        "plotlyServerURL": "https://plot.ly"
       },
       "data": [
        {
         "hovertemplate": "start_date=%{x}<br>max heart rate=%{y}<extra></extra>",
         "legendgroup": "",
         "line": {
          "color": "rgb(230, 81, 0)",
          "dash": "solid"
         },
         "marker": {
          "color": "rgb(230, 81, 0)",
          "line": {
           "color": "rgb(230, 81, 0)"
          },
          "symbol": "circle"
         },
         "mode": "lines+markers",
         "name": "",
         "orientation": "v",
         "showlegend": false,
         "type": "scatter",
         "x": [
          "2024-05-18",
          "2024-05-19",
          "2024-05-19",
          "2024-05-21",
          "2024-05-21",
          "2024-05-22",
          "2024-05-23",
          "2024-05-23",
          "2024-05-25",
          "2024-05-25",
          "2024-05-25",
          "2024-05-26",
          "2024-05-26",
          "2024-05-26",
          "2024-05-28",
          "2024-05-28",
          "2024-05-29",
          "2024-05-29",
          "2024-05-31",
          "2024-05-31",
          "2024-06-02",
          "2024-06-02",
          "2024-06-02",
          "2024-06-02",
          "2024-06-05",
          "2024-06-06",
          "2024-06-08",
          "2024-06-08",
          "2024-06-18"
         ],
         "xaxis": "x",
         "y": [
          null,
          null,
          null,
          201,
          198,
          143,
          155,
          203,
          200,
          195,
          191,
          193,
          194,
          194,
          179,
          173,
          138,
          140,
          171,
          198,
          192,
          184,
          169,
          174,
          188,
          190,
          195,
          186,
          202
         ],
         "yaxis": "y"
        }
       ],
       "layout": {
        "font": {
         "color": "white"
        },
        "legend": {
         "tracegroupgap": 0
        },
        "paper_bgcolor": "rgb(12, 29, 42)",
        "plot_bgcolor": "rgb(12, 29, 42)",
        "template": {
         "data": {
          "bar": [
           {
            "error_x": {
             "color": "#2a3f5f"
            },
            "error_y": {
             "color": "#2a3f5f"
            },
            "marker": {
             "line": {
              "color": "#E5ECF6",
              "width": 0.5
             },
             "pattern": {
              "fillmode": "overlay",
              "size": 10,
              "solidity": 0.2
             }
            },
            "type": "bar"
           }
          ],
          "barpolar": [
           {
            "marker": {
             "line": {
              "color": "#E5ECF6",
              "width": 0.5
             },
             "pattern": {
              "fillmode": "overlay",
              "size": 10,
              "solidity": 0.2
             }
            },
            "type": "barpolar"
           }
          ],
          "carpet": [
           {
            "aaxis": {
             "endlinecolor": "#2a3f5f",
             "gridcolor": "white",
             "linecolor": "white",
             "minorgridcolor": "white",
             "startlinecolor": "#2a3f5f"
            },
            "baxis": {
             "endlinecolor": "#2a3f5f",
             "gridcolor": "white",
             "linecolor": "white",
             "minorgridcolor": "white",
             "startlinecolor": "#2a3f5f"
            },
            "type": "carpet"
           }
          ],
          "choropleth": [
           {
            "colorbar": {
             "outlinewidth": 0,
             "ticks": ""
            },
            "type": "choropleth"
           }
          ],
          "contour": [
           {
            "colorbar": {
             "outlinewidth": 0,
             "ticks": ""
            },
            "colorscale": [
             [
              0,
              "#0d0887"
             ],
             [
              0.1111111111111111,
              "#46039f"
             ],
             [
              0.2222222222222222,
              "#7201a8"
             ],
             [
              0.3333333333333333,
              "#9c179e"
             ],
             [
              0.4444444444444444,
              "#bd3786"
             ],
             [
              0.5555555555555556,
              "#d8576b"
             ],
             [
              0.6666666666666666,
              "#ed7953"
             ],
             [
              0.7777777777777778,
              "#fb9f3a"
             ],
             [
              0.8888888888888888,
              "#fdca26"
             ],
             [
              1,
              "#f0f921"
             ]
            ],
            "type": "contour"
           }
          ],
          "contourcarpet": [
           {
            "colorbar": {
             "outlinewidth": 0,
             "ticks": ""
            },
            "type": "contourcarpet"
           }
          ],
          "heatmap": [
           {
            "colorbar": {
             "outlinewidth": 0,
             "ticks": ""
            },
            "colorscale": [
             [
              0,
              "#0d0887"
             ],
             [
              0.1111111111111111,
              "#46039f"
             ],
             [
              0.2222222222222222,
              "#7201a8"
             ],
             [
              0.3333333333333333,
              "#9c179e"
             ],
             [
              0.4444444444444444,
              "#bd3786"
             ],
             [
              0.5555555555555556,
              "#d8576b"
             ],
             [
              0.6666666666666666,
              "#ed7953"
             ],
             [
              0.7777777777777778,
              "#fb9f3a"
             ],
             [
              0.8888888888888888,
              "#fdca26"
             ],
             [
              1,
              "#f0f921"
             ]
            ],
            "type": "heatmap"
           }
          ],
          "heatmapgl": [
           {
            "colorbar": {
             "outlinewidth": 0,
             "ticks": ""
            },
            "colorscale": [
             [
              0,
              "#0d0887"
             ],
             [
              0.1111111111111111,
              "#46039f"
             ],
             [
              0.2222222222222222,
              "#7201a8"
             ],
             [
              0.3333333333333333,
              "#9c179e"
             ],
             [
              0.4444444444444444,
              "#bd3786"
             ],
             [
              0.5555555555555556,
              "#d8576b"
             ],
             [
              0.6666666666666666,
              "#ed7953"
             ],
             [
              0.7777777777777778,
              "#fb9f3a"
             ],
             [
              0.8888888888888888,
              "#fdca26"
             ],
             [
              1,
              "#f0f921"
             ]
            ],
            "type": "heatmapgl"
           }
          ],
          "histogram": [
           {
            "marker": {
             "pattern": {
              "fillmode": "overlay",
              "size": 10,
              "solidity": 0.2
             }
            },
            "type": "histogram"
           }
          ],
          "histogram2d": [
           {
            "colorbar": {
             "outlinewidth": 0,
             "ticks": ""
            },
            "colorscale": [
             [
              0,
              "#0d0887"
             ],
             [
              0.1111111111111111,
              "#46039f"
             ],
             [
              0.2222222222222222,
              "#7201a8"
             ],
             [
              0.3333333333333333,
              "#9c179e"
             ],
             [
              0.4444444444444444,
              "#bd3786"
             ],
             [
              0.5555555555555556,
              "#d8576b"
             ],
             [
              0.6666666666666666,
              "#ed7953"
             ],
             [
              0.7777777777777778,
              "#fb9f3a"
             ],
             [
              0.8888888888888888,
              "#fdca26"
             ],
             [
              1,
              "#f0f921"
             ]
            ],
            "type": "histogram2d"
           }
          ],
          "histogram2dcontour": [
           {
            "colorbar": {
             "outlinewidth": 0,
             "ticks": ""
            },
            "colorscale": [
             [
              0,
              "#0d0887"
             ],
             [
              0.1111111111111111,
              "#46039f"
             ],
             [
              0.2222222222222222,
              "#7201a8"
             ],
             [
              0.3333333333333333,
              "#9c179e"
             ],
             [
              0.4444444444444444,
              "#bd3786"
             ],
             [
              0.5555555555555556,
              "#d8576b"
             ],
             [
              0.6666666666666666,
              "#ed7953"
             ],
             [
              0.7777777777777778,
              "#fb9f3a"
             ],
             [
              0.8888888888888888,
              "#fdca26"
             ],
             [
              1,
              "#f0f921"
             ]
            ],
            "type": "histogram2dcontour"
           }
          ],
          "mesh3d": [
           {
            "colorbar": {
             "outlinewidth": 0,
             "ticks": ""
            },
            "type": "mesh3d"
           }
          ],
          "parcoords": [
           {
            "line": {
             "colorbar": {
              "outlinewidth": 0,
              "ticks": ""
             }
            },
            "type": "parcoords"
           }
          ],
          "pie": [
           {
            "automargin": true,
            "type": "pie"
           }
          ],
          "scatter": [
           {
            "fillpattern": {
             "fillmode": "overlay",
             "size": 10,
             "solidity": 0.2
            },
            "type": "scatter"
           }
          ],
          "scatter3d": [
           {
            "line": {
             "colorbar": {
              "outlinewidth": 0,
              "ticks": ""
             }
            },
            "marker": {
             "colorbar": {
              "outlinewidth": 0,
              "ticks": ""
             }
            },
            "type": "scatter3d"
           }
          ],
          "scattercarpet": [
           {
            "marker": {
             "colorbar": {
              "outlinewidth": 0,
              "ticks": ""
             }
            },
            "type": "scattercarpet"
           }
          ],
          "scattergeo": [
           {
            "marker": {
             "colorbar": {
              "outlinewidth": 0,
              "ticks": ""
             }
            },
            "type": "scattergeo"
           }
          ],
          "scattergl": [
           {
            "marker": {
             "colorbar": {
              "outlinewidth": 0,
              "ticks": ""
             }
            },
            "type": "scattergl"
           }
          ],
          "scattermapbox": [
           {
            "marker": {
             "colorbar": {
              "outlinewidth": 0,
              "ticks": ""
             }
            },
            "type": "scattermapbox"
           }
          ],
          "scatterpolar": [
           {
            "marker": {
             "colorbar": {
              "outlinewidth": 0,
              "ticks": ""
             }
            },
            "type": "scatterpolar"
           }
          ],
          "scatterpolargl": [
           {
            "marker": {
             "colorbar": {
              "outlinewidth": 0,
              "ticks": ""
             }
            },
            "type": "scatterpolargl"
           }
          ],
          "scatterternary": [
           {
            "marker": {
             "colorbar": {
              "outlinewidth": 0,
              "ticks": ""
             }
            },
            "type": "scatterternary"
           }
          ],
          "surface": [
           {
            "colorbar": {
             "outlinewidth": 0,
             "ticks": ""
            },
            "colorscale": [
             [
              0,
              "#0d0887"
             ],
             [
              0.1111111111111111,
              "#46039f"
             ],
             [
              0.2222222222222222,
              "#7201a8"
             ],
             [
              0.3333333333333333,
              "#9c179e"
             ],
             [
              0.4444444444444444,
              "#bd3786"
             ],
             [
              0.5555555555555556,
              "#d8576b"
             ],
             [
              0.6666666666666666,
              "#ed7953"
             ],
             [
              0.7777777777777778,
              "#fb9f3a"
             ],
             [
              0.8888888888888888,
              "#fdca26"
             ],
             [
              1,
              "#f0f921"
             ]
            ],
            "type": "surface"
           }
          ],
          "table": [
           {
            "cells": {
             "fill": {
              "color": "#EBF0F8"
             },
             "line": {
              "color": "white"
             }
            },
            "header": {
             "fill": {
              "color": "#C8D4E3"
             },
             "line": {
              "color": "white"
             }
            },
            "type": "table"
           }
          ]
         },
         "layout": {
          "annotationdefaults": {
           "arrowcolor": "#2a3f5f",
           "arrowhead": 0,
           "arrowwidth": 1
          },
          "autotypenumbers": "strict",
          "coloraxis": {
           "colorbar": {
            "outlinewidth": 0,
            "ticks": ""
           }
          },
          "colorscale": {
           "diverging": [
            [
             0,
             "#8e0152"
            ],
            [
             0.1,
             "#c51b7d"
            ],
            [
             0.2,
             "#de77ae"
            ],
            [
             0.3,
             "#f1b6da"
            ],
            [
             0.4,
             "#fde0ef"
            ],
            [
             0.5,
             "#f7f7f7"
            ],
            [
             0.6,
             "#e6f5d0"
            ],
            [
             0.7,
             "#b8e186"
            ],
            [
             0.8,
             "#7fbc41"
            ],
            [
             0.9,
             "#4d9221"
            ],
            [
             1,
             "#276419"
            ]
           ],
           "sequential": [
            [
             0,
             "#0d0887"
            ],
            [
             0.1111111111111111,
             "#46039f"
            ],
            [
             0.2222222222222222,
             "#7201a8"
            ],
            [
             0.3333333333333333,
             "#9c179e"
            ],
            [
             0.4444444444444444,
             "#bd3786"
            ],
            [
             0.5555555555555556,
             "#d8576b"
            ],
            [
             0.6666666666666666,
             "#ed7953"
            ],
            [
             0.7777777777777778,
             "#fb9f3a"
            ],
            [
             0.8888888888888888,
             "#fdca26"
            ],
            [
             1,
             "#f0f921"
            ]
           ],
           "sequentialminus": [
            [
             0,
             "#0d0887"
            ],
            [
             0.1111111111111111,
             "#46039f"
            ],
            [
             0.2222222222222222,
             "#7201a8"
            ],
            [
             0.3333333333333333,
             "#9c179e"
            ],
            [
             0.4444444444444444,
             "#bd3786"
            ],
            [
             0.5555555555555556,
             "#d8576b"
            ],
            [
             0.6666666666666666,
             "#ed7953"
            ],
            [
             0.7777777777777778,
             "#fb9f3a"
            ],
            [
             0.8888888888888888,
             "#fdca26"
            ],
            [
             1,
             "#f0f921"
            ]
           ]
          },
          "colorway": [
           "#636efa",
           "#EF553B",
           "#00cc96",
           "#ab63fa",
           "#FFA15A",
           "#19d3f3",
           "#FF6692",
           "#B6E880",
           "#FF97FF",
           "#FECB52"
          ],
          "font": {
           "color": "#2a3f5f"
          },
          "geo": {
           "bgcolor": "white",
           "lakecolor": "white",
           "landcolor": "#E5ECF6",
           "showlakes": true,
           "showland": true,
           "subunitcolor": "white"
          },
          "hoverlabel": {
           "align": "left"
          },
          "hovermode": "closest",
          "mapbox": {
           "style": "light"
          },
          "paper_bgcolor": "white",
          "plot_bgcolor": "#E5ECF6",
          "polar": {
           "angularaxis": {
            "gridcolor": "white",
            "linecolor": "white",
            "ticks": ""
           },
           "bgcolor": "#E5ECF6",
           "radialaxis": {
            "gridcolor": "white",
            "linecolor": "white",
            "ticks": ""
           }
          },
          "scene": {
           "xaxis": {
            "backgroundcolor": "#E5ECF6",
            "gridcolor": "white",
            "gridwidth": 2,
            "linecolor": "white",
            "showbackground": true,
            "ticks": "",
            "zerolinecolor": "white"
           },
           "yaxis": {
            "backgroundcolor": "#E5ECF6",
            "gridcolor": "white",
            "gridwidth": 2,
            "linecolor": "white",
            "showbackground": true,
            "ticks": "",
            "zerolinecolor": "white"
           },
           "zaxis": {
            "backgroundcolor": "#E5ECF6",
            "gridcolor": "white",
            "gridwidth": 2,
            "linecolor": "white",
            "showbackground": true,
            "ticks": "",
            "zerolinecolor": "white"
           }
          },
          "shapedefaults": {
           "line": {
            "color": "#2a3f5f"
           }
          },
          "ternary": {
           "aaxis": {
            "gridcolor": "white",
            "linecolor": "white",
            "ticks": ""
           },
           "baxis": {
            "gridcolor": "white",
            "linecolor": "white",
            "ticks": ""
           },
           "bgcolor": "#E5ECF6",
           "caxis": {
            "gridcolor": "white",
            "linecolor": "white",
            "ticks": ""
           }
          },
          "title": {
           "x": 0.05
          },
          "xaxis": {
           "automargin": true,
           "gridcolor": "white",
           "linecolor": "white",
           "ticks": "",
           "title": {
            "standoff": 15
           },
           "zerolinecolor": "white",
           "zerolinewidth": 2
          },
          "yaxis": {
           "automargin": true,
           "gridcolor": "white",
           "linecolor": "white",
           "ticks": "",
           "title": {
            "standoff": 15
           },
           "zerolinecolor": "white",
           "zerolinewidth": 2
          }
         }
        },
        "title": {
         "text": "Max Heart Rate Overtime",
         "x": 0.5
        },
        "xaxis": {
         "anchor": "y",
         "domain": [
          0,
          1
         ],
         "showgrid": false,
         "title": {
          "text": "Date"
         },
         "zeroline": false
        },
        "yaxis": {
         "anchor": "x",
         "domain": [
          0,
          1
         ],
         "showgrid": false,
         "title": {
          "text": "max heart rate"
         },
         "zeroline": false
        }
       }
      }
     },
     "metadata": {},
     "output_type": "display_data"
    }
   ],
   "source": [
    "# MAX HEART RATE OVERTIME\n",
    "\n",
    "fig = px.line(df, \n",
    "              x='start_date', \n",
    "              y='max heart rate', \n",
    "              markers=True, \n",
    "              title='Max Heart Rate Overtime',\n",
    "              )\n",
    "\n",
    "fig.update_traces(line_color=\"rgb(230, 81, 0)\",\n",
    "                  marker_color=\"rgb(230, 81, 0)\",\n",
    "                  marker_line_color='rgb(230, 81, 0)'\n",
    "                  )\n",
    "\n",
    "fig.update_layout(paper_bgcolor='rgb(12, 29, 42)', \n",
    "                  plot_bgcolor='rgb(12, 29, 42)', \n",
    "                  font=dict(color='white'),\n",
    "                  title_x=0.5,\n",
    "                  xaxis_title='Date',\n",
    "                  )\n",
    "\n",
    "fig.update_xaxes(showgrid=False, zeroline=False)\n",
    "fig.update_yaxes(showgrid=False, zeroline=False)\n",
    "\n",
    "fig.show()"
   ]
  },
  {
   "cell_type": "code",
   "execution_count": null,
   "metadata": {},
   "outputs": [
    {
     "data": {
      "application/vnd.plotly.v1+json": {
       "config": {
        "plotlyServerURL": "https://plot.ly"
       },
       "data": [
        {
         "hovertemplate": "Week=%{x}<br>distance=%{y}<extra></extra>",
         "legendgroup": "",
         "line": {
          "color": "rgb(230, 81, 0)",
          "dash": "solid"
         },
         "marker": {
          "color": "rgb(230, 81, 0)",
          "line": {
           "color": "rgb(230, 81, 0)"
          },
          "symbol": "circle"
         },
         "mode": "lines+markers",
         "name": "",
         "orientation": "v",
         "showlegend": false,
         "type": "scatter",
         "x": [
          20,
          21,
          22,
          23,
          25
         ],
         "xaxis": "x",
         "y": [
          5.4,
          25.15,
          30.69,
          18.28,
          5.03
         ],
         "yaxis": "y"
        }
       ],
       "layout": {
        "font": {
         "color": "white"
        },
        "legend": {
         "tracegroupgap": 0
        },
        "paper_bgcolor": "rgb(12, 29, 42)",
        "plot_bgcolor": "rgb(12, 29, 42)",
        "template": {
         "data": {
          "bar": [
           {
            "error_x": {
             "color": "#2a3f5f"
            },
            "error_y": {
             "color": "#2a3f5f"
            },
            "marker": {
             "line": {
              "color": "#E5ECF6",
              "width": 0.5
             },
             "pattern": {
              "fillmode": "overlay",
              "size": 10,
              "solidity": 0.2
             }
            },
            "type": "bar"
           }
          ],
          "barpolar": [
           {
            "marker": {
             "line": {
              "color": "#E5ECF6",
              "width": 0.5
             },
             "pattern": {
              "fillmode": "overlay",
              "size": 10,
              "solidity": 0.2
             }
            },
            "type": "barpolar"
           }
          ],
          "carpet": [
           {
            "aaxis": {
             "endlinecolor": "#2a3f5f",
             "gridcolor": "white",
             "linecolor": "white",
             "minorgridcolor": "white",
             "startlinecolor": "#2a3f5f"
            },
            "baxis": {
             "endlinecolor": "#2a3f5f",
             "gridcolor": "white",
             "linecolor": "white",
             "minorgridcolor": "white",
             "startlinecolor": "#2a3f5f"
            },
            "type": "carpet"
           }
          ],
          "choropleth": [
           {
            "colorbar": {
             "outlinewidth": 0,
             "ticks": ""
            },
            "type": "choropleth"
           }
          ],
          "contour": [
           {
            "colorbar": {
             "outlinewidth": 0,
             "ticks": ""
            },
            "colorscale": [
             [
              0,
              "#0d0887"
             ],
             [
              0.1111111111111111,
              "#46039f"
             ],
             [
              0.2222222222222222,
              "#7201a8"
             ],
             [
              0.3333333333333333,
              "#9c179e"
             ],
             [
              0.4444444444444444,
              "#bd3786"
             ],
             [
              0.5555555555555556,
              "#d8576b"
             ],
             [
              0.6666666666666666,
              "#ed7953"
             ],
             [
              0.7777777777777778,
              "#fb9f3a"
             ],
             [
              0.8888888888888888,
              "#fdca26"
             ],
             [
              1,
              "#f0f921"
             ]
            ],
            "type": "contour"
           }
          ],
          "contourcarpet": [
           {
            "colorbar": {
             "outlinewidth": 0,
             "ticks": ""
            },
            "type": "contourcarpet"
           }
          ],
          "heatmap": [
           {
            "colorbar": {
             "outlinewidth": 0,
             "ticks": ""
            },
            "colorscale": [
             [
              0,
              "#0d0887"
             ],
             [
              0.1111111111111111,
              "#46039f"
             ],
             [
              0.2222222222222222,
              "#7201a8"
             ],
             [
              0.3333333333333333,
              "#9c179e"
             ],
             [
              0.4444444444444444,
              "#bd3786"
             ],
             [
              0.5555555555555556,
              "#d8576b"
             ],
             [
              0.6666666666666666,
              "#ed7953"
             ],
             [
              0.7777777777777778,
              "#fb9f3a"
             ],
             [
              0.8888888888888888,
              "#fdca26"
             ],
             [
              1,
              "#f0f921"
             ]
            ],
            "type": "heatmap"
           }
          ],
          "heatmapgl": [
           {
            "colorbar": {
             "outlinewidth": 0,
             "ticks": ""
            },
            "colorscale": [
             [
              0,
              "#0d0887"
             ],
             [
              0.1111111111111111,
              "#46039f"
             ],
             [
              0.2222222222222222,
              "#7201a8"
             ],
             [
              0.3333333333333333,
              "#9c179e"
             ],
             [
              0.4444444444444444,
              "#bd3786"
             ],
             [
              0.5555555555555556,
              "#d8576b"
             ],
             [
              0.6666666666666666,
              "#ed7953"
             ],
             [
              0.7777777777777778,
              "#fb9f3a"
             ],
             [
              0.8888888888888888,
              "#fdca26"
             ],
             [
              1,
              "#f0f921"
             ]
            ],
            "type": "heatmapgl"
           }
          ],
          "histogram": [
           {
            "marker": {
             "pattern": {
              "fillmode": "overlay",
              "size": 10,
              "solidity": 0.2
             }
            },
            "type": "histogram"
           }
          ],
          "histogram2d": [
           {
            "colorbar": {
             "outlinewidth": 0,
             "ticks": ""
            },
            "colorscale": [
             [
              0,
              "#0d0887"
             ],
             [
              0.1111111111111111,
              "#46039f"
             ],
             [
              0.2222222222222222,
              "#7201a8"
             ],
             [
              0.3333333333333333,
              "#9c179e"
             ],
             [
              0.4444444444444444,
              "#bd3786"
             ],
             [
              0.5555555555555556,
              "#d8576b"
             ],
             [
              0.6666666666666666,
              "#ed7953"
             ],
             [
              0.7777777777777778,
              "#fb9f3a"
             ],
             [
              0.8888888888888888,
              "#fdca26"
             ],
             [
              1,
              "#f0f921"
             ]
            ],
            "type": "histogram2d"
           }
          ],
          "histogram2dcontour": [
           {
            "colorbar": {
             "outlinewidth": 0,
             "ticks": ""
            },
            "colorscale": [
             [
              0,
              "#0d0887"
             ],
             [
              0.1111111111111111,
              "#46039f"
             ],
             [
              0.2222222222222222,
              "#7201a8"
             ],
             [
              0.3333333333333333,
              "#9c179e"
             ],
             [
              0.4444444444444444,
              "#bd3786"
             ],
             [
              0.5555555555555556,
              "#d8576b"
             ],
             [
              0.6666666666666666,
              "#ed7953"
             ],
             [
              0.7777777777777778,
              "#fb9f3a"
             ],
             [
              0.8888888888888888,
              "#fdca26"
             ],
             [
              1,
              "#f0f921"
             ]
            ],
            "type": "histogram2dcontour"
           }
          ],
          "mesh3d": [
           {
            "colorbar": {
             "outlinewidth": 0,
             "ticks": ""
            },
            "type": "mesh3d"
           }
          ],
          "parcoords": [
           {
            "line": {
             "colorbar": {
              "outlinewidth": 0,
              "ticks": ""
             }
            },
            "type": "parcoords"
           }
          ],
          "pie": [
           {
            "automargin": true,
            "type": "pie"
           }
          ],
          "scatter": [
           {
            "fillpattern": {
             "fillmode": "overlay",
             "size": 10,
             "solidity": 0.2
            },
            "type": "scatter"
           }
          ],
          "scatter3d": [
           {
            "line": {
             "colorbar": {
              "outlinewidth": 0,
              "ticks": ""
             }
            },
            "marker": {
             "colorbar": {
              "outlinewidth": 0,
              "ticks": ""
             }
            },
            "type": "scatter3d"
           }
          ],
          "scattercarpet": [
           {
            "marker": {
             "colorbar": {
              "outlinewidth": 0,
              "ticks": ""
             }
            },
            "type": "scattercarpet"
           }
          ],
          "scattergeo": [
           {
            "marker": {
             "colorbar": {
              "outlinewidth": 0,
              "ticks": ""
             }
            },
            "type": "scattergeo"
           }
          ],
          "scattergl": [
           {
            "marker": {
             "colorbar": {
              "outlinewidth": 0,
              "ticks": ""
             }
            },
            "type": "scattergl"
           }
          ],
          "scattermapbox": [
           {
            "marker": {
             "colorbar": {
              "outlinewidth": 0,
              "ticks": ""
             }
            },
            "type": "scattermapbox"
           }
          ],
          "scatterpolar": [
           {
            "marker": {
             "colorbar": {
              "outlinewidth": 0,
              "ticks": ""
             }
            },
            "type": "scatterpolar"
           }
          ],
          "scatterpolargl": [
           {
            "marker": {
             "colorbar": {
              "outlinewidth": 0,
              "ticks": ""
             }
            },
            "type": "scatterpolargl"
           }
          ],
          "scatterternary": [
           {
            "marker": {
             "colorbar": {
              "outlinewidth": 0,
              "ticks": ""
             }
            },
            "type": "scatterternary"
           }
          ],
          "surface": [
           {
            "colorbar": {
             "outlinewidth": 0,
             "ticks": ""
            },
            "colorscale": [
             [
              0,
              "#0d0887"
             ],
             [
              0.1111111111111111,
              "#46039f"
             ],
             [
              0.2222222222222222,
              "#7201a8"
             ],
             [
              0.3333333333333333,
              "#9c179e"
             ],
             [
              0.4444444444444444,
              "#bd3786"
             ],
             [
              0.5555555555555556,
              "#d8576b"
             ],
             [
              0.6666666666666666,
              "#ed7953"
             ],
             [
              0.7777777777777778,
              "#fb9f3a"
             ],
             [
              0.8888888888888888,
              "#fdca26"
             ],
             [
              1,
              "#f0f921"
             ]
            ],
            "type": "surface"
           }
          ],
          "table": [
           {
            "cells": {
             "fill": {
              "color": "#EBF0F8"
             },
             "line": {
              "color": "white"
             }
            },
            "header": {
             "fill": {
              "color": "#C8D4E3"
             },
             "line": {
              "color": "white"
             }
            },
            "type": "table"
           }
          ]
         },
         "layout": {
          "annotationdefaults": {
           "arrowcolor": "#2a3f5f",
           "arrowhead": 0,
           "arrowwidth": 1
          },
          "autotypenumbers": "strict",
          "coloraxis": {
           "colorbar": {
            "outlinewidth": 0,
            "ticks": ""
           }
          },
          "colorscale": {
           "diverging": [
            [
             0,
             "#8e0152"
            ],
            [
             0.1,
             "#c51b7d"
            ],
            [
             0.2,
             "#de77ae"
            ],
            [
             0.3,
             "#f1b6da"
            ],
            [
             0.4,
             "#fde0ef"
            ],
            [
             0.5,
             "#f7f7f7"
            ],
            [
             0.6,
             "#e6f5d0"
            ],
            [
             0.7,
             "#b8e186"
            ],
            [
             0.8,
             "#7fbc41"
            ],
            [
             0.9,
             "#4d9221"
            ],
            [
             1,
             "#276419"
            ]
           ],
           "sequential": [
            [
             0,
             "#0d0887"
            ],
            [
             0.1111111111111111,
             "#46039f"
            ],
            [
             0.2222222222222222,
             "#7201a8"
            ],
            [
             0.3333333333333333,
             "#9c179e"
            ],
            [
             0.4444444444444444,
             "#bd3786"
            ],
            [
             0.5555555555555556,
             "#d8576b"
            ],
            [
             0.6666666666666666,
             "#ed7953"
            ],
            [
             0.7777777777777778,
             "#fb9f3a"
            ],
            [
             0.8888888888888888,
             "#fdca26"
            ],
            [
             1,
             "#f0f921"
            ]
           ],
           "sequentialminus": [
            [
             0,
             "#0d0887"
            ],
            [
             0.1111111111111111,
             "#46039f"
            ],
            [
             0.2222222222222222,
             "#7201a8"
            ],
            [
             0.3333333333333333,
             "#9c179e"
            ],
            [
             0.4444444444444444,
             "#bd3786"
            ],
            [
             0.5555555555555556,
             "#d8576b"
            ],
            [
             0.6666666666666666,
             "#ed7953"
            ],
            [
             0.7777777777777778,
             "#fb9f3a"
            ],
            [
             0.8888888888888888,
             "#fdca26"
            ],
            [
             1,
             "#f0f921"
            ]
           ]
          },
          "colorway": [
           "#636efa",
           "#EF553B",
           "#00cc96",
           "#ab63fa",
           "#FFA15A",
           "#19d3f3",
           "#FF6692",
           "#B6E880",
           "#FF97FF",
           "#FECB52"
          ],
          "font": {
           "color": "#2a3f5f"
          },
          "geo": {
           "bgcolor": "white",
           "lakecolor": "white",
           "landcolor": "#E5ECF6",
           "showlakes": true,
           "showland": true,
           "subunitcolor": "white"
          },
          "hoverlabel": {
           "align": "left"
          },
          "hovermode": "closest",
          "mapbox": {
           "style": "light"
          },
          "paper_bgcolor": "white",
          "plot_bgcolor": "#E5ECF6",
          "polar": {
           "angularaxis": {
            "gridcolor": "white",
            "linecolor": "white",
            "ticks": ""
           },
           "bgcolor": "#E5ECF6",
           "radialaxis": {
            "gridcolor": "white",
            "linecolor": "white",
            "ticks": ""
           }
          },
          "scene": {
           "xaxis": {
            "backgroundcolor": "#E5ECF6",
            "gridcolor": "white",
            "gridwidth": 2,
            "linecolor": "white",
            "showbackground": true,
            "ticks": "",
            "zerolinecolor": "white"
           },
           "yaxis": {
            "backgroundcolor": "#E5ECF6",
            "gridcolor": "white",
            "gridwidth": 2,
            "linecolor": "white",
            "showbackground": true,
            "ticks": "",
            "zerolinecolor": "white"
           },
           "zaxis": {
            "backgroundcolor": "#E5ECF6",
            "gridcolor": "white",
            "gridwidth": 2,
            "linecolor": "white",
            "showbackground": true,
            "ticks": "",
            "zerolinecolor": "white"
           }
          },
          "shapedefaults": {
           "line": {
            "color": "#2a3f5f"
           }
          },
          "ternary": {
           "aaxis": {
            "gridcolor": "white",
            "linecolor": "white",
            "ticks": ""
           },
           "baxis": {
            "gridcolor": "white",
            "linecolor": "white",
            "ticks": ""
           },
           "bgcolor": "#E5ECF6",
           "caxis": {
            "gridcolor": "white",
            "linecolor": "white",
            "ticks": ""
           }
          },
          "title": {
           "x": 0.05
          },
          "xaxis": {
           "automargin": true,
           "gridcolor": "white",
           "linecolor": "white",
           "ticks": "",
           "title": {
            "standoff": 15
           },
           "zerolinecolor": "white",
           "zerolinewidth": 2
          },
          "yaxis": {
           "automargin": true,
           "gridcolor": "white",
           "linecolor": "white",
           "ticks": "",
           "title": {
            "standoff": 15
           },
           "zerolinecolor": "white",
           "zerolinewidth": 2
          }
         }
        },
        "title": {
         "text": "Distance Per Week",
         "x": 0.5
        },
        "xaxis": {
         "anchor": "y",
         "domain": [
          0,
          1
         ],
         "showgrid": false,
         "title": {
          "text": "Week"
         },
         "zeroline": false
        },
        "yaxis": {
         "anchor": "x",
         "domain": [
          0,
          1
         ],
         "showgrid": false,
         "title": {
          "text": "Distance (km)"
         },
         "zeroline": false
        }
       }
      }
     },
     "metadata": {},
     "output_type": "display_data"
    },
    {
     "data": {
      "text/html": [
       "<div>\n",
       "<style scoped>\n",
       "    .dataframe tbody tr th:only-of-type {\n",
       "        vertical-align: middle;\n",
       "    }\n",
       "\n",
       "    .dataframe tbody tr th {\n",
       "        vertical-align: top;\n",
       "    }\n",
       "\n",
       "    .dataframe thead th {\n",
       "        text-align: right;\n",
       "    }\n",
       "</style>\n",
       "<table border=\"1\" class=\"dataframe\">\n",
       "  <thead>\n",
       "    <tr style=\"text-align: right;\">\n",
       "      <th></th>\n",
       "      <th>distance</th>\n",
       "    </tr>\n",
       "    <tr>\n",
       "      <th>Week</th>\n",
       "      <th></th>\n",
       "    </tr>\n",
       "  </thead>\n",
       "  <tbody>\n",
       "    <tr>\n",
       "      <th>20</th>\n",
       "      <td>5.40</td>\n",
       "    </tr>\n",
       "    <tr>\n",
       "      <th>21</th>\n",
       "      <td>25.15</td>\n",
       "    </tr>\n",
       "    <tr>\n",
       "      <th>22</th>\n",
       "      <td>30.69</td>\n",
       "    </tr>\n",
       "    <tr>\n",
       "      <th>23</th>\n",
       "      <td>18.28</td>\n",
       "    </tr>\n",
       "    <tr>\n",
       "      <th>25</th>\n",
       "      <td>5.03</td>\n",
       "    </tr>\n",
       "  </tbody>\n",
       "</table>\n",
       "</div>"
      ],
      "text/plain": [
       "      distance\n",
       "Week          \n",
       "20        5.40\n",
       "21       25.15\n",
       "22       30.69\n",
       "23       18.28\n",
       "25        5.03"
      ]
     },
     "execution_count": 312,
     "metadata": {},
     "output_type": "execute_result"
    }
   ],
   "source": [
    "# DISTANCE PER WEEK?\n",
    "dist_per_week = pd.DataFrame(df.groupby('Week')['distance'].sum())\n",
    "fig = px.line(dist_per_week, y='distance', markers=True, title='Distance Per Week')\n",
    "\n",
    "fig.update_traces(line_color=\"rgb(230, 81, 0)\",\n",
    "                  marker_color=\"rgb(230, 81, 0)\",\n",
    "                  marker_line_color='rgb(230, 81, 0)'\n",
    "                  )\n",
    "\n",
    "fig.update_layout(paper_bgcolor='rgb(12, 29, 42)', \n",
    "                  plot_bgcolor='rgb(12, 29, 42)', \n",
    "                  font=dict(color='white'),\n",
    "                  title_x=0.5,\n",
    "                  yaxis_title='Distance (km)'\n",
    "                  )\n",
    "\n",
    "fig.update_xaxes(showgrid=False, zeroline=False)\n",
    "fig.update_yaxes(showgrid=False, zeroline=False)\n",
    "\n",
    "fig.show()\n",
    "dist_per_week"
   ]
  },
  {
   "cell_type": "code",
   "execution_count": null,
   "metadata": {},
   "outputs": [
    {
     "data": {
      "text/html": [
       "<div>\n",
       "<style scoped>\n",
       "    .dataframe tbody tr th:only-of-type {\n",
       "        vertical-align: middle;\n",
       "    }\n",
       "\n",
       "    .dataframe tbody tr th {\n",
       "        vertical-align: top;\n",
       "    }\n",
       "\n",
       "    .dataframe thead th {\n",
       "        text-align: right;\n",
       "    }\n",
       "</style>\n",
       "<table border=\"1\" class=\"dataframe\">\n",
       "  <thead>\n",
       "    <tr style=\"text-align: right;\">\n",
       "      <th></th>\n",
       "      <th>activity id</th>\n",
       "      <th>activity date</th>\n",
       "      <th>activity name</th>\n",
       "      <th>activity type</th>\n",
       "      <th>elapsed time</th>\n",
       "      <th>moving time</th>\n",
       "      <th>distance</th>\n",
       "      <th>max heart rate</th>\n",
       "      <th>elevation gain</th>\n",
       "      <th>max speed</th>\n",
       "      <th>...</th>\n",
       "      <th>start_time</th>\n",
       "      <th>start_date</th>\n",
       "      <th>month</th>\n",
       "      <th>year</th>\n",
       "      <th>dayofyear</th>\n",
       "      <th>dayofweek</th>\n",
       "      <th>elapsed minutes</th>\n",
       "      <th>km per hour</th>\n",
       "      <th>avg pace</th>\n",
       "      <th>Week</th>\n",
       "    </tr>\n",
       "  </thead>\n",
       "  <tbody>\n",
       "    <tr>\n",
       "      <th>0</th>\n",
       "      <td>11470038800</td>\n",
       "      <td>22 May 2024, 08:19:26</td>\n",
       "      <td>Evening Walk</td>\n",
       "      <td>Walk</td>\n",
       "      <td>1266</td>\n",
       "      <td>1164.0</td>\n",
       "      <td>3.01</td>\n",
       "      <td>143.000000</td>\n",
       "      <td>28.600000</td>\n",
       "      <td>3.080005</td>\n",
       "      <td>...</td>\n",
       "      <td>08:19:26</td>\n",
       "      <td>2024-05-22</td>\n",
       "      <td>5</td>\n",
       "      <td>2024</td>\n",
       "      <td>143</td>\n",
       "      <td>2</td>\n",
       "      <td>21.10</td>\n",
       "      <td>8.56</td>\n",
       "      <td>7.01</td>\n",
       "      <td>21</td>\n",
       "    </tr>\n",
       "    <tr>\n",
       "      <th>1</th>\n",
       "      <td>11470039023</td>\n",
       "      <td>21 May 2024, 00:48:20</td>\n",
       "      <td>Morning Run</td>\n",
       "      <td>Run</td>\n",
       "      <td>1386</td>\n",
       "      <td>1374.0</td>\n",
       "      <td>3.05</td>\n",
       "      <td>201.000000</td>\n",
       "      <td>40.599998</td>\n",
       "      <td>3.105999</td>\n",
       "      <td>...</td>\n",
       "      <td>00:48:20</td>\n",
       "      <td>2024-05-21</td>\n",
       "      <td>5</td>\n",
       "      <td>2024</td>\n",
       "      <td>142</td>\n",
       "      <td>1</td>\n",
       "      <td>23.10</td>\n",
       "      <td>7.92</td>\n",
       "      <td>7.57</td>\n",
       "      <td>21</td>\n",
       "    </tr>\n",
       "    <tr>\n",
       "      <th>2</th>\n",
       "      <td>11470243052</td>\n",
       "      <td>21 May 2024, 21:53:08</td>\n",
       "      <td>Running</td>\n",
       "      <td>Run</td>\n",
       "      <td>658</td>\n",
       "      <td>647.0</td>\n",
       "      <td>1.59</td>\n",
       "      <td>198.000000</td>\n",
       "      <td>0.000000</td>\n",
       "      <td>3.890000</td>\n",
       "      <td>...</td>\n",
       "      <td>21:53:08</td>\n",
       "      <td>2024-05-21</td>\n",
       "      <td>5</td>\n",
       "      <td>2024</td>\n",
       "      <td>142</td>\n",
       "      <td>1</td>\n",
       "      <td>10.97</td>\n",
       "      <td>8.70</td>\n",
       "      <td>6.90</td>\n",
       "      <td>21</td>\n",
       "    </tr>\n",
       "    <tr>\n",
       "      <th>3</th>\n",
       "      <td>11470243289</td>\n",
       "      <td>19 May 2024, 07:07:07</td>\n",
       "      <td>Running</td>\n",
       "      <td>Run</td>\n",
       "      <td>1471</td>\n",
       "      <td>810.0</td>\n",
       "      <td>2.01</td>\n",
       "      <td>183.586207</td>\n",
       "      <td>0.000000</td>\n",
       "      <td>4.702002</td>\n",
       "      <td>...</td>\n",
       "      <td>07:07:07</td>\n",
       "      <td>2024-05-19</td>\n",
       "      <td>5</td>\n",
       "      <td>2024</td>\n",
       "      <td>140</td>\n",
       "      <td>6</td>\n",
       "      <td>24.52</td>\n",
       "      <td>4.92</td>\n",
       "      <td>12.20</td>\n",
       "      <td>20</td>\n",
       "    </tr>\n",
       "    <tr>\n",
       "      <th>4</th>\n",
       "      <td>11470243423</td>\n",
       "      <td>19 May 2024, 07:01:17</td>\n",
       "      <td>Running</td>\n",
       "      <td>Run</td>\n",
       "      <td>301</td>\n",
       "      <td>301.0</td>\n",
       "      <td>0.77</td>\n",
       "      <td>183.586207</td>\n",
       "      <td>0.000000</td>\n",
       "      <td>3.345999</td>\n",
       "      <td>...</td>\n",
       "      <td>07:01:17</td>\n",
       "      <td>2024-05-19</td>\n",
       "      <td>5</td>\n",
       "      <td>2024</td>\n",
       "      <td>140</td>\n",
       "      <td>6</td>\n",
       "      <td>5.02</td>\n",
       "      <td>9.20</td>\n",
       "      <td>6.52</td>\n",
       "      <td>20</td>\n",
       "    </tr>\n",
       "    <tr>\n",
       "      <th>5</th>\n",
       "      <td>11470243536</td>\n",
       "      <td>18 May 2024, 07:19:05</td>\n",
       "      <td>Running</td>\n",
       "      <td>Run</td>\n",
       "      <td>1719</td>\n",
       "      <td>1200.0</td>\n",
       "      <td>2.62</td>\n",
       "      <td>183.586207</td>\n",
       "      <td>0.000000</td>\n",
       "      <td>3.376001</td>\n",
       "      <td>...</td>\n",
       "      <td>07:19:05</td>\n",
       "      <td>2024-05-18</td>\n",
       "      <td>5</td>\n",
       "      <td>2024</td>\n",
       "      <td>139</td>\n",
       "      <td>5</td>\n",
       "      <td>28.65</td>\n",
       "      <td>5.49</td>\n",
       "      <td>10.94</td>\n",
       "      <td>20</td>\n",
       "    </tr>\n",
       "    <tr>\n",
       "      <th>6</th>\n",
       "      <td>11470243862</td>\n",
       "      <td>14 Apr 2024, 06:36:30</td>\n",
       "      <td>Como Park</td>\n",
       "      <td>Run</td>\n",
       "      <td>2633</td>\n",
       "      <td>1185.0</td>\n",
       "      <td>3.09</td>\n",
       "      <td>199.000000</td>\n",
       "      <td>15.926480</td>\n",
       "      <td>3.438000</td>\n",
       "      <td>...</td>\n",
       "      <td>06:36:30</td>\n",
       "      <td>2024-04-14</td>\n",
       "      <td>4</td>\n",
       "      <td>2024</td>\n",
       "      <td>105</td>\n",
       "      <td>6</td>\n",
       "      <td>43.88</td>\n",
       "      <td>4.23</td>\n",
       "      <td>14.20</td>\n",
       "      <td>15</td>\n",
       "    </tr>\n",
       "    <tr>\n",
       "      <th>7</th>\n",
       "      <td>11470243993</td>\n",
       "      <td>9 Jan 2024, 06:54:46</td>\n",
       "      <td>Como Park</td>\n",
       "      <td>Run</td>\n",
       "      <td>1765</td>\n",
       "      <td>1255.0</td>\n",
       "      <td>3.19</td>\n",
       "      <td>192.000000</td>\n",
       "      <td>18.130556</td>\n",
       "      <td>5.061963</td>\n",
       "      <td>...</td>\n",
       "      <td>06:54:46</td>\n",
       "      <td>2024-01-09</td>\n",
       "      <td>1</td>\n",
       "      <td>2024</td>\n",
       "      <td>9</td>\n",
       "      <td>1</td>\n",
       "      <td>29.42</td>\n",
       "      <td>6.51</td>\n",
       "      <td>9.22</td>\n",
       "      <td>2</td>\n",
       "    </tr>\n",
       "    <tr>\n",
       "      <th>8</th>\n",
       "      <td>11470290443</td>\n",
       "      <td>29 Dec 2023, 05:23:55</td>\n",
       "      <td>Como Park</td>\n",
       "      <td>Run</td>\n",
       "      <td>1110</td>\n",
       "      <td>919.0</td>\n",
       "      <td>2.31</td>\n",
       "      <td>187.000000</td>\n",
       "      <td>3.189474</td>\n",
       "      <td>8.793333</td>\n",
       "      <td>...</td>\n",
       "      <td>05:23:55</td>\n",
       "      <td>2023-12-29</td>\n",
       "      <td>12</td>\n",
       "      <td>2023</td>\n",
       "      <td>363</td>\n",
       "      <td>4</td>\n",
       "      <td>18.50</td>\n",
       "      <td>7.49</td>\n",
       "      <td>8.01</td>\n",
       "      <td>52</td>\n",
       "    </tr>\n",
       "    <tr>\n",
       "      <th>9</th>\n",
       "      <td>11476534443</td>\n",
       "      <td>23 May 2024, 06:10:14</td>\n",
       "      <td>Nike Run Club: First \\nSpeed Run</td>\n",
       "      <td>Run</td>\n",
       "      <td>1617</td>\n",
       "      <td>810.0</td>\n",
       "      <td>2.27</td>\n",
       "      <td>155.000000</td>\n",
       "      <td>28.000000</td>\n",
       "      <td>4.752002</td>\n",
       "      <td>...</td>\n",
       "      <td>06:10:14</td>\n",
       "      <td>2024-05-23</td>\n",
       "      <td>5</td>\n",
       "      <td>2024</td>\n",
       "      <td>144</td>\n",
       "      <td>3</td>\n",
       "      <td>26.95</td>\n",
       "      <td>5.05</td>\n",
       "      <td>11.87</td>\n",
       "      <td>21</td>\n",
       "    </tr>\n",
       "    <tr>\n",
       "      <th>10</th>\n",
       "      <td>11476585894</td>\n",
       "      <td>23 May 2024, 06:42:24</td>\n",
       "      <td>Afternoon Run</td>\n",
       "      <td>Run</td>\n",
       "      <td>374</td>\n",
       "      <td>374.0</td>\n",
       "      <td>1.05</td>\n",
       "      <td>203.000000</td>\n",
       "      <td>10.600000</td>\n",
       "      <td>4.338000</td>\n",
       "      <td>...</td>\n",
       "      <td>06:42:24</td>\n",
       "      <td>2024-05-23</td>\n",
       "      <td>5</td>\n",
       "      <td>2024</td>\n",
       "      <td>144</td>\n",
       "      <td>3</td>\n",
       "      <td>6.23</td>\n",
       "      <td>10.11</td>\n",
       "      <td>5.93</td>\n",
       "      <td>21</td>\n",
       "    </tr>\n",
       "    <tr>\n",
       "      <th>11</th>\n",
       "      <td>11490128286</td>\n",
       "      <td>25 May 2024, 02:09:16</td>\n",
       "      <td>Lunch Run</td>\n",
       "      <td>Run</td>\n",
       "      <td>586</td>\n",
       "      <td>455.0</td>\n",
       "      <td>1.19</td>\n",
       "      <td>200.000000</td>\n",
       "      <td>13.400000</td>\n",
       "      <td>3.638000</td>\n",
       "      <td>...</td>\n",
       "      <td>02:09:16</td>\n",
       "      <td>2024-05-25</td>\n",
       "      <td>5</td>\n",
       "      <td>2024</td>\n",
       "      <td>146</td>\n",
       "      <td>5</td>\n",
       "      <td>9.77</td>\n",
       "      <td>7.31</td>\n",
       "      <td>8.21</td>\n",
       "      <td>21</td>\n",
       "    </tr>\n",
       "    <tr>\n",
       "      <th>12</th>\n",
       "      <td>11490222687</td>\n",
       "      <td>25 May 2024, 02:29:44</td>\n",
       "      <td>Nike Run Club: 4K Starting Lines</td>\n",
       "      <td>Run</td>\n",
       "      <td>1978</td>\n",
       "      <td>1655.0</td>\n",
       "      <td>4.00</td>\n",
       "      <td>195.000000</td>\n",
       "      <td>21.000000</td>\n",
       "      <td>3.450000</td>\n",
       "      <td>...</td>\n",
       "      <td>02:29:44</td>\n",
       "      <td>2024-05-25</td>\n",
       "      <td>5</td>\n",
       "      <td>2024</td>\n",
       "      <td>146</td>\n",
       "      <td>5</td>\n",
       "      <td>32.97</td>\n",
       "      <td>7.28</td>\n",
       "      <td>8.24</td>\n",
       "      <td>21</td>\n",
       "    </tr>\n",
       "    <tr>\n",
       "      <th>13</th>\n",
       "      <td>11490360645</td>\n",
       "      <td>25 May 2024, 03:45:59</td>\n",
       "      <td>Afternoon Run</td>\n",
       "      <td>Run</td>\n",
       "      <td>1030</td>\n",
       "      <td>1001.0</td>\n",
       "      <td>2.20</td>\n",
       "      <td>191.000000</td>\n",
       "      <td>17.599998</td>\n",
       "      <td>3.943994</td>\n",
       "      <td>...</td>\n",
       "      <td>03:45:59</td>\n",
       "      <td>2024-05-25</td>\n",
       "      <td>5</td>\n",
       "      <td>2024</td>\n",
       "      <td>146</td>\n",
       "      <td>5</td>\n",
       "      <td>17.17</td>\n",
       "      <td>7.69</td>\n",
       "      <td>7.80</td>\n",
       "      <td>21</td>\n",
       "    </tr>\n",
       "    <tr>\n",
       "      <th>14</th>\n",
       "      <td>11498777386</td>\n",
       "      <td>26 May 2024, 06:30:01</td>\n",
       "      <td>Afternoon Run</td>\n",
       "      <td>Run</td>\n",
       "      <td>1452</td>\n",
       "      <td>1392.0</td>\n",
       "      <td>3.20</td>\n",
       "      <td>194.000000</td>\n",
       "      <td>25.200001</td>\n",
       "      <td>7.267999</td>\n",
       "      <td>...</td>\n",
       "      <td>06:30:01</td>\n",
       "      <td>2024-05-26</td>\n",
       "      <td>5</td>\n",
       "      <td>2024</td>\n",
       "      <td>147</td>\n",
       "      <td>6</td>\n",
       "      <td>24.20</td>\n",
       "      <td>7.93</td>\n",
       "      <td>7.56</td>\n",
       "      <td>21</td>\n",
       "    </tr>\n",
       "    <tr>\n",
       "      <th>15</th>\n",
       "      <td>11498781598</td>\n",
       "      <td>26 May 2024, 06:30:51</td>\n",
       "      <td>Nike Run Club: 8 Weeks to Go - Recovery Run</td>\n",
       "      <td>Run</td>\n",
       "      <td>1430</td>\n",
       "      <td>1321.0</td>\n",
       "      <td>3.06</td>\n",
       "      <td>194.000000</td>\n",
       "      <td>33.000000</td>\n",
       "      <td>4.883333</td>\n",
       "      <td>...</td>\n",
       "      <td>06:30:51</td>\n",
       "      <td>2024-05-26</td>\n",
       "      <td>5</td>\n",
       "      <td>2024</td>\n",
       "      <td>147</td>\n",
       "      <td>6</td>\n",
       "      <td>23.83</td>\n",
       "      <td>7.70</td>\n",
       "      <td>7.79</td>\n",
       "      <td>21</td>\n",
       "    </tr>\n",
       "    <tr>\n",
       "      <th>16</th>\n",
       "      <td>11498799175</td>\n",
       "      <td>26 May 2024, 06:56:03</td>\n",
       "      <td>Afternoon Run</td>\n",
       "      <td>Run</td>\n",
       "      <td>201</td>\n",
       "      <td>190.0</td>\n",
       "      <td>0.53</td>\n",
       "      <td>193.000000</td>\n",
       "      <td>9.000000</td>\n",
       "      <td>3.348000</td>\n",
       "      <td>...</td>\n",
       "      <td>06:56:03</td>\n",
       "      <td>2024-05-26</td>\n",
       "      <td>5</td>\n",
       "      <td>2024</td>\n",
       "      <td>147</td>\n",
       "      <td>6</td>\n",
       "      <td>3.35</td>\n",
       "      <td>9.49</td>\n",
       "      <td>6.32</td>\n",
       "      <td>21</td>\n",
       "    </tr>\n",
       "    <tr>\n",
       "      <th>17</th>\n",
       "      <td>11513656106</td>\n",
       "      <td>28 May 2024, 00:58:41</td>\n",
       "      <td>Nike Run Club: 7 Weeks to Go - Recovery Run</td>\n",
       "      <td>Run</td>\n",
       "      <td>988</td>\n",
       "      <td>875.0</td>\n",
       "      <td>1.84</td>\n",
       "      <td>179.000000</td>\n",
       "      <td>18.000000</td>\n",
       "      <td>4.016667</td>\n",
       "      <td>...</td>\n",
       "      <td>00:58:41</td>\n",
       "      <td>2024-05-28</td>\n",
       "      <td>5</td>\n",
       "      <td>2024</td>\n",
       "      <td>149</td>\n",
       "      <td>1</td>\n",
       "      <td>16.47</td>\n",
       "      <td>6.70</td>\n",
       "      <td>8.95</td>\n",
       "      <td>22</td>\n",
       "    </tr>\n",
       "    <tr>\n",
       "      <th>18</th>\n",
       "      <td>11520905115</td>\n",
       "      <td>28 May 2024, 22:54:47</td>\n",
       "      <td>Nike Run Club: 7 Weeks to Go - Recovery Run</td>\n",
       "      <td>Run</td>\n",
       "      <td>3425</td>\n",
       "      <td>3220.0</td>\n",
       "      <td>6.04</td>\n",
       "      <td>173.000000</td>\n",
       "      <td>55.000000</td>\n",
       "      <td>3.720000</td>\n",
       "      <td>...</td>\n",
       "      <td>22:54:47</td>\n",
       "      <td>2024-05-28</td>\n",
       "      <td>5</td>\n",
       "      <td>2024</td>\n",
       "      <td>149</td>\n",
       "      <td>1</td>\n",
       "      <td>57.08</td>\n",
       "      <td>6.35</td>\n",
       "      <td>9.45</td>\n",
       "      <td>22</td>\n",
       "    </tr>\n",
       "    <tr>\n",
       "      <th>19</th>\n",
       "      <td>11522274533</td>\n",
       "      <td>29 May 2024, 06:18:11</td>\n",
       "      <td>Afternoon Walk</td>\n",
       "      <td>Walk</td>\n",
       "      <td>392</td>\n",
       "      <td>134.0</td>\n",
       "      <td>1.00</td>\n",
       "      <td>138.000000</td>\n",
       "      <td>3.799999</td>\n",
       "      <td>2.171997</td>\n",
       "      <td>...</td>\n",
       "      <td>06:18:11</td>\n",
       "      <td>2024-05-29</td>\n",
       "      <td>5</td>\n",
       "      <td>2024</td>\n",
       "      <td>150</td>\n",
       "      <td>2</td>\n",
       "      <td>6.53</td>\n",
       "      <td>9.19</td>\n",
       "      <td>6.53</td>\n",
       "      <td>22</td>\n",
       "    </tr>\n",
       "    <tr>\n",
       "      <th>20</th>\n",
       "      <td>11523191512</td>\n",
       "      <td>29 May 2024, 07:44:32</td>\n",
       "      <td>Afternoon Walk</td>\n",
       "      <td>Walk</td>\n",
       "      <td>1097</td>\n",
       "      <td>1041.0</td>\n",
       "      <td>2.72</td>\n",
       "      <td>140.000000</td>\n",
       "      <td>37.599998</td>\n",
       "      <td>4.333984</td>\n",
       "      <td>...</td>\n",
       "      <td>07:44:32</td>\n",
       "      <td>2024-05-29</td>\n",
       "      <td>5</td>\n",
       "      <td>2024</td>\n",
       "      <td>150</td>\n",
       "      <td>2</td>\n",
       "      <td>18.28</td>\n",
       "      <td>8.93</td>\n",
       "      <td>6.72</td>\n",
       "      <td>22</td>\n",
       "    </tr>\n",
       "    <tr>\n",
       "      <th>21</th>\n",
       "      <td>11537951108</td>\n",
       "      <td>31 May 2024, 06:18:44</td>\n",
       "      <td>Nike Run Club: Next Speed Run</td>\n",
       "      <td>Run</td>\n",
       "      <td>1854</td>\n",
       "      <td>901.0</td>\n",
       "      <td>2.34</td>\n",
       "      <td>171.000000</td>\n",
       "      <td>36.000000</td>\n",
       "      <td>4.069995</td>\n",
       "      <td>...</td>\n",
       "      <td>06:18:44</td>\n",
       "      <td>2024-05-31</td>\n",
       "      <td>5</td>\n",
       "      <td>2024</td>\n",
       "      <td>152</td>\n",
       "      <td>4</td>\n",
       "      <td>30.90</td>\n",
       "      <td>4.54</td>\n",
       "      <td>13.21</td>\n",
       "      <td>22</td>\n",
       "    </tr>\n",
       "    <tr>\n",
       "      <th>22</th>\n",
       "      <td>11537956241</td>\n",
       "      <td>31 May 2024, 06:19:15</td>\n",
       "      <td>Afternoon Run</td>\n",
       "      <td>Run</td>\n",
       "      <td>1795</td>\n",
       "      <td>1121.0</td>\n",
       "      <td>2.86</td>\n",
       "      <td>198.000000</td>\n",
       "      <td>42.399998</td>\n",
       "      <td>8.529516</td>\n",
       "      <td>...</td>\n",
       "      <td>06:19:15</td>\n",
       "      <td>2024-05-31</td>\n",
       "      <td>5</td>\n",
       "      <td>2024</td>\n",
       "      <td>152</td>\n",
       "      <td>4</td>\n",
       "      <td>29.92</td>\n",
       "      <td>5.74</td>\n",
       "      <td>10.46</td>\n",
       "      <td>22</td>\n",
       "    </tr>\n",
       "    <tr>\n",
       "      <th>23</th>\n",
       "      <td>11551681161</td>\n",
       "      <td>2 Jun 2024, 00:11:56</td>\n",
       "      <td>Nike Run Club: 7 Weeks to Go - Long Run</td>\n",
       "      <td>Run</td>\n",
       "      <td>2485</td>\n",
       "      <td>2258.0</td>\n",
       "      <td>5.03</td>\n",
       "      <td>192.000000</td>\n",
       "      <td>58.000000</td>\n",
       "      <td>3.900000</td>\n",
       "      <td>...</td>\n",
       "      <td>00:11:56</td>\n",
       "      <td>2024-06-02</td>\n",
       "      <td>6</td>\n",
       "      <td>2024</td>\n",
       "      <td>154</td>\n",
       "      <td>6</td>\n",
       "      <td>41.42</td>\n",
       "      <td>7.29</td>\n",
       "      <td>8.23</td>\n",
       "      <td>22</td>\n",
       "    </tr>\n",
       "    <tr>\n",
       "      <th>24</th>\n",
       "      <td>11551802058</td>\n",
       "      <td>2 Jun 2024, 00:57:07</td>\n",
       "      <td>Nike Run Club: 7 Weeks to Go - Recovery Run</td>\n",
       "      <td>Run</td>\n",
       "      <td>1753</td>\n",
       "      <td>1504.0</td>\n",
       "      <td>3.44</td>\n",
       "      <td>184.000000</td>\n",
       "      <td>28.000000</td>\n",
       "      <td>3.583333</td>\n",
       "      <td>...</td>\n",
       "      <td>00:57:07</td>\n",
       "      <td>2024-06-02</td>\n",
       "      <td>6</td>\n",
       "      <td>2024</td>\n",
       "      <td>154</td>\n",
       "      <td>6</td>\n",
       "      <td>29.22</td>\n",
       "      <td>7.06</td>\n",
       "      <td>8.49</td>\n",
       "      <td>22</td>\n",
       "    </tr>\n",
       "    <tr>\n",
       "      <th>25</th>\n",
       "      <td>11559938586</td>\n",
       "      <td>2 Jun 2024, 23:41:16</td>\n",
       "      <td>Nike Run Club: A New Run</td>\n",
       "      <td>Run</td>\n",
       "      <td>1529</td>\n",
       "      <td>1500.0</td>\n",
       "      <td>2.85</td>\n",
       "      <td>169.000000</td>\n",
       "      <td>26.000000</td>\n",
       "      <td>2.866016</td>\n",
       "      <td>...</td>\n",
       "      <td>23:41:16</td>\n",
       "      <td>2024-06-02</td>\n",
       "      <td>6</td>\n",
       "      <td>2024</td>\n",
       "      <td>154</td>\n",
       "      <td>6</td>\n",
       "      <td>25.48</td>\n",
       "      <td>6.71</td>\n",
       "      <td>8.94</td>\n",
       "      <td>22</td>\n",
       "    </tr>\n",
       "    <tr>\n",
       "      <th>26</th>\n",
       "      <td>11560190199</td>\n",
       "      <td>2 Jun 2024, 23:44:01</td>\n",
       "      <td>Morning Run</td>\n",
       "      <td>Run</td>\n",
       "      <td>1369</td>\n",
       "      <td>1347.0</td>\n",
       "      <td>2.57</td>\n",
       "      <td>174.000000</td>\n",
       "      <td>36.200001</td>\n",
       "      <td>3.187988</td>\n",
       "      <td>...</td>\n",
       "      <td>23:44:01</td>\n",
       "      <td>2024-06-02</td>\n",
       "      <td>6</td>\n",
       "      <td>2024</td>\n",
       "      <td>154</td>\n",
       "      <td>6</td>\n",
       "      <td>22.82</td>\n",
       "      <td>6.76</td>\n",
       "      <td>8.88</td>\n",
       "      <td>22</td>\n",
       "    </tr>\n",
       "    <tr>\n",
       "      <th>27</th>\n",
       "      <td>11576211014</td>\n",
       "      <td>5 Jun 2024, 01:03:15</td>\n",
       "      <td>Nike Run Club: 6 Weeks to Go - Recovery Run</td>\n",
       "      <td>Run</td>\n",
       "      <td>2344</td>\n",
       "      <td>2219.0</td>\n",
       "      <td>5.00</td>\n",
       "      <td>188.000000</td>\n",
       "      <td>44.000000</td>\n",
       "      <td>3.553333</td>\n",
       "      <td>...</td>\n",
       "      <td>01:03:15</td>\n",
       "      <td>2024-06-05</td>\n",
       "      <td>6</td>\n",
       "      <td>2024</td>\n",
       "      <td>157</td>\n",
       "      <td>2</td>\n",
       "      <td>39.07</td>\n",
       "      <td>7.68</td>\n",
       "      <td>7.81</td>\n",
       "      <td>23</td>\n",
       "    </tr>\n",
       "    <tr>\n",
       "      <th>28</th>\n",
       "      <td>11585126344</td>\n",
       "      <td>6 Jun 2024, 04:19:42</td>\n",
       "      <td>Nike Run Club: 6 Weeks to Go - Recovery Run</td>\n",
       "      <td>Run</td>\n",
       "      <td>1616</td>\n",
       "      <td>1510.0</td>\n",
       "      <td>3.50</td>\n",
       "      <td>190.000000</td>\n",
       "      <td>33.000000</td>\n",
       "      <td>4.040000</td>\n",
       "      <td>...</td>\n",
       "      <td>04:19:42</td>\n",
       "      <td>2024-06-06</td>\n",
       "      <td>6</td>\n",
       "      <td>2024</td>\n",
       "      <td>158</td>\n",
       "      <td>3</td>\n",
       "      <td>26.93</td>\n",
       "      <td>7.80</td>\n",
       "      <td>7.69</td>\n",
       "      <td>23</td>\n",
       "    </tr>\n",
       "    <tr>\n",
       "      <th>29</th>\n",
       "      <td>11599728164</td>\n",
       "      <td>8 Jun 2024, 01:23:50</td>\n",
       "      <td>Nike Run Club: 6 Weeks to Go - Long Run</td>\n",
       "      <td>Run</td>\n",
       "      <td>2526</td>\n",
       "      <td>2452.0</td>\n",
       "      <td>6.02</td>\n",
       "      <td>195.000000</td>\n",
       "      <td>71.000000</td>\n",
       "      <td>4.433333</td>\n",
       "      <td>...</td>\n",
       "      <td>01:23:50</td>\n",
       "      <td>2024-06-08</td>\n",
       "      <td>6</td>\n",
       "      <td>2024</td>\n",
       "      <td>160</td>\n",
       "      <td>5</td>\n",
       "      <td>42.10</td>\n",
       "      <td>8.58</td>\n",
       "      <td>6.99</td>\n",
       "      <td>23</td>\n",
       "    </tr>\n",
       "    <tr>\n",
       "      <th>30</th>\n",
       "      <td>11599836517</td>\n",
       "      <td>8 Jun 2024, 02:08:19</td>\n",
       "      <td>Lunch Run</td>\n",
       "      <td>Run</td>\n",
       "      <td>1617</td>\n",
       "      <td>1581.0</td>\n",
       "      <td>3.76</td>\n",
       "      <td>186.000000</td>\n",
       "      <td>40.800003</td>\n",
       "      <td>3.402002</td>\n",
       "      <td>...</td>\n",
       "      <td>02:08:19</td>\n",
       "      <td>2024-06-08</td>\n",
       "      <td>6</td>\n",
       "      <td>2024</td>\n",
       "      <td>160</td>\n",
       "      <td>5</td>\n",
       "      <td>26.95</td>\n",
       "      <td>8.37</td>\n",
       "      <td>7.17</td>\n",
       "      <td>23</td>\n",
       "    </tr>\n",
       "    <tr>\n",
       "      <th>31</th>\n",
       "      <td>11677993982</td>\n",
       "      <td>18 Jun 2024, 03:19:44</td>\n",
       "      <td>Nike Run Club: 5 Weeks to Go - Recovery Run</td>\n",
       "      <td>Run</td>\n",
       "      <td>1944</td>\n",
       "      <td>1941.0</td>\n",
       "      <td>5.03</td>\n",
       "      <td>202.000000</td>\n",
       "      <td>46.000000</td>\n",
       "      <td>3.955957</td>\n",
       "      <td>...</td>\n",
       "      <td>03:19:44</td>\n",
       "      <td>2024-06-18</td>\n",
       "      <td>6</td>\n",
       "      <td>2024</td>\n",
       "      <td>170</td>\n",
       "      <td>1</td>\n",
       "      <td>32.40</td>\n",
       "      <td>9.31</td>\n",
       "      <td>6.44</td>\n",
       "      <td>25</td>\n",
       "    </tr>\n",
       "  </tbody>\n",
       "</table>\n",
       "<p>32 rows × 22 columns</p>\n",
       "</div>"
      ],
      "text/plain": [
       "    activity id          activity date  \\\n",
       "0   11470038800  22 May 2024, 08:19:26   \n",
       "1   11470039023  21 May 2024, 00:48:20   \n",
       "2   11470243052  21 May 2024, 21:53:08   \n",
       "3   11470243289  19 May 2024, 07:07:07   \n",
       "4   11470243423  19 May 2024, 07:01:17   \n",
       "5   11470243536  18 May 2024, 07:19:05   \n",
       "6   11470243862  14 Apr 2024, 06:36:30   \n",
       "7   11470243993   9 Jan 2024, 06:54:46   \n",
       "8   11470290443  29 Dec 2023, 05:23:55   \n",
       "9   11476534443  23 May 2024, 06:10:14   \n",
       "10  11476585894  23 May 2024, 06:42:24   \n",
       "11  11490128286  25 May 2024, 02:09:16   \n",
       "12  11490222687  25 May 2024, 02:29:44   \n",
       "13  11490360645  25 May 2024, 03:45:59   \n",
       "14  11498777386  26 May 2024, 06:30:01   \n",
       "15  11498781598  26 May 2024, 06:30:51   \n",
       "16  11498799175  26 May 2024, 06:56:03   \n",
       "17  11513656106  28 May 2024, 00:58:41   \n",
       "18  11520905115  28 May 2024, 22:54:47   \n",
       "19  11522274533  29 May 2024, 06:18:11   \n",
       "20  11523191512  29 May 2024, 07:44:32   \n",
       "21  11537951108  31 May 2024, 06:18:44   \n",
       "22  11537956241  31 May 2024, 06:19:15   \n",
       "23  11551681161   2 Jun 2024, 00:11:56   \n",
       "24  11551802058   2 Jun 2024, 00:57:07   \n",
       "25  11559938586   2 Jun 2024, 23:41:16   \n",
       "26  11560190199   2 Jun 2024, 23:44:01   \n",
       "27  11576211014   5 Jun 2024, 01:03:15   \n",
       "28  11585126344   6 Jun 2024, 04:19:42   \n",
       "29  11599728164   8 Jun 2024, 01:23:50   \n",
       "30  11599836517   8 Jun 2024, 02:08:19   \n",
       "31  11677993982  18 Jun 2024, 03:19:44   \n",
       "\n",
       "                                  activity name activity type  elapsed time  \\\n",
       "0                                  Evening Walk          Walk          1266   \n",
       "1                                   Morning Run           Run          1386   \n",
       "2                                       Running           Run           658   \n",
       "3                                       Running           Run          1471   \n",
       "4                                       Running           Run           301   \n",
       "5                                       Running           Run          1719   \n",
       "6                                     Como Park           Run          2633   \n",
       "7                                     Como Park           Run          1765   \n",
       "8                                     Como Park           Run          1110   \n",
       "9              Nike Run Club: First \\nSpeed Run           Run          1617   \n",
       "10                                Afternoon Run           Run           374   \n",
       "11                                    Lunch Run           Run           586   \n",
       "12             Nike Run Club: 4K Starting Lines           Run          1978   \n",
       "13                                Afternoon Run           Run          1030   \n",
       "14                                Afternoon Run           Run          1452   \n",
       "15  Nike Run Club: 8 Weeks to Go - Recovery Run           Run          1430   \n",
       "16                                Afternoon Run           Run           201   \n",
       "17  Nike Run Club: 7 Weeks to Go - Recovery Run           Run           988   \n",
       "18  Nike Run Club: 7 Weeks to Go - Recovery Run           Run          3425   \n",
       "19                               Afternoon Walk          Walk           392   \n",
       "20                               Afternoon Walk          Walk          1097   \n",
       "21                Nike Run Club: Next Speed Run           Run          1854   \n",
       "22                                Afternoon Run           Run          1795   \n",
       "23      Nike Run Club: 7 Weeks to Go - Long Run           Run          2485   \n",
       "24  Nike Run Club: 7 Weeks to Go - Recovery Run           Run          1753   \n",
       "25                     Nike Run Club: A New Run           Run          1529   \n",
       "26                                  Morning Run           Run          1369   \n",
       "27  Nike Run Club: 6 Weeks to Go - Recovery Run           Run          2344   \n",
       "28  Nike Run Club: 6 Weeks to Go - Recovery Run           Run          1616   \n",
       "29      Nike Run Club: 6 Weeks to Go - Long Run           Run          2526   \n",
       "30                                    Lunch Run           Run          1617   \n",
       "31  Nike Run Club: 5 Weeks to Go - Recovery Run           Run          1944   \n",
       "\n",
       "    moving time  distance  max heart rate  elevation gain  max speed  ...  \\\n",
       "0        1164.0      3.01      143.000000       28.600000   3.080005  ...   \n",
       "1        1374.0      3.05      201.000000       40.599998   3.105999  ...   \n",
       "2         647.0      1.59      198.000000        0.000000   3.890000  ...   \n",
       "3         810.0      2.01      183.586207        0.000000   4.702002  ...   \n",
       "4         301.0      0.77      183.586207        0.000000   3.345999  ...   \n",
       "5        1200.0      2.62      183.586207        0.000000   3.376001  ...   \n",
       "6        1185.0      3.09      199.000000       15.926480   3.438000  ...   \n",
       "7        1255.0      3.19      192.000000       18.130556   5.061963  ...   \n",
       "8         919.0      2.31      187.000000        3.189474   8.793333  ...   \n",
       "9         810.0      2.27      155.000000       28.000000   4.752002  ...   \n",
       "10        374.0      1.05      203.000000       10.600000   4.338000  ...   \n",
       "11        455.0      1.19      200.000000       13.400000   3.638000  ...   \n",
       "12       1655.0      4.00      195.000000       21.000000   3.450000  ...   \n",
       "13       1001.0      2.20      191.000000       17.599998   3.943994  ...   \n",
       "14       1392.0      3.20      194.000000       25.200001   7.267999  ...   \n",
       "15       1321.0      3.06      194.000000       33.000000   4.883333  ...   \n",
       "16        190.0      0.53      193.000000        9.000000   3.348000  ...   \n",
       "17        875.0      1.84      179.000000       18.000000   4.016667  ...   \n",
       "18       3220.0      6.04      173.000000       55.000000   3.720000  ...   \n",
       "19        134.0      1.00      138.000000        3.799999   2.171997  ...   \n",
       "20       1041.0      2.72      140.000000       37.599998   4.333984  ...   \n",
       "21        901.0      2.34      171.000000       36.000000   4.069995  ...   \n",
       "22       1121.0      2.86      198.000000       42.399998   8.529516  ...   \n",
       "23       2258.0      5.03      192.000000       58.000000   3.900000  ...   \n",
       "24       1504.0      3.44      184.000000       28.000000   3.583333  ...   \n",
       "25       1500.0      2.85      169.000000       26.000000   2.866016  ...   \n",
       "26       1347.0      2.57      174.000000       36.200001   3.187988  ...   \n",
       "27       2219.0      5.00      188.000000       44.000000   3.553333  ...   \n",
       "28       1510.0      3.50      190.000000       33.000000   4.040000  ...   \n",
       "29       2452.0      6.02      195.000000       71.000000   4.433333  ...   \n",
       "30       1581.0      3.76      186.000000       40.800003   3.402002  ...   \n",
       "31       1941.0      5.03      202.000000       46.000000   3.955957  ...   \n",
       "\n",
       "    start_time  start_date month  year  dayofyear  dayofweek  elapsed minutes  \\\n",
       "0     08:19:26  2024-05-22     5  2024        143          2            21.10   \n",
       "1     00:48:20  2024-05-21     5  2024        142          1            23.10   \n",
       "2     21:53:08  2024-05-21     5  2024        142          1            10.97   \n",
       "3     07:07:07  2024-05-19     5  2024        140          6            24.52   \n",
       "4     07:01:17  2024-05-19     5  2024        140          6             5.02   \n",
       "5     07:19:05  2024-05-18     5  2024        139          5            28.65   \n",
       "6     06:36:30  2024-04-14     4  2024        105          6            43.88   \n",
       "7     06:54:46  2024-01-09     1  2024          9          1            29.42   \n",
       "8     05:23:55  2023-12-29    12  2023        363          4            18.50   \n",
       "9     06:10:14  2024-05-23     5  2024        144          3            26.95   \n",
       "10    06:42:24  2024-05-23     5  2024        144          3             6.23   \n",
       "11    02:09:16  2024-05-25     5  2024        146          5             9.77   \n",
       "12    02:29:44  2024-05-25     5  2024        146          5            32.97   \n",
       "13    03:45:59  2024-05-25     5  2024        146          5            17.17   \n",
       "14    06:30:01  2024-05-26     5  2024        147          6            24.20   \n",
       "15    06:30:51  2024-05-26     5  2024        147          6            23.83   \n",
       "16    06:56:03  2024-05-26     5  2024        147          6             3.35   \n",
       "17    00:58:41  2024-05-28     5  2024        149          1            16.47   \n",
       "18    22:54:47  2024-05-28     5  2024        149          1            57.08   \n",
       "19    06:18:11  2024-05-29     5  2024        150          2             6.53   \n",
       "20    07:44:32  2024-05-29     5  2024        150          2            18.28   \n",
       "21    06:18:44  2024-05-31     5  2024        152          4            30.90   \n",
       "22    06:19:15  2024-05-31     5  2024        152          4            29.92   \n",
       "23    00:11:56  2024-06-02     6  2024        154          6            41.42   \n",
       "24    00:57:07  2024-06-02     6  2024        154          6            29.22   \n",
       "25    23:41:16  2024-06-02     6  2024        154          6            25.48   \n",
       "26    23:44:01  2024-06-02     6  2024        154          6            22.82   \n",
       "27    01:03:15  2024-06-05     6  2024        157          2            39.07   \n",
       "28    04:19:42  2024-06-06     6  2024        158          3            26.93   \n",
       "29    01:23:50  2024-06-08     6  2024        160          5            42.10   \n",
       "30    02:08:19  2024-06-08     6  2024        160          5            26.95   \n",
       "31    03:19:44  2024-06-18     6  2024        170          1            32.40   \n",
       "\n",
       "    km per hour  avg pace  Week  \n",
       "0          8.56      7.01    21  \n",
       "1          7.92      7.57    21  \n",
       "2          8.70      6.90    21  \n",
       "3          4.92     12.20    20  \n",
       "4          9.20      6.52    20  \n",
       "5          5.49     10.94    20  \n",
       "6          4.23     14.20    15  \n",
       "7          6.51      9.22     2  \n",
       "8          7.49      8.01    52  \n",
       "9          5.05     11.87    21  \n",
       "10        10.11      5.93    21  \n",
       "11         7.31      8.21    21  \n",
       "12         7.28      8.24    21  \n",
       "13         7.69      7.80    21  \n",
       "14         7.93      7.56    21  \n",
       "15         7.70      7.79    21  \n",
       "16         9.49      6.32    21  \n",
       "17         6.70      8.95    22  \n",
       "18         6.35      9.45    22  \n",
       "19         9.19      6.53    22  \n",
       "20         8.93      6.72    22  \n",
       "21         4.54     13.21    22  \n",
       "22         5.74     10.46    22  \n",
       "23         7.29      8.23    22  \n",
       "24         7.06      8.49    22  \n",
       "25         6.71      8.94    22  \n",
       "26         6.76      8.88    22  \n",
       "27         7.68      7.81    23  \n",
       "28         7.80      7.69    23  \n",
       "29         8.58      6.99    23  \n",
       "30         8.37      7.17    23  \n",
       "31         9.31      6.44    25  \n",
       "\n",
       "[32 rows x 22 columns]"
      ]
     },
     "execution_count": 30,
     "metadata": {},
     "output_type": "execute_result"
    }
   ],
   "source": [
    "df"
   ]
  },
  {
   "cell_type": "code",
   "execution_count": null,
   "metadata": {},
   "outputs": [
    {
     "data": {
      "application/vnd.plotly.v1+json": {
       "config": {
        "plotlyServerURL": "https://plot.ly"
       },
       "data": [
        {
         "customdata": [
          [
           75
          ],
          [
           15.625
          ],
          [
           6.25
          ],
          [
           3.125
          ]
         ],
         "domain": {
          "x": [
           0,
           1
          ],
          "y": [
           0,
           1
          ]
         },
         "hole": 0.4,
         "hovertemplate": "Run Type=%{label}<br>Percentage=%{customdata[0]}<extra></extra>",
         "labels": [
          "recovery run",
          "zone 2 run",
          "long run",
          "speed run"
         ],
         "legendgroup": "",
         "marker": {
          "colors": [
           "rgb(127,0,0)",
           "rgb(179,0,0)",
           "rgb(215,48,31)",
           "rgb(239,101,72)"
          ]
         },
         "name": "",
         "showlegend": true,
         "type": "pie",
         "values": [
          75,
          15.625,
          6.25,
          3.125
         ]
        }
       ],
       "layout": {
        "font": {
         "color": "white"
        },
        "legend": {
         "tracegroupgap": 0
        },
        "paper_bgcolor": "rgb(12, 29, 42)",
        "piecolorway": [
         "rgb(127,0,0)",
         "rgb(179,0,0)",
         "rgb(215,48,31)",
         "rgb(239,101,72)",
         "rgb(252,141,89)",
         "rgb(253,187,132)",
         "rgb(253,212,158)",
         "rgb(254,232,200)",
         "rgb(255,247,236)"
        ],
        "plot_bgcolor": "rgb(12, 29, 42)",
        "template": {
         "data": {
          "bar": [
           {
            "error_x": {
             "color": "#2a3f5f"
            },
            "error_y": {
             "color": "#2a3f5f"
            },
            "marker": {
             "line": {
              "color": "#E5ECF6",
              "width": 0.5
             },
             "pattern": {
              "fillmode": "overlay",
              "size": 10,
              "solidity": 0.2
             }
            },
            "type": "bar"
           }
          ],
          "barpolar": [
           {
            "marker": {
             "line": {
              "color": "#E5ECF6",
              "width": 0.5
             },
             "pattern": {
              "fillmode": "overlay",
              "size": 10,
              "solidity": 0.2
             }
            },
            "type": "barpolar"
           }
          ],
          "carpet": [
           {
            "aaxis": {
             "endlinecolor": "#2a3f5f",
             "gridcolor": "white",
             "linecolor": "white",
             "minorgridcolor": "white",
             "startlinecolor": "#2a3f5f"
            },
            "baxis": {
             "endlinecolor": "#2a3f5f",
             "gridcolor": "white",
             "linecolor": "white",
             "minorgridcolor": "white",
             "startlinecolor": "#2a3f5f"
            },
            "type": "carpet"
           }
          ],
          "choropleth": [
           {
            "colorbar": {
             "outlinewidth": 0,
             "ticks": ""
            },
            "type": "choropleth"
           }
          ],
          "contour": [
           {
            "colorbar": {
             "outlinewidth": 0,
             "ticks": ""
            },
            "colorscale": [
             [
              0,
              "#0d0887"
             ],
             [
              0.1111111111111111,
              "#46039f"
             ],
             [
              0.2222222222222222,
              "#7201a8"
             ],
             [
              0.3333333333333333,
              "#9c179e"
             ],
             [
              0.4444444444444444,
              "#bd3786"
             ],
             [
              0.5555555555555556,
              "#d8576b"
             ],
             [
              0.6666666666666666,
              "#ed7953"
             ],
             [
              0.7777777777777778,
              "#fb9f3a"
             ],
             [
              0.8888888888888888,
              "#fdca26"
             ],
             [
              1,
              "#f0f921"
             ]
            ],
            "type": "contour"
           }
          ],
          "contourcarpet": [
           {
            "colorbar": {
             "outlinewidth": 0,
             "ticks": ""
            },
            "type": "contourcarpet"
           }
          ],
          "heatmap": [
           {
            "colorbar": {
             "outlinewidth": 0,
             "ticks": ""
            },
            "colorscale": [
             [
              0,
              "#0d0887"
             ],
             [
              0.1111111111111111,
              "#46039f"
             ],
             [
              0.2222222222222222,
              "#7201a8"
             ],
             [
              0.3333333333333333,
              "#9c179e"
             ],
             [
              0.4444444444444444,
              "#bd3786"
             ],
             [
              0.5555555555555556,
              "#d8576b"
             ],
             [
              0.6666666666666666,
              "#ed7953"
             ],
             [
              0.7777777777777778,
              "#fb9f3a"
             ],
             [
              0.8888888888888888,
              "#fdca26"
             ],
             [
              1,
              "#f0f921"
             ]
            ],
            "type": "heatmap"
           }
          ],
          "heatmapgl": [
           {
            "colorbar": {
             "outlinewidth": 0,
             "ticks": ""
            },
            "colorscale": [
             [
              0,
              "#0d0887"
             ],
             [
              0.1111111111111111,
              "#46039f"
             ],
             [
              0.2222222222222222,
              "#7201a8"
             ],
             [
              0.3333333333333333,
              "#9c179e"
             ],
             [
              0.4444444444444444,
              "#bd3786"
             ],
             [
              0.5555555555555556,
              "#d8576b"
             ],
             [
              0.6666666666666666,
              "#ed7953"
             ],
             [
              0.7777777777777778,
              "#fb9f3a"
             ],
             [
              0.8888888888888888,
              "#fdca26"
             ],
             [
              1,
              "#f0f921"
             ]
            ],
            "type": "heatmapgl"
           }
          ],
          "histogram": [
           {
            "marker": {
             "pattern": {
              "fillmode": "overlay",
              "size": 10,
              "solidity": 0.2
             }
            },
            "type": "histogram"
           }
          ],
          "histogram2d": [
           {
            "colorbar": {
             "outlinewidth": 0,
             "ticks": ""
            },
            "colorscale": [
             [
              0,
              "#0d0887"
             ],
             [
              0.1111111111111111,
              "#46039f"
             ],
             [
              0.2222222222222222,
              "#7201a8"
             ],
             [
              0.3333333333333333,
              "#9c179e"
             ],
             [
              0.4444444444444444,
              "#bd3786"
             ],
             [
              0.5555555555555556,
              "#d8576b"
             ],
             [
              0.6666666666666666,
              "#ed7953"
             ],
             [
              0.7777777777777778,
              "#fb9f3a"
             ],
             [
              0.8888888888888888,
              "#fdca26"
             ],
             [
              1,
              "#f0f921"
             ]
            ],
            "type": "histogram2d"
           }
          ],
          "histogram2dcontour": [
           {
            "colorbar": {
             "outlinewidth": 0,
             "ticks": ""
            },
            "colorscale": [
             [
              0,
              "#0d0887"
             ],
             [
              0.1111111111111111,
              "#46039f"
             ],
             [
              0.2222222222222222,
              "#7201a8"
             ],
             [
              0.3333333333333333,
              "#9c179e"
             ],
             [
              0.4444444444444444,
              "#bd3786"
             ],
             [
              0.5555555555555556,
              "#d8576b"
             ],
             [
              0.6666666666666666,
              "#ed7953"
             ],
             [
              0.7777777777777778,
              "#fb9f3a"
             ],
             [
              0.8888888888888888,
              "#fdca26"
             ],
             [
              1,
              "#f0f921"
             ]
            ],
            "type": "histogram2dcontour"
           }
          ],
          "mesh3d": [
           {
            "colorbar": {
             "outlinewidth": 0,
             "ticks": ""
            },
            "type": "mesh3d"
           }
          ],
          "parcoords": [
           {
            "line": {
             "colorbar": {
              "outlinewidth": 0,
              "ticks": ""
             }
            },
            "type": "parcoords"
           }
          ],
          "pie": [
           {
            "automargin": true,
            "type": "pie"
           }
          ],
          "scatter": [
           {
            "fillpattern": {
             "fillmode": "overlay",
             "size": 10,
             "solidity": 0.2
            },
            "type": "scatter"
           }
          ],
          "scatter3d": [
           {
            "line": {
             "colorbar": {
              "outlinewidth": 0,
              "ticks": ""
             }
            },
            "marker": {
             "colorbar": {
              "outlinewidth": 0,
              "ticks": ""
             }
            },
            "type": "scatter3d"
           }
          ],
          "scattercarpet": [
           {
            "marker": {
             "colorbar": {
              "outlinewidth": 0,
              "ticks": ""
             }
            },
            "type": "scattercarpet"
           }
          ],
          "scattergeo": [
           {
            "marker": {
             "colorbar": {
              "outlinewidth": 0,
              "ticks": ""
             }
            },
            "type": "scattergeo"
           }
          ],
          "scattergl": [
           {
            "marker": {
             "colorbar": {
              "outlinewidth": 0,
              "ticks": ""
             }
            },
            "type": "scattergl"
           }
          ],
          "scattermapbox": [
           {
            "marker": {
             "colorbar": {
              "outlinewidth": 0,
              "ticks": ""
             }
            },
            "type": "scattermapbox"
           }
          ],
          "scatterpolar": [
           {
            "marker": {
             "colorbar": {
              "outlinewidth": 0,
              "ticks": ""
             }
            },
            "type": "scatterpolar"
           }
          ],
          "scatterpolargl": [
           {
            "marker": {
             "colorbar": {
              "outlinewidth": 0,
              "ticks": ""
             }
            },
            "type": "scatterpolargl"
           }
          ],
          "scatterternary": [
           {
            "marker": {
             "colorbar": {
              "outlinewidth": 0,
              "ticks": ""
             }
            },
            "type": "scatterternary"
           }
          ],
          "surface": [
           {
            "colorbar": {
             "outlinewidth": 0,
             "ticks": ""
            },
            "colorscale": [
             [
              0,
              "#0d0887"
             ],
             [
              0.1111111111111111,
              "#46039f"
             ],
             [
              0.2222222222222222,
              "#7201a8"
             ],
             [
              0.3333333333333333,
              "#9c179e"
             ],
             [
              0.4444444444444444,
              "#bd3786"
             ],
             [
              0.5555555555555556,
              "#d8576b"
             ],
             [
              0.6666666666666666,
              "#ed7953"
             ],
             [
              0.7777777777777778,
              "#fb9f3a"
             ],
             [
              0.8888888888888888,
              "#fdca26"
             ],
             [
              1,
              "#f0f921"
             ]
            ],
            "type": "surface"
           }
          ],
          "table": [
           {
            "cells": {
             "fill": {
              "color": "#EBF0F8"
             },
             "line": {
              "color": "white"
             }
            },
            "header": {
             "fill": {
              "color": "#C8D4E3"
             },
             "line": {
              "color": "white"
             }
            },
            "type": "table"
           }
          ]
         },
         "layout": {
          "annotationdefaults": {
           "arrowcolor": "#2a3f5f",
           "arrowhead": 0,
           "arrowwidth": 1
          },
          "autotypenumbers": "strict",
          "coloraxis": {
           "colorbar": {
            "outlinewidth": 0,
            "ticks": ""
           }
          },
          "colorscale": {
           "diverging": [
            [
             0,
             "#8e0152"
            ],
            [
             0.1,
             "#c51b7d"
            ],
            [
             0.2,
             "#de77ae"
            ],
            [
             0.3,
             "#f1b6da"
            ],
            [
             0.4,
             "#fde0ef"
            ],
            [
             0.5,
             "#f7f7f7"
            ],
            [
             0.6,
             "#e6f5d0"
            ],
            [
             0.7,
             "#b8e186"
            ],
            [
             0.8,
             "#7fbc41"
            ],
            [
             0.9,
             "#4d9221"
            ],
            [
             1,
             "#276419"
            ]
           ],
           "sequential": [
            [
             0,
             "#0d0887"
            ],
            [
             0.1111111111111111,
             "#46039f"
            ],
            [
             0.2222222222222222,
             "#7201a8"
            ],
            [
             0.3333333333333333,
             "#9c179e"
            ],
            [
             0.4444444444444444,
             "#bd3786"
            ],
            [
             0.5555555555555556,
             "#d8576b"
            ],
            [
             0.6666666666666666,
             "#ed7953"
            ],
            [
             0.7777777777777778,
             "#fb9f3a"
            ],
            [
             0.8888888888888888,
             "#fdca26"
            ],
            [
             1,
             "#f0f921"
            ]
           ],
           "sequentialminus": [
            [
             0,
             "#0d0887"
            ],
            [
             0.1111111111111111,
             "#46039f"
            ],
            [
             0.2222222222222222,
             "#7201a8"
            ],
            [
             0.3333333333333333,
             "#9c179e"
            ],
            [
             0.4444444444444444,
             "#bd3786"
            ],
            [
             0.5555555555555556,
             "#d8576b"
            ],
            [
             0.6666666666666666,
             "#ed7953"
            ],
            [
             0.7777777777777778,
             "#fb9f3a"
            ],
            [
             0.8888888888888888,
             "#fdca26"
            ],
            [
             1,
             "#f0f921"
            ]
           ]
          },
          "colorway": [
           "#636efa",
           "#EF553B",
           "#00cc96",
           "#ab63fa",
           "#FFA15A",
           "#19d3f3",
           "#FF6692",
           "#B6E880",
           "#FF97FF",
           "#FECB52"
          ],
          "font": {
           "color": "#2a3f5f"
          },
          "geo": {
           "bgcolor": "white",
           "lakecolor": "white",
           "landcolor": "#E5ECF6",
           "showlakes": true,
           "showland": true,
           "subunitcolor": "white"
          },
          "hoverlabel": {
           "align": "left"
          },
          "hovermode": "closest",
          "mapbox": {
           "style": "light"
          },
          "paper_bgcolor": "white",
          "plot_bgcolor": "#E5ECF6",
          "polar": {
           "angularaxis": {
            "gridcolor": "white",
            "linecolor": "white",
            "ticks": ""
           },
           "bgcolor": "#E5ECF6",
           "radialaxis": {
            "gridcolor": "white",
            "linecolor": "white",
            "ticks": ""
           }
          },
          "scene": {
           "xaxis": {
            "backgroundcolor": "#E5ECF6",
            "gridcolor": "white",
            "gridwidth": 2,
            "linecolor": "white",
            "showbackground": true,
            "ticks": "",
            "zerolinecolor": "white"
           },
           "yaxis": {
            "backgroundcolor": "#E5ECF6",
            "gridcolor": "white",
            "gridwidth": 2,
            "linecolor": "white",
            "showbackground": true,
            "ticks": "",
            "zerolinecolor": "white"
           },
           "zaxis": {
            "backgroundcolor": "#E5ECF6",
            "gridcolor": "white",
            "gridwidth": 2,
            "linecolor": "white",
            "showbackground": true,
            "ticks": "",
            "zerolinecolor": "white"
           }
          },
          "shapedefaults": {
           "line": {
            "color": "#2a3f5f"
           }
          },
          "ternary": {
           "aaxis": {
            "gridcolor": "white",
            "linecolor": "white",
            "ticks": ""
           },
           "baxis": {
            "gridcolor": "white",
            "linecolor": "white",
            "ticks": ""
           },
           "bgcolor": "#E5ECF6",
           "caxis": {
            "gridcolor": "white",
            "linecolor": "white",
            "ticks": ""
           }
          },
          "title": {
           "x": 0.05
          },
          "xaxis": {
           "automargin": true,
           "gridcolor": "white",
           "linecolor": "white",
           "ticks": "",
           "title": {
            "standoff": 15
           },
           "zerolinecolor": "white",
           "zerolinewidth": 2
          },
          "yaxis": {
           "automargin": true,
           "gridcolor": "white",
           "linecolor": "white",
           "ticks": "",
           "title": {
            "standoff": 15
           },
           "zerolinecolor": "white",
           "zerolinewidth": 2
          }
         }
        },
        "title": {
         "text": "Type of Run",
         "x": 0.5
        }
       }
      }
     },
     "metadata": {},
     "output_type": "display_data"
    },
    {
     "data": {
      "text/html": [
       "<div>\n",
       "<style scoped>\n",
       "    .dataframe tbody tr th:only-of-type {\n",
       "        vertical-align: middle;\n",
       "    }\n",
       "\n",
       "    .dataframe tbody tr th {\n",
       "        vertical-align: top;\n",
       "    }\n",
       "\n",
       "    .dataframe thead th {\n",
       "        text-align: right;\n",
       "    }\n",
       "</style>\n",
       "<table border=\"1\" class=\"dataframe\">\n",
       "  <thead>\n",
       "    <tr style=\"text-align: right;\">\n",
       "      <th></th>\n",
       "      <th>Run Type</th>\n",
       "      <th>Percentage</th>\n",
       "    </tr>\n",
       "    <tr>\n",
       "      <th>run type</th>\n",
       "      <th></th>\n",
       "      <th></th>\n",
       "    </tr>\n",
       "  </thead>\n",
       "  <tbody>\n",
       "    <tr>\n",
       "      <th>recovery run</th>\n",
       "      <td>recovery run</td>\n",
       "      <td>75.000</td>\n",
       "    </tr>\n",
       "    <tr>\n",
       "      <th>zone 2 run</th>\n",
       "      <td>zone 2 run</td>\n",
       "      <td>15.625</td>\n",
       "    </tr>\n",
       "    <tr>\n",
       "      <th>long run</th>\n",
       "      <td>long run</td>\n",
       "      <td>6.250</td>\n",
       "    </tr>\n",
       "    <tr>\n",
       "      <th>speed run</th>\n",
       "      <td>speed run</td>\n",
       "      <td>3.125</td>\n",
       "    </tr>\n",
       "  </tbody>\n",
       "</table>\n",
       "</div>"
      ],
      "text/plain": [
       "                  Run Type  Percentage\n",
       "run type                              \n",
       "recovery run  recovery run      75.000\n",
       "zone 2 run      zone 2 run      15.625\n",
       "long run          long run       6.250\n",
       "speed run        speed run       3.125"
      ]
     },
     "execution_count": 58,
     "metadata": {},
     "output_type": "execute_result"
    }
   ],
   "source": [
    "# PERCENTAGE OF TIME SPENT ON DIFFERENT RUN TYPES\n",
    "\n",
    "df = run_type(df)\n",
    "run_type_count = df.groupby('run type')['run type'].count()\n",
    "run_type_percent = pd.DataFrame({'Run Type': ['long run', 'recovery run', 'speed run', 'zone 2 run'], \n",
    "                                 'Percentage': (run_type_count/df['run type'].count()) * 100})\n",
    "run_type_percent = run_type_percent.sort_values(by=\"Percentage\", ascending=False)\n",
    "\n",
    "fig = px.pie(run_type_percent, \n",
    "             values='Percentage', \n",
    "             names='Run Type', \n",
    "             hole=.4,\n",
    "             title=\"Type of Run\",\n",
    "             color='Percentage',\n",
    "             color_discrete_sequence= px.colors.sequential.OrRd_r,\n",
    "             \n",
    "             )\n",
    "\n",
    "fig.update_layout(paper_bgcolor='rgb(12, 29, 42)', \n",
    "                  plot_bgcolor='rgb(12, 29, 42)', \n",
    "                  font=dict(color='white'),\n",
    "                  title_x=0.5,\n",
    "                  )\n",
    "fig.show()\n",
    "run_type_count\n",
    "run_type_percent\n"
   ]
  },
  {
   "cell_type": "code",
   "execution_count": 114,
   "metadata": {},
   "outputs": [
    {
     "data": {
      "application/vnd.plotly.v1+json": {
       "config": {
        "plotlyServerURL": "https://plot.ly"
       },
       "data": [
        {
         "hovertemplate": "startDate=%{x}<br>value=%{y}<extra></extra>",
         "legendgroup": "",
         "line": {
          "color": "rgb(230, 81, 0)",
          "dash": "solid"
         },
         "marker": {
          "color": "rgb(230, 81, 0)",
          "line": {
           "color": "rgb(230, 81, 0)"
          },
          "symbol": "circle"
         },
         "mode": "lines+markers",
         "name": "",
         "orientation": "v",
         "showlegend": false,
         "type": "scatter",
         "x": [
          "2024-05-28T11:15:00+10:00",
          "2024-05-29T09:24:19+10:00",
          "2024-05-29T16:24:44+10:00",
          "2024-05-31T16:30:35+10:00",
          "2024-06-02T10:27:28+10:00",
          "2024-06-02T11:16:10+10:00",
          "2024-06-03T10:06:51+10:00",
          "2024-06-05T11:42:20+10:00",
          "2024-06-05T16:33:34+10:00",
          "2024-06-06T14:46:39+10:00",
          "2024-06-08T12:05:57+10:00",
          "2024-06-08T12:29:27+10:00",
          "2024-06-18T13:52:44+10:00",
          "2024-06-19T12:24:07+10:00",
          "2024-06-19T16:55:33+10:00",
          "2024-06-22T09:30:56+10:00",
          "2024-06-22T10:16:22+10:00",
          "2024-06-22T16:29:25+10:00",
          "2024-06-23T14:28:15+10:00",
          "2024-06-24T12:04:39+10:00",
          "2024-06-25T12:16:41+10:00",
          "2024-06-27T12:25:18+10:00",
          "2024-06-28T11:05:57+10:00",
          "2024-06-30T13:05:32+10:00",
          "2024-07-01T13:35:35+10:00"
         ],
         "xaxis": "x",
         "y": [
          31.94,
          31.93,
          31.93,
          31.98,
          31.87,
          32.13,
          32.3,
          32.13,
          32.13,
          32.24,
          32.38,
          32.65,
          32.74,
          32.82,
          32.89,
          32.89,
          33.23,
          33.4,
          33.6,
          33.79,
          33.84,
          34.07,
          34.26,
          34.39,
          34.42
         ],
         "yaxis": "y"
        }
       ],
       "layout": {
        "font": {
         "color": "white"
        },
        "legend": {
         "tracegroupgap": 0
        },
        "paper_bgcolor": "rgb(12, 29, 42)",
        "plot_bgcolor": "rgb(12, 29, 42)",
        "template": {
         "data": {
          "bar": [
           {
            "error_x": {
             "color": "#2a3f5f"
            },
            "error_y": {
             "color": "#2a3f5f"
            },
            "marker": {
             "line": {
              "color": "#E5ECF6",
              "width": 0.5
             },
             "pattern": {
              "fillmode": "overlay",
              "size": 10,
              "solidity": 0.2
             }
            },
            "type": "bar"
           }
          ],
          "barpolar": [
           {
            "marker": {
             "line": {
              "color": "#E5ECF6",
              "width": 0.5
             },
             "pattern": {
              "fillmode": "overlay",
              "size": 10,
              "solidity": 0.2
             }
            },
            "type": "barpolar"
           }
          ],
          "carpet": [
           {
            "aaxis": {
             "endlinecolor": "#2a3f5f",
             "gridcolor": "white",
             "linecolor": "white",
             "minorgridcolor": "white",
             "startlinecolor": "#2a3f5f"
            },
            "baxis": {
             "endlinecolor": "#2a3f5f",
             "gridcolor": "white",
             "linecolor": "white",
             "minorgridcolor": "white",
             "startlinecolor": "#2a3f5f"
            },
            "type": "carpet"
           }
          ],
          "choropleth": [
           {
            "colorbar": {
             "outlinewidth": 0,
             "ticks": ""
            },
            "type": "choropleth"
           }
          ],
          "contour": [
           {
            "colorbar": {
             "outlinewidth": 0,
             "ticks": ""
            },
            "colorscale": [
             [
              0,
              "#0d0887"
             ],
             [
              0.1111111111111111,
              "#46039f"
             ],
             [
              0.2222222222222222,
              "#7201a8"
             ],
             [
              0.3333333333333333,
              "#9c179e"
             ],
             [
              0.4444444444444444,
              "#bd3786"
             ],
             [
              0.5555555555555556,
              "#d8576b"
             ],
             [
              0.6666666666666666,
              "#ed7953"
             ],
             [
              0.7777777777777778,
              "#fb9f3a"
             ],
             [
              0.8888888888888888,
              "#fdca26"
             ],
             [
              1,
              "#f0f921"
             ]
            ],
            "type": "contour"
           }
          ],
          "contourcarpet": [
           {
            "colorbar": {
             "outlinewidth": 0,
             "ticks": ""
            },
            "type": "contourcarpet"
           }
          ],
          "heatmap": [
           {
            "colorbar": {
             "outlinewidth": 0,
             "ticks": ""
            },
            "colorscale": [
             [
              0,
              "#0d0887"
             ],
             [
              0.1111111111111111,
              "#46039f"
             ],
             [
              0.2222222222222222,
              "#7201a8"
             ],
             [
              0.3333333333333333,
              "#9c179e"
             ],
             [
              0.4444444444444444,
              "#bd3786"
             ],
             [
              0.5555555555555556,
              "#d8576b"
             ],
             [
              0.6666666666666666,
              "#ed7953"
             ],
             [
              0.7777777777777778,
              "#fb9f3a"
             ],
             [
              0.8888888888888888,
              "#fdca26"
             ],
             [
              1,
              "#f0f921"
             ]
            ],
            "type": "heatmap"
           }
          ],
          "heatmapgl": [
           {
            "colorbar": {
             "outlinewidth": 0,
             "ticks": ""
            },
            "colorscale": [
             [
              0,
              "#0d0887"
             ],
             [
              0.1111111111111111,
              "#46039f"
             ],
             [
              0.2222222222222222,
              "#7201a8"
             ],
             [
              0.3333333333333333,
              "#9c179e"
             ],
             [
              0.4444444444444444,
              "#bd3786"
             ],
             [
              0.5555555555555556,
              "#d8576b"
             ],
             [
              0.6666666666666666,
              "#ed7953"
             ],
             [
              0.7777777777777778,
              "#fb9f3a"
             ],
             [
              0.8888888888888888,
              "#fdca26"
             ],
             [
              1,
              "#f0f921"
             ]
            ],
            "type": "heatmapgl"
           }
          ],
          "histogram": [
           {
            "marker": {
             "pattern": {
              "fillmode": "overlay",
              "size": 10,
              "solidity": 0.2
             }
            },
            "type": "histogram"
           }
          ],
          "histogram2d": [
           {
            "colorbar": {
             "outlinewidth": 0,
             "ticks": ""
            },
            "colorscale": [
             [
              0,
              "#0d0887"
             ],
             [
              0.1111111111111111,
              "#46039f"
             ],
             [
              0.2222222222222222,
              "#7201a8"
             ],
             [
              0.3333333333333333,
              "#9c179e"
             ],
             [
              0.4444444444444444,
              "#bd3786"
             ],
             [
              0.5555555555555556,
              "#d8576b"
             ],
             [
              0.6666666666666666,
              "#ed7953"
             ],
             [
              0.7777777777777778,
              "#fb9f3a"
             ],
             [
              0.8888888888888888,
              "#fdca26"
             ],
             [
              1,
              "#f0f921"
             ]
            ],
            "type": "histogram2d"
           }
          ],
          "histogram2dcontour": [
           {
            "colorbar": {
             "outlinewidth": 0,
             "ticks": ""
            },
            "colorscale": [
             [
              0,
              "#0d0887"
             ],
             [
              0.1111111111111111,
              "#46039f"
             ],
             [
              0.2222222222222222,
              "#7201a8"
             ],
             [
              0.3333333333333333,
              "#9c179e"
             ],
             [
              0.4444444444444444,
              "#bd3786"
             ],
             [
              0.5555555555555556,
              "#d8576b"
             ],
             [
              0.6666666666666666,
              "#ed7953"
             ],
             [
              0.7777777777777778,
              "#fb9f3a"
             ],
             [
              0.8888888888888888,
              "#fdca26"
             ],
             [
              1,
              "#f0f921"
             ]
            ],
            "type": "histogram2dcontour"
           }
          ],
          "mesh3d": [
           {
            "colorbar": {
             "outlinewidth": 0,
             "ticks": ""
            },
            "type": "mesh3d"
           }
          ],
          "parcoords": [
           {
            "line": {
             "colorbar": {
              "outlinewidth": 0,
              "ticks": ""
             }
            },
            "type": "parcoords"
           }
          ],
          "pie": [
           {
            "automargin": true,
            "type": "pie"
           }
          ],
          "scatter": [
           {
            "fillpattern": {
             "fillmode": "overlay",
             "size": 10,
             "solidity": 0.2
            },
            "type": "scatter"
           }
          ],
          "scatter3d": [
           {
            "line": {
             "colorbar": {
              "outlinewidth": 0,
              "ticks": ""
             }
            },
            "marker": {
             "colorbar": {
              "outlinewidth": 0,
              "ticks": ""
             }
            },
            "type": "scatter3d"
           }
          ],
          "scattercarpet": [
           {
            "marker": {
             "colorbar": {
              "outlinewidth": 0,
              "ticks": ""
             }
            },
            "type": "scattercarpet"
           }
          ],
          "scattergeo": [
           {
            "marker": {
             "colorbar": {
              "outlinewidth": 0,
              "ticks": ""
             }
            },
            "type": "scattergeo"
           }
          ],
          "scattergl": [
           {
            "marker": {
             "colorbar": {
              "outlinewidth": 0,
              "ticks": ""
             }
            },
            "type": "scattergl"
           }
          ],
          "scattermapbox": [
           {
            "marker": {
             "colorbar": {
              "outlinewidth": 0,
              "ticks": ""
             }
            },
            "type": "scattermapbox"
           }
          ],
          "scatterpolar": [
           {
            "marker": {
             "colorbar": {
              "outlinewidth": 0,
              "ticks": ""
             }
            },
            "type": "scatterpolar"
           }
          ],
          "scatterpolargl": [
           {
            "marker": {
             "colorbar": {
              "outlinewidth": 0,
              "ticks": ""
             }
            },
            "type": "scatterpolargl"
           }
          ],
          "scatterternary": [
           {
            "marker": {
             "colorbar": {
              "outlinewidth": 0,
              "ticks": ""
             }
            },
            "type": "scatterternary"
           }
          ],
          "surface": [
           {
            "colorbar": {
             "outlinewidth": 0,
             "ticks": ""
            },
            "colorscale": [
             [
              0,
              "#0d0887"
             ],
             [
              0.1111111111111111,
              "#46039f"
             ],
             [
              0.2222222222222222,
              "#7201a8"
             ],
             [
              0.3333333333333333,
              "#9c179e"
             ],
             [
              0.4444444444444444,
              "#bd3786"
             ],
             [
              0.5555555555555556,
              "#d8576b"
             ],
             [
              0.6666666666666666,
              "#ed7953"
             ],
             [
              0.7777777777777778,
              "#fb9f3a"
             ],
             [
              0.8888888888888888,
              "#fdca26"
             ],
             [
              1,
              "#f0f921"
             ]
            ],
            "type": "surface"
           }
          ],
          "table": [
           {
            "cells": {
             "fill": {
              "color": "#EBF0F8"
             },
             "line": {
              "color": "white"
             }
            },
            "header": {
             "fill": {
              "color": "#C8D4E3"
             },
             "line": {
              "color": "white"
             }
            },
            "type": "table"
           }
          ]
         },
         "layout": {
          "annotationdefaults": {
           "arrowcolor": "#2a3f5f",
           "arrowhead": 0,
           "arrowwidth": 1
          },
          "autotypenumbers": "strict",
          "coloraxis": {
           "colorbar": {
            "outlinewidth": 0,
            "ticks": ""
           }
          },
          "colorscale": {
           "diverging": [
            [
             0,
             "#8e0152"
            ],
            [
             0.1,
             "#c51b7d"
            ],
            [
             0.2,
             "#de77ae"
            ],
            [
             0.3,
             "#f1b6da"
            ],
            [
             0.4,
             "#fde0ef"
            ],
            [
             0.5,
             "#f7f7f7"
            ],
            [
             0.6,
             "#e6f5d0"
            ],
            [
             0.7,
             "#b8e186"
            ],
            [
             0.8,
             "#7fbc41"
            ],
            [
             0.9,
             "#4d9221"
            ],
            [
             1,
             "#276419"
            ]
           ],
           "sequential": [
            [
             0,
             "#0d0887"
            ],
            [
             0.1111111111111111,
             "#46039f"
            ],
            [
             0.2222222222222222,
             "#7201a8"
            ],
            [
             0.3333333333333333,
             "#9c179e"
            ],
            [
             0.4444444444444444,
             "#bd3786"
            ],
            [
             0.5555555555555556,
             "#d8576b"
            ],
            [
             0.6666666666666666,
             "#ed7953"
            ],
            [
             0.7777777777777778,
             "#fb9f3a"
            ],
            [
             0.8888888888888888,
             "#fdca26"
            ],
            [
             1,
             "#f0f921"
            ]
           ],
           "sequentialminus": [
            [
             0,
             "#0d0887"
            ],
            [
             0.1111111111111111,
             "#46039f"
            ],
            [
             0.2222222222222222,
             "#7201a8"
            ],
            [
             0.3333333333333333,
             "#9c179e"
            ],
            [
             0.4444444444444444,
             "#bd3786"
            ],
            [
             0.5555555555555556,
             "#d8576b"
            ],
            [
             0.6666666666666666,
             "#ed7953"
            ],
            [
             0.7777777777777778,
             "#fb9f3a"
            ],
            [
             0.8888888888888888,
             "#fdca26"
            ],
            [
             1,
             "#f0f921"
            ]
           ]
          },
          "colorway": [
           "#636efa",
           "#EF553B",
           "#00cc96",
           "#ab63fa",
           "#FFA15A",
           "#19d3f3",
           "#FF6692",
           "#B6E880",
           "#FF97FF",
           "#FECB52"
          ],
          "font": {
           "color": "#2a3f5f"
          },
          "geo": {
           "bgcolor": "white",
           "lakecolor": "white",
           "landcolor": "#E5ECF6",
           "showlakes": true,
           "showland": true,
           "subunitcolor": "white"
          },
          "hoverlabel": {
           "align": "left"
          },
          "hovermode": "closest",
          "mapbox": {
           "style": "light"
          },
          "paper_bgcolor": "white",
          "plot_bgcolor": "#E5ECF6",
          "polar": {
           "angularaxis": {
            "gridcolor": "white",
            "linecolor": "white",
            "ticks": ""
           },
           "bgcolor": "#E5ECF6",
           "radialaxis": {
            "gridcolor": "white",
            "linecolor": "white",
            "ticks": ""
           }
          },
          "scene": {
           "xaxis": {
            "backgroundcolor": "#E5ECF6",
            "gridcolor": "white",
            "gridwidth": 2,
            "linecolor": "white",
            "showbackground": true,
            "ticks": "",
            "zerolinecolor": "white"
           },
           "yaxis": {
            "backgroundcolor": "#E5ECF6",
            "gridcolor": "white",
            "gridwidth": 2,
            "linecolor": "white",
            "showbackground": true,
            "ticks": "",
            "zerolinecolor": "white"
           },
           "zaxis": {
            "backgroundcolor": "#E5ECF6",
            "gridcolor": "white",
            "gridwidth": 2,
            "linecolor": "white",
            "showbackground": true,
            "ticks": "",
            "zerolinecolor": "white"
           }
          },
          "shapedefaults": {
           "line": {
            "color": "#2a3f5f"
           }
          },
          "ternary": {
           "aaxis": {
            "gridcolor": "white",
            "linecolor": "white",
            "ticks": ""
           },
           "baxis": {
            "gridcolor": "white",
            "linecolor": "white",
            "ticks": ""
           },
           "bgcolor": "#E5ECF6",
           "caxis": {
            "gridcolor": "white",
            "linecolor": "white",
            "ticks": ""
           }
          },
          "title": {
           "x": 0.05
          },
          "xaxis": {
           "automargin": true,
           "gridcolor": "white",
           "linecolor": "white",
           "ticks": "",
           "title": {
            "standoff": 15
           },
           "zerolinecolor": "white",
           "zerolinewidth": 2
          },
          "yaxis": {
           "automargin": true,
           "gridcolor": "white",
           "linecolor": "white",
           "ticks": "",
           "title": {
            "standoff": 15
           },
           "zerolinecolor": "white",
           "zerolinewidth": 2
          }
         }
        },
        "title": {
         "text": "VO2 Max Overtime",
         "x": 0.5
        },
        "xaxis": {
         "anchor": "y",
         "domain": [
          0,
          1
         ],
         "showgrid": false,
         "title": {
          "text": "startDate"
         },
         "zeroline": false
        },
        "yaxis": {
         "anchor": "x",
         "domain": [
          0,
          1
         ],
         "showgrid": false,
         "title": {
          "text": "Distance (km)"
         },
         "zeroline": false
        }
       }
      }
     },
     "metadata": {},
     "output_type": "display_data"
    },
    {
     "name": "stdout",
     "output_type": "stream",
     "text": [
      "2024-05-22\n"
     ]
    }
   ],
   "source": [
    "# VO2 MAX OVERTIME\n",
    "\n",
    "vo2_df = pd.read_csv('Health data/VO2Max.csv')\n",
    "vo2_df['startDate'] = pd.to_datetime(vo2_df['startDate'],format='mixed')\n",
    "\n",
    "fig = px.line(vo2_df, x='startDate', y='value', markers=True, title=\"VO2 Max Overtime\")\n",
    "\n",
    "fig.update_traces(line_color=\"rgb(230, 81, 0)\",\n",
    "                  marker_color=\"rgb(230, 81, 0)\",\n",
    "                  marker_line_color='rgb(230, 81, 0)'\n",
    "                  )\n",
    "\n",
    "fig.update_layout(paper_bgcolor='rgb(12, 29, 42)', \n",
    "                  plot_bgcolor='rgb(12, 29, 42)', \n",
    "                  font=dict(color='white'),\n",
    "                  title_x=0.5,\n",
    "                  yaxis_title='Distance (km)'\n",
    "                  )\n",
    "\n",
    "fig.update_xaxes(showgrid=False, zeroline=False)\n",
    "fig.update_yaxes(showgrid=False, zeroline=False)\n",
    "fig.show()\n",
    "print(df['start_date'][0])\n"
   ]
  },
  {
   "cell_type": "code",
   "execution_count": 119,
   "metadata": {},
   "outputs": [
    {
     "data": {
      "application/vnd.plotly.v1+json": {
       "config": {
        "plotlyServerURL": "https://plot.ly"
       },
       "data": [
        {
         "line": {
          "color": "rgb(230, 81, 0)"
         },
         "marker": {
          "color": "rgb(230, 81, 0)",
          "line": {
           "color": "rgb(230, 81, 0)"
          }
         },
         "type": "scatter",
         "x": [
          "2024-05-18",
          "2024-05-19",
          "2024-05-19",
          "2024-05-21",
          "2024-05-21",
          "2024-05-22",
          "2024-05-23",
          "2024-05-23",
          "2024-05-25",
          "2024-05-25",
          "2024-05-25",
          "2024-05-26",
          "2024-05-26",
          "2024-05-26",
          "2024-05-28",
          "2024-05-28",
          "2024-05-29",
          "2024-05-29",
          "2024-05-31",
          "2024-05-31",
          "2024-06-02",
          "2024-06-02",
          "2024-06-02",
          "2024-06-02",
          "2024-06-05",
          "2024-06-06",
          "2024-06-08",
          "2024-06-08",
          "2024-06-18"
         ],
         "xaxis": "x",
         "y": [
          10.94,
          12.2,
          6.52,
          7.57,
          6.9,
          7.01,
          11.87,
          5.93,
          8.21,
          8.24,
          7.8,
          7.79,
          7.56,
          6.32,
          8.95,
          9.45,
          6.53,
          6.72,
          13.21,
          10.46,
          8.23,
          8.49,
          8.94,
          8.88,
          7.81,
          7.69,
          7.17,
          6.99,
          6.44
         ],
         "yaxis": "y"
        },
        {
         "line": {
          "color": "rgb(230, 81, 0)"
         },
         "marker": {
          "color": "rgb(230, 81, 0)",
          "line": {
           "color": "rgb(230, 81, 0)"
          }
         },
         "type": "scatter",
         "x": [
          "2024-05-18",
          "2024-05-19",
          "2024-05-19",
          "2024-05-21",
          "2024-05-21",
          "2024-05-22",
          "2024-05-23",
          "2024-05-23",
          "2024-05-25",
          "2024-05-25",
          "2024-05-25",
          "2024-05-26",
          "2024-05-26",
          "2024-05-26",
          "2024-05-28",
          "2024-05-28",
          "2024-05-29",
          "2024-05-29",
          "2024-05-31",
          "2024-05-31",
          "2024-06-02",
          "2024-06-02",
          "2024-06-02",
          "2024-06-02",
          "2024-06-05",
          "2024-06-06",
          "2024-06-08",
          "2024-06-08",
          "2024-06-18"
         ],
         "xaxis": "x2",
         "y": [
          null,
          null,
          null,
          201,
          198,
          143,
          155,
          203,
          200,
          195,
          191,
          194,
          194,
          193,
          179,
          173,
          138,
          140,
          171,
          198,
          192,
          184,
          169,
          174,
          188,
          190,
          186,
          195,
          202
         ],
         "yaxis": "y2"
        },
        {
         "line": {
          "color": "rgb(230, 81, 0)"
         },
         "marker": {
          "color": "rgb(230, 81, 0)",
          "line": {
           "color": "rgb(230, 81, 0)"
          }
         },
         "type": "scatter",
         "x": [
          "2024-05-28T11:15:00+10:00",
          "2024-05-29T09:24:19+10:00",
          "2024-05-29T16:24:44+10:00",
          "2024-05-31T16:30:35+10:00",
          "2024-06-02T10:27:28+10:00",
          "2024-06-02T11:16:10+10:00",
          "2024-06-03T10:06:51+10:00",
          "2024-06-05T11:42:20+10:00",
          "2024-06-05T16:33:34+10:00",
          "2024-06-06T14:46:39+10:00",
          "2024-06-08T12:05:57+10:00",
          "2024-06-08T12:29:27+10:00",
          "2024-06-18T13:52:44+10:00",
          "2024-06-19T12:24:07+10:00",
          "2024-06-19T16:55:33+10:00",
          "2024-06-22T09:30:56+10:00",
          "2024-06-22T10:16:22+10:00",
          "2024-06-22T16:29:25+10:00",
          "2024-06-23T14:28:15+10:00",
          "2024-06-24T12:04:39+10:00",
          "2024-06-25T12:16:41+10:00",
          "2024-06-27T12:25:18+10:00",
          "2024-06-28T11:05:57+10:00",
          "2024-06-30T13:05:32+10:00",
          "2024-07-01T13:35:35+10:00"
         ],
         "xaxis": "x3",
         "y": [
          31.94,
          31.93,
          31.93,
          31.98,
          31.87,
          32.13,
          32.3,
          32.13,
          32.13,
          32.24,
          32.38,
          32.65,
          32.74,
          32.82,
          32.89,
          32.89,
          33.23,
          33.4,
          33.6,
          33.79,
          33.84,
          34.07,
          34.26,
          34.39,
          34.42
         ],
         "yaxis": "y3"
        }
       ],
       "layout": {
        "font": {
         "color": "white"
        },
        "height": 600,
        "paper_bgcolor": "rgb(12, 29, 42)",
        "plot_bgcolor": "rgb(12, 29, 42)",
        "showlegend": false,
        "template": {
         "data": {
          "bar": [
           {
            "error_x": {
             "color": "#2a3f5f"
            },
            "error_y": {
             "color": "#2a3f5f"
            },
            "marker": {
             "line": {
              "color": "#E5ECF6",
              "width": 0.5
             },
             "pattern": {
              "fillmode": "overlay",
              "size": 10,
              "solidity": 0.2
             }
            },
            "type": "bar"
           }
          ],
          "barpolar": [
           {
            "marker": {
             "line": {
              "color": "#E5ECF6",
              "width": 0.5
             },
             "pattern": {
              "fillmode": "overlay",
              "size": 10,
              "solidity": 0.2
             }
            },
            "type": "barpolar"
           }
          ],
          "carpet": [
           {
            "aaxis": {
             "endlinecolor": "#2a3f5f",
             "gridcolor": "white",
             "linecolor": "white",
             "minorgridcolor": "white",
             "startlinecolor": "#2a3f5f"
            },
            "baxis": {
             "endlinecolor": "#2a3f5f",
             "gridcolor": "white",
             "linecolor": "white",
             "minorgridcolor": "white",
             "startlinecolor": "#2a3f5f"
            },
            "type": "carpet"
           }
          ],
          "choropleth": [
           {
            "colorbar": {
             "outlinewidth": 0,
             "ticks": ""
            },
            "type": "choropleth"
           }
          ],
          "contour": [
           {
            "colorbar": {
             "outlinewidth": 0,
             "ticks": ""
            },
            "colorscale": [
             [
              0,
              "#0d0887"
             ],
             [
              0.1111111111111111,
              "#46039f"
             ],
             [
              0.2222222222222222,
              "#7201a8"
             ],
             [
              0.3333333333333333,
              "#9c179e"
             ],
             [
              0.4444444444444444,
              "#bd3786"
             ],
             [
              0.5555555555555556,
              "#d8576b"
             ],
             [
              0.6666666666666666,
              "#ed7953"
             ],
             [
              0.7777777777777778,
              "#fb9f3a"
             ],
             [
              0.8888888888888888,
              "#fdca26"
             ],
             [
              1,
              "#f0f921"
             ]
            ],
            "type": "contour"
           }
          ],
          "contourcarpet": [
           {
            "colorbar": {
             "outlinewidth": 0,
             "ticks": ""
            },
            "type": "contourcarpet"
           }
          ],
          "heatmap": [
           {
            "colorbar": {
             "outlinewidth": 0,
             "ticks": ""
            },
            "colorscale": [
             [
              0,
              "#0d0887"
             ],
             [
              0.1111111111111111,
              "#46039f"
             ],
             [
              0.2222222222222222,
              "#7201a8"
             ],
             [
              0.3333333333333333,
              "#9c179e"
             ],
             [
              0.4444444444444444,
              "#bd3786"
             ],
             [
              0.5555555555555556,
              "#d8576b"
             ],
             [
              0.6666666666666666,
              "#ed7953"
             ],
             [
              0.7777777777777778,
              "#fb9f3a"
             ],
             [
              0.8888888888888888,
              "#fdca26"
             ],
             [
              1,
              "#f0f921"
             ]
            ],
            "type": "heatmap"
           }
          ],
          "heatmapgl": [
           {
            "colorbar": {
             "outlinewidth": 0,
             "ticks": ""
            },
            "colorscale": [
             [
              0,
              "#0d0887"
             ],
             [
              0.1111111111111111,
              "#46039f"
             ],
             [
              0.2222222222222222,
              "#7201a8"
             ],
             [
              0.3333333333333333,
              "#9c179e"
             ],
             [
              0.4444444444444444,
              "#bd3786"
             ],
             [
              0.5555555555555556,
              "#d8576b"
             ],
             [
              0.6666666666666666,
              "#ed7953"
             ],
             [
              0.7777777777777778,
              "#fb9f3a"
             ],
             [
              0.8888888888888888,
              "#fdca26"
             ],
             [
              1,
              "#f0f921"
             ]
            ],
            "type": "heatmapgl"
           }
          ],
          "histogram": [
           {
            "marker": {
             "pattern": {
              "fillmode": "overlay",
              "size": 10,
              "solidity": 0.2
             }
            },
            "type": "histogram"
           }
          ],
          "histogram2d": [
           {
            "colorbar": {
             "outlinewidth": 0,
             "ticks": ""
            },
            "colorscale": [
             [
              0,
              "#0d0887"
             ],
             [
              0.1111111111111111,
              "#46039f"
             ],
             [
              0.2222222222222222,
              "#7201a8"
             ],
             [
              0.3333333333333333,
              "#9c179e"
             ],
             [
              0.4444444444444444,
              "#bd3786"
             ],
             [
              0.5555555555555556,
              "#d8576b"
             ],
             [
              0.6666666666666666,
              "#ed7953"
             ],
             [
              0.7777777777777778,
              "#fb9f3a"
             ],
             [
              0.8888888888888888,
              "#fdca26"
             ],
             [
              1,
              "#f0f921"
             ]
            ],
            "type": "histogram2d"
           }
          ],
          "histogram2dcontour": [
           {
            "colorbar": {
             "outlinewidth": 0,
             "ticks": ""
            },
            "colorscale": [
             [
              0,
              "#0d0887"
             ],
             [
              0.1111111111111111,
              "#46039f"
             ],
             [
              0.2222222222222222,
              "#7201a8"
             ],
             [
              0.3333333333333333,
              "#9c179e"
             ],
             [
              0.4444444444444444,
              "#bd3786"
             ],
             [
              0.5555555555555556,
              "#d8576b"
             ],
             [
              0.6666666666666666,
              "#ed7953"
             ],
             [
              0.7777777777777778,
              "#fb9f3a"
             ],
             [
              0.8888888888888888,
              "#fdca26"
             ],
             [
              1,
              "#f0f921"
             ]
            ],
            "type": "histogram2dcontour"
           }
          ],
          "mesh3d": [
           {
            "colorbar": {
             "outlinewidth": 0,
             "ticks": ""
            },
            "type": "mesh3d"
           }
          ],
          "parcoords": [
           {
            "line": {
             "colorbar": {
              "outlinewidth": 0,
              "ticks": ""
             }
            },
            "type": "parcoords"
           }
          ],
          "pie": [
           {
            "automargin": true,
            "type": "pie"
           }
          ],
          "scatter": [
           {
            "fillpattern": {
             "fillmode": "overlay",
             "size": 10,
             "solidity": 0.2
            },
            "type": "scatter"
           }
          ],
          "scatter3d": [
           {
            "line": {
             "colorbar": {
              "outlinewidth": 0,
              "ticks": ""
             }
            },
            "marker": {
             "colorbar": {
              "outlinewidth": 0,
              "ticks": ""
             }
            },
            "type": "scatter3d"
           }
          ],
          "scattercarpet": [
           {
            "marker": {
             "colorbar": {
              "outlinewidth": 0,
              "ticks": ""
             }
            },
            "type": "scattercarpet"
           }
          ],
          "scattergeo": [
           {
            "marker": {
             "colorbar": {
              "outlinewidth": 0,
              "ticks": ""
             }
            },
            "type": "scattergeo"
           }
          ],
          "scattergl": [
           {
            "marker": {
             "colorbar": {
              "outlinewidth": 0,
              "ticks": ""
             }
            },
            "type": "scattergl"
           }
          ],
          "scattermapbox": [
           {
            "marker": {
             "colorbar": {
              "outlinewidth": 0,
              "ticks": ""
             }
            },
            "type": "scattermapbox"
           }
          ],
          "scatterpolar": [
           {
            "marker": {
             "colorbar": {
              "outlinewidth": 0,
              "ticks": ""
             }
            },
            "type": "scatterpolar"
           }
          ],
          "scatterpolargl": [
           {
            "marker": {
             "colorbar": {
              "outlinewidth": 0,
              "ticks": ""
             }
            },
            "type": "scatterpolargl"
           }
          ],
          "scatterternary": [
           {
            "marker": {
             "colorbar": {
              "outlinewidth": 0,
              "ticks": ""
             }
            },
            "type": "scatterternary"
           }
          ],
          "surface": [
           {
            "colorbar": {
             "outlinewidth": 0,
             "ticks": ""
            },
            "colorscale": [
             [
              0,
              "#0d0887"
             ],
             [
              0.1111111111111111,
              "#46039f"
             ],
             [
              0.2222222222222222,
              "#7201a8"
             ],
             [
              0.3333333333333333,
              "#9c179e"
             ],
             [
              0.4444444444444444,
              "#bd3786"
             ],
             [
              0.5555555555555556,
              "#d8576b"
             ],
             [
              0.6666666666666666,
              "#ed7953"
             ],
             [
              0.7777777777777778,
              "#fb9f3a"
             ],
             [
              0.8888888888888888,
              "#fdca26"
             ],
             [
              1,
              "#f0f921"
             ]
            ],
            "type": "surface"
           }
          ],
          "table": [
           {
            "cells": {
             "fill": {
              "color": "#EBF0F8"
             },
             "line": {
              "color": "white"
             }
            },
            "header": {
             "fill": {
              "color": "#C8D4E3"
             },
             "line": {
              "color": "white"
             }
            },
            "type": "table"
           }
          ]
         },
         "layout": {
          "annotationdefaults": {
           "arrowcolor": "#2a3f5f",
           "arrowhead": 0,
           "arrowwidth": 1
          },
          "autotypenumbers": "strict",
          "coloraxis": {
           "colorbar": {
            "outlinewidth": 0,
            "ticks": ""
           }
          },
          "colorscale": {
           "diverging": [
            [
             0,
             "#8e0152"
            ],
            [
             0.1,
             "#c51b7d"
            ],
            [
             0.2,
             "#de77ae"
            ],
            [
             0.3,
             "#f1b6da"
            ],
            [
             0.4,
             "#fde0ef"
            ],
            [
             0.5,
             "#f7f7f7"
            ],
            [
             0.6,
             "#e6f5d0"
            ],
            [
             0.7,
             "#b8e186"
            ],
            [
             0.8,
             "#7fbc41"
            ],
            [
             0.9,
             "#4d9221"
            ],
            [
             1,
             "#276419"
            ]
           ],
           "sequential": [
            [
             0,
             "#0d0887"
            ],
            [
             0.1111111111111111,
             "#46039f"
            ],
            [
             0.2222222222222222,
             "#7201a8"
            ],
            [
             0.3333333333333333,
             "#9c179e"
            ],
            [
             0.4444444444444444,
             "#bd3786"
            ],
            [
             0.5555555555555556,
             "#d8576b"
            ],
            [
             0.6666666666666666,
             "#ed7953"
            ],
            [
             0.7777777777777778,
             "#fb9f3a"
            ],
            [
             0.8888888888888888,
             "#fdca26"
            ],
            [
             1,
             "#f0f921"
            ]
           ],
           "sequentialminus": [
            [
             0,
             "#0d0887"
            ],
            [
             0.1111111111111111,
             "#46039f"
            ],
            [
             0.2222222222222222,
             "#7201a8"
            ],
            [
             0.3333333333333333,
             "#9c179e"
            ],
            [
             0.4444444444444444,
             "#bd3786"
            ],
            [
             0.5555555555555556,
             "#d8576b"
            ],
            [
             0.6666666666666666,
             "#ed7953"
            ],
            [
             0.7777777777777778,
             "#fb9f3a"
            ],
            [
             0.8888888888888888,
             "#fdca26"
            ],
            [
             1,
             "#f0f921"
            ]
           ]
          },
          "colorway": [
           "#636efa",
           "#EF553B",
           "#00cc96",
           "#ab63fa",
           "#FFA15A",
           "#19d3f3",
           "#FF6692",
           "#B6E880",
           "#FF97FF",
           "#FECB52"
          ],
          "font": {
           "color": "#2a3f5f"
          },
          "geo": {
           "bgcolor": "white",
           "lakecolor": "white",
           "landcolor": "#E5ECF6",
           "showlakes": true,
           "showland": true,
           "subunitcolor": "white"
          },
          "hoverlabel": {
           "align": "left"
          },
          "hovermode": "closest",
          "mapbox": {
           "style": "light"
          },
          "paper_bgcolor": "white",
          "plot_bgcolor": "#E5ECF6",
          "polar": {
           "angularaxis": {
            "gridcolor": "white",
            "linecolor": "white",
            "ticks": ""
           },
           "bgcolor": "#E5ECF6",
           "radialaxis": {
            "gridcolor": "white",
            "linecolor": "white",
            "ticks": ""
           }
          },
          "scene": {
           "xaxis": {
            "backgroundcolor": "#E5ECF6",
            "gridcolor": "white",
            "gridwidth": 2,
            "linecolor": "white",
            "showbackground": true,
            "ticks": "",
            "zerolinecolor": "white"
           },
           "yaxis": {
            "backgroundcolor": "#E5ECF6",
            "gridcolor": "white",
            "gridwidth": 2,
            "linecolor": "white",
            "showbackground": true,
            "ticks": "",
            "zerolinecolor": "white"
           },
           "zaxis": {
            "backgroundcolor": "#E5ECF6",
            "gridcolor": "white",
            "gridwidth": 2,
            "linecolor": "white",
            "showbackground": true,
            "ticks": "",
            "zerolinecolor": "white"
           }
          },
          "shapedefaults": {
           "line": {
            "color": "#2a3f5f"
           }
          },
          "ternary": {
           "aaxis": {
            "gridcolor": "white",
            "linecolor": "white",
            "ticks": ""
           },
           "baxis": {
            "gridcolor": "white",
            "linecolor": "white",
            "ticks": ""
           },
           "bgcolor": "#E5ECF6",
           "caxis": {
            "gridcolor": "white",
            "linecolor": "white",
            "ticks": ""
           }
          },
          "title": {
           "x": 0.05
          },
          "xaxis": {
           "automargin": true,
           "gridcolor": "white",
           "linecolor": "white",
           "ticks": "",
           "title": {
            "standoff": 15
           },
           "zerolinecolor": "white",
           "zerolinewidth": 2
          },
          "yaxis": {
           "automargin": true,
           "gridcolor": "white",
           "linecolor": "white",
           "ticks": "",
           "title": {
            "standoff": 15
           },
           "zerolinecolor": "white",
           "zerolinewidth": 2
          }
         }
        },
        "title": {
         "text": "Avg Pace, Max Heart Rate & VO2 Max Overtime",
         "x": 0.5
        },
        "width": 500,
        "xaxis": {
         "anchor": "y",
         "domain": [
          0,
          1
         ],
         "matches": "x3",
         "range": [
          "2024-05-12",
          "2024-07-10"
         ],
         "showgrid": false,
         "showticklabels": false,
         "zeroline": false
        },
        "xaxis2": {
         "anchor": "y2",
         "domain": [
          0,
          1
         ],
         "matches": "x3",
         "range": [
          "2024-05-12",
          "2024-07-10"
         ],
         "showgrid": false,
         "showticklabels": false,
         "zeroline": false
        },
        "xaxis3": {
         "anchor": "y3",
         "domain": [
          0,
          1
         ],
         "range": [
          "2024-05-12",
          "2024-07-10"
         ],
         "showgrid": false,
         "zeroline": false
        },
        "yaxis": {
         "anchor": "x",
         "domain": [
          0.7333333333333333,
          1
         ],
         "showgrid": false,
         "title": {
          "text": "Avg Pace"
         },
         "zeroline": false
        },
        "yaxis2": {
         "anchor": "x2",
         "domain": [
          0.36666666666666664,
          0.6333333333333333
         ],
         "showgrid": false,
         "title": {
          "text": "Max Heart Rate"
         },
         "zeroline": false
        },
        "yaxis3": {
         "anchor": "x3",
         "domain": [
          0,
          0.26666666666666666
         ],
         "showgrid": false,
         "title": {
          "text": "VO2 Max"
         },
         "zeroline": false
        }
       }
      }
     },
     "metadata": {},
     "output_type": "display_data"
    }
   ],
   "source": [
    "# SUBPLOTS FOR AVG PACE, MAX HEART RATE AND VO2 MAX\n",
    "\n",
    "from plotly.subplots import make_subplots\n",
    "import plotly.graph_objects as go\n",
    "\n",
    "fig = make_subplots(rows=3, cols=1 ,shared_xaxes=True,)\n",
    "\n",
    "# df = df.sort_values(by='start_date', ascending=True).drop(index=[8])\n",
    "\n",
    "fig.append_trace(go.Scatter(\n",
    "    x=df['start_date'],\n",
    "    y=df['avg pace'],\n",
    "), row=1, col=1)\n",
    "\n",
    "fig.append_trace(go.Scatter(\n",
    "    x=df['start_date'],\n",
    "    y=df['max heart rate'],\n",
    "), row=2, col=1)\n",
    "\n",
    "fig.append_trace(go.Scatter(\n",
    "    x=vo2_df['startDate'],\n",
    "    y=vo2_df['value'],\n",
    "    \n",
    "), row=3, col=1)\n",
    "\n",
    "fig.update_traces(line_color=\"rgb(230, 81, 0)\",\n",
    "                  marker_color=\"rgb(230, 81, 0)\",\n",
    "                  marker_line_color='rgb(230, 81, 0)',           \n",
    "                  )\n",
    "\n",
    "fig.update_layout(paper_bgcolor='rgb(12, 29, 42)', \n",
    "                  plot_bgcolor='rgb(12, 29, 42)', \n",
    "                  font=dict(color='white'),\n",
    "                  title_x=0.5,\n",
    "                  showlegend=False,\n",
    "                  \n",
    "                  )\n",
    "\n",
    "fig['layout']['yaxis']['title']='Avg Pace'\n",
    "fig['layout']['yaxis2']['title']='Max Heart Rate'\n",
    "fig['layout']['yaxis3']['title']='VO2 Max'\n",
    "\n",
    "fig.update_xaxes(showgrid=False, zeroline=False, range=['2024-05-12', '2024-07-10'])\n",
    "fig.update_yaxes(showgrid=False, zeroline=False)\n",
    "fig.update_layout(height=600, width=500, title_text=\"Avg Pace, Max Heart Rate & VO2 Max Overtime\")\n",
    "fig.show()"
   ]
  },
  {
   "cell_type": "markdown",
   "metadata": {},
   "source": [
    "#### PREDICTING PERFORMANCE (LINEAR REGRESSION WITH TIME SERIES)\n"
   ]
  },
  {
   "cell_type": "markdown",
   "metadata": {},
   "source": [
    "The presence of missing values in the data is a major problem since most forecasting algorithms require the time series to be complete in order to train a model."
   ]
  },
  {
   "cell_type": "code",
   "execution_count": null,
   "metadata": {},
   "outputs": [],
   "source": [
    "# IMPUTING AVG VALUE FOR NAN MAX HEART RATE\n",
    "# NaN values occur because I forgot to wear my Apple Watch for the run\n",
    "\n",
    "df['max heart rate'].fillna(df['max heart rate'].mean() , inplace=True)"
   ]
  },
  {
   "cell_type": "code",
   "execution_count": null,
   "metadata": {},
   "outputs": [],
   "source": [
    "# CREATING THE TRAINING, VALIDATION AND TEST SETS\n",
    "\n",
    "# df = df.drop(index=[0,19,20]) # removing the walking activities\n",
    "df['activity type'].value_counts()\n",
    "train = df.sample(n=24)\n",
    "# validation = df.sample(n=3)\n",
    "test = df.sample(n=6)"
   ]
  },
  {
   "cell_type": "code",
   "execution_count": null,
   "metadata": {},
   "outputs": [
    {
     "data": {
      "text/html": [
       "<div>\n",
       "<style scoped>\n",
       "    .dataframe tbody tr th:only-of-type {\n",
       "        vertical-align: middle;\n",
       "    }\n",
       "\n",
       "    .dataframe tbody tr th {\n",
       "        vertical-align: top;\n",
       "    }\n",
       "\n",
       "    .dataframe thead th {\n",
       "        text-align: right;\n",
       "    }\n",
       "</style>\n",
       "<table border=\"1\" class=\"dataframe\">\n",
       "  <thead>\n",
       "    <tr style=\"text-align: right;\">\n",
       "      <th></th>\n",
       "      <th>start_date</th>\n",
       "      <th>avg pace</th>\n",
       "      <th>Time</th>\n",
       "    </tr>\n",
       "  </thead>\n",
       "  <tbody>\n",
       "    <tr>\n",
       "      <th>8</th>\n",
       "      <td>2023-12-29</td>\n",
       "      <td>8.01</td>\n",
       "      <td>0</td>\n",
       "    </tr>\n",
       "    <tr>\n",
       "      <th>7</th>\n",
       "      <td>2024-01-09</td>\n",
       "      <td>9.22</td>\n",
       "      <td>1</td>\n",
       "    </tr>\n",
       "    <tr>\n",
       "      <th>6</th>\n",
       "      <td>2024-04-14</td>\n",
       "      <td>14.20</td>\n",
       "      <td>2</td>\n",
       "    </tr>\n",
       "    <tr>\n",
       "      <th>3</th>\n",
       "      <td>2024-05-19</td>\n",
       "      <td>12.20</td>\n",
       "      <td>3</td>\n",
       "    </tr>\n",
       "    <tr>\n",
       "      <th>4</th>\n",
       "      <td>2024-05-19</td>\n",
       "      <td>6.52</td>\n",
       "      <td>4</td>\n",
       "    </tr>\n",
       "    <tr>\n",
       "      <th>2</th>\n",
       "      <td>2024-05-21</td>\n",
       "      <td>6.90</td>\n",
       "      <td>5</td>\n",
       "    </tr>\n",
       "    <tr>\n",
       "      <th>0</th>\n",
       "      <td>2024-05-22</td>\n",
       "      <td>7.01</td>\n",
       "      <td>6</td>\n",
       "    </tr>\n",
       "    <tr>\n",
       "      <th>9</th>\n",
       "      <td>2024-05-23</td>\n",
       "      <td>11.87</td>\n",
       "      <td>7</td>\n",
       "    </tr>\n",
       "    <tr>\n",
       "      <th>11</th>\n",
       "      <td>2024-05-25</td>\n",
       "      <td>8.21</td>\n",
       "      <td>8</td>\n",
       "    </tr>\n",
       "    <tr>\n",
       "      <th>12</th>\n",
       "      <td>2024-05-25</td>\n",
       "      <td>8.24</td>\n",
       "      <td>9</td>\n",
       "    </tr>\n",
       "    <tr>\n",
       "      <th>13</th>\n",
       "      <td>2024-05-25</td>\n",
       "      <td>7.80</td>\n",
       "      <td>10</td>\n",
       "    </tr>\n",
       "    <tr>\n",
       "      <th>15</th>\n",
       "      <td>2024-05-26</td>\n",
       "      <td>7.79</td>\n",
       "      <td>11</td>\n",
       "    </tr>\n",
       "    <tr>\n",
       "      <th>14</th>\n",
       "      <td>2024-05-26</td>\n",
       "      <td>7.56</td>\n",
       "      <td>12</td>\n",
       "    </tr>\n",
       "    <tr>\n",
       "      <th>16</th>\n",
       "      <td>2024-05-26</td>\n",
       "      <td>6.32</td>\n",
       "      <td>13</td>\n",
       "    </tr>\n",
       "    <tr>\n",
       "      <th>17</th>\n",
       "      <td>2024-05-28</td>\n",
       "      <td>8.95</td>\n",
       "      <td>14</td>\n",
       "    </tr>\n",
       "    <tr>\n",
       "      <th>18</th>\n",
       "      <td>2024-05-28</td>\n",
       "      <td>9.45</td>\n",
       "      <td>15</td>\n",
       "    </tr>\n",
       "    <tr>\n",
       "      <th>19</th>\n",
       "      <td>2024-05-29</td>\n",
       "      <td>6.53</td>\n",
       "      <td>16</td>\n",
       "    </tr>\n",
       "    <tr>\n",
       "      <th>22</th>\n",
       "      <td>2024-05-31</td>\n",
       "      <td>10.46</td>\n",
       "      <td>17</td>\n",
       "    </tr>\n",
       "    <tr>\n",
       "      <th>23</th>\n",
       "      <td>2024-06-02</td>\n",
       "      <td>8.23</td>\n",
       "      <td>18</td>\n",
       "    </tr>\n",
       "    <tr>\n",
       "      <th>24</th>\n",
       "      <td>2024-06-02</td>\n",
       "      <td>8.49</td>\n",
       "      <td>19</td>\n",
       "    </tr>\n",
       "    <tr>\n",
       "      <th>28</th>\n",
       "      <td>2024-06-06</td>\n",
       "      <td>7.69</td>\n",
       "      <td>20</td>\n",
       "    </tr>\n",
       "    <tr>\n",
       "      <th>30</th>\n",
       "      <td>2024-06-08</td>\n",
       "      <td>7.17</td>\n",
       "      <td>21</td>\n",
       "    </tr>\n",
       "    <tr>\n",
       "      <th>29</th>\n",
       "      <td>2024-06-08</td>\n",
       "      <td>6.99</td>\n",
       "      <td>22</td>\n",
       "    </tr>\n",
       "    <tr>\n",
       "      <th>31</th>\n",
       "      <td>2024-06-18</td>\n",
       "      <td>6.44</td>\n",
       "      <td>23</td>\n",
       "    </tr>\n",
       "  </tbody>\n",
       "</table>\n",
       "</div>"
      ],
      "text/plain": [
       "    start_date  avg pace  Time\n",
       "8   2023-12-29      8.01     0\n",
       "7   2024-01-09      9.22     1\n",
       "6   2024-04-14     14.20     2\n",
       "3   2024-05-19     12.20     3\n",
       "4   2024-05-19      6.52     4\n",
       "2   2024-05-21      6.90     5\n",
       "0   2024-05-22      7.01     6\n",
       "9   2024-05-23     11.87     7\n",
       "11  2024-05-25      8.21     8\n",
       "12  2024-05-25      8.24     9\n",
       "13  2024-05-25      7.80    10\n",
       "15  2024-05-26      7.79    11\n",
       "14  2024-05-26      7.56    12\n",
       "16  2024-05-26      6.32    13\n",
       "17  2024-05-28      8.95    14\n",
       "18  2024-05-28      9.45    15\n",
       "19  2024-05-29      6.53    16\n",
       "22  2024-05-31     10.46    17\n",
       "23  2024-06-02      8.23    18\n",
       "24  2024-06-02      8.49    19\n",
       "28  2024-06-06      7.69    20\n",
       "30  2024-06-08      7.17    21\n",
       "29  2024-06-08      6.99    22\n",
       "31  2024-06-18      6.44    23"
      ]
     },
     "execution_count": 19,
     "metadata": {},
     "output_type": "execute_result"
    }
   ],
   "source": [
    "x_cols = ['moving time', 'distance', 'max heart rate', 'max speed'] #'month', 'start_date'\n",
    "y_col = 'avg pace'\n",
    "\n",
    "x_train = train[x_cols]\n",
    "y_train = train[y_col]\n",
    "x_test = test[x_cols]\n",
    "y_test = test[y_col]\n",
    "\n",
    "# x_test = test[]\n",
    "\n",
    "time_series = ['start_date', 'avg pace']\n",
    "avg_pace = train[time_series].sort_values(by='start_date', ascending=True)\n",
    "avg_pace['Time'] = np.arange(len(avg_pace.index))\n",
    "avg_pace\n"
   ]
  },
  {
   "cell_type": "code",
   "execution_count": null,
   "metadata": {},
   "outputs": [
    {
     "data": {
      "text/html": [
       "<div>\n",
       "<style scoped>\n",
       "    .dataframe tbody tr th:only-of-type {\n",
       "        vertical-align: middle;\n",
       "    }\n",
       "\n",
       "    .dataframe tbody tr th {\n",
       "        vertical-align: top;\n",
       "    }\n",
       "\n",
       "    .dataframe thead th {\n",
       "        text-align: right;\n",
       "    }\n",
       "</style>\n",
       "<table border=\"1\" class=\"dataframe\">\n",
       "  <thead>\n",
       "    <tr style=\"text-align: right;\">\n",
       "      <th></th>\n",
       "      <th>moving time</th>\n",
       "      <th>distance</th>\n",
       "      <th>max heart rate</th>\n",
       "      <th>max speed</th>\n",
       "    </tr>\n",
       "  </thead>\n",
       "  <tbody>\n",
       "    <tr>\n",
       "      <th>6</th>\n",
       "      <td>1185.0</td>\n",
       "      <td>3.09</td>\n",
       "      <td>199.000000</td>\n",
       "      <td>3.438000</td>\n",
       "    </tr>\n",
       "    <tr>\n",
       "      <th>7</th>\n",
       "      <td>1255.0</td>\n",
       "      <td>3.19</td>\n",
       "      <td>192.000000</td>\n",
       "      <td>5.061963</td>\n",
       "    </tr>\n",
       "    <tr>\n",
       "      <th>16</th>\n",
       "      <td>190.0</td>\n",
       "      <td>0.53</td>\n",
       "      <td>193.000000</td>\n",
       "      <td>3.348000</td>\n",
       "    </tr>\n",
       "    <tr>\n",
       "      <th>29</th>\n",
       "      <td>2452.0</td>\n",
       "      <td>6.02</td>\n",
       "      <td>195.000000</td>\n",
       "      <td>4.433333</td>\n",
       "    </tr>\n",
       "    <tr>\n",
       "      <th>14</th>\n",
       "      <td>1392.0</td>\n",
       "      <td>3.20</td>\n",
       "      <td>194.000000</td>\n",
       "      <td>7.267999</td>\n",
       "    </tr>\n",
       "    <tr>\n",
       "      <th>3</th>\n",
       "      <td>810.0</td>\n",
       "      <td>2.01</td>\n",
       "      <td>183.586207</td>\n",
       "      <td>4.702002</td>\n",
       "    </tr>\n",
       "    <tr>\n",
       "      <th>17</th>\n",
       "      <td>875.0</td>\n",
       "      <td>1.84</td>\n",
       "      <td>179.000000</td>\n",
       "      <td>4.016667</td>\n",
       "    </tr>\n",
       "    <tr>\n",
       "      <th>31</th>\n",
       "      <td>1941.0</td>\n",
       "      <td>5.03</td>\n",
       "      <td>202.000000</td>\n",
       "      <td>3.955957</td>\n",
       "    </tr>\n",
       "    <tr>\n",
       "      <th>24</th>\n",
       "      <td>1504.0</td>\n",
       "      <td>3.44</td>\n",
       "      <td>184.000000</td>\n",
       "      <td>3.583333</td>\n",
       "    </tr>\n",
       "    <tr>\n",
       "      <th>30</th>\n",
       "      <td>1581.0</td>\n",
       "      <td>3.76</td>\n",
       "      <td>186.000000</td>\n",
       "      <td>3.402002</td>\n",
       "    </tr>\n",
       "    <tr>\n",
       "      <th>22</th>\n",
       "      <td>1121.0</td>\n",
       "      <td>2.86</td>\n",
       "      <td>198.000000</td>\n",
       "      <td>8.529516</td>\n",
       "    </tr>\n",
       "    <tr>\n",
       "      <th>13</th>\n",
       "      <td>1001.0</td>\n",
       "      <td>2.20</td>\n",
       "      <td>191.000000</td>\n",
       "      <td>3.943994</td>\n",
       "    </tr>\n",
       "    <tr>\n",
       "      <th>4</th>\n",
       "      <td>301.0</td>\n",
       "      <td>0.77</td>\n",
       "      <td>183.586207</td>\n",
       "      <td>3.345999</td>\n",
       "    </tr>\n",
       "    <tr>\n",
       "      <th>0</th>\n",
       "      <td>1164.0</td>\n",
       "      <td>3.01</td>\n",
       "      <td>143.000000</td>\n",
       "      <td>3.080005</td>\n",
       "    </tr>\n",
       "    <tr>\n",
       "      <th>15</th>\n",
       "      <td>1321.0</td>\n",
       "      <td>3.06</td>\n",
       "      <td>194.000000</td>\n",
       "      <td>4.883333</td>\n",
       "    </tr>\n",
       "    <tr>\n",
       "      <th>8</th>\n",
       "      <td>919.0</td>\n",
       "      <td>2.31</td>\n",
       "      <td>187.000000</td>\n",
       "      <td>8.793333</td>\n",
       "    </tr>\n",
       "    <tr>\n",
       "      <th>12</th>\n",
       "      <td>1655.0</td>\n",
       "      <td>4.00</td>\n",
       "      <td>195.000000</td>\n",
       "      <td>3.450000</td>\n",
       "    </tr>\n",
       "    <tr>\n",
       "      <th>18</th>\n",
       "      <td>3220.0</td>\n",
       "      <td>6.04</td>\n",
       "      <td>173.000000</td>\n",
       "      <td>3.720000</td>\n",
       "    </tr>\n",
       "    <tr>\n",
       "      <th>19</th>\n",
       "      <td>134.0</td>\n",
       "      <td>1.00</td>\n",
       "      <td>138.000000</td>\n",
       "      <td>2.171997</td>\n",
       "    </tr>\n",
       "    <tr>\n",
       "      <th>2</th>\n",
       "      <td>647.0</td>\n",
       "      <td>1.59</td>\n",
       "      <td>198.000000</td>\n",
       "      <td>3.890000</td>\n",
       "    </tr>\n",
       "    <tr>\n",
       "      <th>9</th>\n",
       "      <td>810.0</td>\n",
       "      <td>2.27</td>\n",
       "      <td>155.000000</td>\n",
       "      <td>4.752002</td>\n",
       "    </tr>\n",
       "    <tr>\n",
       "      <th>11</th>\n",
       "      <td>455.0</td>\n",
       "      <td>1.19</td>\n",
       "      <td>200.000000</td>\n",
       "      <td>3.638000</td>\n",
       "    </tr>\n",
       "    <tr>\n",
       "      <th>23</th>\n",
       "      <td>2258.0</td>\n",
       "      <td>5.03</td>\n",
       "      <td>192.000000</td>\n",
       "      <td>3.900000</td>\n",
       "    </tr>\n",
       "    <tr>\n",
       "      <th>28</th>\n",
       "      <td>1510.0</td>\n",
       "      <td>3.50</td>\n",
       "      <td>190.000000</td>\n",
       "      <td>4.040000</td>\n",
       "    </tr>\n",
       "  </tbody>\n",
       "</table>\n",
       "</div>"
      ],
      "text/plain": [
       "    moving time  distance  max heart rate  max speed\n",
       "6        1185.0      3.09      199.000000   3.438000\n",
       "7        1255.0      3.19      192.000000   5.061963\n",
       "16        190.0      0.53      193.000000   3.348000\n",
       "29       2452.0      6.02      195.000000   4.433333\n",
       "14       1392.0      3.20      194.000000   7.267999\n",
       "3         810.0      2.01      183.586207   4.702002\n",
       "17        875.0      1.84      179.000000   4.016667\n",
       "31       1941.0      5.03      202.000000   3.955957\n",
       "24       1504.0      3.44      184.000000   3.583333\n",
       "30       1581.0      3.76      186.000000   3.402002\n",
       "22       1121.0      2.86      198.000000   8.529516\n",
       "13       1001.0      2.20      191.000000   3.943994\n",
       "4         301.0      0.77      183.586207   3.345999\n",
       "0        1164.0      3.01      143.000000   3.080005\n",
       "15       1321.0      3.06      194.000000   4.883333\n",
       "8         919.0      2.31      187.000000   8.793333\n",
       "12       1655.0      4.00      195.000000   3.450000\n",
       "18       3220.0      6.04      173.000000   3.720000\n",
       "19        134.0      1.00      138.000000   2.171997\n",
       "2         647.0      1.59      198.000000   3.890000\n",
       "9         810.0      2.27      155.000000   4.752002\n",
       "11        455.0      1.19      200.000000   3.638000\n",
       "23       2258.0      5.03      192.000000   3.900000\n",
       "28       1510.0      3.50      190.000000   4.040000"
      ]
     },
     "execution_count": 20,
     "metadata": {},
     "output_type": "execute_result"
    }
   ],
   "source": [
    "x_train\n"
   ]
  },
  {
   "cell_type": "code",
   "execution_count": null,
   "metadata": {},
   "outputs": [
    {
     "data": {
      "text/plain": [
       "6     14.20\n",
       "7      9.22\n",
       "16     6.32\n",
       "29     6.99\n",
       "14     7.56\n",
       "3     12.20\n",
       "17     8.95\n",
       "31     6.44\n",
       "24     8.49\n",
       "30     7.17\n",
       "Name: avg pace, dtype: float64"
      ]
     },
     "execution_count": 21,
     "metadata": {},
     "output_type": "execute_result"
    }
   ],
   "source": [
    "y_train.head(10)"
   ]
  },
  {
   "cell_type": "code",
   "execution_count": null,
   "metadata": {},
   "outputs": [
    {
     "data": {
      "text/html": [
       "<style>#sk-container-id-2 {color: black;}#sk-container-id-2 pre{padding: 0;}#sk-container-id-2 div.sk-toggleable {background-color: white;}#sk-container-id-2 label.sk-toggleable__label {cursor: pointer;display: block;width: 100%;margin-bottom: 0;padding: 0.3em;box-sizing: border-box;text-align: center;}#sk-container-id-2 label.sk-toggleable__label-arrow:before {content: \"▸\";float: left;margin-right: 0.25em;color: #696969;}#sk-container-id-2 label.sk-toggleable__label-arrow:hover:before {color: black;}#sk-container-id-2 div.sk-estimator:hover label.sk-toggleable__label-arrow:before {color: black;}#sk-container-id-2 div.sk-toggleable__content {max-height: 0;max-width: 0;overflow: hidden;text-align: left;background-color: #f0f8ff;}#sk-container-id-2 div.sk-toggleable__content pre {margin: 0.2em;color: black;border-radius: 0.25em;background-color: #f0f8ff;}#sk-container-id-2 input.sk-toggleable__control:checked~div.sk-toggleable__content {max-height: 200px;max-width: 100%;overflow: auto;}#sk-container-id-2 input.sk-toggleable__control:checked~label.sk-toggleable__label-arrow:before {content: \"▾\";}#sk-container-id-2 div.sk-estimator input.sk-toggleable__control:checked~label.sk-toggleable__label {background-color: #d4ebff;}#sk-container-id-2 div.sk-label input.sk-toggleable__control:checked~label.sk-toggleable__label {background-color: #d4ebff;}#sk-container-id-2 input.sk-hidden--visually {border: 0;clip: rect(1px 1px 1px 1px);clip: rect(1px, 1px, 1px, 1px);height: 1px;margin: -1px;overflow: hidden;padding: 0;position: absolute;width: 1px;}#sk-container-id-2 div.sk-estimator {font-family: monospace;background-color: #f0f8ff;border: 1px dotted black;border-radius: 0.25em;box-sizing: border-box;margin-bottom: 0.5em;}#sk-container-id-2 div.sk-estimator:hover {background-color: #d4ebff;}#sk-container-id-2 div.sk-parallel-item::after {content: \"\";width: 100%;border-bottom: 1px solid gray;flex-grow: 1;}#sk-container-id-2 div.sk-label:hover label.sk-toggleable__label {background-color: #d4ebff;}#sk-container-id-2 div.sk-serial::before {content: \"\";position: absolute;border-left: 1px solid gray;box-sizing: border-box;top: 0;bottom: 0;left: 50%;z-index: 0;}#sk-container-id-2 div.sk-serial {display: flex;flex-direction: column;align-items: center;background-color: white;padding-right: 0.2em;padding-left: 0.2em;position: relative;}#sk-container-id-2 div.sk-item {position: relative;z-index: 1;}#sk-container-id-2 div.sk-parallel {display: flex;align-items: stretch;justify-content: center;background-color: white;position: relative;}#sk-container-id-2 div.sk-item::before, #sk-container-id-2 div.sk-parallel-item::before {content: \"\";position: absolute;border-left: 1px solid gray;box-sizing: border-box;top: 0;bottom: 0;left: 50%;z-index: -1;}#sk-container-id-2 div.sk-parallel-item {display: flex;flex-direction: column;z-index: 1;position: relative;background-color: white;}#sk-container-id-2 div.sk-parallel-item:first-child::after {align-self: flex-end;width: 50%;}#sk-container-id-2 div.sk-parallel-item:last-child::after {align-self: flex-start;width: 50%;}#sk-container-id-2 div.sk-parallel-item:only-child::after {width: 0;}#sk-container-id-2 div.sk-dashed-wrapped {border: 1px dashed gray;margin: 0 0.4em 0.5em 0.4em;box-sizing: border-box;padding-bottom: 0.4em;background-color: white;}#sk-container-id-2 div.sk-label label {font-family: monospace;font-weight: bold;display: inline-block;line-height: 1.2em;}#sk-container-id-2 div.sk-label-container {text-align: center;}#sk-container-id-2 div.sk-container {/* jupyter's `normalize.less` sets `[hidden] { display: none; }` but bootstrap.min.css set `[hidden] { display: none !important; }` so we also need the `!important` here to be able to override the default hidden behavior on the sphinx rendered scikit-learn.org. See: https://github.com/scikit-learn/scikit-learn/issues/21755 */display: inline-block !important;position: relative;}#sk-container-id-2 div.sk-text-repr-fallback {display: none;}</style><div id=\"sk-container-id-2\" class=\"sk-top-container\"><div class=\"sk-text-repr-fallback\"><pre>LinearRegression()</pre><b>In a Jupyter environment, please rerun this cell to show the HTML representation or trust the notebook. <br />On GitHub, the HTML representation is unable to render, please try loading this page with nbviewer.org.</b></div><div class=\"sk-container\" hidden><div class=\"sk-item\"><div class=\"sk-estimator sk-toggleable\"><input class=\"sk-toggleable__control sk-hidden--visually\" id=\"sk-estimator-id-2\" type=\"checkbox\" checked><label for=\"sk-estimator-id-2\" class=\"sk-toggleable__label sk-toggleable__label-arrow\">LinearRegression</label><div class=\"sk-toggleable__content\"><pre>LinearRegression()</pre></div></div></div></div></div>"
      ],
      "text/plain": [
       "LinearRegression()"
      ]
     },
     "execution_count": 24,
     "metadata": {},
     "output_type": "execute_result"
    }
   ],
   "source": [
    "lm = LinearRegression()\n",
    "# x = avg_pace.loc[:, ['Time']]  # features\n",
    "# y = avg_pace.loc[:, 'avg pace']  # target\n",
    "\n",
    "x = avg_pace['Time'].values.reshape(-1, 1)\n",
    "y = avg_pace['avg pace']\n",
    "lm.fit(x, y)"
   ]
  },
  {
   "cell_type": "code",
   "execution_count": null,
   "metadata": {},
   "outputs": [
    {
     "ename": "ValueError",
     "evalue": "Expected 2D array, got 1D array instead:\narray=[1041. 2219.  647. 1392. 1001. 1655.].\nReshape your data either using array.reshape(-1, 1) if your data has a single feature or array.reshape(1, -1) if it contains a single sample.",
     "output_type": "error",
     "traceback": [
      "\u001b[0;31m---------------------------------------------------------------------------\u001b[0m",
      "\u001b[0;31mValueError\u001b[0m                                Traceback (most recent call last)",
      "Cell \u001b[0;32mIn[28], line 1\u001b[0m\n\u001b[0;32m----> 1\u001b[0m y_pred \u001b[38;5;241m=\u001b[39m lm\u001b[38;5;241m.\u001b[39mpredict(x_test[\u001b[38;5;124m'\u001b[39m\u001b[38;5;124mmoving time\u001b[39m\u001b[38;5;124m'\u001b[39m])\n\u001b[1;32m      2\u001b[0m mse \u001b[38;5;241m=\u001b[39m mean_squared_error(y_test, y_pred)\n\u001b[1;32m      4\u001b[0m \u001b[38;5;28mprint\u001b[39m(\u001b[38;5;124m'\u001b[39m\u001b[38;5;124mMSE for the full dataset\u001b[39m\u001b[38;5;124m'\u001b[39m, mse)\n",
      "File \u001b[0;32m~/anaconda3/lib/python3.11/site-packages/sklearn/linear_model/_base.py:386\u001b[0m, in \u001b[0;36mLinearModel.predict\u001b[0;34m(self, X)\u001b[0m\n\u001b[1;32m    372\u001b[0m \u001b[38;5;28;01mdef\u001b[39;00m \u001b[38;5;21mpredict\u001b[39m(\u001b[38;5;28mself\u001b[39m, X):\n\u001b[1;32m    373\u001b[0m \u001b[38;5;250m    \u001b[39m\u001b[38;5;124;03m\"\"\"\u001b[39;00m\n\u001b[1;32m    374\u001b[0m \u001b[38;5;124;03m    Predict using the linear model.\u001b[39;00m\n\u001b[1;32m    375\u001b[0m \n\u001b[0;32m   (...)\u001b[0m\n\u001b[1;32m    384\u001b[0m \u001b[38;5;124;03m        Returns predicted values.\u001b[39;00m\n\u001b[1;32m    385\u001b[0m \u001b[38;5;124;03m    \"\"\"\u001b[39;00m\n\u001b[0;32m--> 386\u001b[0m     \u001b[38;5;28;01mreturn\u001b[39;00m \u001b[38;5;28mself\u001b[39m\u001b[38;5;241m.\u001b[39m_decision_function(X)\n",
      "File \u001b[0;32m~/anaconda3/lib/python3.11/site-packages/sklearn/linear_model/_base.py:369\u001b[0m, in \u001b[0;36mLinearModel._decision_function\u001b[0;34m(self, X)\u001b[0m\n\u001b[1;32m    366\u001b[0m \u001b[38;5;28;01mdef\u001b[39;00m \u001b[38;5;21m_decision_function\u001b[39m(\u001b[38;5;28mself\u001b[39m, X):\n\u001b[1;32m    367\u001b[0m     check_is_fitted(\u001b[38;5;28mself\u001b[39m)\n\u001b[0;32m--> 369\u001b[0m     X \u001b[38;5;241m=\u001b[39m \u001b[38;5;28mself\u001b[39m\u001b[38;5;241m.\u001b[39m_validate_data(X, accept_sparse\u001b[38;5;241m=\u001b[39m[\u001b[38;5;124m\"\u001b[39m\u001b[38;5;124mcsr\u001b[39m\u001b[38;5;124m\"\u001b[39m, \u001b[38;5;124m\"\u001b[39m\u001b[38;5;124mcsc\u001b[39m\u001b[38;5;124m\"\u001b[39m, \u001b[38;5;124m\"\u001b[39m\u001b[38;5;124mcoo\u001b[39m\u001b[38;5;124m\"\u001b[39m], reset\u001b[38;5;241m=\u001b[39m\u001b[38;5;28;01mFalse\u001b[39;00m)\n\u001b[1;32m    370\u001b[0m     \u001b[38;5;28;01mreturn\u001b[39;00m safe_sparse_dot(X, \u001b[38;5;28mself\u001b[39m\u001b[38;5;241m.\u001b[39mcoef_\u001b[38;5;241m.\u001b[39mT, dense_output\u001b[38;5;241m=\u001b[39m\u001b[38;5;28;01mTrue\u001b[39;00m) \u001b[38;5;241m+\u001b[39m \u001b[38;5;28mself\u001b[39m\u001b[38;5;241m.\u001b[39mintercept_\n",
      "File \u001b[0;32m~/anaconda3/lib/python3.11/site-packages/sklearn/base.py:604\u001b[0m, in \u001b[0;36mBaseEstimator._validate_data\u001b[0;34m(self, X, y, reset, validate_separately, cast_to_ndarray, **check_params)\u001b[0m\n\u001b[1;32m    602\u001b[0m         out \u001b[38;5;241m=\u001b[39m X, y\n\u001b[1;32m    603\u001b[0m \u001b[38;5;28;01melif\u001b[39;00m \u001b[38;5;129;01mnot\u001b[39;00m no_val_X \u001b[38;5;129;01mand\u001b[39;00m no_val_y:\n\u001b[0;32m--> 604\u001b[0m     out \u001b[38;5;241m=\u001b[39m check_array(X, input_name\u001b[38;5;241m=\u001b[39m\u001b[38;5;124m\"\u001b[39m\u001b[38;5;124mX\u001b[39m\u001b[38;5;124m\"\u001b[39m, \u001b[38;5;241m*\u001b[39m\u001b[38;5;241m*\u001b[39mcheck_params)\n\u001b[1;32m    605\u001b[0m \u001b[38;5;28;01melif\u001b[39;00m no_val_X \u001b[38;5;129;01mand\u001b[39;00m \u001b[38;5;129;01mnot\u001b[39;00m no_val_y:\n\u001b[1;32m    606\u001b[0m     out \u001b[38;5;241m=\u001b[39m _check_y(y, \u001b[38;5;241m*\u001b[39m\u001b[38;5;241m*\u001b[39mcheck_params)\n",
      "File \u001b[0;32m~/anaconda3/lib/python3.11/site-packages/sklearn/utils/validation.py:940\u001b[0m, in \u001b[0;36mcheck_array\u001b[0;34m(array, accept_sparse, accept_large_sparse, dtype, order, copy, force_all_finite, ensure_2d, allow_nd, ensure_min_samples, ensure_min_features, estimator, input_name)\u001b[0m\n\u001b[1;32m    938\u001b[0m     \u001b[38;5;66;03m# If input is 1D raise error\u001b[39;00m\n\u001b[1;32m    939\u001b[0m     \u001b[38;5;28;01mif\u001b[39;00m array\u001b[38;5;241m.\u001b[39mndim \u001b[38;5;241m==\u001b[39m \u001b[38;5;241m1\u001b[39m:\n\u001b[0;32m--> 940\u001b[0m         \u001b[38;5;28;01mraise\u001b[39;00m \u001b[38;5;167;01mValueError\u001b[39;00m(\n\u001b[1;32m    941\u001b[0m             \u001b[38;5;124m\"\u001b[39m\u001b[38;5;124mExpected 2D array, got 1D array instead:\u001b[39m\u001b[38;5;130;01m\\n\u001b[39;00m\u001b[38;5;124marray=\u001b[39m\u001b[38;5;132;01m{}\u001b[39;00m\u001b[38;5;124m.\u001b[39m\u001b[38;5;130;01m\\n\u001b[39;00m\u001b[38;5;124m\"\u001b[39m\n\u001b[1;32m    942\u001b[0m             \u001b[38;5;124m\"\u001b[39m\u001b[38;5;124mReshape your data either using array.reshape(-1, 1) if \u001b[39m\u001b[38;5;124m\"\u001b[39m\n\u001b[1;32m    943\u001b[0m             \u001b[38;5;124m\"\u001b[39m\u001b[38;5;124myour data has a single feature or array.reshape(1, -1) \u001b[39m\u001b[38;5;124m\"\u001b[39m\n\u001b[1;32m    944\u001b[0m             \u001b[38;5;124m\"\u001b[39m\u001b[38;5;124mif it contains a single sample.\u001b[39m\u001b[38;5;124m\"\u001b[39m\u001b[38;5;241m.\u001b[39mformat(array)\n\u001b[1;32m    945\u001b[0m         )\n\u001b[1;32m    947\u001b[0m \u001b[38;5;28;01mif\u001b[39;00m dtype_numeric \u001b[38;5;129;01mand\u001b[39;00m \u001b[38;5;28mhasattr\u001b[39m(array\u001b[38;5;241m.\u001b[39mdtype, \u001b[38;5;124m\"\u001b[39m\u001b[38;5;124mkind\u001b[39m\u001b[38;5;124m\"\u001b[39m) \u001b[38;5;129;01mand\u001b[39;00m array\u001b[38;5;241m.\u001b[39mdtype\u001b[38;5;241m.\u001b[39mkind \u001b[38;5;129;01min\u001b[39;00m \u001b[38;5;124m\"\u001b[39m\u001b[38;5;124mUSV\u001b[39m\u001b[38;5;124m\"\u001b[39m:\n\u001b[1;32m    948\u001b[0m     \u001b[38;5;28;01mraise\u001b[39;00m \u001b[38;5;167;01mValueError\u001b[39;00m(\n\u001b[1;32m    949\u001b[0m         \u001b[38;5;124m\"\u001b[39m\u001b[38;5;124mdtype=\u001b[39m\u001b[38;5;124m'\u001b[39m\u001b[38;5;124mnumeric\u001b[39m\u001b[38;5;124m'\u001b[39m\u001b[38;5;124m is not compatible with arrays of bytes/strings.\u001b[39m\u001b[38;5;124m\"\u001b[39m\n\u001b[1;32m    950\u001b[0m         \u001b[38;5;124m\"\u001b[39m\u001b[38;5;124mConvert your data to numeric values explicitly instead.\u001b[39m\u001b[38;5;124m\"\u001b[39m\n\u001b[1;32m    951\u001b[0m     )\n",
      "\u001b[0;31mValueError\u001b[0m: Expected 2D array, got 1D array instead:\narray=[1041. 2219.  647. 1392. 1001. 1655.].\nReshape your data either using array.reshape(-1, 1) if your data has a single feature or array.reshape(1, -1) if it contains a single sample."
     ]
    }
   ],
   "source": [
    "y_pred = lm.predict(x_test)\n",
    "mse = mean_squared_error(y_test, y_pred)\n",
    "\n",
    "print('MSE for the full dataset', mse)"
   ]
  },
  {
   "cell_type": "code",
   "execution_count": null,
   "metadata": {},
   "outputs": [],
   "source": [
    "y_pred = pd.Series(lm.predict(x), index=x.index)"
   ]
  },
  {
   "cell_type": "code",
   "execution_count": null,
   "metadata": {},
   "outputs": [
    {
     "data": {
      "image/png": "[encoded data removed]",
      "text/plain": [
       "<Figure size 640x480 with 1 Axes>"
      ]
     },
     "metadata": {},
     "output_type": "display_data"
    },
    {
     "data": {
      "text/html": [
       "<div>\n",
       "<style scoped>\n",
       "    .dataframe tbody tr th:only-of-type {\n",
       "        vertical-align: middle;\n",
       "    }\n",
       "\n",
       "    .dataframe tbody tr th {\n",
       "        vertical-align: top;\n",
       "    }\n",
       "\n",
       "    .dataframe thead th {\n",
       "        text-align: right;\n",
       "    }\n",
       "</style>\n",
       "<table border=\"1\" class=\"dataframe\">\n",
       "  <thead>\n",
       "    <tr style=\"text-align: right;\">\n",
       "      <th></th>\n",
       "      <th>moving time</th>\n",
       "      <th>distance</th>\n",
       "      <th>max heart rate</th>\n",
       "      <th>max speed</th>\n",
       "    </tr>\n",
       "  </thead>\n",
       "  <tbody>\n",
       "    <tr>\n",
       "      <th>21</th>\n",
       "      <td>901.0</td>\n",
       "      <td>2.34</td>\n",
       "      <td>171.000000</td>\n",
       "      <td>4.069995</td>\n",
       "    </tr>\n",
       "    <tr>\n",
       "      <th>7</th>\n",
       "      <td>1255.0</td>\n",
       "      <td>3.19</td>\n",
       "      <td>192.000000</td>\n",
       "      <td>5.061963</td>\n",
       "    </tr>\n",
       "    <tr>\n",
       "      <th>15</th>\n",
       "      <td>1321.0</td>\n",
       "      <td>3.06</td>\n",
       "      <td>194.000000</td>\n",
       "      <td>4.883333</td>\n",
       "    </tr>\n",
       "    <tr>\n",
       "      <th>25</th>\n",
       "      <td>1500.0</td>\n",
       "      <td>2.85</td>\n",
       "      <td>169.000000</td>\n",
       "      <td>2.866016</td>\n",
       "    </tr>\n",
       "    <tr>\n",
       "      <th>8</th>\n",
       "      <td>919.0</td>\n",
       "      <td>2.31</td>\n",
       "      <td>187.000000</td>\n",
       "      <td>8.793333</td>\n",
       "    </tr>\n",
       "    <tr>\n",
       "      <th>12</th>\n",
       "      <td>1655.0</td>\n",
       "      <td>4.00</td>\n",
       "      <td>195.000000</td>\n",
       "      <td>3.450000</td>\n",
       "    </tr>\n",
       "    <tr>\n",
       "      <th>5</th>\n",
       "      <td>1200.0</td>\n",
       "      <td>2.62</td>\n",
       "      <td>188.925926</td>\n",
       "      <td>3.376001</td>\n",
       "    </tr>\n",
       "    <tr>\n",
       "      <th>11</th>\n",
       "      <td>455.0</td>\n",
       "      <td>1.19</td>\n",
       "      <td>200.000000</td>\n",
       "      <td>3.638000</td>\n",
       "    </tr>\n",
       "    <tr>\n",
       "      <th>2</th>\n",
       "      <td>647.0</td>\n",
       "      <td>1.59</td>\n",
       "      <td>198.000000</td>\n",
       "      <td>3.890000</td>\n",
       "    </tr>\n",
       "    <tr>\n",
       "      <th>13</th>\n",
       "      <td>1001.0</td>\n",
       "      <td>2.20</td>\n",
       "      <td>191.000000</td>\n",
       "      <td>3.943994</td>\n",
       "    </tr>\n",
       "    <tr>\n",
       "      <th>17</th>\n",
       "      <td>875.0</td>\n",
       "      <td>1.84</td>\n",
       "      <td>179.000000</td>\n",
       "      <td>4.016667</td>\n",
       "    </tr>\n",
       "    <tr>\n",
       "      <th>16</th>\n",
       "      <td>190.0</td>\n",
       "      <td>0.53</td>\n",
       "      <td>193.000000</td>\n",
       "      <td>3.348000</td>\n",
       "    </tr>\n",
       "    <tr>\n",
       "      <th>27</th>\n",
       "      <td>2219.0</td>\n",
       "      <td>5.00</td>\n",
       "      <td>188.000000</td>\n",
       "      <td>3.553333</td>\n",
       "    </tr>\n",
       "    <tr>\n",
       "      <th>6</th>\n",
       "      <td>1185.0</td>\n",
       "      <td>3.09</td>\n",
       "      <td>199.000000</td>\n",
       "      <td>3.438000</td>\n",
       "    </tr>\n",
       "    <tr>\n",
       "      <th>28</th>\n",
       "      <td>1510.0</td>\n",
       "      <td>3.50</td>\n",
       "      <td>190.000000</td>\n",
       "      <td>4.040000</td>\n",
       "    </tr>\n",
       "    <tr>\n",
       "      <th>9</th>\n",
       "      <td>810.0</td>\n",
       "      <td>2.27</td>\n",
       "      <td>155.000000</td>\n",
       "      <td>4.752002</td>\n",
       "    </tr>\n",
       "    <tr>\n",
       "      <th>26</th>\n",
       "      <td>1347.0</td>\n",
       "      <td>2.57</td>\n",
       "      <td>174.000000</td>\n",
       "      <td>3.187988</td>\n",
       "    </tr>\n",
       "    <tr>\n",
       "      <th>30</th>\n",
       "      <td>1581.0</td>\n",
       "      <td>3.76</td>\n",
       "      <td>186.000000</td>\n",
       "      <td>3.402002</td>\n",
       "    </tr>\n",
       "    <tr>\n",
       "      <th>23</th>\n",
       "      <td>2258.0</td>\n",
       "      <td>5.03</td>\n",
       "      <td>192.000000</td>\n",
       "      <td>3.900000</td>\n",
       "    </tr>\n",
       "    <tr>\n",
       "      <th>10</th>\n",
       "      <td>374.0</td>\n",
       "      <td>1.05</td>\n",
       "      <td>203.000000</td>\n",
       "      <td>4.338000</td>\n",
       "    </tr>\n",
       "    <tr>\n",
       "      <th>24</th>\n",
       "      <td>1504.0</td>\n",
       "      <td>3.44</td>\n",
       "      <td>184.000000</td>\n",
       "      <td>3.583333</td>\n",
       "    </tr>\n",
       "    <tr>\n",
       "      <th>18</th>\n",
       "      <td>3220.0</td>\n",
       "      <td>6.04</td>\n",
       "      <td>173.000000</td>\n",
       "      <td>3.720000</td>\n",
       "    </tr>\n",
       "    <tr>\n",
       "      <th>31</th>\n",
       "      <td>1941.0</td>\n",
       "      <td>5.03</td>\n",
       "      <td>202.000000</td>\n",
       "      <td>3.955957</td>\n",
       "    </tr>\n",
       "    <tr>\n",
       "      <th>14</th>\n",
       "      <td>1392.0</td>\n",
       "      <td>3.20</td>\n",
       "      <td>194.000000</td>\n",
       "      <td>7.267999</td>\n",
       "    </tr>\n",
       "  </tbody>\n",
       "</table>\n",
       "</div>"
      ],
      "text/plain": [
       "    moving time  distance  max heart rate  max speed\n",
       "21        901.0      2.34      171.000000   4.069995\n",
       "7        1255.0      3.19      192.000000   5.061963\n",
       "15       1321.0      3.06      194.000000   4.883333\n",
       "25       1500.0      2.85      169.000000   2.866016\n",
       "8         919.0      2.31      187.000000   8.793333\n",
       "12       1655.0      4.00      195.000000   3.450000\n",
       "5        1200.0      2.62      188.925926   3.376001\n",
       "11        455.0      1.19      200.000000   3.638000\n",
       "2         647.0      1.59      198.000000   3.890000\n",
       "13       1001.0      2.20      191.000000   3.943994\n",
       "17        875.0      1.84      179.000000   4.016667\n",
       "16        190.0      0.53      193.000000   3.348000\n",
       "27       2219.0      5.00      188.000000   3.553333\n",
       "6        1185.0      3.09      199.000000   3.438000\n",
       "28       1510.0      3.50      190.000000   4.040000\n",
       "9         810.0      2.27      155.000000   4.752002\n",
       "26       1347.0      2.57      174.000000   3.187988\n",
       "30       1581.0      3.76      186.000000   3.402002\n",
       "23       2258.0      5.03      192.000000   3.900000\n",
       "10        374.0      1.05      203.000000   4.338000\n",
       "24       1504.0      3.44      184.000000   3.583333\n",
       "18       3220.0      6.04      173.000000   3.720000\n",
       "31       1941.0      5.03      202.000000   3.955957\n",
       "14       1392.0      3.20      194.000000   7.267999"
      ]
     },
     "execution_count": 464,
     "metadata": {},
     "output_type": "execute_result"
    }
   ],
   "source": [
    "# Plot the scatter plot and the line of regression\n",
    "plt.scatter(x_test['max heart rate'], y_test)\n",
    "plt.plot(x_test['max heart rate'], y_pred, color='red')\n",
    "plt.title('Test set scatter plot')\n",
    "plt.xlabel('Movie rating')\n",
    "plt.ylabel('Total Value')\n",
    "\n",
    "\n",
    "plt.show()\n",
    "x_train"
   ]
  },
  {
   "cell_type": "code",
   "execution_count": null,
   "metadata": {},
   "outputs": [
    {
     "ename": "NameError",
     "evalue": "name 'y' is not defined",
     "output_type": "error",
     "traceback": [
      "\u001b[0;31m---------------------------------------------------------------------------\u001b[0m",
      "\u001b[0;31mNameError\u001b[0m                                 Traceback (most recent call last)",
      "Cell \u001b[0;32mIn[1], line 1\u001b[0m\n\u001b[0;32m----> 1\u001b[0m ax \u001b[38;5;241m=\u001b[39m y\u001b[38;5;241m.\u001b[39mplot(label\u001b[38;5;241m=\u001b[39m\u001b[38;5;124m'\u001b[39m\u001b[38;5;124mActual\u001b[39m\u001b[38;5;124m'\u001b[39m)\n\u001b[1;32m      2\u001b[0m ax \u001b[38;5;241m=\u001b[39m y_pred\u001b[38;5;241m.\u001b[39mplot(ax\u001b[38;5;241m=\u001b[39max, linewidth\u001b[38;5;241m=\u001b[39m\u001b[38;5;241m3\u001b[39m)\n\u001b[1;32m      3\u001b[0m ax\u001b[38;5;241m.\u001b[39mset_title(\u001b[38;5;124m'\u001b[39m\u001b[38;5;124mTime Plot of Running Pace\u001b[39m\u001b[38;5;124m'\u001b[39m)\n",
      "\u001b[0;31mNameError\u001b[0m: name 'y' is not defined"
     ]
    }
   ],
   "source": [
    "\n",
    "ax = y.plot(label='Actual')\n",
    "ax = y_pred.plot(ax=ax, linewidth=3)\n",
    "ax.set_title('Time Plot of Running Pace');"
   ]
  },
  {
   "cell_type": "code",
   "execution_count": null,
   "metadata": {},
   "outputs": [],
   "source": []
  }
 ],
 "metadata": {
  "kernelspec": {
   "display_name": "base",
   "language": "python",
   "name": "python3"
  },
  "language_info": {
   "codemirror_mode": {
    "name": "ipython",
    "version": 3
   },
   "file_extension": ".py",
   "mimetype": "text/x-python",
   "name": "python",
   "nbconvert_exporter": "python",
   "pygments_lexer": "ipython3",
   "version": "3.11.5"
  }
 },
 "nbformat": 4,
 "nbformat_minor": 2
}
